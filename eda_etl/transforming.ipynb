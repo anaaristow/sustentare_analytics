{
 "cells": [
  {
   "cell_type": "code",
   "execution_count": 24,
   "metadata": {},
   "outputs": [],
   "source": [
    "import numpy as np\n",
    "import pandas as pd\n",
    "from datetime import datetime\n",
    "import re"
   ]
  },
  {
   "cell_type": "code",
   "execution_count": 25,
   "metadata": {},
   "outputs": [],
   "source": [
    "merge_left = pd.read_csv('../data/merged_lead_student.csv')"
   ]
  },
  {
   "cell_type": "code",
   "execution_count": 26,
   "metadata": {},
   "outputs": [
    {
     "data": {
      "text/plain": [
       "Index(['Unnamed: 0', 'email', 'nome', 'lead_scoring_-_perfil', 'url_pública',\n",
       "       'estágio_no_funil', 'total_de_conversões', 'lead_scoring_-_interesse',\n",
       "       'status_para_comunicação_por_email', 'data_da_primeira_conversão',\n",
       "       'eventos_(últimos_100)', 'origem_da_última_conversão',\n",
       "       'data_da_última_conversão', 'origem_da_primeira_conversão', 'empresa',\n",
       "       'tags', 'data_da_última_oportunidade', 'estado',\n",
       "       'valor_total_da_oportunidade_no_crm_(última_atualização)',\n",
       "       'qualificação_da_oportunidade_no_crm_(última_atualização)',\n",
       "       'etapa_do_funil_de_vendas_no_crm_(última_atualização)',\n",
       "       'nome_do_responsável_pela_oportunidade_no_crm_(última_atualização)',\n",
       "       'origem_da_oportunidade_no_crm_(última_atualização)',\n",
       "       'possui_interesse_em_realizar_uma_pós-graduação_ou_mba?',\n",
       "       'desejo_receber_o_sustentare_news', 'como_você_conheceu_a_sustentare:',\n",
       "       'universidade', 'qual_o_curso_de_interesse?', 'cargo_final',\n",
       "       'area_atuacao', 'interesse_final', 'ds_email', 'cd_pessoa',\n",
       "       'min_dt_log', 'aluno', 'cidade', 'data_nascimento'],\n",
       "      dtype='object')"
      ]
     },
     "execution_count": 26,
     "metadata": {},
     "output_type": "execute_result"
    }
   ],
   "source": [
    "merge_left.columns"
   ]
  },
  {
   "cell_type": "code",
   "execution_count": 27,
   "metadata": {},
   "outputs": [],
   "source": [
    "merge_left = merge_left.drop(columns='Unnamed: 0')"
   ]
  },
  {
   "cell_type": "markdown",
   "metadata": {},
   "source": [
    "### Change dtype for columns that are date"
   ]
  },
  {
   "cell_type": "code",
   "execution_count": 28,
   "metadata": {},
   "outputs": [
    {
     "name": "stderr",
     "output_type": "stream",
     "text": [
      "C:\\Users\\anafl\\AppData\\Local\\Temp\\ipykernel_47664\\2429628830.py:14: FutureWarning: In a future version of pandas, parsing datetimes with mixed time zones will raise a warning unless `utc=True`. Please specify `utc=True` to opt in to the new behaviour and silence this warning. To create a `Series` with mixed offsets and `object` dtype, please use `apply` and `datetime.datetime.strptime`\n",
      "  df[date_columns] = df[date_columns].apply(lambda col: pd.to_datetime(col, errors='coerce'))\n",
      "C:\\Users\\anafl\\AppData\\Local\\Temp\\ipykernel_47664\\2429628830.py:14: FutureWarning: In a future version of pandas, parsing datetimes with mixed time zones will raise a warning unless `utc=True`. Please specify `utc=True` to opt in to the new behaviour and silence this warning. To create a `Series` with mixed offsets and `object` dtype, please use `apply` and `datetime.datetime.strptime`\n",
      "  df[date_columns] = df[date_columns].apply(lambda col: pd.to_datetime(col, errors='coerce'))\n",
      "C:\\Users\\anafl\\AppData\\Local\\Temp\\ipykernel_47664\\2429628830.py:14: FutureWarning: In a future version of pandas, parsing datetimes with mixed time zones will raise a warning unless `utc=True`. Please specify `utc=True` to opt in to the new behaviour and silence this warning. To create a `Series` with mixed offsets and `object` dtype, please use `apply` and `datetime.datetime.strptime`\n",
      "  df[date_columns] = df[date_columns].apply(lambda col: pd.to_datetime(col, errors='coerce'))\n"
     ]
    },
    {
     "data": {
      "text/plain": [
       "email                                                                        object\n",
       "nome                                                                         object\n",
       "lead_scoring_-_perfil                                                        object\n",
       "url_pública                                                                  object\n",
       "estágio_no_funil                                                             object\n",
       "total_de_conversões                                                           int64\n",
       "lead_scoring_-_interesse                                                      int64\n",
       "status_para_comunicação_por_email                                              bool\n",
       "data_da_primeira_conversão                                           datetime64[ns]\n",
       "eventos_(últimos_100)                                                        object\n",
       "origem_da_última_conversão                                                   object\n",
       "data_da_última_conversão                                             datetime64[ns]\n",
       "origem_da_primeira_conversão                                                 object\n",
       "empresa                                                                      object\n",
       "tags                                                                         object\n",
       "data_da_última_oportunidade                                          datetime64[ns]\n",
       "estado                                                                       object\n",
       "valor_total_da_oportunidade_no_crm_(última_atualização)                     float64\n",
       "qualificação_da_oportunidade_no_crm_(última_atualização)                    float64\n",
       "etapa_do_funil_de_vendas_no_crm_(última_atualização)                         object\n",
       "nome_do_responsável_pela_oportunidade_no_crm_(última_atualização)            object\n",
       "origem_da_oportunidade_no_crm_(última_atualização)                           object\n",
       "possui_interesse_em_realizar_uma_pós-graduação_ou_mba?                       object\n",
       "desejo_receber_o_sustentare_news                                            float64\n",
       "como_você_conheceu_a_sustentare:                                             object\n",
       "universidade                                                                 object\n",
       "qual_o_curso_de_interesse?                                                   object\n",
       "cargo_final                                                                  object\n",
       "area_atuacao                                                                 object\n",
       "interesse_final                                                              object\n",
       "ds_email                                                                     object\n",
       "cd_pessoa                                                                   float64\n",
       "min_dt_log                                                           datetime64[ns]\n",
       "aluno                                                                         int64\n",
       "cidade                                                                       object\n",
       "data_nascimento                                                      datetime64[ns]\n",
       "dtype: object"
      ]
     },
     "execution_count": 28,
     "metadata": {},
     "output_type": "execute_result"
    }
   ],
   "source": [
    "def convert_columns_to_datetime(df):\n",
    "    \"\"\"\n",
    "    Convert specified columns in a DataFrame to datetime format.\n",
    "\n",
    "    Parameters:\n",
    "    - DataFrame\n",
    "\n",
    "    Returns:\n",
    "    - The DataFrame with specified columns converted to datetime.\n",
    "    \"\"\"\n",
    "\n",
    "    date_columns = ['data_da_primeira_conversão', 'data_da_última_conversão', 'data_da_última_oportunidade', 'data_nascimento', 'min_dt_log']\n",
    "    \n",
    "    df[date_columns] = df[date_columns].apply(lambda col: pd.to_datetime(col, errors='coerce'))\n",
    "    for i in date_columns:\n",
    "        df[i] = pd.to_datetime(df[i], utc=True).dt.tz_convert(None)\n",
    "    return df\n",
    "\n",
    "merge_left = convert_columns_to_datetime(merge_left)\n",
    "merge_left.dtypes\n"
   ]
  },
  {
   "cell_type": "code",
   "execution_count": 29,
   "metadata": {},
   "outputs": [],
   "source": [
    "def calculate_months_since_conversion(df):\n",
    "    \"\"\"\n",
    "    Calculates the number of months since the first conversion based on the 'aluno' column and additional date columns.\n",
    "    Drops rows where 'aluno' = 1 and min_dt_log is null.\n",
    "\n",
    "    Parameters:\n",
    "    - The input DataFrame containing the necessary columns.\n",
    "    \n",
    "    Returns:\n",
    "    - The DataFrame with additional columns representing the number of months since the first conversion,\n",
    "          last conversion, and last opportunity. Null values are assigned to these columns if the corresponding dates are null.\n",
    "    \"\"\"\n",
    "    # Drop rows based on conditions\n",
    "    df = df.drop(df[(df['aluno'] == 1) & df['min_dt_log'].isnull()].index)\n",
    "\n",
    "    # Calculate months since conversion\n",
    "    df['months_since_first_conversion'] = np.where(\n",
    "        df['aluno'] == 1,\n",
    "        (df['min_dt_log'] - df['data_da_primeira_conversão']).dt.days / 30,\n",
    "        (datetime.now() - df['data_da_primeira_conversão']).dt.days / 30\n",
    "    )\n",
    "\n",
    "    # Calculate months since last conversion\n",
    "    df['months_since_last_conversion'] = np.where(\n",
    "        df['data_da_última_conversão'].notnull(),\n",
    "        (df['data_da_última_conversão'] - df['data_da_primeira_conversão']).dt.days / 30,\n",
    "        np.nan\n",
    "    )\n",
    "\n",
    "    # Calculate months since last opportunity\n",
    "    df['months_since_last_opportunity'] = np.where(\n",
    "        df['data_da_última_oportunidade'].notnull(),\n",
    "        (df['data_da_última_oportunidade'] - df['data_da_primeira_conversão']).dt.days / 30,\n",
    "        np.nan\n",
    "    )\n",
    "\n",
    "    #df = df.drop(columns=['data_da_primeira_conversão', 'min_dt_log', 'data_da_última_conversão', 'data_da_última_oportunidade'])\n",
    "\n",
    "    return df\n",
    "\n",
    "perfil_df = calculate_months_since_conversion(merge_left)\n"
   ]
  },
  {
   "cell_type": "markdown",
   "metadata": {},
   "source": [
    "## Creating a Function for the Age"
   ]
  },
  {
   "cell_type": "code",
   "execution_count": 30,
   "metadata": {},
   "outputs": [],
   "source": [
    "def create_column_with_calculate_age(df):\n",
    "    \"\"\"\n",
    "    Calculates age based on the birthdate column and adds a new column to the DataFrame.\n",
    "\n",
    "    Parameters:\n",
    "    - DataFrame.\n",
    "\n",
    "    Returns:\n",
    "    - The DataFrame with the new age column added.\n",
    "    \"\"\"\n",
    "    df['age'] = pd.to_datetime(df['data_nascimento'], errors='coerce').dt.year\n",
    "    current_year = pd.to_datetime('now').year\n",
    "    df['age'] = current_year - df['age']\n",
    "\n",
    "    # Set age to NaN for values less than 19 or greater than 70\n",
    "    df.loc[(df['age'] < 19) | (df['age'] > 70), 'age'] = pd.NA\n",
    "    \n",
    "    #df = df.drop(columns='data_nascimento')\n",
    "\n",
    "    return df\n",
    "\n",
    "perfil_df = create_column_with_calculate_age(perfil_df)\n"
   ]
  },
  {
   "cell_type": "code",
   "execution_count": 31,
   "metadata": {},
   "outputs": [
    {
     "data": {
      "text/plain": [
       "eventos_(últimos_100)\n",
       "Banco Easy2Mail Nome+Email                                                                                                                                                                                                             5057\n",
       "Transferência mail2easy RD-Interessados / Banco Easy2Mail Nome+Email                                                                                                                                                                    820\n",
       "e-book-desafios-equipes                                                                                                                                                                                                                 649\n",
       "inscricao-festival-rh-agil-3-edicao                                                                                                                                                                                                     608\n",
       "ebook-o-imprescindivel-processo-de-integracao-da-governanca-tributaria                                                                                                                                                                  453\n",
       "                                                                                                                                                                                                                                       ... \n",
       "inscricao-live-e-webinar-cidades-inteligentes / escolha-o-seu-mentor-sicredi / /site/curso/dg-desenvolvimento-gerencial/ / Tenho Interesse: #DG+ Desenvolvimento Gerencial / /site/curso/dg-desenvolvimento-gerencial/                    1\n",
       "Tenho Interesse: Pós-graduação RH Ágil / oportunidades-16b / Interessado em detalhes: PÓS-MBA Educação Empresarial Treinamento e Desenvolvimento                                                                                          1\n",
       "mbausp / master-class-impactos-no-varejo / ebook-top-5-dos-passos-de-venda / ebook-storytelling / evento-Hub-Talk-/-Carreira:-Marca-Pessoal,-Empregabilidade-e-LinkedIN / Interessado: Estratégias Digitais, Redes e Mídias Sociais       1\n",
       "Tenho Interesse: Suporte Logístico para Fluxo de Produção (LOG) – WCM                                                                                                                                                                     1\n",
       "Transferencia Easy2Mail -  Grupos com finais 13 e 14- / Exportação Mail2Easy - Grupos Projetos, TIC, TI e Starups                                                                                                                         1\n",
       "Name: count, Length: 11878, dtype: int64"
      ]
     },
     "execution_count": 31,
     "metadata": {},
     "output_type": "execute_result"
    }
   ],
   "source": [
    "perfil_df['eventos_(últimos_100)'].value_counts()"
   ]
  },
  {
   "cell_type": "markdown",
   "metadata": {},
   "source": [
    "# Dealing with evento column"
   ]
  },
  {
   "cell_type": "markdown",
   "metadata": {},
   "source": [
    "Based on the analysis on the exploration file a few steps were made to obtain a clear data set"
   ]
  },
  {
   "cell_type": "code",
   "execution_count": 32,
   "metadata": {},
   "outputs": [
    {
     "data": {
      "text/html": [
       "<div>\n",
       "<style scoped>\n",
       "    .dataframe tbody tr th:only-of-type {\n",
       "        vertical-align: middle;\n",
       "    }\n",
       "\n",
       "    .dataframe tbody tr th {\n",
       "        vertical-align: top;\n",
       "    }\n",
       "\n",
       "    .dataframe thead th {\n",
       "        text-align: right;\n",
       "    }\n",
       "</style>\n",
       "<table border=\"1\" class=\"dataframe\">\n",
       "  <thead>\n",
       "    <tr style=\"text-align: right;\">\n",
       "      <th></th>\n",
       "      <th>email</th>\n",
       "      <th>nome</th>\n",
       "      <th>lead_scoring_-_perfil</th>\n",
       "      <th>url_pública</th>\n",
       "      <th>estágio_no_funil</th>\n",
       "      <th>total_de_conversões</th>\n",
       "      <th>lead_scoring_-_interesse</th>\n",
       "      <th>status_para_comunicação_por_email</th>\n",
       "      <th>data_da_primeira_conversão</th>\n",
       "      <th>eventos_(últimos_100)</th>\n",
       "      <th>...</th>\n",
       "      <th>webinar</th>\n",
       "      <th>gratuito</th>\n",
       "      <th>gratuita</th>\n",
       "      <th>festival</th>\n",
       "      <th>linkedin</th>\n",
       "      <th>ebook</th>\n",
       "      <th>exame-de-bolsas</th>\n",
       "      <th>e-book</th>\n",
       "      <th>bolsa-de-estudos</th>\n",
       "      <th>total_interacoes</th>\n",
       "    </tr>\n",
       "  </thead>\n",
       "  <tbody>\n",
       "    <tr>\n",
       "      <th>34267</th>\n",
       "      <td>adriseguranca@yahoo.com.br</td>\n",
       "      <td>Adriana Fugazza</td>\n",
       "      <td>d</td>\n",
       "      <td>http://app.rdstation.com.br/leads/public/21c51...</td>\n",
       "      <td>Lead</td>\n",
       "      <td>1</td>\n",
       "      <td>0</td>\n",
       "      <td>True</td>\n",
       "      <td>2015-07-14 19:40:40</td>\n",
       "      <td>ex-alunos-sustentare</td>\n",
       "      <td>...</td>\n",
       "      <td>0</td>\n",
       "      <td>0</td>\n",
       "      <td>0</td>\n",
       "      <td>0</td>\n",
       "      <td>0</td>\n",
       "      <td>0</td>\n",
       "      <td>0</td>\n",
       "      <td>0</td>\n",
       "      <td>0</td>\n",
       "      <td>0</td>\n",
       "    </tr>\n",
       "  </tbody>\n",
       "</table>\n",
       "<p>1 rows × 54 columns</p>\n",
       "</div>"
      ],
      "text/plain": [
       "                            email             nome lead_scoring_-_perfil  \\\n",
       "34267  adriseguranca@yahoo.com.br  Adriana Fugazza                     d   \n",
       "\n",
       "                                             url_pública estágio_no_funil  \\\n",
       "34267  http://app.rdstation.com.br/leads/public/21c51...             Lead   \n",
       "\n",
       "       total_de_conversões  lead_scoring_-_interesse  \\\n",
       "34267                    1                         0   \n",
       "\n",
       "       status_para_comunicação_por_email data_da_primeira_conversão  \\\n",
       "34267                               True        2015-07-14 19:40:40   \n",
       "\n",
       "      eventos_(últimos_100)  ... webinar gratuito gratuita festival linkedin  \\\n",
       "34267  ex-alunos-sustentare  ...       0        0        0        0        0   \n",
       "\n",
       "      ebook exame-de-bolsas  e-book  bolsa-de-estudos total_interacoes  \n",
       "34267     0               0       0                 0                0  \n",
       "\n",
       "[1 rows x 54 columns]"
      ]
     },
     "execution_count": 32,
     "metadata": {},
     "output_type": "execute_result"
    }
   ],
   "source": [
    "import re\n",
    "\n",
    "def add_keyword_columns(dataframe):\n",
    "    \"\"\"\n",
    "    Add new columns for each specific keyword and populate them with the counts of occurrences.\n",
    "    Also, add a new column that represents the sum of values across all keyword columns.\n",
    "\n",
    "    Parameters:\n",
    "    - DataFrame \n",
    "\n",
    "    Returns:\n",
    "    - The modified DataFrame with added columns.\n",
    "    \"\"\"\n",
    "\n",
    "    keywords = ['live', 'newsletter', 'master-class', 'whatsapp', 'webinar', 'gratuito', 'gratuita' , 'festival', \n",
    "                'linkedin', 'ebook', 'exame-de-bolsas', 'e-book', 'bolsa-de-estudos']\n",
    "\n",
    "    # Create a regex pattern to match variations of the keywords\n",
    "    pattern = re.compile(r'\\b(?:' + '|'.join(keywords) + r')\\b', flags=re.IGNORECASE)\n",
    "\n",
    "    # Convert the entire column to string\n",
    "    dataframe['eventos_(últimos_100)'] = dataframe['eventos_(últimos_100)'].astype(str)\n",
    "\n",
    "    # Iterate through each keyword and add a new column\n",
    "    for i in keywords:\n",
    "        # Create a new column for each keyword\n",
    "        dataframe[i] = 0\n",
    "\n",
    "        # Iterate through each row and count occurrences\n",
    "        for idx, row in dataframe.iterrows():\n",
    "            events = row['eventos_(últimos_100)'].split('/')\n",
    "\n",
    "            # Check if the keyword appears in the events using regex\n",
    "            for event in events:\n",
    "                if pattern.search(event):\n",
    "                    matched_keyword = pattern.search(event).group().lower()\n",
    "                    if matched_keyword == i.lower():\n",
    "                        # Increment the count in the corresponding column\n",
    "                        dataframe.at[idx, i] += 1\n",
    "\n",
    "    # Add a new column for the sum of keyword columns\n",
    "    dataframe['total_interacoes'] = dataframe[keywords].sum(axis=1)\n",
    "\n",
    "    return dataframe\n",
    "\n",
    "new_perfil_df = add_keyword_columns(perfil_df)\n",
    "new_perfil_df.sample()\n"
   ]
  },
  {
   "cell_type": "code",
   "execution_count": 33,
   "metadata": {},
   "outputs": [
    {
     "data": {
      "text/html": [
       "<div>\n",
       "<style scoped>\n",
       "    .dataframe tbody tr th:only-of-type {\n",
       "        vertical-align: middle;\n",
       "    }\n",
       "\n",
       "    .dataframe tbody tr th {\n",
       "        vertical-align: top;\n",
       "    }\n",
       "\n",
       "    .dataframe thead th {\n",
       "        text-align: right;\n",
       "    }\n",
       "</style>\n",
       "<table border=\"1\" class=\"dataframe\">\n",
       "  <thead>\n",
       "    <tr style=\"text-align: right;\">\n",
       "      <th></th>\n",
       "      <th>email</th>\n",
       "      <th>nome</th>\n",
       "      <th>lead_scoring_-_perfil</th>\n",
       "      <th>url_pública</th>\n",
       "      <th>estágio_no_funil</th>\n",
       "      <th>total_de_conversões</th>\n",
       "      <th>lead_scoring_-_interesse</th>\n",
       "      <th>status_para_comunicação_por_email</th>\n",
       "      <th>data_da_primeira_conversão</th>\n",
       "      <th>eventos_(últimos_100)</th>\n",
       "      <th>...</th>\n",
       "      <th>gratuito</th>\n",
       "      <th>gratuita</th>\n",
       "      <th>festival</th>\n",
       "      <th>linkedin</th>\n",
       "      <th>ebook</th>\n",
       "      <th>exame-de-bolsas</th>\n",
       "      <th>e-book</th>\n",
       "      <th>bolsa-de-estudos</th>\n",
       "      <th>total_interacoes</th>\n",
       "      <th>total_eventos</th>\n",
       "    </tr>\n",
       "  </thead>\n",
       "  <tbody>\n",
       "    <tr>\n",
       "      <th>11969</th>\n",
       "      <td>apcastroalmeida@gmail.com</td>\n",
       "      <td>Ana paula Almeida</td>\n",
       "      <td>d</td>\n",
       "      <td>http://app.rdstation.com.br/leads/public/fe962...</td>\n",
       "      <td>Lead</td>\n",
       "      <td>1</td>\n",
       "      <td>10</td>\n",
       "      <td>True</td>\n",
       "      <td>2021-08-09 17:57:31</td>\n",
       "      <td>inscricao-festival-rh-agil</td>\n",
       "      <td>...</td>\n",
       "      <td>0</td>\n",
       "      <td>0</td>\n",
       "      <td>1</td>\n",
       "      <td>0</td>\n",
       "      <td>0</td>\n",
       "      <td>0</td>\n",
       "      <td>0</td>\n",
       "      <td>0</td>\n",
       "      <td>1</td>\n",
       "      <td>1</td>\n",
       "    </tr>\n",
       "  </tbody>\n",
       "</table>\n",
       "<p>1 rows × 55 columns</p>\n",
       "</div>"
      ],
      "text/plain": [
       "                           email                nome lead_scoring_-_perfil  \\\n",
       "11969  apcastroalmeida@gmail.com  Ana paula Almeida                      d   \n",
       "\n",
       "                                             url_pública estágio_no_funil  \\\n",
       "11969  http://app.rdstation.com.br/leads/public/fe962...             Lead   \n",
       "\n",
       "       total_de_conversões  lead_scoring_-_interesse  \\\n",
       "11969                    1                        10   \n",
       "\n",
       "       status_para_comunicação_por_email data_da_primeira_conversão  \\\n",
       "11969                               True        2021-08-09 17:57:31   \n",
       "\n",
       "            eventos_(últimos_100)  ... gratuito gratuita festival linkedin  \\\n",
       "11969  inscricao-festival-rh-agil  ...        0        0        1        0   \n",
       "\n",
       "      ebook exame-de-bolsas e-book  bolsa-de-estudos  total_interacoes  \\\n",
       "11969     0               0      0                 0                 1   \n",
       "\n",
       "      total_eventos  \n",
       "11969             1  \n",
       "\n",
       "[1 rows x 55 columns]"
      ]
     },
     "execution_count": 33,
     "metadata": {},
     "output_type": "execute_result"
    }
   ],
   "source": [
    "def add_keyword_columns(dataframe):\n",
    "    \"\"\"\n",
    "    Add new columns for each specific keyword and populate them with the counts of occurrences.\n",
    "    Also, add a new column that represents the sum of values across all keyword columns.\n",
    "    Additionally, add a new column 'total_eventos' that counts the number of values separated by \"|\".\n",
    "\n",
    "    Parameters:\n",
    "    - The DataFrame containing the data.\n",
    "\n",
    "    Returns:\n",
    "    - The modified DataFrame with added columns.\n",
    "    \"\"\"\n",
    "\n",
    "    keywords = ['live', 'newsletter', 'master-class', 'whatsapp', 'webinar', 'gratuito', 'gratuita' , 'festival', \n",
    "                'linkedin', 'ebook', 'exame-de-bolsas', 'e-book', 'bolsa-de-estudos']\n",
    "\n",
    "    # Create a regex pattern to match variations of the keywords\n",
    "    pattern = re.compile(r'\\b(?:' + '|'.join(keywords) + r')\\b', flags=re.IGNORECASE)\n",
    "\n",
    "    # Iterate through each keyword and add a new column\n",
    "    for i in keywords:\n",
    "        # Create a new column for each keyword\n",
    "        dataframe[i] = 0\n",
    "\n",
    "        # Iterate through each row and count occurrences\n",
    "        for idx, row in dataframe.iterrows():\n",
    "            events = row['eventos_(últimos_100)'].split('/')\n",
    "\n",
    "            # Check if the keyword appears in the events using regex\n",
    "            for event in events:\n",
    "                if pattern.search(event):\n",
    "                    matched_keyword = pattern.search(event).group().lower()\n",
    "                    if matched_keyword == i.lower():\n",
    "                        # Increment the count in the corresponding column\n",
    "                        dataframe.at[idx, i] += 1\n",
    "\n",
    "    # Add a new column for the sum of keyword columns\n",
    "    dataframe['total_interacoes'] = dataframe[keywords].sum(axis=1)\n",
    "\n",
    "    # Add a new column for the count of values in 'eventos_(últimos_100)'\n",
    "    dataframe['total_eventos'] = dataframe['eventos_(últimos_100)'].apply(lambda x: x.count('/') + 1)\n",
    "\n",
    "    return dataframe\n",
    "\n",
    "new_perfil_df = add_keyword_columns(perfil_df)\n",
    "new_perfil_df.sample()"
   ]
  },
  {
   "cell_type": "code",
   "execution_count": 34,
   "metadata": {},
   "outputs": [
    {
     "data": {
      "text/plain": [
       "total_eventos\n",
       "1      21614\n",
       "2       6854\n",
       "3       2958\n",
       "4       1422\n",
       "5        855\n",
       "       ...  \n",
       "114        1\n",
       "193        1\n",
       "84         1\n",
       "100        1\n",
       "104        1\n",
       "Name: count, Length: 89, dtype: int64"
      ]
     },
     "execution_count": 34,
     "metadata": {},
     "output_type": "execute_result"
    }
   ],
   "source": [
    "new_perfil_df['total_eventos'].value_counts()"
   ]
  },
  {
   "cell_type": "code",
   "execution_count": 35,
   "metadata": {},
   "outputs": [
    {
     "data": {
      "text/plain": [
       "Index(['email', 'nome', 'lead_scoring_-_perfil', 'url_pública',\n",
       "       'estágio_no_funil', 'total_de_conversões', 'lead_scoring_-_interesse',\n",
       "       'status_para_comunicação_por_email', 'data_da_primeira_conversão',\n",
       "       'eventos_(últimos_100)', 'origem_da_última_conversão',\n",
       "       'data_da_última_conversão', 'origem_da_primeira_conversão', 'empresa',\n",
       "       'tags', 'data_da_última_oportunidade', 'estado',\n",
       "       'valor_total_da_oportunidade_no_crm_(última_atualização)',\n",
       "       'qualificação_da_oportunidade_no_crm_(última_atualização)',\n",
       "       'etapa_do_funil_de_vendas_no_crm_(última_atualização)',\n",
       "       'nome_do_responsável_pela_oportunidade_no_crm_(última_atualização)',\n",
       "       'origem_da_oportunidade_no_crm_(última_atualização)',\n",
       "       'possui_interesse_em_realizar_uma_pós-graduação_ou_mba?',\n",
       "       'desejo_receber_o_sustentare_news', 'como_você_conheceu_a_sustentare:',\n",
       "       'universidade', 'qual_o_curso_de_interesse?', 'cargo_final',\n",
       "       'area_atuacao', 'interesse_final', 'ds_email', 'cd_pessoa',\n",
       "       'min_dt_log', 'aluno', 'cidade', 'data_nascimento',\n",
       "       'months_since_first_conversion', 'months_since_last_conversion',\n",
       "       'months_since_last_opportunity', 'age', 'live', 'newsletter',\n",
       "       'master-class', 'whatsapp', 'webinar', 'gratuito', 'gratuita',\n",
       "       'festival', 'linkedin', 'ebook', 'exame-de-bolsas', 'e-book',\n",
       "       'bolsa-de-estudos', 'total_interacoes', 'total_eventos'],\n",
       "      dtype='object')"
      ]
     },
     "execution_count": 35,
     "metadata": {},
     "output_type": "execute_result"
    }
   ],
   "source": [
    "new_perfil_df.columns"
   ]
  },
  {
   "cell_type": "markdown",
   "metadata": {},
   "source": [
    "Some columns represents the same event"
   ]
  },
  {
   "cell_type": "code",
   "execution_count": 36,
   "metadata": {},
   "outputs": [],
   "source": [
    "new_perfil_df['gratuito'] = new_perfil_df['gratuito'] + new_perfil_df['gratuita']\n",
    "\n",
    "# Drop the 'gratuita' column \n",
    "new_perfil_df = new_perfil_df.drop(columns=['gratuita'])\n"
   ]
  },
  {
   "cell_type": "code",
   "execution_count": 37,
   "metadata": {},
   "outputs": [],
   "source": [
    "new_perfil_df['ebook'] = new_perfil_df['ebook'] + new_perfil_df['e-book']\n",
    "\n",
    "# Drop the 'e-book' column \n",
    "new_perfil_df = new_perfil_df.drop(columns=['e-book'])"
   ]
  },
  {
   "cell_type": "code",
   "execution_count": 38,
   "metadata": {},
   "outputs": [
    {
     "data": {
      "text/plain": [
       "email                                                                    0\n",
       "nome                                                                   681\n",
       "lead_scoring_-_perfil                                                    0\n",
       "url_pública                                                              0\n",
       "estágio_no_funil                                                         0\n",
       "total_de_conversões                                                      0\n",
       "lead_scoring_-_interesse                                                 0\n",
       "status_para_comunicação_por_email                                        0\n",
       "data_da_primeira_conversão                                             333\n",
       "eventos_(últimos_100)                                                    0\n",
       "origem_da_última_conversão                                             333\n",
       "data_da_última_conversão                                               333\n",
       "origem_da_primeira_conversão                                           333\n",
       "empresa                                                              22933\n",
       "tags                                                                 30210\n",
       "data_da_última_oportunidade                                          32342\n",
       "estado                                                               33146\n",
       "valor_total_da_oportunidade_no_crm_(última_atualização)              32989\n",
       "qualificação_da_oportunidade_no_crm_(última_atualização)             32989\n",
       "etapa_do_funil_de_vendas_no_crm_(última_atualização)                 32989\n",
       "nome_do_responsável_pela_oportunidade_no_crm_(última_atualização)    32989\n",
       "origem_da_oportunidade_no_crm_(última_atualização)                   33113\n",
       "possui_interesse_em_realizar_uma_pós-graduação_ou_mba?               34301\n",
       "desejo_receber_o_sustentare_news                                     36929\n",
       "como_você_conheceu_a_sustentare:                                     37269\n",
       "universidade                                                         37253\n",
       "qual_o_curso_de_interesse?                                           37933\n",
       "cargo_final                                                          20684\n",
       "area_atuacao                                                         33066\n",
       "interesse_final                                                      20663\n",
       "ds_email                                                             37599\n",
       "cd_pessoa                                                            37599\n",
       "min_dt_log                                                           37599\n",
       "aluno                                                                    0\n",
       "cidade                                                               33967\n",
       "data_nascimento                                                      37613\n",
       "months_since_first_conversion                                          333\n",
       "months_since_last_conversion                                           333\n",
       "months_since_last_opportunity                                        32343\n",
       "age                                                                  37616\n",
       "live                                                                     0\n",
       "newsletter                                                               0\n",
       "master-class                                                             0\n",
       "whatsapp                                                                 0\n",
       "webinar                                                                  0\n",
       "gratuito                                                                 0\n",
       "festival                                                                 0\n",
       "linkedin                                                                 0\n",
       "ebook                                                                    0\n",
       "exame-de-bolsas                                                          0\n",
       "bolsa-de-estudos                                                         0\n",
       "total_interacoes                                                         0\n",
       "total_eventos                                                            0\n",
       "dtype: int64"
      ]
     },
     "execution_count": 38,
     "metadata": {},
     "output_type": "execute_result"
    }
   ],
   "source": [
    "new_perfil_df.isna().sum()"
   ]
  },
  {
   "cell_type": "code",
   "execution_count": 39,
   "metadata": {},
   "outputs": [],
   "source": [
    "new_perfil_df.to_csv('../data/clear_perfil_visitor_and_students.csv', index=False)"
   ]
  },
  {
   "cell_type": "code",
   "execution_count": null,
   "metadata": {},
   "outputs": [],
   "source": []
  }
 ],
 "metadata": {
  "kernelspec": {
   "display_name": "ironhack",
   "language": "python",
   "name": "python3"
  },
  "language_info": {
   "codemirror_mode": {
    "name": "ipython",
    "version": 3
   },
   "file_extension": ".py",
   "mimetype": "text/x-python",
   "name": "python",
   "nbconvert_exporter": "python",
   "pygments_lexer": "ipython3",
   "version": "3.12.0"
  }
 },
 "nbformat": 4,
 "nbformat_minor": 2
}
