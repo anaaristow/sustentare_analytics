{
 "cells": [
  {
   "cell_type": "code",
   "execution_count": 293,
   "metadata": {},
   "outputs": [],
   "source": [
    "import numpy as np\n",
    "import pandas as pd\n",
    "from datetime import datetime"
   ]
  },
  {
   "cell_type": "code",
   "execution_count": 294,
   "metadata": {},
   "outputs": [],
   "source": [
    "rd_station_profile = pd.read_csv(\"../data/rd_station_profile\")\n",
    "info_student_unimestre = pd.read_csv(\"../data/info_student_unimestre.csv\")\n",
    "first_cd_turma_student = pd.read_csv(\"../data/first_cd_turma_for_student_unimestre.csv\")\n",
    "dt_cadastro_student = pd.read_csv(\"../data/dt_cadastro_student_unimestre.csv\")"
   ]
  },
  {
   "cell_type": "markdown",
   "metadata": {},
   "source": [
    "### Checking the data frames\n"
   ]
  },
  {
   "cell_type": "code",
   "execution_count": 295,
   "metadata": {},
   "outputs": [
    {
     "data": {
      "text/plain": [
       "(41340, 32)"
      ]
     },
     "execution_count": 295,
     "metadata": {},
     "output_type": "execute_result"
    }
   ],
   "source": [
    "rd_station_profile.shape"
   ]
  },
  {
   "cell_type": "code",
   "execution_count": 296,
   "metadata": {},
   "outputs": [
    {
     "data": {
      "text/plain": [
       "(12056, 5)"
      ]
     },
     "execution_count": 296,
     "metadata": {},
     "output_type": "execute_result"
    }
   ],
   "source": [
    "info_student_unimestre.shape"
   ]
  },
  {
   "cell_type": "code",
   "execution_count": 297,
   "metadata": {},
   "outputs": [
    {
     "data": {
      "text/html": [
       "<div>\n",
       "<style scoped>\n",
       "    .dataframe tbody tr th:only-of-type {\n",
       "        vertical-align: middle;\n",
       "    }\n",
       "\n",
       "    .dataframe tbody tr th {\n",
       "        vertical-align: top;\n",
       "    }\n",
       "\n",
       "    .dataframe thead th {\n",
       "        text-align: right;\n",
       "    }\n",
       "</style>\n",
       "<table border=\"1\" class=\"dataframe\">\n",
       "  <thead>\n",
       "    <tr style=\"text-align: right;\">\n",
       "      <th></th>\n",
       "      <th>cd_pessoa</th>\n",
       "      <th>ds_email</th>\n",
       "      <th>ds_cidade</th>\n",
       "      <th>dt_nascimento</th>\n",
       "      <th>min_dt_log</th>\n",
       "    </tr>\n",
       "  </thead>\n",
       "  <tbody>\n",
       "    <tr>\n",
       "      <th>9365</th>\n",
       "      <td>160003450</td>\n",
       "      <td>suzanapsc@gmail.com</td>\n",
       "      <td>Joinville</td>\n",
       "      <td>1978-04-03 00:00:00</td>\n",
       "      <td>NaN</td>\n",
       "    </tr>\n",
       "  </tbody>\n",
       "</table>\n",
       "</div>"
      ],
      "text/plain": [
       "      cd_pessoa             ds_email  ds_cidade        dt_nascimento  \\\n",
       "9365  160003450  suzanapsc@gmail.com  Joinville  1978-04-03 00:00:00   \n",
       "\n",
       "     min_dt_log  \n",
       "9365        NaN  "
      ]
     },
     "execution_count": 297,
     "metadata": {},
     "output_type": "execute_result"
    }
   ],
   "source": [
    "info_student_unimestre.sample()"
   ]
  },
  {
   "cell_type": "code",
   "execution_count": 298,
   "metadata": {},
   "outputs": [
    {
     "data": {
      "text/plain": [
       "cd_pessoa           0\n",
       "ds_email            0\n",
       "ds_cidade        2248\n",
       "dt_nascimento    1156\n",
       "min_dt_log       8144\n",
       "dtype: int64"
      ]
     },
     "execution_count": 298,
     "metadata": {},
     "output_type": "execute_result"
    }
   ],
   "source": [
    "info_student_unimestre.isna().sum()"
   ]
  },
  {
   "cell_type": "code",
   "execution_count": 299,
   "metadata": {},
   "outputs": [
    {
     "data": {
      "text/plain": [
       "(15901, 5)"
      ]
     },
     "execution_count": 299,
     "metadata": {},
     "output_type": "execute_result"
    }
   ],
   "source": [
    "first_cd_turma_student.shape"
   ]
  },
  {
   "cell_type": "code",
   "execution_count": 300,
   "metadata": {},
   "outputs": [
    {
     "data": {
      "text/plain": [
       "cd_pessoa       0\n",
       "cd_turma        0\n",
       "ano          8630\n",
       "semestre      517\n",
       "min_date     9163\n",
       "dtype: int64"
      ]
     },
     "execution_count": 300,
     "metadata": {},
     "output_type": "execute_result"
    }
   ],
   "source": [
    "first_cd_turma_student.isna().sum()"
   ]
  },
  {
   "cell_type": "code",
   "execution_count": 301,
   "metadata": {},
   "outputs": [
    {
     "data": {
      "text/plain": [
       "cd_pessoa         0\n",
       "dt_cadastro    1265\n",
       "dtype: int64"
      ]
     },
     "execution_count": 301,
     "metadata": {},
     "output_type": "execute_result"
    }
   ],
   "source": [
    "dt_cadastro_student.isna().sum()"
   ]
  },
  {
   "cell_type": "markdown",
   "metadata": {},
   "source": [
    "Trying to get less null values on the min_dt_log"
   ]
  },
  {
   "cell_type": "code",
   "execution_count": 302,
   "metadata": {},
   "outputs": [],
   "source": [
    "info_student_unimestre.loc[:, 'min_dt_log'] = (\n",
    "    info_student_unimestre['min_dt_log']\n",
    "    .fillna(first_cd_turma_student['min_date'])\n",
    "    .fillna(dt_cadastro_student['dt_cadastro'])\n",
    ")"
   ]
  },
  {
   "cell_type": "code",
   "execution_count": 303,
   "metadata": {},
   "outputs": [
    {
     "data": {
      "text/plain": [
       "cd_pessoa           0\n",
       "ds_email            0\n",
       "ds_cidade        2248\n",
       "dt_nascimento    1156\n",
       "min_dt_log        209\n",
       "dtype: int64"
      ]
     },
     "execution_count": 303,
     "metadata": {},
     "output_type": "execute_result"
    }
   ],
   "source": [
    "info_student_unimestre.isna().sum()"
   ]
  },
  {
   "cell_type": "markdown",
   "metadata": {},
   "source": [
    "With this I was able to reduce \n",
    "- *min_dt_log* had 9163 null values now 209"
   ]
  },
  {
   "cell_type": "markdown",
   "metadata": {},
   "source": [
    "### Checking how many rows got in a inner join (getting just the intersection)"
   ]
  },
  {
   "cell_type": "code",
   "execution_count": 304,
   "metadata": {},
   "outputs": [],
   "source": [
    "merge_inner = rd_station_profile.merge(info_student_unimestre, left_on='email', right_on='ds_email', how='inner')"
   ]
  },
  {
   "cell_type": "code",
   "execution_count": 305,
   "metadata": {},
   "outputs": [
    {
     "data": {
      "text/plain": [
       "(4150, 37)"
      ]
     },
     "execution_count": 305,
     "metadata": {},
     "output_type": "execute_result"
    }
   ],
   "source": [
    "merge_inner.shape"
   ]
  },
  {
   "cell_type": "markdown",
   "metadata": {},
   "source": [
    "### Left Join"
   ]
  },
  {
   "cell_type": "code",
   "execution_count": 306,
   "metadata": {},
   "outputs": [],
   "source": [
    "merge_left = rd_station_profile.merge(info_student_unimestre, left_on='email', right_on='ds_email', how='left')"
   ]
  },
  {
   "cell_type": "code",
   "execution_count": 307,
   "metadata": {},
   "outputs": [
    {
     "data": {
      "text/plain": [
       "(41428, 37)"
      ]
     },
     "execution_count": 307,
     "metadata": {},
     "output_type": "execute_result"
    }
   ],
   "source": [
    "merge_left.shape # 41428 got more rows than the origial"
   ]
  },
  {
   "cell_type": "markdown",
   "metadata": {},
   "source": [
    "Got more rows than the left data frame, so will check for duplicates values "
   ]
  },
  {
   "cell_type": "code",
   "execution_count": 308,
   "metadata": {},
   "outputs": [
    {
     "data": {
      "text/plain": [
       "email\n",
       "0137.marcogiovanella@cnec.br     1\n",
       "0337.mauro@bradesco.com.br       1\n",
       "0337.william@bradesco.com.br     1\n",
       "0358.camila@bradesco.com.br      1\n",
       "0358.gerencia@bradesco.com.br    1\n",
       "                                ..\n",
       "zullo_gui@hotmail.com            1\n",
       "zulmafernandesstolf@gmail.com    1\n",
       "zulmalira.contabil@gmail.com     1\n",
       "zwessel@hotmail.com              1\n",
       "zyon.beto@gmail.com              1\n",
       "Name: email, Length: 41340, dtype: int64"
      ]
     },
     "execution_count": 308,
     "metadata": {},
     "output_type": "execute_result"
    }
   ],
   "source": [
    "rd_station_profile.groupby(\"email\")[\"email\"].count()"
   ]
  },
  {
   "cell_type": "code",
   "execution_count": 309,
   "metadata": {},
   "outputs": [
    {
     "data": {
      "text/plain": [
       "ds_email\n",
       " leory@r19.com.br                     1\n",
       " renatomontag@terra.com.br            1\n",
       "00000000/00@sememail.com             27\n",
       "00000000000@sememail.com            210\n",
       "00000000001@sememail.com              1\n",
       "                                   ... \n",
       "znf.nem@gmail.com                     1\n",
       "zpierdona@prsp.mpf.gov.br             1\n",
       "zuleikaromao@gomesdacosta.com.br      1\n",
       "zulmarpr@gmail.com                    1\n",
       "zvirtes@joinville.udesc.br            1\n",
       "Name: ds_email, Length: 10520, dtype: int64"
      ]
     },
     "execution_count": 309,
     "metadata": {},
     "output_type": "execute_result"
    }
   ],
   "source": [
    "info_student_unimestre.groupby(\"ds_email\")[\"ds_email\"].count()"
   ]
  },
  {
   "cell_type": "code",
   "execution_count": 310,
   "metadata": {},
   "outputs": [
    {
     "data": {
      "text/plain": [
       "cd_pessoa\n",
       "1001         1\n",
       "1002         1\n",
       "100003       1\n",
       "100011       1\n",
       "100046       1\n",
       "            ..\n",
       "170000461    1\n",
       "170000462    1\n",
       "170000463    1\n",
       "170000464    1\n",
       "170000465    1\n",
       "Name: cd_pessoa, Length: 12056, dtype: int64"
      ]
     },
     "execution_count": 310,
     "metadata": {},
     "output_type": "execute_result"
    }
   ],
   "source": [
    "info_student_unimestre.groupby(\"cd_pessoa\")[\"cd_pessoa\"].count()"
   ]
  },
  {
   "cell_type": "markdown",
   "metadata": {},
   "source": [
    "Creating a df to be only one row per ds_email"
   ]
  },
  {
   "cell_type": "code",
   "execution_count": 311,
   "metadata": {},
   "outputs": [],
   "source": [
    "info_student_unimestre_unique = info_student_unimestre.groupby('ds_email').first().reset_index()"
   ]
  },
  {
   "cell_type": "code",
   "execution_count": 312,
   "metadata": {},
   "outputs": [
    {
     "data": {
      "text/plain": [
       "(10520, 5)"
      ]
     },
     "execution_count": 312,
     "metadata": {},
     "output_type": "execute_result"
    }
   ],
   "source": [
    "info_student_unimestre_unique.shape"
   ]
  },
  {
   "cell_type": "markdown",
   "metadata": {},
   "source": [
    "### Doing the join again with the new df"
   ]
  },
  {
   "cell_type": "code",
   "execution_count": 313,
   "metadata": {},
   "outputs": [],
   "source": [
    "merge_left = rd_station_profile.merge(info_student_unimestre_unique, left_on='email', right_on='ds_email', how='left')"
   ]
  },
  {
   "cell_type": "code",
   "execution_count": 314,
   "metadata": {},
   "outputs": [
    {
     "data": {
      "text/plain": [
       "(41340, 37)"
      ]
     },
     "execution_count": 314,
     "metadata": {},
     "output_type": "execute_result"
    }
   ],
   "source": [
    "merge_left.shape"
   ]
  },
  {
   "cell_type": "code",
   "execution_count": 315,
   "metadata": {},
   "outputs": [],
   "source": [
    "merge_left = merge_left.drop(columns='Unnamed: 0')"
   ]
  },
  {
   "cell_type": "code",
   "execution_count": 316,
   "metadata": {},
   "outputs": [
    {
     "data": {
      "text/plain": [
       "Index(['email', 'lead_scoring_-_perfil', 'url_pública', 'estágio_no_funil',\n",
       "       'total_de_conversões', 'lead_scoring_-_interesse',\n",
       "       'status_para_comunicação_por_email', 'data_da_primeira_conversão',\n",
       "       'eventos_(últimos_100)', 'origem_da_última_conversão',\n",
       "       'data_da_última_conversão', 'origem_da_primeira_conversão', 'empresa',\n",
       "       'tags', 'data_da_última_oportunidade', 'estado',\n",
       "       'valor_total_da_oportunidade_no_crm_(última_atualização)',\n",
       "       'qualificação_da_oportunidade_no_crm_(última_atualização)',\n",
       "       'etapa_do_funil_de_vendas_no_crm_(última_atualização)',\n",
       "       'nome_do_responsável_pela_oportunidade_no_crm_(última_atualização)',\n",
       "       'origem_da_oportunidade_no_crm_(última_atualização)',\n",
       "       'possui_interesse_em_realizar_uma_pós-graduação_ou_mba?',\n",
       "       'data_de_nascimento', 'desejo_receber_o_sustentare_news',\n",
       "       'como_você_conheceu_a_sustentare:', 'universidade',\n",
       "       'qual_o_curso_de_interesse?', 'cidade_final', 'cargo_final',\n",
       "       'area_atuacao', 'interesse_final', 'ds_email', 'cd_pessoa', 'ds_cidade',\n",
       "       'dt_nascimento', 'min_dt_log'],\n",
       "      dtype='object')"
      ]
     },
     "execution_count": 316,
     "metadata": {},
     "output_type": "execute_result"
    }
   ],
   "source": [
    "merge_left.columns"
   ]
  },
  {
   "cell_type": "markdown",
   "metadata": {},
   "source": [
    "Creating a new column saying it's a student when a cd_pessoa is found"
   ]
  },
  {
   "cell_type": "code",
   "execution_count": 317,
   "metadata": {},
   "outputs": [
    {
     "data": {
      "text/plain": [
       "aluno\n",
       "0    37278\n",
       "1     4062\n",
       "Name: count, dtype: int64"
      ]
     },
     "execution_count": 317,
     "metadata": {},
     "output_type": "execute_result"
    }
   ],
   "source": [
    "merge_left['aluno'] = (merge_left['cd_pessoa'].notnull()).astype(int)\n",
    "merge_left['aluno'].value_counts()\n"
   ]
  },
  {
   "cell_type": "markdown",
   "metadata": {},
   "source": [
    "## Got different columns with representing the same thing, compiling all in one new columns"
   ]
  },
  {
   "cell_type": "markdown",
   "metadata": {},
   "source": [
    "Represents city of the person: 'ds_cidade', 'Cidade Final'"
   ]
  },
  {
   "cell_type": "code",
   "execution_count": 318,
   "metadata": {},
   "outputs": [],
   "source": [
    "merge_left.loc[:, 'cidade'] = (\n",
    "    merge_left['ds_cidade']\n",
    "    .fillna(merge_left['cidade_final'])\n",
    ")"
   ]
  },
  {
   "cell_type": "markdown",
   "metadata": {},
   "source": [
    "Represents city of the person: 'ds_cidade', 'Cidade Final'"
   ]
  },
  {
   "cell_type": "code",
   "execution_count": 319,
   "metadata": {},
   "outputs": [],
   "source": [
    "merge_left.loc[:, 'data_nascimento'] = (\n",
    "    merge_left['dt_nascimento']\n",
    "    .fillna(merge_left['data_de_nascimento'])\n",
    ")"
   ]
  },
  {
   "cell_type": "code",
   "execution_count": 320,
   "metadata": {},
   "outputs": [
    {
     "data": {
      "text/plain": [
       "email                                                                    0\n",
       "lead_scoring_-_perfil                                                    0\n",
       "url_pública                                                              0\n",
       "estágio_no_funil                                                         0\n",
       "total_de_conversões                                                      0\n",
       "lead_scoring_-_interesse                                                 0\n",
       "status_para_comunicação_por_email                                        0\n",
       "data_da_primeira_conversão                                               0\n",
       "eventos_(últimos_100)                                                    0\n",
       "origem_da_última_conversão                                               0\n",
       "data_da_última_conversão                                                 0\n",
       "origem_da_primeira_conversão                                             0\n",
       "empresa                                                              23786\n",
       "tags                                                                 31025\n",
       "data_da_última_oportunidade                                          33876\n",
       "estado                                                               34360\n",
       "valor_total_da_oportunidade_no_crm_(última_atualização)              34957\n",
       "qualificação_da_oportunidade_no_crm_(última_atualização)             34957\n",
       "etapa_do_funil_de_vendas_no_crm_(última_atualização)                 34957\n",
       "nome_do_responsável_pela_oportunidade_no_crm_(última_atualização)    34957\n",
       "origem_da_oportunidade_no_crm_(última_atualização)                   35142\n",
       "possui_interesse_em_realizar_uma_pós-graduação_ou_mba?               36763\n",
       "data_de_nascimento                                                   38346\n",
       "desejo_receber_o_sustentare_news                                     39276\n",
       "como_você_conheceu_a_sustentare:                                     39386\n",
       "universidade                                                         39439\n",
       "qual_o_curso_de_interesse?                                           40882\n",
       "cidade_final                                                         35856\n",
       "cargo_final                                                          21574\n",
       "area_atuacao                                                         35418\n",
       "interesse_final                                                      21841\n",
       "ds_email                                                             37278\n",
       "cd_pessoa                                                            37278\n",
       "ds_cidade                                                            37757\n",
       "dt_nascimento                                                        37328\n",
       "min_dt_log                                                           37445\n",
       "aluno                                                                    0\n",
       "cidade                                                               33986\n",
       "data_nascimento                                                      36117\n",
       "dtype: int64"
      ]
     },
     "execution_count": 320,
     "metadata": {},
     "output_type": "execute_result"
    }
   ],
   "source": [
    "merge_left.isna().sum()"
   ]
  },
  {
   "cell_type": "markdown",
   "metadata": {},
   "source": [
    "With this I was able to reduce \n",
    "- *Cidade* had 35856 null values now 33986\n",
    "- *Data Nascimento* had 38346 null values now 36117"
   ]
  },
  {
   "cell_type": "markdown",
   "metadata": {},
   "source": [
    "Dropping columns with replicate values"
   ]
  },
  {
   "cell_type": "code",
   "execution_count": 321,
   "metadata": {},
   "outputs": [],
   "source": [
    "merge_left = merge_left.drop(columns=['ds_cidade', 'cidade_final', 'dt_nascimento', 'data_de_nascimento'])"
   ]
  },
  {
   "cell_type": "markdown",
   "metadata": {},
   "source": [
    "All not null"
   ]
  },
  {
   "cell_type": "code",
   "execution_count": 322,
   "metadata": {},
   "outputs": [
    {
     "data": {
      "text/html": [
       "<div>\n",
       "<style scoped>\n",
       "    .dataframe tbody tr th:only-of-type {\n",
       "        vertical-align: middle;\n",
       "    }\n",
       "\n",
       "    .dataframe tbody tr th {\n",
       "        vertical-align: top;\n",
       "    }\n",
       "\n",
       "    .dataframe thead th {\n",
       "        text-align: right;\n",
       "    }\n",
       "</style>\n",
       "<table border=\"1\" class=\"dataframe\">\n",
       "  <thead>\n",
       "    <tr style=\"text-align: right;\">\n",
       "      <th></th>\n",
       "      <th>email</th>\n",
       "      <th>lead_scoring_-_perfil</th>\n",
       "      <th>url_pública</th>\n",
       "      <th>estágio_no_funil</th>\n",
       "      <th>total_de_conversões</th>\n",
       "      <th>lead_scoring_-_interesse</th>\n",
       "      <th>status_para_comunicação_por_email</th>\n",
       "      <th>data_da_primeira_conversão</th>\n",
       "      <th>eventos_(últimos_100)</th>\n",
       "      <th>origem_da_última_conversão</th>\n",
       "      <th>...</th>\n",
       "      <th>qual_o_curso_de_interesse?</th>\n",
       "      <th>cargo_final</th>\n",
       "      <th>area_atuacao</th>\n",
       "      <th>interesse_final</th>\n",
       "      <th>ds_email</th>\n",
       "      <th>cd_pessoa</th>\n",
       "      <th>min_dt_log</th>\n",
       "      <th>aluno</th>\n",
       "      <th>cidade</th>\n",
       "      <th>data_nascimento</th>\n",
       "    </tr>\n",
       "  </thead>\n",
       "  <tbody>\n",
       "    <tr>\n",
       "      <th>5431</th>\n",
       "      <td>carolineklock@hotmail.com</td>\n",
       "      <td>c</td>\n",
       "      <td>http://app.rdstation.com.br/leads/public/8717b...</td>\n",
       "      <td>Lead Qualificado</td>\n",
       "      <td>16</td>\n",
       "      <td>120</td>\n",
       "      <td>True</td>\n",
       "      <td>2015-09-01 19:17:37 -0300</td>\n",
       "      <td>jornada-assessment-instrumentos-para-lideranca...</td>\n",
       "      <td>Busca Orgânica | Bing</td>\n",
       "      <td>...</td>\n",
       "      <td>Educação empresarial / Remuneração</td>\n",
       "      <td>Outros Cargos</td>\n",
       "      <td>RH</td>\n",
       "      <td>formulario-de-pre-inscricao</td>\n",
       "      <td>carolineklock@hotmail.com</td>\n",
       "      <td>128609.0</td>\n",
       "      <td>2018-04-05 19:53:30</td>\n",
       "      <td>1</td>\n",
       "      <td>Joinville</td>\n",
       "      <td>1985-09-21 00:00:00</td>\n",
       "    </tr>\n",
       "    <tr>\n",
       "      <th>15881</th>\n",
       "      <td>stella.bousfield@gmail.com</td>\n",
       "      <td>c</td>\n",
       "      <td>http://app.rdstation.com.br/leads/public/1b271...</td>\n",
       "      <td>Cliente</td>\n",
       "      <td>27</td>\n",
       "      <td>170</td>\n",
       "      <td>True</td>\n",
       "      <td>2015-12-08 10:18:55 -0200</td>\n",
       "      <td>webinar-storytelling / indicado-sarau-de-negoc...</td>\n",
       "      <td>Desconhecido</td>\n",
       "      <td>...</td>\n",
       "      <td>Responsabilidade social</td>\n",
       "      <td>Outros Cargos</td>\n",
       "      <td>Marketing</td>\n",
       "      <td>webinar-storytelling</td>\n",
       "      <td>stella.bousfield@gmail.com</td>\n",
       "      <td>160000017.0</td>\n",
       "      <td>2020-02-27 17:28:20</td>\n",
       "      <td>1</td>\n",
       "      <td>Joinville</td>\n",
       "      <td>1977-06-02 00:00:00</td>\n",
       "    </tr>\n",
       "  </tbody>\n",
       "</table>\n",
       "<p>2 rows × 35 columns</p>\n",
       "</div>"
      ],
      "text/plain": [
       "                            email lead_scoring_-_perfil  \\\n",
       "5431    carolineklock@hotmail.com                     c   \n",
       "15881  stella.bousfield@gmail.com                     c   \n",
       "\n",
       "                                             url_pública  estágio_no_funil  \\\n",
       "5431   http://app.rdstation.com.br/leads/public/8717b...  Lead Qualificado   \n",
       "15881  http://app.rdstation.com.br/leads/public/1b271...           Cliente   \n",
       "\n",
       "       total_de_conversões  lead_scoring_-_interesse  \\\n",
       "5431                    16                       120   \n",
       "15881                   27                       170   \n",
       "\n",
       "       status_para_comunicação_por_email data_da_primeira_conversão  \\\n",
       "5431                                True  2015-09-01 19:17:37 -0300   \n",
       "15881                               True  2015-12-08 10:18:55 -0200   \n",
       "\n",
       "                                   eventos_(últimos_100)  \\\n",
       "5431   jornada-assessment-instrumentos-para-lideranca...   \n",
       "15881  webinar-storytelling / indicado-sarau-de-negoc...   \n",
       "\n",
       "      origem_da_última_conversão  ...          qual_o_curso_de_interesse?  \\\n",
       "5431       Busca Orgânica | Bing  ...  Educação empresarial / Remuneração   \n",
       "15881               Desconhecido  ...             Responsabilidade social   \n",
       "\n",
       "         cargo_final area_atuacao              interesse_final  \\\n",
       "5431   Outros Cargos           RH  formulario-de-pre-inscricao   \n",
       "15881  Outros Cargos    Marketing         webinar-storytelling   \n",
       "\n",
       "                         ds_email    cd_pessoa           min_dt_log  aluno  \\\n",
       "5431    carolineklock@hotmail.com     128609.0  2018-04-05 19:53:30      1   \n",
       "15881  stella.bousfield@gmail.com  160000017.0  2020-02-27 17:28:20      1   \n",
       "\n",
       "          cidade      data_nascimento  \n",
       "5431   Joinville  1985-09-21 00:00:00  \n",
       "15881  Joinville  1977-06-02 00:00:00  \n",
       "\n",
       "[2 rows x 35 columns]"
      ]
     },
     "execution_count": 322,
     "metadata": {},
     "output_type": "execute_result"
    }
   ],
   "source": [
    "merge_left[merge_left.notna().all(axis=1)]"
   ]
  },
  {
   "cell_type": "code",
   "execution_count": 323,
   "metadata": {},
   "outputs": [
    {
     "data": {
      "text/plain": [
       "Index(['email', 'lead_scoring_-_perfil', 'url_pública', 'estágio_no_funil',\n",
       "       'total_de_conversões', 'lead_scoring_-_interesse',\n",
       "       'status_para_comunicação_por_email', 'data_da_primeira_conversão',\n",
       "       'eventos_(últimos_100)', 'origem_da_última_conversão',\n",
       "       'data_da_última_conversão', 'origem_da_primeira_conversão', 'empresa',\n",
       "       'tags', 'data_da_última_oportunidade', 'estado',\n",
       "       'valor_total_da_oportunidade_no_crm_(última_atualização)',\n",
       "       'qualificação_da_oportunidade_no_crm_(última_atualização)',\n",
       "       'etapa_do_funil_de_vendas_no_crm_(última_atualização)',\n",
       "       'nome_do_responsável_pela_oportunidade_no_crm_(última_atualização)',\n",
       "       'origem_da_oportunidade_no_crm_(última_atualização)',\n",
       "       'possui_interesse_em_realizar_uma_pós-graduação_ou_mba?',\n",
       "       'desejo_receber_o_sustentare_news', 'como_você_conheceu_a_sustentare:',\n",
       "       'universidade', 'qual_o_curso_de_interesse?', 'cargo_final',\n",
       "       'area_atuacao', 'interesse_final', 'ds_email', 'cd_pessoa',\n",
       "       'min_dt_log', 'aluno', 'cidade', 'data_nascimento'],\n",
       "      dtype='object')"
      ]
     },
     "execution_count": 323,
     "metadata": {},
     "output_type": "execute_result"
    }
   ],
   "source": [
    "merge_left.columns"
   ]
  },
  {
   "cell_type": "markdown",
   "metadata": {},
   "source": [
    "### Change dtype for columns that are date"
   ]
  },
  {
   "cell_type": "code",
   "execution_count": 282,
   "metadata": {},
   "outputs": [
    {
     "name": "stderr",
     "output_type": "stream",
     "text": [
      "C:\\Users\\anafl\\AppData\\Local\\Temp\\ipykernel_45952\\2096275456.py:2: FutureWarning: In a future version of pandas, parsing datetimes with mixed time zones will raise a warning unless `utc=True`. Please specify `utc=True` to opt in to the new behaviour and silence this warning. To create a `Series` with mixed offsets and `object` dtype, please use `apply` and `datetime.datetime.strptime`\n",
      "  merge_left['data_da_primeira_conversão'] = pd.to_datetime(merge_left['data_da_primeira_conversão'])\n"
     ]
    },
    {
     "ename": "AttributeError",
     "evalue": "Can only use .dt accessor with datetimelike values",
     "output_type": "error",
     "traceback": [
      "\u001b[1;31m---------------------------------------------------------------------------\u001b[0m",
      "\u001b[1;31mAttributeError\u001b[0m                            Traceback (most recent call last)",
      "\u001b[1;32mc:\\Users\\anafl\\ironhack\\sustentare_analytics\\eda_etl\\transforming.ipynb Cell 48\u001b[0m line \u001b[0;36m4\n\u001b[0;32m      <a href='vscode-notebook-cell:/c%3A/Users/anafl/ironhack/sustentare_analytics/eda_etl/transforming.ipynb#Y122sZmlsZQ%3D%3D?line=1'>2</a>\u001b[0m merge_left[\u001b[39m'\u001b[39m\u001b[39mdata_da_primeira_conversão\u001b[39m\u001b[39m'\u001b[39m] \u001b[39m=\u001b[39m pd\u001b[39m.\u001b[39mto_datetime(merge_left[\u001b[39m'\u001b[39m\u001b[39mdata_da_primeira_conversão\u001b[39m\u001b[39m'\u001b[39m])\n\u001b[0;32m      <a href='vscode-notebook-cell:/c%3A/Users/anafl/ironhack/sustentare_analytics/eda_etl/transforming.ipynb#Y122sZmlsZQ%3D%3D?line=2'>3</a>\u001b[0m \u001b[39m# Now format the datetime column to keep only the date part\u001b[39;00m\n\u001b[1;32m----> <a href='vscode-notebook-cell:/c%3A/Users/anafl/ironhack/sustentare_analytics/eda_etl/transforming.ipynb#Y122sZmlsZQ%3D%3D?line=3'>4</a>\u001b[0m merge_left[\u001b[39m'\u001b[39m\u001b[39mdata_da_primeira_conversão\u001b[39m\u001b[39m'\u001b[39m] \u001b[39m=\u001b[39m merge_left[\u001b[39m'\u001b[39;49m\u001b[39mdata_da_primeira_conversão\u001b[39;49m\u001b[39m'\u001b[39;49m]\u001b[39m.\u001b[39;49mdt\u001b[39m.\u001b[39mstrftime(\u001b[39m'\u001b[39m\u001b[39m%\u001b[39m\u001b[39mY-\u001b[39m\u001b[39m%\u001b[39m\u001b[39mm-\u001b[39m\u001b[39m%d\u001b[39;00m\u001b[39m'\u001b[39m)\n\u001b[0;32m      <a href='vscode-notebook-cell:/c%3A/Users/anafl/ironhack/sustentare_analytics/eda_etl/transforming.ipynb#Y122sZmlsZQ%3D%3D?line=4'>5</a>\u001b[0m merge_left\n",
      "File \u001b[1;32mc:\\Users\\anafl\\miniconda3\\envs\\ironhack\\Lib\\site-packages\\pandas\\core\\generic.py:6204\u001b[0m, in \u001b[0;36mNDFrame.__getattr__\u001b[1;34m(self, name)\u001b[0m\n\u001b[0;32m   6197\u001b[0m \u001b[39mif\u001b[39;00m (\n\u001b[0;32m   6198\u001b[0m     name \u001b[39mnot\u001b[39;00m \u001b[39min\u001b[39;00m \u001b[39mself\u001b[39m\u001b[39m.\u001b[39m_internal_names_set\n\u001b[0;32m   6199\u001b[0m     \u001b[39mand\u001b[39;00m name \u001b[39mnot\u001b[39;00m \u001b[39min\u001b[39;00m \u001b[39mself\u001b[39m\u001b[39m.\u001b[39m_metadata\n\u001b[0;32m   6200\u001b[0m     \u001b[39mand\u001b[39;00m name \u001b[39mnot\u001b[39;00m \u001b[39min\u001b[39;00m \u001b[39mself\u001b[39m\u001b[39m.\u001b[39m_accessors\n\u001b[0;32m   6201\u001b[0m     \u001b[39mand\u001b[39;00m \u001b[39mself\u001b[39m\u001b[39m.\u001b[39m_info_axis\u001b[39m.\u001b[39m_can_hold_identifiers_and_holds_name(name)\n\u001b[0;32m   6202\u001b[0m ):\n\u001b[0;32m   6203\u001b[0m     \u001b[39mreturn\u001b[39;00m \u001b[39mself\u001b[39m[name]\n\u001b[1;32m-> 6204\u001b[0m \u001b[39mreturn\u001b[39;00m \u001b[39mobject\u001b[39;49m\u001b[39m.\u001b[39;49m\u001b[39m__getattribute__\u001b[39;49m(\u001b[39mself\u001b[39;49m, name)\n",
      "File \u001b[1;32mc:\\Users\\anafl\\miniconda3\\envs\\ironhack\\Lib\\site-packages\\pandas\\core\\accessor.py:224\u001b[0m, in \u001b[0;36mCachedAccessor.__get__\u001b[1;34m(self, obj, cls)\u001b[0m\n\u001b[0;32m    221\u001b[0m \u001b[39mif\u001b[39;00m obj \u001b[39mis\u001b[39;00m \u001b[39mNone\u001b[39;00m:\n\u001b[0;32m    222\u001b[0m     \u001b[39m# we're accessing the attribute of the class, i.e., Dataset.geo\u001b[39;00m\n\u001b[0;32m    223\u001b[0m     \u001b[39mreturn\u001b[39;00m \u001b[39mself\u001b[39m\u001b[39m.\u001b[39m_accessor\n\u001b[1;32m--> 224\u001b[0m accessor_obj \u001b[39m=\u001b[39m \u001b[39mself\u001b[39;49m\u001b[39m.\u001b[39;49m_accessor(obj)\n\u001b[0;32m    225\u001b[0m \u001b[39m# Replace the property with the accessor object. Inspired by:\u001b[39;00m\n\u001b[0;32m    226\u001b[0m \u001b[39m# https://www.pydanny.com/cached-property.html\u001b[39;00m\n\u001b[0;32m    227\u001b[0m \u001b[39m# We need to use object.__setattr__ because we overwrite __setattr__ on\u001b[39;00m\n\u001b[0;32m    228\u001b[0m \u001b[39m# NDFrame\u001b[39;00m\n\u001b[0;32m    229\u001b[0m \u001b[39mobject\u001b[39m\u001b[39m.\u001b[39m\u001b[39m__setattr__\u001b[39m(obj, \u001b[39mself\u001b[39m\u001b[39m.\u001b[39m_name, accessor_obj)\n",
      "File \u001b[1;32mc:\\Users\\anafl\\miniconda3\\envs\\ironhack\\Lib\\site-packages\\pandas\\core\\indexes\\accessors.py:608\u001b[0m, in \u001b[0;36mCombinedDatetimelikeProperties.__new__\u001b[1;34m(cls, data)\u001b[0m\n\u001b[0;32m    605\u001b[0m \u001b[39melif\u001b[39;00m \u001b[39misinstance\u001b[39m(data\u001b[39m.\u001b[39mdtype, PeriodDtype):\n\u001b[0;32m    606\u001b[0m     \u001b[39mreturn\u001b[39;00m PeriodProperties(data, orig)\n\u001b[1;32m--> 608\u001b[0m \u001b[39mraise\u001b[39;00m \u001b[39mAttributeError\u001b[39;00m(\u001b[39m\"\u001b[39m\u001b[39mCan only use .dt accessor with datetimelike values\u001b[39m\u001b[39m\"\u001b[39m)\n",
      "\u001b[1;31mAttributeError\u001b[0m: Can only use .dt accessor with datetimelike values"
     ]
    }
   ],
   "source": [
    "# Assuming 'df' is your DataFrame and 'data_da_primeira_conversao' is your datetime column\n",
    "merge_left['data_da_primeira_conversão'] = pd.to_datetime(merge_left['data_da_primeira_conversão'])\n",
    "# Now format the datetime column to keep only the date part\n",
    "merge_left['data_da_primeira_conversão'] = merge_left['data_da_primeira_conversão'].dt.strftime('%Y-%m-%d')\n",
    "merge_left"
   ]
  },
  {
   "cell_type": "markdown",
   "metadata": {},
   "source": [
    "Just changing - Work but can't use after to do one - other\n"
   ]
  },
  {
   "cell_type": "markdown",
   "metadata": {},
   "source": [
    "# Final of these"
   ]
  },
  {
   "cell_type": "code",
   "execution_count": 328,
   "metadata": {},
   "outputs": [
    {
     "data": {
      "text/plain": [
       "email                                                                        object\n",
       "lead_scoring_-_perfil                                                        object\n",
       "url_pública                                                                  object\n",
       "estágio_no_funil                                                             object\n",
       "total_de_conversões                                                           int64\n",
       "lead_scoring_-_interesse                                                      int64\n",
       "status_para_comunicação_por_email                                              bool\n",
       "data_da_primeira_conversão                                           datetime64[ns]\n",
       "eventos_(últimos_100)                                                        object\n",
       "origem_da_última_conversão                                                   object\n",
       "data_da_última_conversão                                             datetime64[ns]\n",
       "origem_da_primeira_conversão                                                 object\n",
       "empresa                                                                      object\n",
       "tags                                                                         object\n",
       "data_da_última_oportunidade                                          datetime64[ns]\n",
       "estado                                                                       object\n",
       "valor_total_da_oportunidade_no_crm_(última_atualização)                     float64\n",
       "qualificação_da_oportunidade_no_crm_(última_atualização)                    float64\n",
       "etapa_do_funil_de_vendas_no_crm_(última_atualização)                         object\n",
       "nome_do_responsável_pela_oportunidade_no_crm_(última_atualização)            object\n",
       "origem_da_oportunidade_no_crm_(última_atualização)                           object\n",
       "possui_interesse_em_realizar_uma_pós-graduação_ou_mba?                       object\n",
       "desejo_receber_o_sustentare_news                                            float64\n",
       "como_você_conheceu_a_sustentare:                                             object\n",
       "universidade                                                                 object\n",
       "qual_o_curso_de_interesse?                                                   object\n",
       "cargo_final                                                                  object\n",
       "area_atuacao                                                                 object\n",
       "interesse_final                                                              object\n",
       "ds_email                                                                     object\n",
       "cd_pessoa                                                                   float64\n",
       "min_dt_log                                                           datetime64[ns]\n",
       "aluno                                                                         int32\n",
       "cidade                                                                       object\n",
       "data_nascimento                                                      datetime64[ns]\n",
       "dtype: object"
      ]
     },
     "execution_count": 328,
     "metadata": {},
     "output_type": "execute_result"
    }
   ],
   "source": [
    "def convert_columns_to_datetime(df, date_columns):\n",
    "    \"\"\"\n",
    "    Convert specified columns in a DataFrame to datetime format.\n",
    "\n",
    "    Parameters:\n",
    "    - df: DataFrame\n",
    "        The input DataFrame.\n",
    "    - date_columns: list\n",
    "        List of column names to convert to datetime.\n",
    "\n",
    "    Returns:\n",
    "    - DataFrame\n",
    "        The DataFrame with specified columns converted to datetime.\n",
    "    \"\"\"\n",
    "    df[date_columns] = df[date_columns].apply(lambda col: pd.to_datetime(col, errors='coerce'))\n",
    "    for i in date_columns:\n",
    "        df[i] = pd.to_datetime(df[i], utc=True).dt.tz_convert(None)\n",
    "    return df\n",
    "\n",
    "# Example usage:\n",
    "date_columns = ['data_da_primeira_conversão', 'data_da_última_conversão', 'data_da_última_oportunidade', 'data_nascimento', 'min_dt_log']\n",
    "merge_left = convert_columns_to_datetime(merge_left, date_columns)\n",
    "merge_left.dtypes\n"
   ]
  },
  {
   "cell_type": "markdown",
   "metadata": {},
   "source": [
    "Doing separated all - "
   ]
  },
  {
   "cell_type": "code",
   "execution_count": 329,
   "metadata": {},
   "outputs": [
    {
     "data": {
      "text/html": [
       "<div>\n",
       "<style scoped>\n",
       "    .dataframe tbody tr th:only-of-type {\n",
       "        vertical-align: middle;\n",
       "    }\n",
       "\n",
       "    .dataframe tbody tr th {\n",
       "        vertical-align: top;\n",
       "    }\n",
       "\n",
       "    .dataframe thead th {\n",
       "        text-align: right;\n",
       "    }\n",
       "</style>\n",
       "<table border=\"1\" class=\"dataframe\">\n",
       "  <thead>\n",
       "    <tr style=\"text-align: right;\">\n",
       "      <th></th>\n",
       "      <th>email</th>\n",
       "      <th>lead_scoring_-_perfil</th>\n",
       "      <th>url_pública</th>\n",
       "      <th>estágio_no_funil</th>\n",
       "      <th>total_de_conversões</th>\n",
       "      <th>lead_scoring_-_interesse</th>\n",
       "      <th>status_para_comunicação_por_email</th>\n",
       "      <th>data_da_primeira_conversão</th>\n",
       "      <th>eventos_(últimos_100)</th>\n",
       "      <th>origem_da_última_conversão</th>\n",
       "      <th>...</th>\n",
       "      <th>cargo_final</th>\n",
       "      <th>area_atuacao</th>\n",
       "      <th>interesse_final</th>\n",
       "      <th>ds_email</th>\n",
       "      <th>cd_pessoa</th>\n",
       "      <th>min_dt_log</th>\n",
       "      <th>aluno</th>\n",
       "      <th>cidade</th>\n",
       "      <th>data_nascimento</th>\n",
       "      <th>months_since_conversion</th>\n",
       "    </tr>\n",
       "  </thead>\n",
       "  <tbody>\n",
       "    <tr>\n",
       "      <th>28744</th>\n",
       "      <td>geovane@tupy.com.br</td>\n",
       "      <td>d</td>\n",
       "      <td>http://app.rdstation.com.br/leads/public/d23c3...</td>\n",
       "      <td>Lead</td>\n",
       "      <td>1</td>\n",
       "      <td>0</td>\n",
       "      <td>True</td>\n",
       "      <td>2017-05-08 22:55:46</td>\n",
       "      <td>Interessado: Gestão Tributária e Compliance</td>\n",
       "      <td>Referência | sustentare.net/site/curso/planeja...</td>\n",
       "      <td>...</td>\n",
       "      <td>NaN</td>\n",
       "      <td>NaN</td>\n",
       "      <td>Interessado: Gestão Tributária e Compliance</td>\n",
       "      <td>NaN</td>\n",
       "      <td>NaN</td>\n",
       "      <td>NaT</td>\n",
       "      <td>0</td>\n",
       "      <td>NaN</td>\n",
       "      <td>NaT</td>\n",
       "      <td>79.9</td>\n",
       "    </tr>\n",
       "  </tbody>\n",
       "</table>\n",
       "<p>1 rows × 36 columns</p>\n",
       "</div>"
      ],
      "text/plain": [
       "                     email lead_scoring_-_perfil  \\\n",
       "28744  geovane@tupy.com.br                     d   \n",
       "\n",
       "                                             url_pública estágio_no_funil  \\\n",
       "28744  http://app.rdstation.com.br/leads/public/d23c3...             Lead   \n",
       "\n",
       "       total_de_conversões  lead_scoring_-_interesse  \\\n",
       "28744                    1                         0   \n",
       "\n",
       "       status_para_comunicação_por_email data_da_primeira_conversão  \\\n",
       "28744                               True        2017-05-08 22:55:46   \n",
       "\n",
       "                             eventos_(últimos_100)  \\\n",
       "28744  Interessado: Gestão Tributária e Compliance   \n",
       "\n",
       "                              origem_da_última_conversão  ... cargo_final  \\\n",
       "28744  Referência | sustentare.net/site/curso/planeja...  ...         NaN   \n",
       "\n",
       "      area_atuacao                              interesse_final ds_email  \\\n",
       "28744          NaN  Interessado: Gestão Tributária e Compliance      NaN   \n",
       "\n",
       "      cd_pessoa min_dt_log  aluno  cidade data_nascimento  \\\n",
       "28744       NaN        NaT      0     NaN             NaT   \n",
       "\n",
       "      months_since_conversion  \n",
       "28744                    79.9  \n",
       "\n",
       "[1 rows x 36 columns]"
      ]
     },
     "execution_count": 329,
     "metadata": {},
     "output_type": "execute_result"
    }
   ],
   "source": [
    "def calculate_months_since_conversion(df):\n",
    "    \"\"\"\n",
    "    Calculates the number of months since the first conversion based on the 'aluno' column.\n",
    "\n",
    "    Parameters:\n",
    "    - The input DataFrame containing the necessary columns.\n",
    "\n",
    "    Returns:\n",
    "    - A new column representing the number of months since the first conversion.\n",
    "    \"\"\"\n",
    "\n",
    "    # If 'aluno' is 1, calculate the difference between 'min_dt_log' and 'data_da_primeira_conversão'\n",
    "    # If not calculate the difference between today and 'data_da_primeira_conversão'\n",
    "    months_since_conversion = np.where(\n",
    "        df['aluno'] == 1,\n",
    "        (df['min_dt_log'] - df['data_da_primeira_conversão']).dt.days / 30,\n",
    "        (datetime.now() - df['data_da_primeira_conversão']).dt.days / 30\n",
    "    )\n",
    "\n",
    "    return months_since_conversion\n",
    "\n",
    "merge_left['months_since_conversion'] = calculate_months_since_conversion(merge_left)\n",
    "merge_left.sample()"
   ]
  },
  {
   "cell_type": "code",
   "execution_count": 185,
   "metadata": {},
   "outputs": [
    {
     "data": {
      "text/plain": [
       "aluno\n",
       "0    37278\n",
       "1     3297\n",
       "Name: count, dtype: int64"
      ]
     },
     "execution_count": 185,
     "metadata": {},
     "output_type": "execute_result"
    }
   ],
   "source": [
    "merge_left['aluno'].value_counts()"
   ]
  },
  {
   "cell_type": "code",
   "execution_count": 186,
   "metadata": {},
   "outputs": [
    {
     "data": {
      "text/plain": [
       "0"
      ]
     },
     "execution_count": 186,
     "metadata": {},
     "output_type": "execute_result"
    }
   ],
   "source": [
    "# Count the number of null values in 'min_dt_log' when 'aluno' is equal to 1\n",
    "merge_left.loc[merge_left['aluno'] == 1, 'min_dt_log'].isnull().sum()"
   ]
  },
  {
   "cell_type": "code",
   "execution_count": 187,
   "metadata": {},
   "outputs": [
    {
     "data": {
      "text/plain": [
       "0"
      ]
     },
     "execution_count": 187,
     "metadata": {},
     "output_type": "execute_result"
    }
   ],
   "source": [
    "def drop_rows_when_student_and_min_dt_log_is_null(df):\n",
    "    \"\"\"\n",
    "    Drop rows from a DataFrame based on specified conditions.\n",
    "\n",
    "    Parameters:\n",
    "    - df: DataFrame\n",
    "        The input DataFrame.\n",
    "\n",
    "    Returns:\n",
    "    - DataFrame\n",
    "        The DataFrame with rows dropped based on the specified conditions.\n",
    "    \"\"\"\n",
    "    # Drop rows based on conditions\n",
    "    df = df.drop(df[(df['aluno'] == 1) & df['min_dt_log'].isnull()].index)\n",
    "\n",
    "    return df\n",
    "\n",
    "merge_left = drop_rows_when_student_and_min_dt_log_is_null(merge_left)\n",
    "\n",
    "# Verify the changes\n",
    "merge_left.loc[merge_left['aluno'] == 1, 'min_dt_log'].isnull().sum()\n"
   ]
  },
  {
   "cell_type": "code",
   "execution_count": 188,
   "metadata": {},
   "outputs": [
    {
     "data": {
      "text/plain": [
       "aluno\n",
       "0    37278\n",
       "1     3297\n",
       "Name: count, dtype: int64"
      ]
     },
     "execution_count": 188,
     "metadata": {},
     "output_type": "execute_result"
    }
   ],
   "source": [
    "merge_left['aluno'].value_counts()"
   ]
  }
 ],
 "metadata": {
  "kernelspec": {
   "display_name": "ironhack",
   "language": "python",
   "name": "python3"
  },
  "language_info": {
   "codemirror_mode": {
    "name": "ipython",
    "version": 3
   },
   "file_extension": ".py",
   "mimetype": "text/x-python",
   "name": "python",
   "nbconvert_exporter": "python",
   "pygments_lexer": "ipython3",
   "version": "3.12.0"
  }
 },
 "nbformat": 4,
 "nbformat_minor": 2
}
