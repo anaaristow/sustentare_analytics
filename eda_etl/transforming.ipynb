{
 "cells": [
  {
   "cell_type": "code",
   "execution_count": 152,
   "metadata": {},
   "outputs": [],
   "source": [
    "import numpy as np\n",
    "import pandas as pd\n",
    "from datetime import datetime"
   ]
  },
  {
   "cell_type": "code",
   "execution_count": 120,
   "metadata": {},
   "outputs": [],
   "source": [
    "rd_station_profile = pd.read_csv(\"../data/rd_station_profile\")\n",
    "info_student_unimestre = pd.read_csv(\"../data/info_student_unimestre.csv\")"
   ]
  },
  {
   "cell_type": "markdown",
   "metadata": {},
   "source": [
    "### Checking the data frames\n"
   ]
  },
  {
   "cell_type": "code",
   "execution_count": 121,
   "metadata": {},
   "outputs": [
    {
     "data": {
      "text/plain": [
       "(41340, 32)"
      ]
     },
     "execution_count": 121,
     "metadata": {},
     "output_type": "execute_result"
    }
   ],
   "source": [
    "rd_station_profile.shape"
   ]
  },
  {
   "cell_type": "code",
   "execution_count": 122,
   "metadata": {},
   "outputs": [
    {
     "data": {
      "text/plain": [
       "(12056, 5)"
      ]
     },
     "execution_count": 122,
     "metadata": {},
     "output_type": "execute_result"
    }
   ],
   "source": [
    "info_student_unimestre.shape"
   ]
  },
  {
   "cell_type": "code",
   "execution_count": 123,
   "metadata": {},
   "outputs": [
    {
     "data": {
      "text/html": [
       "<div>\n",
       "<style scoped>\n",
       "    .dataframe tbody tr th:only-of-type {\n",
       "        vertical-align: middle;\n",
       "    }\n",
       "\n",
       "    .dataframe tbody tr th {\n",
       "        vertical-align: top;\n",
       "    }\n",
       "\n",
       "    .dataframe thead th {\n",
       "        text-align: right;\n",
       "    }\n",
       "</style>\n",
       "<table border=\"1\" class=\"dataframe\">\n",
       "  <thead>\n",
       "    <tr style=\"text-align: right;\">\n",
       "      <th></th>\n",
       "      <th>cd_pessoa</th>\n",
       "      <th>ds_email</th>\n",
       "      <th>ds_cidade</th>\n",
       "      <th>dt_nascimento</th>\n",
       "      <th>min_dt_log</th>\n",
       "    </tr>\n",
       "  </thead>\n",
       "  <tbody>\n",
       "    <tr>\n",
       "      <th>10486</th>\n",
       "      <td>160004572</td>\n",
       "      <td>josiasbio@bol.com.br</td>\n",
       "      <td>NaN</td>\n",
       "      <td>1979-12-23 00:00:00</td>\n",
       "      <td>NaN</td>\n",
       "    </tr>\n",
       "  </tbody>\n",
       "</table>\n",
       "</div>"
      ],
      "text/plain": [
       "       cd_pessoa              ds_email ds_cidade        dt_nascimento  \\\n",
       "10486  160004572  josiasbio@bol.com.br       NaN  1979-12-23 00:00:00   \n",
       "\n",
       "      min_dt_log  \n",
       "10486        NaN  "
      ]
     },
     "execution_count": 123,
     "metadata": {},
     "output_type": "execute_result"
    }
   ],
   "source": [
    "info_student_unimestre.sample()"
   ]
  },
  {
   "cell_type": "code",
   "execution_count": 170,
   "metadata": {},
   "outputs": [
    {
     "data": {
      "text/plain": [
       "cd_pessoa           0\n",
       "ds_email            0\n",
       "ds_cidade        2248\n",
       "dt_nascimento    1156\n",
       "min_dt_log       8144\n",
       "dtype: int64"
      ]
     },
     "execution_count": 170,
     "metadata": {},
     "output_type": "execute_result"
    }
   ],
   "source": [
    "info_student_unimestre.isna().sum()"
   ]
  },
  {
   "cell_type": "markdown",
   "metadata": {},
   "source": [
    "### Checking how many rows got in a inner join (getting just the intersection)"
   ]
  },
  {
   "cell_type": "code",
   "execution_count": 124,
   "metadata": {},
   "outputs": [],
   "source": [
    "merge_inner = rd_station_profile.merge(info_student_unimestre, left_on='email', right_on='ds_email', how='inner')"
   ]
  },
  {
   "cell_type": "code",
   "execution_count": 125,
   "metadata": {},
   "outputs": [
    {
     "data": {
      "text/plain": [
       "(4150, 37)"
      ]
     },
     "execution_count": 125,
     "metadata": {},
     "output_type": "execute_result"
    }
   ],
   "source": [
    "merge_inner.shape"
   ]
  },
  {
   "cell_type": "markdown",
   "metadata": {},
   "source": [
    "### Left Join"
   ]
  },
  {
   "cell_type": "code",
   "execution_count": 126,
   "metadata": {},
   "outputs": [],
   "source": [
    "merge_left = rd_station_profile.merge(info_student_unimestre, left_on='email', right_on='ds_email', how='left')"
   ]
  },
  {
   "cell_type": "code",
   "execution_count": 127,
   "metadata": {},
   "outputs": [
    {
     "data": {
      "text/plain": [
       "(41428, 37)"
      ]
     },
     "execution_count": 127,
     "metadata": {},
     "output_type": "execute_result"
    }
   ],
   "source": [
    "merge_left.shape # 41428 got more rows than the origial"
   ]
  },
  {
   "cell_type": "markdown",
   "metadata": {},
   "source": [
    "Got more rows than the left data frame, so will check for duplicates values "
   ]
  },
  {
   "cell_type": "code",
   "execution_count": 128,
   "metadata": {},
   "outputs": [
    {
     "data": {
      "text/plain": [
       "email\n",
       "0137.marcogiovanella@cnec.br     1\n",
       "0337.mauro@bradesco.com.br       1\n",
       "0337.william@bradesco.com.br     1\n",
       "0358.camila@bradesco.com.br      1\n",
       "0358.gerencia@bradesco.com.br    1\n",
       "                                ..\n",
       "zullo_gui@hotmail.com            1\n",
       "zulmafernandesstolf@gmail.com    1\n",
       "zulmalira.contabil@gmail.com     1\n",
       "zwessel@hotmail.com              1\n",
       "zyon.beto@gmail.com              1\n",
       "Name: email, Length: 41340, dtype: int64"
      ]
     },
     "execution_count": 128,
     "metadata": {},
     "output_type": "execute_result"
    }
   ],
   "source": [
    "rd_station_profile.groupby(\"email\")[\"email\"].count()"
   ]
  },
  {
   "cell_type": "code",
   "execution_count": 131,
   "metadata": {},
   "outputs": [
    {
     "data": {
      "text/plain": [
       "ds_email\n",
       " leory@r19.com.br                     1\n",
       " renatomontag@terra.com.br            1\n",
       "00000000/00@sememail.com             27\n",
       "00000000000@sememail.com            210\n",
       "00000000001@sememail.com              1\n",
       "                                   ... \n",
       "znf.nem@gmail.com                     1\n",
       "zpierdona@prsp.mpf.gov.br             1\n",
       "zuleikaromao@gomesdacosta.com.br      1\n",
       "zulmarpr@gmail.com                    1\n",
       "zvirtes@joinville.udesc.br            1\n",
       "Name: ds_email, Length: 10520, dtype: int64"
      ]
     },
     "execution_count": 131,
     "metadata": {},
     "output_type": "execute_result"
    }
   ],
   "source": [
    "info_student_unimestre.groupby(\"ds_email\")[\"ds_email\"].count()"
   ]
  },
  {
   "cell_type": "code",
   "execution_count": 130,
   "metadata": {},
   "outputs": [
    {
     "data": {
      "text/plain": [
       "cd_pessoa\n",
       "1001         1\n",
       "1002         1\n",
       "100003       1\n",
       "100011       1\n",
       "100046       1\n",
       "            ..\n",
       "170000461    1\n",
       "170000462    1\n",
       "170000463    1\n",
       "170000464    1\n",
       "170000465    1\n",
       "Name: cd_pessoa, Length: 12056, dtype: int64"
      ]
     },
     "execution_count": 130,
     "metadata": {},
     "output_type": "execute_result"
    }
   ],
   "source": [
    "info_student_unimestre.groupby(\"cd_pessoa\")[\"cd_pessoa\"].count()"
   ]
  },
  {
   "cell_type": "markdown",
   "metadata": {},
   "source": [
    "Creating a df to be only one row per ds_email"
   ]
  },
  {
   "cell_type": "code",
   "execution_count": 132,
   "metadata": {},
   "outputs": [],
   "source": [
    "info_student_unimestre_unique = info_student_unimestre.groupby('ds_email').first().reset_index()"
   ]
  },
  {
   "cell_type": "code",
   "execution_count": 133,
   "metadata": {},
   "outputs": [
    {
     "data": {
      "text/plain": [
       "(10520, 5)"
      ]
     },
     "execution_count": 133,
     "metadata": {},
     "output_type": "execute_result"
    }
   ],
   "source": [
    "info_student_unimestre_unique.shape"
   ]
  },
  {
   "cell_type": "markdown",
   "metadata": {},
   "source": [
    "### Doing the join again with the new df"
   ]
  },
  {
   "cell_type": "code",
   "execution_count": 134,
   "metadata": {},
   "outputs": [],
   "source": [
    "merge_left = rd_station_profile.merge(info_student_unimestre_unique, left_on='email', right_on='ds_email', how='left')"
   ]
  },
  {
   "cell_type": "code",
   "execution_count": 135,
   "metadata": {},
   "outputs": [
    {
     "data": {
      "text/plain": [
       "(41340, 37)"
      ]
     },
     "execution_count": 135,
     "metadata": {},
     "output_type": "execute_result"
    }
   ],
   "source": [
    "merge_left.shape"
   ]
  },
  {
   "cell_type": "code",
   "execution_count": 136,
   "metadata": {},
   "outputs": [],
   "source": [
    "merge_left = merge_left.drop(columns='Unnamed: 0')"
   ]
  },
  {
   "cell_type": "code",
   "execution_count": 137,
   "metadata": {},
   "outputs": [
    {
     "data": {
      "text/plain": [
       "Index(['email', 'lead_scoring_-_perfil', 'url_pública', 'estágio_no_funil',\n",
       "       'total_de_conversões', 'lead_scoring_-_interesse',\n",
       "       'status_para_comunicação_por_email', 'data_da_primeira_conversão',\n",
       "       'eventos_(últimos_100)', 'origem_da_última_conversão',\n",
       "       'data_da_última_conversão', 'origem_da_primeira_conversão', 'empresa',\n",
       "       'tags', 'data_da_última_oportunidade', 'estado',\n",
       "       'valor_total_da_oportunidade_no_crm_(última_atualização)',\n",
       "       'qualificação_da_oportunidade_no_crm_(última_atualização)',\n",
       "       'etapa_do_funil_de_vendas_no_crm_(última_atualização)',\n",
       "       'nome_do_responsável_pela_oportunidade_no_crm_(última_atualização)',\n",
       "       'origem_da_oportunidade_no_crm_(última_atualização)',\n",
       "       'possui_interesse_em_realizar_uma_pós-graduação_ou_mba?',\n",
       "       'data_de_nascimento', 'desejo_receber_o_sustentare_news',\n",
       "       'como_você_conheceu_a_sustentare:', 'universidade',\n",
       "       'qual_o_curso_de_interesse?', 'cidade_final', 'cargo_final',\n",
       "       'interesse_final', 'area_atuacao', 'ds_email', 'cd_pessoa', 'ds_cidade',\n",
       "       'dt_nascimento', 'min_dt_log'],\n",
       "      dtype='object')"
      ]
     },
     "execution_count": 137,
     "metadata": {},
     "output_type": "execute_result"
    }
   ],
   "source": [
    "merge_left.columns"
   ]
  },
  {
   "cell_type": "markdown",
   "metadata": {},
   "source": [
    "Creating a new column saying it's a student when a cd_pessoa is found"
   ]
  },
  {
   "cell_type": "code",
   "execution_count": 138,
   "metadata": {},
   "outputs": [
    {
     "data": {
      "text/plain": [
       "aluno\n",
       "0    37278\n",
       "1     4062\n",
       "Name: count, dtype: int64"
      ]
     },
     "execution_count": 138,
     "metadata": {},
     "output_type": "execute_result"
    }
   ],
   "source": [
    "merge_left['aluno'] = (merge_left['cd_pessoa'].notnull()).astype(int)\n",
    "merge_left['aluno'].value_counts()\n"
   ]
  },
  {
   "cell_type": "markdown",
   "metadata": {},
   "source": [
    "## Got different columns with representing the same thing, compiling all in one new columns"
   ]
  },
  {
   "cell_type": "markdown",
   "metadata": {},
   "source": [
    "Represents city of the person: 'ds_cidade', 'Cidade Final'"
   ]
  },
  {
   "cell_type": "code",
   "execution_count": 139,
   "metadata": {},
   "outputs": [],
   "source": [
    "merge_left.loc[:, 'cidade'] = (\n",
    "    merge_left['ds_cidade']\n",
    "    .fillna(merge_left['cidade_final'])\n",
    ")"
   ]
  },
  {
   "cell_type": "markdown",
   "metadata": {},
   "source": [
    "Represents city of the person: 'ds_cidade', 'Cidade Final'"
   ]
  },
  {
   "cell_type": "code",
   "execution_count": 140,
   "metadata": {},
   "outputs": [],
   "source": [
    "merge_left.loc[:, 'data_nascimento'] = (\n",
    "    merge_left['dt_nascimento']\n",
    "    .fillna(merge_left['data_de_nascimento'])\n",
    ")"
   ]
  },
  {
   "cell_type": "code",
   "execution_count": 141,
   "metadata": {},
   "outputs": [
    {
     "data": {
      "text/plain": [
       "email                                                                    0\n",
       "lead_scoring_-_perfil                                                    0\n",
       "url_pública                                                              0\n",
       "estágio_no_funil                                                         0\n",
       "total_de_conversões                                                      0\n",
       "lead_scoring_-_interesse                                                 0\n",
       "status_para_comunicação_por_email                                        0\n",
       "data_da_primeira_conversão                                               0\n",
       "eventos_(últimos_100)                                                    0\n",
       "origem_da_última_conversão                                               0\n",
       "data_da_última_conversão                                                 0\n",
       "origem_da_primeira_conversão                                             0\n",
       "empresa                                                              23786\n",
       "tags                                                                 31025\n",
       "data_da_última_oportunidade                                          33876\n",
       "estado                                                               34360\n",
       "valor_total_da_oportunidade_no_crm_(última_atualização)              34957\n",
       "qualificação_da_oportunidade_no_crm_(última_atualização)             34957\n",
       "etapa_do_funil_de_vendas_no_crm_(última_atualização)                 34957\n",
       "nome_do_responsável_pela_oportunidade_no_crm_(última_atualização)    34957\n",
       "origem_da_oportunidade_no_crm_(última_atualização)                   35142\n",
       "possui_interesse_em_realizar_uma_pós-graduação_ou_mba?               36763\n",
       "data_de_nascimento                                                   38346\n",
       "desejo_receber_o_sustentare_news                                     39276\n",
       "como_você_conheceu_a_sustentare:                                     39386\n",
       "universidade                                                         39439\n",
       "qual_o_curso_de_interesse?                                           40882\n",
       "cidade_final                                                         35856\n",
       "cargo_final                                                          21574\n",
       "interesse_final                                                      21841\n",
       "area_atuacao                                                         35418\n",
       "ds_email                                                             37278\n",
       "cd_pessoa                                                            37278\n",
       "ds_cidade                                                            37757\n",
       "dt_nascimento                                                        37328\n",
       "min_dt_log                                                           39280\n",
       "aluno                                                                    0\n",
       "cidade                                                               33986\n",
       "data_nascimento                                                      36117\n",
       "dtype: int64"
      ]
     },
     "execution_count": 141,
     "metadata": {},
     "output_type": "execute_result"
    }
   ],
   "source": [
    "merge_left.isna().sum()"
   ]
  },
  {
   "cell_type": "markdown",
   "metadata": {},
   "source": [
    "With this I was able to reduce \n",
    "- *Cidade* had 35856 null values now 33986\n",
    "- *Data Nascimento* had 38346 null values now 36117"
   ]
  },
  {
   "cell_type": "markdown",
   "metadata": {},
   "source": [
    "Dropping columns with replicate values"
   ]
  },
  {
   "cell_type": "code",
   "execution_count": 142,
   "metadata": {},
   "outputs": [],
   "source": [
    "merge_left = merge_left.drop(columns=['ds_cidade', 'cidade_final', 'dt_nascimento', 'data_de_nascimento'])"
   ]
  },
  {
   "cell_type": "markdown",
   "metadata": {},
   "source": [
    "All not null"
   ]
  },
  {
   "cell_type": "code",
   "execution_count": 143,
   "metadata": {},
   "outputs": [
    {
     "data": {
      "text/html": [
       "<div>\n",
       "<style scoped>\n",
       "    .dataframe tbody tr th:only-of-type {\n",
       "        vertical-align: middle;\n",
       "    }\n",
       "\n",
       "    .dataframe tbody tr th {\n",
       "        vertical-align: top;\n",
       "    }\n",
       "\n",
       "    .dataframe thead th {\n",
       "        text-align: right;\n",
       "    }\n",
       "</style>\n",
       "<table border=\"1\" class=\"dataframe\">\n",
       "  <thead>\n",
       "    <tr style=\"text-align: right;\">\n",
       "      <th></th>\n",
       "      <th>email</th>\n",
       "      <th>lead_scoring_-_perfil</th>\n",
       "      <th>url_pública</th>\n",
       "      <th>estágio_no_funil</th>\n",
       "      <th>total_de_conversões</th>\n",
       "      <th>lead_scoring_-_interesse</th>\n",
       "      <th>status_para_comunicação_por_email</th>\n",
       "      <th>data_da_primeira_conversão</th>\n",
       "      <th>eventos_(últimos_100)</th>\n",
       "      <th>origem_da_última_conversão</th>\n",
       "      <th>...</th>\n",
       "      <th>qual_o_curso_de_interesse?</th>\n",
       "      <th>cargo_final</th>\n",
       "      <th>interesse_final</th>\n",
       "      <th>area_atuacao</th>\n",
       "      <th>ds_email</th>\n",
       "      <th>cd_pessoa</th>\n",
       "      <th>min_dt_log</th>\n",
       "      <th>aluno</th>\n",
       "      <th>cidade</th>\n",
       "      <th>data_nascimento</th>\n",
       "    </tr>\n",
       "  </thead>\n",
       "  <tbody>\n",
       "    <tr>\n",
       "      <th>5431</th>\n",
       "      <td>carolineklock@hotmail.com</td>\n",
       "      <td>c</td>\n",
       "      <td>http://app.rdstation.com.br/leads/public/8717b...</td>\n",
       "      <td>Lead Qualificado</td>\n",
       "      <td>16</td>\n",
       "      <td>120</td>\n",
       "      <td>True</td>\n",
       "      <td>2015-09-01 19:17:37 -0300</td>\n",
       "      <td>jornada-assessment-instrumentos-para-lideranca...</td>\n",
       "      <td>Busca Orgânica | Bing</td>\n",
       "      <td>...</td>\n",
       "      <td>Educação empresarial / Remuneração</td>\n",
       "      <td>Outros Cargos</td>\n",
       "      <td>formulario-de-pre-inscricao</td>\n",
       "      <td>RH</td>\n",
       "      <td>carolineklock@hotmail.com</td>\n",
       "      <td>128609.0</td>\n",
       "      <td>2018-04-05 19:53:30</td>\n",
       "      <td>1</td>\n",
       "      <td>Joinville</td>\n",
       "      <td>1985-09-21 00:00:00</td>\n",
       "    </tr>\n",
       "    <tr>\n",
       "      <th>15881</th>\n",
       "      <td>stella.bousfield@gmail.com</td>\n",
       "      <td>c</td>\n",
       "      <td>http://app.rdstation.com.br/leads/public/1b271...</td>\n",
       "      <td>Cliente</td>\n",
       "      <td>27</td>\n",
       "      <td>170</td>\n",
       "      <td>True</td>\n",
       "      <td>2015-12-08 10:18:55 -0200</td>\n",
       "      <td>webinar-storytelling / indicado-sarau-de-negoc...</td>\n",
       "      <td>Desconhecido</td>\n",
       "      <td>...</td>\n",
       "      <td>Responsabilidade social</td>\n",
       "      <td>Outros Cargos</td>\n",
       "      <td>webinar-storytelling</td>\n",
       "      <td>Marketing</td>\n",
       "      <td>stella.bousfield@gmail.com</td>\n",
       "      <td>160000017.0</td>\n",
       "      <td>2020-02-27 17:28:20</td>\n",
       "      <td>1</td>\n",
       "      <td>Joinville</td>\n",
       "      <td>1977-06-02 00:00:00</td>\n",
       "    </tr>\n",
       "  </tbody>\n",
       "</table>\n",
       "<p>2 rows × 35 columns</p>\n",
       "</div>"
      ],
      "text/plain": [
       "                            email lead_scoring_-_perfil  \\\n",
       "5431    carolineklock@hotmail.com                     c   \n",
       "15881  stella.bousfield@gmail.com                     c   \n",
       "\n",
       "                                             url_pública  estágio_no_funil  \\\n",
       "5431   http://app.rdstation.com.br/leads/public/8717b...  Lead Qualificado   \n",
       "15881  http://app.rdstation.com.br/leads/public/1b271...           Cliente   \n",
       "\n",
       "       total_de_conversões  lead_scoring_-_interesse  \\\n",
       "5431                    16                       120   \n",
       "15881                   27                       170   \n",
       "\n",
       "       status_para_comunicação_por_email data_da_primeira_conversão  \\\n",
       "5431                                True  2015-09-01 19:17:37 -0300   \n",
       "15881                               True  2015-12-08 10:18:55 -0200   \n",
       "\n",
       "                                   eventos_(últimos_100)  \\\n",
       "5431   jornada-assessment-instrumentos-para-lideranca...   \n",
       "15881  webinar-storytelling / indicado-sarau-de-negoc...   \n",
       "\n",
       "      origem_da_última_conversão  ...          qual_o_curso_de_interesse?  \\\n",
       "5431       Busca Orgânica | Bing  ...  Educação empresarial / Remuneração   \n",
       "15881               Desconhecido  ...             Responsabilidade social   \n",
       "\n",
       "         cargo_final              interesse_final area_atuacao  \\\n",
       "5431   Outros Cargos  formulario-de-pre-inscricao           RH   \n",
       "15881  Outros Cargos         webinar-storytelling    Marketing   \n",
       "\n",
       "                         ds_email    cd_pessoa           min_dt_log  aluno  \\\n",
       "5431    carolineklock@hotmail.com     128609.0  2018-04-05 19:53:30      1   \n",
       "15881  stella.bousfield@gmail.com  160000017.0  2020-02-27 17:28:20      1   \n",
       "\n",
       "          cidade      data_nascimento  \n",
       "5431   Joinville  1985-09-21 00:00:00  \n",
       "15881  Joinville  1977-06-02 00:00:00  \n",
       "\n",
       "[2 rows x 35 columns]"
      ]
     },
     "execution_count": 143,
     "metadata": {},
     "output_type": "execute_result"
    }
   ],
   "source": [
    "merge_left[merge_left.notna().all(axis=1)]"
   ]
  },
  {
   "cell_type": "markdown",
   "metadata": {},
   "source": [
    "### Change dtype for columns that are date"
   ]
  },
  {
   "cell_type": "code",
   "execution_count": 163,
   "metadata": {},
   "outputs": [],
   "source": [
    "date_columns = ['data_da_primeira_conversão', 'data_da_última_conversão', 'data_da_última_oportunidade', 'data_nascimento', 'min_dt_log']\n",
    "\n",
    "# Apply pd.to_datetime to each column and then remove timezone information\n",
    "merge_left[date_columns] = merge_left[date_columns].apply(lambda col: pd.to_datetime(col, errors='coerce').dt.tz_localize(None))\n"
   ]
  },
  {
   "cell_type": "code",
   "execution_count": 166,
   "metadata": {},
   "outputs": [],
   "source": [
    "def convert_columns_to_datetime(df, date_columns):\n",
    "    \"\"\"\n",
    "    Convert specific columns in a DataFrame to datetime format and remove timezone information.\n",
    "\n",
    "    Parameters:\n",
    "    - df: DataFrame\n",
    "        The input DataFrame.\n",
    "    - date_columns: list\n",
    "        List of column names to convert to datetime.\n",
    "\n",
    "    Returns:\n",
    "    - DataFrame\n",
    "        The DataFrame with specified columns converted to datetime and timezone information removed.\n",
    "    \"\"\"\n",
    "    df[date_columns] = df[date_columns].apply(lambda col: pd.to_datetime(col, errors='coerce').dt.tz_localize(None))\n",
    "    return df\n",
    "\n",
    "# Example usage:\n",
    "date_columns = ['data_da_primeira_conversão', 'data_da_última_conversão', 'data_da_última_oportunidade', 'data_nascimento', 'min_dt_log']\n",
    "merge_left = convert_columns_to_datetime(merge_left, date_columns)\n"
   ]
  },
  {
   "cell_type": "code",
   "execution_count": 167,
   "metadata": {},
   "outputs": [
    {
     "data": {
      "text/plain": [
       "email                                                                        object\n",
       "lead_scoring_-_perfil                                                        object\n",
       "url_pública                                                                  object\n",
       "estágio_no_funil                                                             object\n",
       "total_de_conversões                                                           int64\n",
       "lead_scoring_-_interesse                                                      int64\n",
       "status_para_comunicação_por_email                                              bool\n",
       "data_da_primeira_conversão                                           datetime64[ns]\n",
       "eventos_(últimos_100)                                                        object\n",
       "origem_da_última_conversão                                                   object\n",
       "data_da_última_conversão                                             datetime64[ns]\n",
       "origem_da_primeira_conversão                                                 object\n",
       "empresa                                                                      object\n",
       "tags                                                                         object\n",
       "data_da_última_oportunidade                                          datetime64[ns]\n",
       "estado                                                                       object\n",
       "valor_total_da_oportunidade_no_crm_(última_atualização)                     float64\n",
       "qualificação_da_oportunidade_no_crm_(última_atualização)                    float64\n",
       "etapa_do_funil_de_vendas_no_crm_(última_atualização)                         object\n",
       "nome_do_responsável_pela_oportunidade_no_crm_(última_atualização)            object\n",
       "origem_da_oportunidade_no_crm_(última_atualização)                           object\n",
       "possui_interesse_em_realizar_uma_pós-graduação_ou_mba?                       object\n",
       "desejo_receber_o_sustentare_news                                            float64\n",
       "como_você_conheceu_a_sustentare:                                             object\n",
       "universidade                                                                 object\n",
       "qual_o_curso_de_interesse?                                                   object\n",
       "cargo_final                                                                  object\n",
       "interesse_final                                                              object\n",
       "area_atuacao                                                                 object\n",
       "ds_email                                                                     object\n",
       "cd_pessoa                                                                   float64\n",
       "min_dt_log                                                           datetime64[ns]\n",
       "aluno                                                                         int32\n",
       "cidade                                                                       object\n",
       "data_nascimento                                                      datetime64[ns]\n",
       "dtype: object"
      ]
     },
     "execution_count": 167,
     "metadata": {},
     "output_type": "execute_result"
    }
   ],
   "source": [
    "merge_left.dtypes"
   ]
  },
  {
   "cell_type": "code",
   "execution_count": 169,
   "metadata": {},
   "outputs": [
    {
     "data": {
      "text/html": [
       "<div>\n",
       "<style scoped>\n",
       "    .dataframe tbody tr th:only-of-type {\n",
       "        vertical-align: middle;\n",
       "    }\n",
       "\n",
       "    .dataframe tbody tr th {\n",
       "        vertical-align: top;\n",
       "    }\n",
       "\n",
       "    .dataframe thead th {\n",
       "        text-align: right;\n",
       "    }\n",
       "</style>\n",
       "<table border=\"1\" class=\"dataframe\">\n",
       "  <thead>\n",
       "    <tr style=\"text-align: right;\">\n",
       "      <th></th>\n",
       "      <th>email</th>\n",
       "      <th>lead_scoring_-_perfil</th>\n",
       "      <th>url_pública</th>\n",
       "      <th>estágio_no_funil</th>\n",
       "      <th>total_de_conversões</th>\n",
       "      <th>lead_scoring_-_interesse</th>\n",
       "      <th>status_para_comunicação_por_email</th>\n",
       "      <th>data_da_primeira_conversão</th>\n",
       "      <th>eventos_(últimos_100)</th>\n",
       "      <th>origem_da_última_conversão</th>\n",
       "      <th>...</th>\n",
       "      <th>cargo_final</th>\n",
       "      <th>interesse_final</th>\n",
       "      <th>area_atuacao</th>\n",
       "      <th>ds_email</th>\n",
       "      <th>cd_pessoa</th>\n",
       "      <th>min_dt_log</th>\n",
       "      <th>aluno</th>\n",
       "      <th>cidade</th>\n",
       "      <th>data_nascimento</th>\n",
       "      <th>months_since_conversion</th>\n",
       "    </tr>\n",
       "  </thead>\n",
       "  <tbody>\n",
       "    <tr>\n",
       "      <th>0</th>\n",
       "      <td>andersondorner30@gmail.com</td>\n",
       "      <td>d</td>\n",
       "      <td>http://app.rdstation.com.br/leads/public/d5637...</td>\n",
       "      <td>Lead</td>\n",
       "      <td>4</td>\n",
       "      <td>0</td>\n",
       "      <td>True</td>\n",
       "      <td>2015-03-19 03:00:00</td>\n",
       "      <td>whatsapp-button / whatsapp-button / Matriculad...</td>\n",
       "      <td>Busca Orgânica | Google</td>\n",
       "      <td>...</td>\n",
       "      <td>NaN</td>\n",
       "      <td>NaN</td>\n",
       "      <td>NaN</td>\n",
       "      <td>andersondorner30@gmail.com</td>\n",
       "      <td>108039.0</td>\n",
       "      <td>2015-03-19 21:33:34</td>\n",
       "      <td>1</td>\n",
       "      <td>Rio do sul</td>\n",
       "      <td>1982-06-09</td>\n",
       "      <td>0.000000</td>\n",
       "    </tr>\n",
       "    <tr>\n",
       "      <th>1</th>\n",
       "      <td>larissasuppi.op@gmail.com</td>\n",
       "      <td>c</td>\n",
       "      <td>http://app.rdstation.com.br/leads/public/c00b9...</td>\n",
       "      <td>Lead</td>\n",
       "      <td>17</td>\n",
       "      <td>70</td>\n",
       "      <td>True</td>\n",
       "      <td>2020-09-22 20:49:53</td>\n",
       "      <td>webinar-teoria-u-e-lideranca-humanizada / live...</td>\n",
       "      <td>Email | webinar_teoria_u_e_lideranca_humanizada</td>\n",
       "      <td>...</td>\n",
       "      <td>Coordenador/Líder</td>\n",
       "      <td>workshop-agile-marketing-growth-vendas-canais-...</td>\n",
       "      <td>Comercial</td>\n",
       "      <td>larissasuppi.op@gmail.com</td>\n",
       "      <td>160782.0</td>\n",
       "      <td>NaT</td>\n",
       "      <td>1</td>\n",
       "      <td>Jaraguá do Sul</td>\n",
       "      <td>1983-07-08</td>\n",
       "      <td>NaN</td>\n",
       "    </tr>\n",
       "    <tr>\n",
       "      <th>2</th>\n",
       "      <td>xavierleticia2016@gmail.com</td>\n",
       "      <td>d</td>\n",
       "      <td>http://app.rdstation.com.br/leads/public/60b83...</td>\n",
       "      <td>Lead</td>\n",
       "      <td>2</td>\n",
       "      <td>0</td>\n",
       "      <td>True</td>\n",
       "      <td>2020-05-04 22:25:57</td>\n",
       "      <td>webinar-deep-tech-e-a-organizacao-amplificada ...</td>\n",
       "      <td>Email | duplicado_de_webinar__deep_tech_e_a_or...</td>\n",
       "      <td>...</td>\n",
       "      <td>NaN</td>\n",
       "      <td>NaN</td>\n",
       "      <td>NaN</td>\n",
       "      <td>NaN</td>\n",
       "      <td>NaN</td>\n",
       "      <td>NaT</td>\n",
       "      <td>0</td>\n",
       "      <td>NaN</td>\n",
       "      <td>NaT</td>\n",
       "      <td>43.466667</td>\n",
       "    </tr>\n",
       "    <tr>\n",
       "      <th>3</th>\n",
       "      <td>qmxumc.cpjtqd@tonetics.biz</td>\n",
       "      <td>d</td>\n",
       "      <td>http://app.rdstation.com.br/leads/public/2e333...</td>\n",
       "      <td>Lead</td>\n",
       "      <td>1</td>\n",
       "      <td>0</td>\n",
       "      <td>True</td>\n",
       "      <td>2023-11-27 23:18:23</td>\n",
       "      <td>detalhes-do-curso</td>\n",
       "      <td>Desconhecido</td>\n",
       "      <td>...</td>\n",
       "      <td>NaN</td>\n",
       "      <td>NaN</td>\n",
       "      <td>NaN</td>\n",
       "      <td>NaN</td>\n",
       "      <td>NaN</td>\n",
       "      <td>NaT</td>\n",
       "      <td>0</td>\n",
       "      <td>NaN</td>\n",
       "      <td>NaT</td>\n",
       "      <td>0.066667</td>\n",
       "    </tr>\n",
       "    <tr>\n",
       "      <th>4</th>\n",
       "      <td>jcttud.cpjtjc@tonetics.biz</td>\n",
       "      <td>d</td>\n",
       "      <td>http://app.rdstation.com.br/leads/public/c517e...</td>\n",
       "      <td>Lead</td>\n",
       "      <td>1</td>\n",
       "      <td>0</td>\n",
       "      <td>True</td>\n",
       "      <td>2023-11-27 23:18:17</td>\n",
       "      <td>detalhes-do-curso</td>\n",
       "      <td>Desconhecido</td>\n",
       "      <td>...</td>\n",
       "      <td>NaN</td>\n",
       "      <td>NaN</td>\n",
       "      <td>NaN</td>\n",
       "      <td>NaN</td>\n",
       "      <td>NaN</td>\n",
       "      <td>NaT</td>\n",
       "      <td>0</td>\n",
       "      <td>NaN</td>\n",
       "      <td>NaT</td>\n",
       "      <td>0.066667</td>\n",
       "    </tr>\n",
       "    <tr>\n",
       "      <th>...</th>\n",
       "      <td>...</td>\n",
       "      <td>...</td>\n",
       "      <td>...</td>\n",
       "      <td>...</td>\n",
       "      <td>...</td>\n",
       "      <td>...</td>\n",
       "      <td>...</td>\n",
       "      <td>...</td>\n",
       "      <td>...</td>\n",
       "      <td>...</td>\n",
       "      <td>...</td>\n",
       "      <td>...</td>\n",
       "      <td>...</td>\n",
       "      <td>...</td>\n",
       "      <td>...</td>\n",
       "      <td>...</td>\n",
       "      <td>...</td>\n",
       "      <td>...</td>\n",
       "      <td>...</td>\n",
       "      <td>...</td>\n",
       "      <td>...</td>\n",
       "    </tr>\n",
       "    <tr>\n",
       "      <th>41335</th>\n",
       "      <td>planejamento@bauma.com.br</td>\n",
       "      <td>d</td>\n",
       "      <td>http://app.rdstation.com.br/leads/public/35e3c...</td>\n",
       "      <td>Lead</td>\n",
       "      <td>1</td>\n",
       "      <td>0</td>\n",
       "      <td>False</td>\n",
       "      <td>2014-08-16 03:00:00</td>\n",
       "      <td>Exportação Mail2Easy - Grupos Projetos, TIC, T...</td>\n",
       "      <td>Desconhecido</td>\n",
       "      <td>...</td>\n",
       "      <td>NaN</td>\n",
       "      <td>NaN</td>\n",
       "      <td>NaN</td>\n",
       "      <td>NaN</td>\n",
       "      <td>NaN</td>\n",
       "      <td>NaT</td>\n",
       "      <td>0</td>\n",
       "      <td>NaN</td>\n",
       "      <td>NaT</td>\n",
       "      <td>113.100000</td>\n",
       "    </tr>\n",
       "    <tr>\n",
       "      <th>41336</th>\n",
       "      <td>roma@construtoraroma.com.br</td>\n",
       "      <td>d</td>\n",
       "      <td>http://app.rdstation.com.br/leads/public/75b62...</td>\n",
       "      <td>Lead</td>\n",
       "      <td>1</td>\n",
       "      <td>0</td>\n",
       "      <td>True</td>\n",
       "      <td>2014-08-16 03:00:00</td>\n",
       "      <td>Exportação Mail2Easy - Grupos Projetos, TIC, T...</td>\n",
       "      <td>Desconhecido</td>\n",
       "      <td>...</td>\n",
       "      <td>NaN</td>\n",
       "      <td>NaN</td>\n",
       "      <td>NaN</td>\n",
       "      <td>NaN</td>\n",
       "      <td>NaN</td>\n",
       "      <td>NaT</td>\n",
       "      <td>0</td>\n",
       "      <td>NaN</td>\n",
       "      <td>NaT</td>\n",
       "      <td>113.100000</td>\n",
       "    </tr>\n",
       "    <tr>\n",
       "      <th>41337</th>\n",
       "      <td>financeiro@impressoraipiranga.com.br</td>\n",
       "      <td>d</td>\n",
       "      <td>http://app.rdstation.com.br/leads/public/62f26...</td>\n",
       "      <td>Lead</td>\n",
       "      <td>1</td>\n",
       "      <td>0</td>\n",
       "      <td>True</td>\n",
       "      <td>2014-08-16 03:00:00</td>\n",
       "      <td>Exportação Mail2Easy - Grupos Projetos, TIC, T...</td>\n",
       "      <td>Desconhecido</td>\n",
       "      <td>...</td>\n",
       "      <td>NaN</td>\n",
       "      <td>NaN</td>\n",
       "      <td>NaN</td>\n",
       "      <td>NaN</td>\n",
       "      <td>NaN</td>\n",
       "      <td>NaT</td>\n",
       "      <td>0</td>\n",
       "      <td>NaN</td>\n",
       "      <td>NaT</td>\n",
       "      <td>113.100000</td>\n",
       "    </tr>\n",
       "    <tr>\n",
       "      <th>41338</th>\n",
       "      <td>compras@berlimambientes.com.br</td>\n",
       "      <td>d</td>\n",
       "      <td>http://app.rdstation.com.br/leads/public/fa19c...</td>\n",
       "      <td>Lead</td>\n",
       "      <td>1</td>\n",
       "      <td>0</td>\n",
       "      <td>True</td>\n",
       "      <td>2014-08-16 03:00:00</td>\n",
       "      <td>Exportação Mail2Easy - Grupos Projetos, TIC, T...</td>\n",
       "      <td>Desconhecido</td>\n",
       "      <td>...</td>\n",
       "      <td>NaN</td>\n",
       "      <td>NaN</td>\n",
       "      <td>NaN</td>\n",
       "      <td>NaN</td>\n",
       "      <td>NaN</td>\n",
       "      <td>NaT</td>\n",
       "      <td>0</td>\n",
       "      <td>NaN</td>\n",
       "      <td>NaT</td>\n",
       "      <td>113.100000</td>\n",
       "    </tr>\n",
       "    <tr>\n",
       "      <th>41339</th>\n",
       "      <td>vilmar@domusmoveis.com.br</td>\n",
       "      <td>d</td>\n",
       "      <td>http://app.rdstation.com.br/leads/public/0d9d2...</td>\n",
       "      <td>Lead</td>\n",
       "      <td>1</td>\n",
       "      <td>0</td>\n",
       "      <td>True</td>\n",
       "      <td>2014-08-16 03:00:00</td>\n",
       "      <td>Exportação Mail2Easy - Grupos Projetos, TIC, T...</td>\n",
       "      <td>Desconhecido</td>\n",
       "      <td>...</td>\n",
       "      <td>NaN</td>\n",
       "      <td>NaN</td>\n",
       "      <td>NaN</td>\n",
       "      <td>NaN</td>\n",
       "      <td>NaN</td>\n",
       "      <td>NaT</td>\n",
       "      <td>0</td>\n",
       "      <td>NaN</td>\n",
       "      <td>NaT</td>\n",
       "      <td>113.100000</td>\n",
       "    </tr>\n",
       "  </tbody>\n",
       "</table>\n",
       "<p>41340 rows × 36 columns</p>\n",
       "</div>"
      ],
      "text/plain": [
       "                                      email lead_scoring_-_perfil  \\\n",
       "0                andersondorner30@gmail.com                     d   \n",
       "1                 larissasuppi.op@gmail.com                     c   \n",
       "2               xavierleticia2016@gmail.com                     d   \n",
       "3                qmxumc.cpjtqd@tonetics.biz                     d   \n",
       "4                jcttud.cpjtjc@tonetics.biz                     d   \n",
       "...                                     ...                   ...   \n",
       "41335             planejamento@bauma.com.br                     d   \n",
       "41336           roma@construtoraroma.com.br                     d   \n",
       "41337  financeiro@impressoraipiranga.com.br                     d   \n",
       "41338        compras@berlimambientes.com.br                     d   \n",
       "41339             vilmar@domusmoveis.com.br                     d   \n",
       "\n",
       "                                             url_pública estágio_no_funil  \\\n",
       "0      http://app.rdstation.com.br/leads/public/d5637...             Lead   \n",
       "1      http://app.rdstation.com.br/leads/public/c00b9...             Lead   \n",
       "2      http://app.rdstation.com.br/leads/public/60b83...             Lead   \n",
       "3      http://app.rdstation.com.br/leads/public/2e333...             Lead   \n",
       "4      http://app.rdstation.com.br/leads/public/c517e...             Lead   \n",
       "...                                                  ...              ...   \n",
       "41335  http://app.rdstation.com.br/leads/public/35e3c...             Lead   \n",
       "41336  http://app.rdstation.com.br/leads/public/75b62...             Lead   \n",
       "41337  http://app.rdstation.com.br/leads/public/62f26...             Lead   \n",
       "41338  http://app.rdstation.com.br/leads/public/fa19c...             Lead   \n",
       "41339  http://app.rdstation.com.br/leads/public/0d9d2...             Lead   \n",
       "\n",
       "       total_de_conversões  lead_scoring_-_interesse  \\\n",
       "0                        4                         0   \n",
       "1                       17                        70   \n",
       "2                        2                         0   \n",
       "3                        1                         0   \n",
       "4                        1                         0   \n",
       "...                    ...                       ...   \n",
       "41335                    1                         0   \n",
       "41336                    1                         0   \n",
       "41337                    1                         0   \n",
       "41338                    1                         0   \n",
       "41339                    1                         0   \n",
       "\n",
       "       status_para_comunicação_por_email data_da_primeira_conversão  \\\n",
       "0                                   True        2015-03-19 03:00:00   \n",
       "1                                   True        2020-09-22 20:49:53   \n",
       "2                                   True        2020-05-04 22:25:57   \n",
       "3                                   True        2023-11-27 23:18:23   \n",
       "4                                   True        2023-11-27 23:18:17   \n",
       "...                                  ...                        ...   \n",
       "41335                              False        2014-08-16 03:00:00   \n",
       "41336                               True        2014-08-16 03:00:00   \n",
       "41337                               True        2014-08-16 03:00:00   \n",
       "41338                               True        2014-08-16 03:00:00   \n",
       "41339                               True        2014-08-16 03:00:00   \n",
       "\n",
       "                                   eventos_(últimos_100)  \\\n",
       "0      whatsapp-button / whatsapp-button / Matriculad...   \n",
       "1      webinar-teoria-u-e-lideranca-humanizada / live...   \n",
       "2      webinar-deep-tech-e-a-organizacao-amplificada ...   \n",
       "3                                      detalhes-do-curso   \n",
       "4                                      detalhes-do-curso   \n",
       "...                                                  ...   \n",
       "41335  Exportação Mail2Easy - Grupos Projetos, TIC, T...   \n",
       "41336  Exportação Mail2Easy - Grupos Projetos, TIC, T...   \n",
       "41337  Exportação Mail2Easy - Grupos Projetos, TIC, T...   \n",
       "41338  Exportação Mail2Easy - Grupos Projetos, TIC, T...   \n",
       "41339  Exportação Mail2Easy - Grupos Projetos, TIC, T...   \n",
       "\n",
       "                              origem_da_última_conversão  ...  \\\n",
       "0                                Busca Orgânica | Google  ...   \n",
       "1        Email | webinar_teoria_u_e_lideranca_humanizada  ...   \n",
       "2      Email | duplicado_de_webinar__deep_tech_e_a_or...  ...   \n",
       "3                                           Desconhecido  ...   \n",
       "4                                           Desconhecido  ...   \n",
       "...                                                  ...  ...   \n",
       "41335                                       Desconhecido  ...   \n",
       "41336                                       Desconhecido  ...   \n",
       "41337                                       Desconhecido  ...   \n",
       "41338                                       Desconhecido  ...   \n",
       "41339                                       Desconhecido  ...   \n",
       "\n",
       "             cargo_final                                    interesse_final  \\\n",
       "0                    NaN                                                NaN   \n",
       "1      Coordenador/Líder  workshop-agile-marketing-growth-vendas-canais-...   \n",
       "2                    NaN                                                NaN   \n",
       "3                    NaN                                                NaN   \n",
       "4                    NaN                                                NaN   \n",
       "...                  ...                                                ...   \n",
       "41335                NaN                                                NaN   \n",
       "41336                NaN                                                NaN   \n",
       "41337                NaN                                                NaN   \n",
       "41338                NaN                                                NaN   \n",
       "41339                NaN                                                NaN   \n",
       "\n",
       "      area_atuacao                    ds_email cd_pessoa          min_dt_log  \\\n",
       "0              NaN  andersondorner30@gmail.com  108039.0 2015-03-19 21:33:34   \n",
       "1        Comercial   larissasuppi.op@gmail.com  160782.0                 NaT   \n",
       "2              NaN                         NaN       NaN                 NaT   \n",
       "3              NaN                         NaN       NaN                 NaT   \n",
       "4              NaN                         NaN       NaN                 NaT   \n",
       "...            ...                         ...       ...                 ...   \n",
       "41335          NaN                         NaN       NaN                 NaT   \n",
       "41336          NaN                         NaN       NaN                 NaT   \n",
       "41337          NaN                         NaN       NaN                 NaT   \n",
       "41338          NaN                         NaN       NaN                 NaT   \n",
       "41339          NaN                         NaN       NaN                 NaT   \n",
       "\n",
       "       aluno          cidade data_nascimento months_since_conversion  \n",
       "0          1      Rio do sul      1982-06-09                0.000000  \n",
       "1          1  Jaraguá do Sul      1983-07-08                     NaN  \n",
       "2          0             NaN             NaT               43.466667  \n",
       "3          0             NaN             NaT                0.066667  \n",
       "4          0             NaN             NaT                0.066667  \n",
       "...      ...             ...             ...                     ...  \n",
       "41335      0             NaN             NaT              113.100000  \n",
       "41336      0             NaN             NaT              113.100000  \n",
       "41337      0             NaN             NaT              113.100000  \n",
       "41338      0             NaN             NaT              113.100000  \n",
       "41339      0             NaN             NaT              113.100000  \n",
       "\n",
       "[41340 rows x 36 columns]"
      ]
     },
     "execution_count": 169,
     "metadata": {},
     "output_type": "execute_result"
    }
   ],
   "source": [
    "def calculate_months_since_conversion(df):\n",
    "    \"\"\"\n",
    "    Calculates the number of months since the first conversion based on the 'aluno' column.\n",
    "\n",
    "    Parameters:\n",
    "    - The input DataFrame containing the necessary columns.\n",
    "\n",
    "    Returns:\n",
    "    - A new column representing the number of months since the first conversion.\n",
    "    \"\"\"\n",
    "\n",
    "    # If 'aluno' is 1, calculate the difference between 'min_dt_log' and 'data_da_primeira_conversão'\n",
    "    # If not calculate the difference between today and 'data_da_primeira_conversão'\n",
    "    months_since_conversion = np.where(\n",
    "        df['aluno'] == 1,\n",
    "        (df['min_dt_log'] - df['data_da_primeira_conversão']).dt.days / 30,\n",
    "        (datetime.now() - df['data_da_primeira_conversão']).dt.days / 30\n",
    "    )\n",
    "\n",
    "    return months_since_conversion\n",
    "\n",
    "merge_left['months_since_conversion'] = calculate_months_since_conversion(merge_left)\n",
    "\n",
    "merge_left\n"
   ]
  },
  {
   "cell_type": "code",
   "execution_count": 159,
   "metadata": {},
   "outputs": [
    {
     "ename": "TypeError",
     "evalue": "Cannot subtract tz-naive and tz-aware datetime-like objects",
     "output_type": "error",
     "traceback": [
      "\u001b[1;31m---------------------------------------------------------------------------\u001b[0m",
      "\u001b[1;31mTypeError\u001b[0m                                 Traceback (most recent call last)",
      "File \u001b[1;32mc:\\Users\\anafl\\miniconda3\\envs\\ironhack\\Lib\\site-packages\\pandas\\core\\arrays\\datetimelike.py:1125\u001b[0m, in \u001b[0;36mDatetimeLikeArrayMixin._sub_datetimelike\u001b[1;34m(self, other)\u001b[0m\n\u001b[0;32m   1124\u001b[0m \u001b[39mtry\u001b[39;00m:\n\u001b[1;32m-> 1125\u001b[0m     \u001b[39mself\u001b[39;49m\u001b[39m.\u001b[39;49m_assert_tzawareness_compat(other)\n\u001b[0;32m   1126\u001b[0m \u001b[39mexcept\u001b[39;00m \u001b[39mTypeError\u001b[39;00m \u001b[39mas\u001b[39;00m err:\n",
      "File \u001b[1;32mc:\\Users\\anafl\\miniconda3\\envs\\ironhack\\Lib\\site-packages\\pandas\\core\\arrays\\datetimes.py:774\u001b[0m, in \u001b[0;36mDatetimeArray._assert_tzawareness_compat\u001b[1;34m(self, other)\u001b[0m\n\u001b[0;32m    773\u001b[0m \u001b[39melif\u001b[39;00m other_tz \u001b[39mis\u001b[39;00m \u001b[39mNone\u001b[39;00m:\n\u001b[1;32m--> 774\u001b[0m     \u001b[39mraise\u001b[39;00m \u001b[39mTypeError\u001b[39;00m(\n\u001b[0;32m    775\u001b[0m         \u001b[39m\"\u001b[39m\u001b[39mCannot compare tz-naive and tz-aware datetime-like objects\u001b[39m\u001b[39m\"\u001b[39m\n\u001b[0;32m    776\u001b[0m     )\n",
      "\u001b[1;31mTypeError\u001b[0m: Cannot compare tz-naive and tz-aware datetime-like objects",
      "\nThe above exception was the direct cause of the following exception:\n",
      "\u001b[1;31mTypeError\u001b[0m                                 Traceback (most recent call last)",
      "\u001b[1;32mc:\\Users\\anafl\\ironhack\\sustentare_analytics\\eda&etl\\transforming.ipynb Cell 43\u001b[0m line \u001b[0;36m2\n\u001b[0;32m     <a href='vscode-notebook-cell:/c%3A/Users/anafl/ironhack/sustentare_analytics/eda%26etl/transforming.ipynb#Y105sZmlsZQ%3D%3D?line=23'>24</a>\u001b[0m     \u001b[39mreturn\u001b[39;00m months_since_conversion\n\u001b[0;32m     <a href='vscode-notebook-cell:/c%3A/Users/anafl/ironhack/sustentare_analytics/eda%26etl/transforming.ipynb#Y105sZmlsZQ%3D%3D?line=25'>26</a>\u001b[0m \u001b[39m# Example usage:\u001b[39;00m\n\u001b[0;32m     <a href='vscode-notebook-cell:/c%3A/Users/anafl/ironhack/sustentare_analytics/eda%26etl/transforming.ipynb#Y105sZmlsZQ%3D%3D?line=26'>27</a>\u001b[0m \u001b[39m# Assuming your DataFrame is named 'merge_left'\u001b[39;00m\n\u001b[1;32m---> <a href='vscode-notebook-cell:/c%3A/Users/anafl/ironhack/sustentare_analytics/eda%26etl/transforming.ipynb#Y105sZmlsZQ%3D%3D?line=27'>28</a>\u001b[0m merge_left[\u001b[39m'\u001b[39m\u001b[39mmonths_since_conversion\u001b[39m\u001b[39m'\u001b[39m] \u001b[39m=\u001b[39m calculate_months_since_conversion(merge_left)\n\u001b[0;32m     <a href='vscode-notebook-cell:/c%3A/Users/anafl/ironhack/sustentare_analytics/eda%26etl/transforming.ipynb#Y105sZmlsZQ%3D%3D?line=29'>30</a>\u001b[0m \u001b[39m# Display the DataFrame\u001b[39;00m\n\u001b[0;32m     <a href='vscode-notebook-cell:/c%3A/Users/anafl/ironhack/sustentare_analytics/eda%26etl/transforming.ipynb#Y105sZmlsZQ%3D%3D?line=30'>31</a>\u001b[0m \u001b[39mprint\u001b[39m(merge_left)\n",
      "\u001b[1;32mc:\\Users\\anafl\\ironhack\\sustentare_analytics\\eda&etl\\transforming.ipynb Cell 43\u001b[0m line \u001b[0;36m2\n\u001b[0;32m     <a href='vscode-notebook-cell:/c%3A/Users/anafl/ironhack/sustentare_analytics/eda%26etl/transforming.ipynb#Y105sZmlsZQ%3D%3D?line=13'>14</a>\u001b[0m df[\u001b[39m'\u001b[39m\u001b[39mdata_da_primeira_conversão\u001b[39m\u001b[39m'\u001b[39m] \u001b[39m=\u001b[39m pd\u001b[39m.\u001b[39mto_datetime(df[\u001b[39m'\u001b[39m\u001b[39mdata_da_primeira_conversão\u001b[39m\u001b[39m'\u001b[39m])\n\u001b[0;32m     <a href='vscode-notebook-cell:/c%3A/Users/anafl/ironhack/sustentare_analytics/eda%26etl/transforming.ipynb#Y105sZmlsZQ%3D%3D?line=15'>16</a>\u001b[0m \u001b[39m# If 'aluno' is 1, calculate the difference between 'min_dt_log' and 'data_da_primeira_conversão'\u001b[39;00m\n\u001b[0;32m     <a href='vscode-notebook-cell:/c%3A/Users/anafl/ironhack/sustentare_analytics/eda%26etl/transforming.ipynb#Y105sZmlsZQ%3D%3D?line=16'>17</a>\u001b[0m \u001b[39m# If not, calculate the difference between today and 'data_da_primeira_conversão'\u001b[39;00m\n\u001b[0;32m     <a href='vscode-notebook-cell:/c%3A/Users/anafl/ironhack/sustentare_analytics/eda%26etl/transforming.ipynb#Y105sZmlsZQ%3D%3D?line=17'>18</a>\u001b[0m months_since_conversion \u001b[39m=\u001b[39m np\u001b[39m.\u001b[39mwhere(\n\u001b[0;32m     <a href='vscode-notebook-cell:/c%3A/Users/anafl/ironhack/sustentare_analytics/eda%26etl/transforming.ipynb#Y105sZmlsZQ%3D%3D?line=18'>19</a>\u001b[0m     df[\u001b[39m'\u001b[39m\u001b[39maluno\u001b[39m\u001b[39m'\u001b[39m] \u001b[39m==\u001b[39m \u001b[39m1\u001b[39m,\n\u001b[0;32m     <a href='vscode-notebook-cell:/c%3A/Users/anafl/ironhack/sustentare_analytics/eda%26etl/transforming.ipynb#Y105sZmlsZQ%3D%3D?line=19'>20</a>\u001b[0m     (df[\u001b[39m'\u001b[39m\u001b[39mmin_dt_log\u001b[39m\u001b[39m'\u001b[39m] \u001b[39m-\u001b[39m df[\u001b[39m'\u001b[39m\u001b[39mdata_da_primeira_conversão\u001b[39m\u001b[39m'\u001b[39m])\u001b[39m.\u001b[39mdt\u001b[39m.\u001b[39mdays \u001b[39m/\u001b[39m \u001b[39m30\u001b[39m,\n\u001b[1;32m---> <a href='vscode-notebook-cell:/c%3A/Users/anafl/ironhack/sustentare_analytics/eda%26etl/transforming.ipynb#Y105sZmlsZQ%3D%3D?line=20'>21</a>\u001b[0m     (datetime\u001b[39m.\u001b[39;49mnow() \u001b[39m-\u001b[39;49m df[\u001b[39m'\u001b[39;49m\u001b[39mdata_da_primeira_conversão\u001b[39;49m\u001b[39m'\u001b[39;49m])\u001b[39m.\u001b[39mdt\u001b[39m.\u001b[39mdays \u001b[39m/\u001b[39m \u001b[39m30\u001b[39m\n\u001b[0;32m     <a href='vscode-notebook-cell:/c%3A/Users/anafl/ironhack/sustentare_analytics/eda%26etl/transforming.ipynb#Y105sZmlsZQ%3D%3D?line=21'>22</a>\u001b[0m )\n\u001b[0;32m     <a href='vscode-notebook-cell:/c%3A/Users/anafl/ironhack/sustentare_analytics/eda%26etl/transforming.ipynb#Y105sZmlsZQ%3D%3D?line=23'>24</a>\u001b[0m \u001b[39mreturn\u001b[39;00m months_since_conversion\n",
      "File \u001b[1;32mc:\\Users\\anafl\\miniconda3\\envs\\ironhack\\Lib\\site-packages\\pandas\\core\\ops\\common.py:76\u001b[0m, in \u001b[0;36m_unpack_zerodim_and_defer.<locals>.new_method\u001b[1;34m(self, other)\u001b[0m\n\u001b[0;32m     72\u001b[0m             \u001b[39mreturn\u001b[39;00m \u001b[39mNotImplemented\u001b[39m\n\u001b[0;32m     74\u001b[0m other \u001b[39m=\u001b[39m item_from_zerodim(other)\n\u001b[1;32m---> 76\u001b[0m \u001b[39mreturn\u001b[39;00m method(\u001b[39mself\u001b[39;49m, other)\n",
      "File \u001b[1;32mc:\\Users\\anafl\\miniconda3\\envs\\ironhack\\Lib\\site-packages\\pandas\\core\\arraylike.py:198\u001b[0m, in \u001b[0;36mOpsMixin.__rsub__\u001b[1;34m(self, other)\u001b[0m\n\u001b[0;32m    196\u001b[0m \u001b[39m@unpack_zerodim_and_defer\u001b[39m(\u001b[39m\"\u001b[39m\u001b[39m__rsub__\u001b[39m\u001b[39m\"\u001b[39m)\n\u001b[0;32m    197\u001b[0m \u001b[39mdef\u001b[39;00m \u001b[39m__rsub__\u001b[39m(\u001b[39mself\u001b[39m, other):\n\u001b[1;32m--> 198\u001b[0m     \u001b[39mreturn\u001b[39;00m \u001b[39mself\u001b[39;49m\u001b[39m.\u001b[39;49m_arith_method(other, roperator\u001b[39m.\u001b[39;49mrsub)\n",
      "File \u001b[1;32mc:\\Users\\anafl\\miniconda3\\envs\\ironhack\\Lib\\site-packages\\pandas\\core\\series.py:5815\u001b[0m, in \u001b[0;36mSeries._arith_method\u001b[1;34m(self, other, op)\u001b[0m\n\u001b[0;32m   5813\u001b[0m \u001b[39mdef\u001b[39;00m \u001b[39m_arith_method\u001b[39m(\u001b[39mself\u001b[39m, other, op):\n\u001b[0;32m   5814\u001b[0m     \u001b[39mself\u001b[39m, other \u001b[39m=\u001b[39m \u001b[39mself\u001b[39m\u001b[39m.\u001b[39m_align_for_op(other)\n\u001b[1;32m-> 5815\u001b[0m     \u001b[39mreturn\u001b[39;00m base\u001b[39m.\u001b[39;49mIndexOpsMixin\u001b[39m.\u001b[39;49m_arith_method(\u001b[39mself\u001b[39;49m, other, op)\n",
      "File \u001b[1;32mc:\\Users\\anafl\\miniconda3\\envs\\ironhack\\Lib\\site-packages\\pandas\\core\\base.py:1381\u001b[0m, in \u001b[0;36mIndexOpsMixin._arith_method\u001b[1;34m(self, other, op)\u001b[0m\n\u001b[0;32m   1378\u001b[0m     rvalues \u001b[39m=\u001b[39m np\u001b[39m.\u001b[39marange(rvalues\u001b[39m.\u001b[39mstart, rvalues\u001b[39m.\u001b[39mstop, rvalues\u001b[39m.\u001b[39mstep)\n\u001b[0;32m   1380\u001b[0m \u001b[39mwith\u001b[39;00m np\u001b[39m.\u001b[39merrstate(\u001b[39mall\u001b[39m\u001b[39m=\u001b[39m\u001b[39m\"\u001b[39m\u001b[39mignore\u001b[39m\u001b[39m\"\u001b[39m):\n\u001b[1;32m-> 1381\u001b[0m     result \u001b[39m=\u001b[39m ops\u001b[39m.\u001b[39;49marithmetic_op(lvalues, rvalues, op)\n\u001b[0;32m   1383\u001b[0m \u001b[39mreturn\u001b[39;00m \u001b[39mself\u001b[39m\u001b[39m.\u001b[39m_construct_result(result, name\u001b[39m=\u001b[39mres_name)\n",
      "File \u001b[1;32mc:\\Users\\anafl\\miniconda3\\envs\\ironhack\\Lib\\site-packages\\pandas\\core\\ops\\array_ops.py:275\u001b[0m, in \u001b[0;36marithmetic_op\u001b[1;34m(left, right, op)\u001b[0m\n\u001b[0;32m    262\u001b[0m \u001b[39m# NB: We assume that extract_array and ensure_wrapped_if_datetimelike\u001b[39;00m\n\u001b[0;32m    263\u001b[0m \u001b[39m#  have already been called on `left` and `right`,\u001b[39;00m\n\u001b[0;32m    264\u001b[0m \u001b[39m#  and `maybe_prepare_scalar_for_op` has already been called on `right`\u001b[39;00m\n\u001b[0;32m    265\u001b[0m \u001b[39m# We need to special-case datetime64/timedelta64 dtypes (e.g. because numpy\u001b[39;00m\n\u001b[0;32m    266\u001b[0m \u001b[39m# casts integer dtypes to timedelta64 when operating with timedelta64 - GH#22390)\u001b[39;00m\n\u001b[0;32m    268\u001b[0m \u001b[39mif\u001b[39;00m (\n\u001b[0;32m    269\u001b[0m     should_extension_dispatch(left, right)\n\u001b[0;32m    270\u001b[0m     \u001b[39mor\u001b[39;00m \u001b[39misinstance\u001b[39m(right, (Timedelta, BaseOffset, Timestamp))\n\u001b[1;32m   (...)\u001b[0m\n\u001b[0;32m    273\u001b[0m     \u001b[39m# Timedelta/Timestamp and other custom scalars are included in the check\u001b[39;00m\n\u001b[0;32m    274\u001b[0m     \u001b[39m# because numexpr will fail on it, see GH#31457\u001b[39;00m\n\u001b[1;32m--> 275\u001b[0m     res_values \u001b[39m=\u001b[39m op(left, right)\n\u001b[0;32m    276\u001b[0m \u001b[39melse\u001b[39;00m:\n\u001b[0;32m    277\u001b[0m     \u001b[39m# TODO we should handle EAs consistently and move this check before the if/else\u001b[39;00m\n\u001b[0;32m    278\u001b[0m     \u001b[39m# (https://github.com/pandas-dev/pandas/issues/41165)\u001b[39;00m\n\u001b[0;32m    279\u001b[0m     \u001b[39m# error: Argument 2 to \"_bool_arith_check\" has incompatible type\u001b[39;00m\n\u001b[0;32m    280\u001b[0m     \u001b[39m# \"Union[ExtensionArray, ndarray[Any, Any]]\"; expected \"ndarray[Any, Any]\"\u001b[39;00m\n\u001b[0;32m    281\u001b[0m     _bool_arith_check(op, left, right)  \u001b[39m# type: ignore[arg-type]\u001b[39;00m\n",
      "File \u001b[1;32mc:\\Users\\anafl\\miniconda3\\envs\\ironhack\\Lib\\site-packages\\pandas\\core\\roperator.py:15\u001b[0m, in \u001b[0;36mrsub\u001b[1;34m(left, right)\u001b[0m\n\u001b[0;32m     14\u001b[0m \u001b[39mdef\u001b[39;00m \u001b[39mrsub\u001b[39m(left, right):\n\u001b[1;32m---> 15\u001b[0m     \u001b[39mreturn\u001b[39;00m right \u001b[39m-\u001b[39;49m left\n",
      "File \u001b[1;32mc:\\Users\\anafl\\miniconda3\\envs\\ironhack\\Lib\\site-packages\\pandas\\core\\arrays\\datetimelike.py:1476\u001b[0m, in \u001b[0;36mDatetimeLikeArrayMixin.__rsub__\u001b[1;34m(self, other)\u001b[0m\n\u001b[0;32m   1473\u001b[0m     \u001b[39mreturn\u001b[39;00m (\u001b[39m-\u001b[39m\u001b[39mself\u001b[39m) \u001b[39m+\u001b[39m other\n\u001b[0;32m   1475\u001b[0m \u001b[39m# We get here with e.g. datetime objects\u001b[39;00m\n\u001b[1;32m-> 1476\u001b[0m \u001b[39mreturn\u001b[39;00m \u001b[39m-\u001b[39m(\u001b[39mself\u001b[39;49m \u001b[39m-\u001b[39;49m other)\n",
      "File \u001b[1;32mc:\\Users\\anafl\\miniconda3\\envs\\ironhack\\Lib\\site-packages\\pandas\\core\\ops\\common.py:76\u001b[0m, in \u001b[0;36m_unpack_zerodim_and_defer.<locals>.new_method\u001b[1;34m(self, other)\u001b[0m\n\u001b[0;32m     72\u001b[0m             \u001b[39mreturn\u001b[39;00m \u001b[39mNotImplemented\u001b[39m\n\u001b[0;32m     74\u001b[0m other \u001b[39m=\u001b[39m item_from_zerodim(other)\n\u001b[1;32m---> 76\u001b[0m \u001b[39mreturn\u001b[39;00m method(\u001b[39mself\u001b[39;49m, other)\n",
      "File \u001b[1;32mc:\\Users\\anafl\\miniconda3\\envs\\ironhack\\Lib\\site-packages\\pandas\\core\\arrays\\datetimelike.py:1402\u001b[0m, in \u001b[0;36mDatetimeLikeArrayMixin.__sub__\u001b[1;34m(self, other)\u001b[0m\n\u001b[0;32m   1400\u001b[0m     result \u001b[39m=\u001b[39m \u001b[39mself\u001b[39m\u001b[39m.\u001b[39m_add_offset(\u001b[39m-\u001b[39mother)\n\u001b[0;32m   1401\u001b[0m \u001b[39melif\u001b[39;00m \u001b[39misinstance\u001b[39m(other, (datetime, np\u001b[39m.\u001b[39mdatetime64)):\n\u001b[1;32m-> 1402\u001b[0m     result \u001b[39m=\u001b[39m \u001b[39mself\u001b[39;49m\u001b[39m.\u001b[39;49m_sub_datetimelike_scalar(other)\n\u001b[0;32m   1403\u001b[0m \u001b[39melif\u001b[39;00m lib\u001b[39m.\u001b[39mis_integer(other):\n\u001b[0;32m   1404\u001b[0m     \u001b[39m# This check must come after the check for np.timedelta64\u001b[39;00m\n\u001b[0;32m   1405\u001b[0m     \u001b[39m# as is_integer returns True for these\u001b[39;00m\n\u001b[0;32m   1406\u001b[0m     \u001b[39mif\u001b[39;00m \u001b[39mnot\u001b[39;00m \u001b[39misinstance\u001b[39m(\u001b[39mself\u001b[39m\u001b[39m.\u001b[39mdtype, PeriodDtype):\n",
      "File \u001b[1;32mc:\\Users\\anafl\\miniconda3\\envs\\ironhack\\Lib\\site-packages\\pandas\\core\\arrays\\datetimelike.py:1103\u001b[0m, in \u001b[0;36mDatetimeLikeArrayMixin._sub_datetimelike_scalar\u001b[1;34m(self, other)\u001b[0m\n\u001b[0;32m   1100\u001b[0m ts \u001b[39m=\u001b[39m Timestamp(other)\n\u001b[0;32m   1102\u001b[0m \u001b[39mself\u001b[39m, ts \u001b[39m=\u001b[39m \u001b[39mself\u001b[39m\u001b[39m.\u001b[39m_ensure_matching_resos(ts)\n\u001b[1;32m-> 1103\u001b[0m \u001b[39mreturn\u001b[39;00m \u001b[39mself\u001b[39;49m\u001b[39m.\u001b[39;49m_sub_datetimelike(ts)\n",
      "File \u001b[1;32mc:\\Users\\anafl\\miniconda3\\envs\\ironhack\\Lib\\site-packages\\pandas\\core\\arrays\\datetimelike.py:1128\u001b[0m, in \u001b[0;36mDatetimeLikeArrayMixin._sub_datetimelike\u001b[1;34m(self, other)\u001b[0m\n\u001b[0;32m   1126\u001b[0m \u001b[39mexcept\u001b[39;00m \u001b[39mTypeError\u001b[39;00m \u001b[39mas\u001b[39;00m err:\n\u001b[0;32m   1127\u001b[0m     new_message \u001b[39m=\u001b[39m \u001b[39mstr\u001b[39m(err)\u001b[39m.\u001b[39mreplace(\u001b[39m\"\u001b[39m\u001b[39mcompare\u001b[39m\u001b[39m\"\u001b[39m, \u001b[39m\"\u001b[39m\u001b[39msubtract\u001b[39m\u001b[39m\"\u001b[39m)\n\u001b[1;32m-> 1128\u001b[0m     \u001b[39mraise\u001b[39;00m \u001b[39mtype\u001b[39m(err)(new_message) \u001b[39mfrom\u001b[39;00m \u001b[39merr\u001b[39;00m\n\u001b[0;32m   1130\u001b[0m other_i8, o_mask \u001b[39m=\u001b[39m \u001b[39mself\u001b[39m\u001b[39m.\u001b[39m_get_i8_values_and_mask(other)\n\u001b[0;32m   1131\u001b[0m res_values \u001b[39m=\u001b[39m checked_add_with_arr(\n\u001b[0;32m   1132\u001b[0m     \u001b[39mself\u001b[39m\u001b[39m.\u001b[39masi8, \u001b[39m-\u001b[39mother_i8, arr_mask\u001b[39m=\u001b[39m\u001b[39mself\u001b[39m\u001b[39m.\u001b[39m_isnan, b_mask\u001b[39m=\u001b[39mo_mask\n\u001b[0;32m   1133\u001b[0m )\n",
      "\u001b[1;31mTypeError\u001b[0m: Cannot subtract tz-naive and tz-aware datetime-like objects"
     ]
    }
   ],
   "source": [
    "def calculate_months_since_conversion(df):\n",
    "    \"\"\"\n",
    "    Calculates the number of months since the first conversion based on the 'aluno' column.\n",
    "\n",
    "    Parameters:\n",
    "    - df: pandas DataFrame\n",
    "        The input DataFrame containing the necessary columns.\n",
    "\n",
    "    Returns:\n",
    "    - pandas Series\n",
    "        A new column representing the number of months since the first conversion.\n",
    "    \"\"\"\n",
    "    # Ensure 'data_da_primeira_conversão' is a datetime type\n",
    "    df['data_da_primeira_conversão'] = pd.to_datetime(df['data_da_primeira_conversão'])\n",
    "\n",
    "    # If 'aluno' is 1, calculate the difference between 'min_dt_log' and 'data_da_primeira_conversão'\n",
    "    # If not, calculate the difference between today and 'data_da_primeira_conversão'\n",
    "    months_since_conversion = np.where(\n",
    "        df['aluno'] == 1,\n",
    "        (df['min_dt_log'] - df['data_da_primeira_conversão']).dt.days / 30,\n",
    "        (datetime.now() - df['data_da_primeira_conversão']).dt.days / 30\n",
    "    )\n",
    "\n",
    "    return months_since_conversion\n",
    "\n",
    "# Example usage:\n",
    "# Assuming your DataFrame is named 'merge_left'\n",
    "merge_left['months_since_conversion'] = calculate_months_since_conversion(merge_left)\n",
    "\n",
    "# Display the DataFrame\n",
    "print(merge_left)\n"
   ]
  },
  {
   "cell_type": "code",
   "execution_count": null,
   "metadata": {},
   "outputs": [],
   "source": []
  }
 ],
 "metadata": {
  "kernelspec": {
   "display_name": "ironhack",
   "language": "python",
   "name": "python3"
  },
  "language_info": {
   "codemirror_mode": {
    "name": "ipython",
    "version": 3
   },
   "file_extension": ".py",
   "mimetype": "text/x-python",
   "name": "python",
   "nbconvert_exporter": "python",
   "pygments_lexer": "ipython3",
   "version": "3.12.0"
  }
 },
 "nbformat": 4,
 "nbformat_minor": 2
}
