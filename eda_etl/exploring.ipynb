{
 "cells": [
  {
   "cell_type": "code",
   "execution_count": 41,
   "metadata": {},
   "outputs": [],
   "source": [
    "import pandas as pd\n",
    "from collections import Counter\n"
   ]
  },
  {
   "cell_type": "markdown",
   "metadata": {},
   "source": [
    "# First part"
   ]
  },
  {
   "cell_type": "markdown",
   "metadata": {},
   "source": [
    "here exploring some data that got from rd_station (csv) and unimestre (sql)"
   ]
  },
  {
   "cell_type": "code",
   "execution_count": 26,
   "metadata": {},
   "outputs": [],
   "source": [
    "rd_station_profile = pd.read_csv(\"../data/rd_station_profile.csv\")\n",
    "info_student_unimestre = pd.read_csv(\"../data/info_student_unimestre.csv\")\n",
    "first_cd_turma_student = pd.read_csv(\"../data/first_cd_turma_for_student_unimestre.csv\")\n",
    "dt_cadastro_student = pd.read_csv(\"../data/dt_cadastro_student_unimestre.csv\")"
   ]
  },
  {
   "cell_type": "markdown",
   "metadata": {},
   "source": [
    "### Checking the data frames\n"
   ]
  },
  {
   "cell_type": "code",
   "execution_count": 27,
   "metadata": {},
   "outputs": [
    {
     "data": {
      "text/plain": [
       "(41340, 32)"
      ]
     },
     "execution_count": 27,
     "metadata": {},
     "output_type": "execute_result"
    }
   ],
   "source": [
    "rd_station_profile.shape"
   ]
  },
  {
   "cell_type": "code",
   "execution_count": 55,
   "metadata": {},
   "outputs": [
    {
     "data": {
      "text/plain": [
       "Index(['Unnamed: 0', 'email', 'lead_scoring_-_perfil', 'url_pública',\n",
       "       'estágio_no_funil', 'total_de_conversões', 'lead_scoring_-_interesse',\n",
       "       'status_para_comunicação_por_email', 'data_da_primeira_conversão',\n",
       "       'eventos_(últimos_100)', 'origem_da_última_conversão',\n",
       "       'data_da_última_conversão', 'origem_da_primeira_conversão', 'empresa',\n",
       "       'tags', 'data_da_última_oportunidade', 'estado',\n",
       "       'valor_total_da_oportunidade_no_crm_(última_atualização)',\n",
       "       'qualificação_da_oportunidade_no_crm_(última_atualização)',\n",
       "       'etapa_do_funil_de_vendas_no_crm_(última_atualização)',\n",
       "       'nome_do_responsável_pela_oportunidade_no_crm_(última_atualização)',\n",
       "       'origem_da_oportunidade_no_crm_(última_atualização)',\n",
       "       'possui_interesse_em_realizar_uma_pós-graduação_ou_mba?',\n",
       "       'data_de_nascimento', 'desejo_receber_o_sustentare_news',\n",
       "       'como_você_conheceu_a_sustentare:', 'universidade',\n",
       "       'qual_o_curso_de_interesse?', 'cidade_final', 'cargo_final',\n",
       "       'area_atuacao', 'interesse_final'],\n",
       "      dtype='object')"
      ]
     },
     "execution_count": 55,
     "metadata": {},
     "output_type": "execute_result"
    }
   ],
   "source": [
    "rd_station_profile.columns"
   ]
  },
  {
   "cell_type": "code",
   "execution_count": 28,
   "metadata": {},
   "outputs": [
    {
     "data": {
      "text/plain": [
       "Unnamed: 0                                                               0\n",
       "email                                                                    0\n",
       "lead_scoring_-_perfil                                                    0\n",
       "url_pública                                                              0\n",
       "estágio_no_funil                                                         0\n",
       "total_de_conversões                                                      0\n",
       "lead_scoring_-_interesse                                                 0\n",
       "status_para_comunicação_por_email                                        0\n",
       "data_da_primeira_conversão                                               0\n",
       "eventos_(últimos_100)                                                    0\n",
       "origem_da_última_conversão                                               0\n",
       "data_da_última_conversão                                                 0\n",
       "origem_da_primeira_conversão                                             0\n",
       "empresa                                                              23786\n",
       "tags                                                                 31025\n",
       "data_da_última_oportunidade                                          33876\n",
       "estado                                                               34360\n",
       "valor_total_da_oportunidade_no_crm_(última_atualização)              34957\n",
       "qualificação_da_oportunidade_no_crm_(última_atualização)             34957\n",
       "etapa_do_funil_de_vendas_no_crm_(última_atualização)                 34957\n",
       "nome_do_responsável_pela_oportunidade_no_crm_(última_atualização)    34957\n",
       "origem_da_oportunidade_no_crm_(última_atualização)                   35142\n",
       "possui_interesse_em_realizar_uma_pós-graduação_ou_mba?               36763\n",
       "data_de_nascimento                                                   38346\n",
       "desejo_receber_o_sustentare_news                                     39276\n",
       "como_você_conheceu_a_sustentare:                                     39386\n",
       "universidade                                                         39439\n",
       "qual_o_curso_de_interesse?                                           40882\n",
       "cidade_final                                                         35856\n",
       "cargo_final                                                          21574\n",
       "area_atuacao                                                         35418\n",
       "interesse_final                                                      21841\n",
       "dtype: int64"
      ]
     },
     "execution_count": 28,
     "metadata": {},
     "output_type": "execute_result"
    }
   ],
   "source": [
    "rd_station_profile.isna().sum()"
   ]
  },
  {
   "cell_type": "code",
   "execution_count": 54,
   "metadata": {},
   "outputs": [
    {
     "data": {
      "text/plain": [
       "email\n",
       "andersondorner30@gmail.com        1\n",
       "kelyzze@hotmail.com               1\n",
       "lyeverson@sulbrasilfidc.com.br    1\n",
       "wagnerkrelling@gmail.com          1\n",
       "willian@ideiazul.com              1\n",
       "                                 ..\n",
       "sabrina_lessenko@yahoo.com.br     1\n",
       "danilo.mmadureira@gmail.com       1\n",
       "munhoz1986@gmail.com              1\n",
       "luciana.dutra@krona.com.br        1\n",
       "vilmar@domusmoveis.com.br         1\n",
       "Name: count, Length: 41340, dtype: int64"
      ]
     },
     "execution_count": 54,
     "metadata": {},
     "output_type": "execute_result"
    }
   ],
   "source": [
    "rd_station_profile.email.value_counts()"
   ]
  },
  {
   "cell_type": "code",
   "execution_count": 29,
   "metadata": {},
   "outputs": [
    {
     "data": {
      "text/plain": [
       "(12056, 5)"
      ]
     },
     "execution_count": 29,
     "metadata": {},
     "output_type": "execute_result"
    }
   ],
   "source": [
    "info_student_unimestre.shape"
   ]
  },
  {
   "cell_type": "code",
   "execution_count": 56,
   "metadata": {},
   "outputs": [
    {
     "data": {
      "text/plain": [
       "Index(['cd_pessoa', 'ds_email', 'ds_cidade', 'dt_nascimento', 'min_dt_log'], dtype='object')"
      ]
     },
     "execution_count": 56,
     "metadata": {},
     "output_type": "execute_result"
    }
   ],
   "source": [
    "info_student_unimestre.columns"
   ]
  },
  {
   "cell_type": "code",
   "execution_count": 30,
   "metadata": {},
   "outputs": [
    {
     "data": {
      "text/html": [
       "<div>\n",
       "<style scoped>\n",
       "    .dataframe tbody tr th:only-of-type {\n",
       "        vertical-align: middle;\n",
       "    }\n",
       "\n",
       "    .dataframe tbody tr th {\n",
       "        vertical-align: top;\n",
       "    }\n",
       "\n",
       "    .dataframe thead th {\n",
       "        text-align: right;\n",
       "    }\n",
       "</style>\n",
       "<table border=\"1\" class=\"dataframe\">\n",
       "  <thead>\n",
       "    <tr style=\"text-align: right;\">\n",
       "      <th></th>\n",
       "      <th>cd_pessoa</th>\n",
       "      <th>ds_email</th>\n",
       "      <th>ds_cidade</th>\n",
       "      <th>dt_nascimento</th>\n",
       "      <th>min_dt_log</th>\n",
       "    </tr>\n",
       "  </thead>\n",
       "  <tbody>\n",
       "    <tr>\n",
       "      <th>3560</th>\n",
       "      <td>141125</td>\n",
       "      <td>lvivanco@terra.com.br</td>\n",
       "      <td>Rio de janeiro</td>\n",
       "      <td>1978-10-27 00:00:00</td>\n",
       "      <td>2019-11-13 12:25:14</td>\n",
       "    </tr>\n",
       "  </tbody>\n",
       "</table>\n",
       "</div>"
      ],
      "text/plain": [
       "      cd_pessoa               ds_email       ds_cidade        dt_nascimento  \\\n",
       "3560     141125  lvivanco@terra.com.br  Rio de janeiro  1978-10-27 00:00:00   \n",
       "\n",
       "               min_dt_log  \n",
       "3560  2019-11-13 12:25:14  "
      ]
     },
     "execution_count": 30,
     "metadata": {},
     "output_type": "execute_result"
    }
   ],
   "source": [
    "info_student_unimestre.sample()"
   ]
  },
  {
   "cell_type": "code",
   "execution_count": 31,
   "metadata": {},
   "outputs": [
    {
     "data": {
      "text/plain": [
       "cd_pessoa           0\n",
       "ds_email            0\n",
       "ds_cidade        2248\n",
       "dt_nascimento    1156\n",
       "min_dt_log       8144\n",
       "dtype: int64"
      ]
     },
     "execution_count": 31,
     "metadata": {},
     "output_type": "execute_result"
    }
   ],
   "source": [
    "info_student_unimestre.isna().sum()"
   ]
  },
  {
   "cell_type": "code",
   "execution_count": 32,
   "metadata": {},
   "outputs": [
    {
     "data": {
      "text/plain": [
       "(15901, 5)"
      ]
     },
     "execution_count": 32,
     "metadata": {},
     "output_type": "execute_result"
    }
   ],
   "source": [
    "first_cd_turma_student.shape"
   ]
  },
  {
   "cell_type": "code",
   "execution_count": 33,
   "metadata": {},
   "outputs": [
    {
     "data": {
      "text/plain": [
       "cd_pessoa       0\n",
       "cd_turma        0\n",
       "ano          8630\n",
       "semestre      517\n",
       "min_date     9163\n",
       "dtype: int64"
      ]
     },
     "execution_count": 33,
     "metadata": {},
     "output_type": "execute_result"
    }
   ],
   "source": [
    "first_cd_turma_student.isna().sum()"
   ]
  },
  {
   "cell_type": "code",
   "execution_count": 34,
   "metadata": {},
   "outputs": [
    {
     "data": {
      "text/plain": [
       "cd_pessoa         0\n",
       "dt_cadastro    1265\n",
       "dtype: int64"
      ]
     },
     "execution_count": 34,
     "metadata": {},
     "output_type": "execute_result"
    }
   ],
   "source": [
    "dt_cadastro_student.isna().sum()"
   ]
  },
  {
   "cell_type": "markdown",
   "metadata": {},
   "source": [
    "### Checking how many rows got in a inner join (getting just the intersection)"
   ]
  },
  {
   "cell_type": "code",
   "execution_count": 35,
   "metadata": {},
   "outputs": [
    {
     "data": {
      "text/plain": [
       "(4150, 37)"
      ]
     },
     "execution_count": 35,
     "metadata": {},
     "output_type": "execute_result"
    }
   ],
   "source": [
    "merge_inner = rd_station_profile.merge(info_student_unimestre, left_on='email', right_on='ds_email', how='inner')\n",
    "merge_inner.shape"
   ]
  },
  {
   "cell_type": "markdown",
   "metadata": {},
   "source": [
    "### Left Join"
   ]
  },
  {
   "cell_type": "code",
   "execution_count": 36,
   "metadata": {},
   "outputs": [
    {
     "data": {
      "text/plain": [
       "(41428, 37)"
      ]
     },
     "execution_count": 36,
     "metadata": {},
     "output_type": "execute_result"
    }
   ],
   "source": [
    "merge_left = rd_station_profile.merge(info_student_unimestre, left_on='email', right_on='ds_email', how='left')\n",
    "merge_left.shape # 41428 got more rows than the origial"
   ]
  },
  {
   "cell_type": "markdown",
   "metadata": {},
   "source": [
    "Got more rows than the left data frame, so will check for duplicates values "
   ]
  },
  {
   "cell_type": "code",
   "execution_count": 37,
   "metadata": {},
   "outputs": [
    {
     "data": {
      "text/plain": [
       "ds_email\n",
       " leory@r19.com.br                     1\n",
       " renatomontag@terra.com.br            1\n",
       "00000000/00@sememail.com             27\n",
       "00000000000@sememail.com            210\n",
       "00000000001@sememail.com              1\n",
       "                                   ... \n",
       "znf.nem@gmail.com                     1\n",
       "zpierdona@prsp.mpf.gov.br             1\n",
       "zuleikaromao@gomesdacosta.com.br      1\n",
       "zulmarpr@gmail.com                    1\n",
       "zvirtes@joinville.udesc.br            1\n",
       "Name: ds_email, Length: 10520, dtype: int64"
      ]
     },
     "execution_count": 37,
     "metadata": {},
     "output_type": "execute_result"
    }
   ],
   "source": [
    "info_student_unimestre.groupby(\"ds_email\")[\"ds_email\"].count()"
   ]
  },
  {
   "cell_type": "markdown",
   "metadata": {},
   "source": [
    "# Second Part"
   ]
  },
  {
   "cell_type": "markdown",
   "metadata": {},
   "source": [
    "Exploring the exported data in the transforming folder"
   ]
  },
  {
   "cell_type": "code",
   "execution_count": 22,
   "metadata": {},
   "outputs": [],
   "source": [
    "perfil = pd.read_csv('../data/clear_perfil_visitor_and_students.csv')"
   ]
  },
  {
   "cell_type": "code",
   "execution_count": 19,
   "metadata": {},
   "outputs": [
    {
     "data": {
      "text/plain": [
       "Index(['Unnamed: 0', 'email', 'lead_scoring_-_perfil', 'url_pública',\n",
       "       'estágio_no_funil', 'total_de_conversões', 'lead_scoring_-_interesse',\n",
       "       'status_para_comunicação_por_email', 'eventos_(últimos_100)',\n",
       "       'origem_da_última_conversão', 'origem_da_primeira_conversão', 'empresa',\n",
       "       'tags', 'estado',\n",
       "       'valor_total_da_oportunidade_no_crm_(última_atualização)',\n",
       "       'qualificação_da_oportunidade_no_crm_(última_atualização)',\n",
       "       'etapa_do_funil_de_vendas_no_crm_(última_atualização)',\n",
       "       'nome_do_responsável_pela_oportunidade_no_crm_(última_atualização)',\n",
       "       'origem_da_oportunidade_no_crm_(última_atualização)',\n",
       "       'possui_interesse_em_realizar_uma_pós-graduação_ou_mba?',\n",
       "       'desejo_receber_o_sustentare_news', 'como_você_conheceu_a_sustentare:',\n",
       "       'universidade', 'qual_o_curso_de_interesse?', 'cargo_final',\n",
       "       'area_atuacao', 'interesse_final', 'ds_email', 'cd_pessoa', 'aluno',\n",
       "       'cidade', 'months_since_first_conversion',\n",
       "       'months_since_last_conversion', 'months_since_last_opportunity', 'age'],\n",
       "      dtype='object')"
      ]
     },
     "execution_count": 19,
     "metadata": {},
     "output_type": "execute_result"
    }
   ],
   "source": [
    "perfil.columns"
   ]
  },
  {
   "cell_type": "code",
   "execution_count": 20,
   "metadata": {},
   "outputs": [
    {
     "data": {
      "text/plain": [
       "Unnamed: 0                                                             int64\n",
       "email                                                                 object\n",
       "lead_scoring_-_perfil                                                 object\n",
       "url_pública                                                           object\n",
       "estágio_no_funil                                                      object\n",
       "total_de_conversões                                                    int64\n",
       "lead_scoring_-_interesse                                               int64\n",
       "status_para_comunicação_por_email                                       bool\n",
       "eventos_(últimos_100)                                                 object\n",
       "origem_da_última_conversão                                            object\n",
       "origem_da_primeira_conversão                                          object\n",
       "empresa                                                               object\n",
       "tags                                                                  object\n",
       "estado                                                                object\n",
       "valor_total_da_oportunidade_no_crm_(última_atualização)              float64\n",
       "qualificação_da_oportunidade_no_crm_(última_atualização)             float64\n",
       "etapa_do_funil_de_vendas_no_crm_(última_atualização)                  object\n",
       "nome_do_responsável_pela_oportunidade_no_crm_(última_atualização)     object\n",
       "origem_da_oportunidade_no_crm_(última_atualização)                    object\n",
       "possui_interesse_em_realizar_uma_pós-graduação_ou_mba?                object\n",
       "desejo_receber_o_sustentare_news                                     float64\n",
       "como_você_conheceu_a_sustentare:                                      object\n",
       "universidade                                                          object\n",
       "qual_o_curso_de_interesse?                                            object\n",
       "cargo_final                                                           object\n",
       "area_atuacao                                                          object\n",
       "interesse_final                                                       object\n",
       "ds_email                                                              object\n",
       "cd_pessoa                                                            float64\n",
       "aluno                                                                  int64\n",
       "cidade                                                                object\n",
       "months_since_first_conversion                                        float64\n",
       "months_since_last_conversion                                         float64\n",
       "months_since_last_opportunity                                        float64\n",
       "age                                                                  float64\n",
       "dtype: object"
      ]
     },
     "execution_count": 20,
     "metadata": {},
     "output_type": "execute_result"
    }
   ],
   "source": [
    "perfil.dtypes"
   ]
  },
  {
   "cell_type": "code",
   "execution_count": 23,
   "metadata": {},
   "outputs": [
    {
     "data": {
      "text/plain": [
       "Unnamed: 0                                                               0\n",
       "email                                                                    0\n",
       "lead_scoring_-_perfil                                                    0\n",
       "url_pública                                                              0\n",
       "estágio_no_funil                                                         0\n",
       "total_de_conversões                                                      0\n",
       "lead_scoring_-_interesse                                                 0\n",
       "status_para_comunicação_por_email                                        0\n",
       "eventos_(últimos_100)                                                    0\n",
       "origem_da_última_conversão                                               0\n",
       "origem_da_primeira_conversão                                             0\n",
       "empresa                                                              23575\n",
       "tags                                                                 30694\n",
       "estado                                                               34011\n",
       "valor_total_da_oportunidade_no_crm_(última_atualização)              34676\n",
       "qualificação_da_oportunidade_no_crm_(última_atualização)             34676\n",
       "etapa_do_funil_de_vendas_no_crm_(última_atualização)                 34676\n",
       "nome_do_responsável_pela_oportunidade_no_crm_(última_atualização)    34676\n",
       "origem_da_oportunidade_no_crm_(última_atualização)                   34848\n",
       "possui_interesse_em_realizar_uma_pós-graduação_ou_mba?               36112\n",
       "desejo_receber_o_sustentare_news                                     38702\n",
       "como_você_conheceu_a_sustentare:                                     38892\n",
       "universidade                                                         38898\n",
       "qual_o_curso_de_interesse?                                           40127\n",
       "cargo_final                                                          21342\n",
       "area_atuacao                                                         34783\n",
       "interesse_final                                                      21580\n",
       "ds_email                                                             37278\n",
       "cd_pessoa                                                            37278\n",
       "aluno                                                                    0\n",
       "cidade                                                               33836\n",
       "months_since_first_conversion                                            0\n",
       "months_since_last_conversion                                             0\n",
       "months_since_last_opportunity                                        33566\n",
       "age                                                                  37423\n",
       "dtype: int64"
      ]
     },
     "execution_count": 23,
     "metadata": {},
     "output_type": "execute_result"
    }
   ],
   "source": [
    "perfil.isna().sum()"
   ]
  },
  {
   "cell_type": "code",
   "execution_count": 25,
   "metadata": {},
   "outputs": [
    {
     "data": {
      "text/plain": [
       "lead_scoring_-_interesse\n",
       "0       24533\n",
       "10      10154\n",
       "20       1737\n",
       "50       1163\n",
       "30        566\n",
       "        ...  \n",
       "280         1\n",
       "860         1\n",
       "1005        1\n",
       "210         1\n",
       "290         1\n",
       "Name: count, Length: 61, dtype: int64"
      ]
     },
     "execution_count": 25,
     "metadata": {},
     "output_type": "execute_result"
    }
   ],
   "source": [
    "perfil['lead_scoring_-_interesse'].value_counts()"
   ]
  },
  {
   "cell_type": "code",
   "execution_count": 47,
   "metadata": {},
   "outputs": [
    {
     "data": {
      "text/plain": [
       "[(' ', 12422),\n",
       " ('site', 7344),\n",
       " ('curso', 6326),\n",
       " ('Banco Easy2Mail Nome+Email', 5233),\n",
       " (' Banco Easy2Mail Nome+Email', 3375),\n",
       " ('', 2286),\n",
       " ('Transferência mail2easy RD-Interessados ', 1276),\n",
       " (' formulario-de-pre-inscricao ', 1218),\n",
       " (' newsletter ', 873),\n",
       " ('e-book-desafios-equipes', 651),\n",
       " ('inscricao-festival-rh-agil-3-edicao', 615),\n",
       " (' Aluno_23.09.2016 ', 596),\n",
       " (' Respondentes_ICES_30.05.2017 ', 583),\n",
       " (' Transferência mail2easy RD-Interessados ', 577),\n",
       " ('formulario-de-bolsas-online', 564),\n",
       " (' Transferencia Easy2Mail -  Grupos com finais 13 e 14- ', 541),\n",
       " ('newsletter ', 509),\n",
       " (' inscricao-capacitacao ', 457),\n",
       " ('ebook-o-imprescindivel-processo-de-integracao-da-governanca-tributaria',\n",
       "  456),\n",
       " (' Respondentes_ICES_01.11.18 ', 432),\n",
       " (' linkedin', 431),\n",
       " (' Respondentes_ICES_30.08.18 ', 426),\n",
       " ('RD Station CRM ', 419),\n",
       " (' Respondentes_ICES_28.05.18 ', 412),\n",
       " (' Respondentes_ICES_23.02.18 ', 408),\n",
       " (' Respondentes_ICES_02.03.18 ', 403),\n",
       " ('linkedin', 396),\n",
       " (' RD Station CRM ', 385),\n",
       " (' inscricao-festival-rh-agil', 384),\n",
       " ('Participante Curso Conta Azul - Empréstimos e linhas de crédito aprovadas para o pequeno negócio',\n",
       "  380),\n",
       " (' Respondentes_ICES_01.11.17 ', 379),\n",
       " ('inscricao-festival-rh-agil', 375),\n",
       " (' Respondentes_ICES_09.11.17 ', 372),\n",
       " (' Respondentes_ICES_17.11.17 ', 359),\n",
       " ('curso-gratuito-autoconhecimento ', 347),\n",
       " ('inscricao-festival-rh-agil-2-edicao', 342),\n",
       " (' Respondentes_ICES_24.08.17 ', 339),\n",
       " (' Respondentes_ICES_31.08.17 ', 334),\n",
       " (' Interessado:  [insert_php] the_title(); [', 328),\n",
       " (' Respondentes_ICES_12.09.17 ', 321),\n",
       " (' Transferência mail2easy RD-Interessados', 307),\n",
       " ('curso-gratuito-autoconhecimento', 296),\n",
       " (' Respondentes_ICES_24.05.17 ', 294),\n",
       " ('Respondentes_ICES_09.11.18 ', 284),\n",
       " ('Transferencia Easy2Mail -  Grupos com finais 13 e 14- ', 284),\n",
       " ('detalhes-do-curso ', 279),\n",
       " (' formulario-de-pre-inscricao', 276),\n",
       " (' Respondentes_ICES_19.05.17 ', 264),\n",
       " (' Inscritos Dia Mundial da Criatividade', 259),\n",
       " (' curso-conflitos-e-negociacoes ', 257),\n",
       " (' e-book-desafios-equipes ', 254),\n",
       " ('whatsapp-button ', 252),\n",
       " ('curso-conflitos-e-negociacoes ', 252),\n",
       " (' detalhes-do-curso ', 251),\n",
       " ('Inscritos Dia Mundial da Criatividade ', 250),\n",
       " (' linkedin ', 247),\n",
       " ('ebook-neurocoaching ', 247),\n",
       " (' Banco_de_Dados_ICES_2016 ', 245),\n",
       " ('Participante Curso Conta Azul - Oportunidades de mercado para aumentar o faturamento em meio a crise',\n",
       "  242),\n",
       " ('insert_php] ', 241),\n",
       " ('teste-feedback-sustentare', 240),\n",
       " ('curso-conflitos-e-negociacoes', 240),\n",
       " (' linkedin-contatos-liderança ', 239),\n",
       " (' aula-gratuita-autoconhecimento ', 237),\n",
       " ('ebook-gestao-de-contratos', 233),\n",
       " (' inscricao-capacitacao', 232),\n",
       " ('inscricao-festival-rh-agil-3-edicao ', 232),\n",
       " (' ebook-neurocoaching ', 226),\n",
       " ('whatsapp-button', 223),\n",
       " (' curso-gratuito-autoconhecimento ', 217),\n",
       " ('Aluno_23.09.2016 ', 217),\n",
       " (' exame-de-bolsas-2017a ', 216),\n",
       " (' exame-de-bolsas-2019a ', 213),\n",
       " ('linkedin-contatos-liderança', 211),\n",
       " (' inscricao-festival-rh-agil-2-edicao', 210),\n",
       " ('linkedin-contatos-vendas2 ', 210),\n",
       " (' popup-espere-nao-saia-de-maos-vazias ', 208),\n",
       " ('linkedin-contatos-liderança ', 208),\n",
       " ('contato', 202),\n",
       " (' a-inovacao-e-os-habitos ', 201),\n",
       " ('inscricao-capacitacao ', 199),\n",
       " (' whatsapp-button ', 198),\n",
       " ('bolsa-de-estudos', 196),\n",
       " ('insert_php]', 195),\n",
       " ('formulario-de-pre-inscricao ', 195),\n",
       " ('gestao-tributaria', 193),\n",
       " (' Landing Page - Bolsas de Estudo Online ', 191),\n",
       " ('master-class-escola-de-vendas', 189),\n",
       " (' e-book-desafios-equipes', 188),\n",
       " ('gestao-e-lideranca-2', 184),\n",
       " (' exame-de-bolsas-2018a ', 183),\n",
       " ('Alunos Neogrid 1', 180),\n",
       " (' e-book-futuro-educacao ', 179),\n",
       " (' eboos-analytics ', 178),\n",
       " (' ebook-servico-a-clientes ', 172),\n",
       " (' apresentacao-matadora ', 172),\n",
       " (' lideranca-situacional-ebook-gratuito ', 170),\n",
       " (' exame-de-bolsas-2020a ', 169),\n",
       " ('webinar_conta_azul', 166),\n",
       " (' ebook-o-imprescindivel-processo-de-integracao-da-governanca-tributaria',\n",
       "  165)]"
      ]
     },
     "execution_count": 47,
     "metadata": {},
     "output_type": "execute_result"
    }
   ],
   "source": [
    "def count_occurrences_evento_column(df):\n",
    "    \"\"\"\n",
    "    Count the occurrences of each event in the column 'eventos_(últimos_100)' for each student in a DataFrame.\n",
    "\n",
    "    Parameters:\n",
    "    - The DataFrame containing the data.\n",
    "\n",
    "    Returns:\n",
    "    - list: A list of tuples with the most common events and their counts.\n",
    "    \"\"\"\n",
    "    # Initialize a Counter to count occurrences\n",
    "    word_counts = Counter()\n",
    "\n",
    "    # Iterate through each row and count occurrences\n",
    "    for _, row in df.iterrows():\n",
    "        events = row['eventos_(últimos_100)'].split('/')\n",
    "\n",
    "        # Count occurrences of each event\n",
    "        word_counts.update(events)\n",
    "\n",
    "    # Identify the most common events\n",
    "    most_common_events = word_counts.most_common(100)\n",
    "\n",
    "    return most_common_events\n",
    "\n",
    "common_words = count_occurrences_evento_column(perfil)\n",
    "common_words"
   ]
  },
  {
   "cell_type": "code",
   "execution_count": 48,
   "metadata": {},
   "outputs": [
    {
     "data": {
      "text/plain": [
       "[('Desconhecido', 20217),\n",
       " ('Tráfego Direto', 6992),\n",
       " ('Busca Orgânica | Google', 3499),\n",
       " ('Social | LinkedIn', 1989),\n",
       " ('Busca Orgânica | google', 1166),\n",
       " ('Referência | sustentare.net', 927),\n",
       " ('', 527),\n",
       " ('Social | Facebook', 405),\n",
       " ('site', 361),\n",
       " ('Email | curso_gratuito_autoconhecimento', 323),\n",
       " ('Social | Instagram', 226),\n",
       " ('Email | curso_gratuito_conflitos_e_negociacoes', 152),\n",
       " ('Email | webinar_gratuito_gestao_home_office_de_vendas__contornando_coronavirus',\n",
       "  126),\n",
       " ('Referência | linktr.ee', 124),\n",
       " ('Email | divulgacao_do_e-book_o_futuro_da_educacao', 101),\n",
       " ('Referência | app.rdstation.com.br', 101),\n",
       " ('Busca Orgânica | Bing', 96),\n",
       " ('Email | ja_sao_450_inscritos_-_curso_gratuito_conflitos_e_negociacoes', 96),\n",
       " ('Referência | workplace.com', 83),\n",
       " ('Email | festival_rh_agil_-_3_edicao_', 82),\n",
       " ('landing-pages', 78),\n",
       " ('Email | workshop_agile_leadership', 77),\n",
       " ('Email | live_estrategias_inovadoras_para_vendas___dia_2908', 68),\n",
       " ('institucional', 66),\n",
       " ('Email | instrumentos_para_lideranca', 65),\n",
       " ('bolsa-de-estudos', 60),\n",
       " ('Email | hackathon_de_carreiras_2023a', 55),\n",
       " ('curso', 55),\n",
       " ('Email | e-book_gratuito_neurocoaching', 51),\n",
       " ('Email | live_core_skills_2021', 49),\n",
       " ('Email | white_belt', 46),\n",
       " ('Email | live_o_futuro_comeca_agora_-_metagestao_4x4', 46),\n",
       " ('Email | e-book_analytics', 44),\n",
       " ('Email | creative_problem_solving', 41),\n",
       " ('Email | webinar_storytelling_-_como_encantar_seu_cliente', 39),\n",
       " ('Referência | rdstation.com.br', 38),\n",
       " ('Email | habilidades_do_profissional_do_futuro', 38),\n",
       " ('Email | aula_gratuita_com_martha_gabriel', 37),\n",
       " ('Email | eventos_e_cursos_de_marco', 36),\n",
       " ('Referência | acij.com.br', 36),\n",
       " ('Email | live_desenvolvendo_a_lideranca_inclusiva', 34),\n",
       " ('Email | eventos_online_para_junho', 33),\n",
       " ('Email | eventos_e_cursos_de_maio_e_junho', 33),\n",
       " ('online', 33),\n",
       " ('Email | empresa_parceira', 33),\n",
       " ('blog', 33),\n",
       " ('Email | ebook_marca_pessoal_de_alto_impacto_no_linkedin', 32),\n",
       " ('Referência | office.net', 31),\n",
       " ('Referência | massiconsultoria.com.br', 29),\n",
       " ('Email | ebook_servico_a_clientes', 29),\n",
       " ('Referência | schulz.com.br', 29),\n",
       " ('Referência | abraman.org.br', 29),\n",
       " ('Email | workshop_planejamento_de_carreira_2021a', 28),\n",
       " ('Email | ebook_-_8_razoes_para_nao_abrir_um_negocio', 28),\n",
       " ('Email | sorteio_de_3_ingressos_spinup_summit', 26),\n",
       " ('Referência | pecege.com', 26),\n",
       " ('Email | live_desvendando_o_potencial_das_vendas_com_valor_infinito__2308_as_19h',\n",
       "  25),\n",
       " ('Email | live_cenario_economico_estrategias_para_contornar_a_pandemia', 25),\n",
       " ('Email | webinar_como_administrar_as_pequenas_empresas_familiares_na_crise',\n",
       "  23),\n",
       " ('Email | evento_online_master_class_-_escola_de_vendas', 23),\n",
       " ('Email | ebook_gratuito_a_inovacao_e_os_habitos', 23),\n",
       " ('Busca Orgânica | Yahoo', 22),\n",
       " ('noticias', 22),\n",
       " ('Email | master_class_tecnologia_colaboracao_e_trabalho_remoto', 21),\n",
       " ('Referência | condor.ind.br', 21),\n",
       " ('Email | o_papel_do_pilar_gestao_e_controle_da_qualidade_qc_nas_organizacoes_world_class',\n",
       "  21),\n",
       " ('45041', 21),\n",
       " ('Social | YouTube', 20),\n",
       " ('Email | O+mapa+da+liderança+começa+com+o+autoconhecimento', 20),\n",
       " ('Email | divulgacao_teste_de_feedback_2', 20),\n",
       " ('Email | live_neurociencia_para_inovacao_3', 20),\n",
       " ('Email | live_carreira_em_talent_acquisition', 20),\n",
       " ('Email | live_para_vender_mais_e_melhor', 20),\n",
       " ('Email | e-book_-_7_razoes_para_fazer_coaching', 19),\n",
       " ('Email | eventos_e_cursos_de_julho_e_agosto', 19),\n",
       " ('Email | wcm_live_-_2_edicao', 19),\n",
       " ('Referência | yammer.com', 19),\n",
       " ('Email | favor_desconsiderar_o_e-mail_anterior', 19),\n",
       " ('Email | _pos-graduacao_e_mba_para_o_segundo_semestre_de_2020_', 19),\n",
       " ('Referência | intranet.schulz.com.br', 19),\n",
       " ('listas', 19),\n",
       " ('disp_form.aspx', 19),\n",
       " ('planejamento-e-controle-financeiro', 18),\n",
       " ('Email | aula_master_-_reset_2021a', 18),\n",
       " ('Email | serh', 18),\n",
       " ('Email | premio_ser_humano_-_sc_-_2016', 17),\n",
       " ('materiais-gratuitos', 17),\n",
       " ('Referência | 185.79', 17),\n",
       " ('Email | workshop_dialogo', 17),\n",
       " ('Email | wcm_live_-_2_edicao_-_duplicado', 17),\n",
       " ('Email | ebook_10_principais_erros_do_empreendedor', 17),\n",
       " ('Referência | oxigenarjoinville.com.br', 17),\n",
       " ('Email | festival_rh_agil_-_2_edicao__2', 16),\n",
       " ('Email | empresas_confirmadas_no_festival_rh_agil_-_3_edicao_', 16),\n",
       " ('Email | teste_serh', 16),\n",
       " ('Email | palestra_-_inteligencia_comunicacional', 16),\n",
       " ('Email | live_tempo_e_autoconsciencia_uma_conversa_sobre_prioridades_valores_e_tomada_de_decisao',\n",
       "  16),\n",
       " ('Email | live_o_desafio_das_vendas_no_mundo_digital', 16),\n",
       " ('Email | wcm_live_-_4_edicao', 16),\n",
       " ('Email | master_class_liberating_strategy_dias_23_24_25_e_26_de_marco_-_modalidade_on_learning',\n",
       "  16)]"
      ]
     },
     "execution_count": 48,
     "metadata": {},
     "output_type": "execute_result"
    }
   ],
   "source": [
    "from collections import Counter\n",
    "\n",
    "def count_event_occurrences(df):\n",
    "    \"\"\"\n",
    "    Count the occurrences of each event in the column 'origem_da_primeira_conversão' for each student in a DataFrame.\n",
    "\n",
    "    Parameters:\n",
    "    - The DataFrame containing the data.\n",
    "\n",
    "    Returns:\n",
    "    - list: A list of tuples with the most common events and their counts.\n",
    "    \"\"\"\n",
    "    # Initialize a Counter to count occurrences\n",
    "    word_counts = Counter()\n",
    "\n",
    "    # Iterate through each row and count occurrences\n",
    "    for _, row in df.iterrows():\n",
    "        events = row['origem_da_primeira_conversão'].split('/')\n",
    "\n",
    "        # Count occurrences of each event\n",
    "        word_counts.update(events)\n",
    "\n",
    "    # Identify the most common events\n",
    "    most_common_events = word_counts.most_common(100)\n",
    "\n",
    "    return most_common_events\n",
    "\n",
    "common_words_event = count_event_occurrences(perfil)\n",
    "common_words_event"
   ]
  },
  {
   "cell_type": "code",
   "execution_count": 49,
   "metadata": {},
   "outputs": [
    {
     "data": {
      "text/plain": [
       "como_você_conheceu_a_sustentare:\n",
       "Outros                    631\n",
       "Empresas Conveniadas      272\n",
       "Alunos (as)               260\n",
       "Ex-aluno (a)              161\n",
       "E-mails                   144\n",
       "Eventos                   126\n",
       "Funcionário Sustentare     44\n",
       "Outdoor                    27\n",
       "TV                          7\n",
       "Mala Direta                 5\n",
       "Jornal                      2\n",
       "Rádio                       2\n",
       "Rev. Você S.A               1\n",
       "Rev. Exame                  1\n",
       "Name: count, dtype: int64"
      ]
     },
     "execution_count": 49,
     "metadata": {},
     "output_type": "execute_result"
    }
   ],
   "source": [
    "perfil['como_você_conheceu_a_sustentare:'].value_counts()"
   ]
  },
  {
   "cell_type": "code",
   "execution_count": 50,
   "metadata": {},
   "outputs": [
    {
     "data": {
      "text/plain": [
       "origem_da_primeira_conversão\n",
       "Desconhecido                                                                           20217\n",
       "Tráfego Direto                                                                          6992\n",
       "Busca Orgânica | Google                                                                 3499\n",
       "Social | LinkedIn                                                                       1989\n",
       "Busca Orgânica | google                                                                 1166\n",
       "                                                                                       ...  \n",
       "Email | curso_green_belt                                                                   1\n",
       "Email | turmas_confirmadas_-_2021_-_duplicado                                              1\n",
       "Referência | app.rdstation.com.br/leads/public/9db648d0-d1ac-439e-89e6-307a920beef1        1\n",
       "Referência | app.rdstation.com.br/landing-pages/536518                                     1\n",
       "Referência | classificados.folha.uol.com.br                                                1\n",
       "Name: count, Length: 844, dtype: int64"
      ]
     },
     "execution_count": 50,
     "metadata": {},
     "output_type": "execute_result"
    }
   ],
   "source": [
    "perfil['origem_da_primeira_conversão'].value_counts()"
   ]
  }
 ],
 "metadata": {
  "kernelspec": {
   "display_name": "ironhack",
   "language": "python",
   "name": "python3"
  },
  "language_info": {
   "codemirror_mode": {
    "name": "ipython",
    "version": 3
   },
   "file_extension": ".py",
   "mimetype": "text/x-python",
   "name": "python",
   "nbconvert_exporter": "python",
   "pygments_lexer": "ipython3",
   "version": "3.12.0"
  }
 },
 "nbformat": 4,
 "nbformat_minor": 2
}
