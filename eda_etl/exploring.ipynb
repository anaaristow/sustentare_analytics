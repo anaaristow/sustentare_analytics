{
 "cells": [
  {
   "cell_type": "code",
   "execution_count": 1,
   "metadata": {},
   "outputs": [],
   "source": [
    "import pandas as pd"
   ]
  },
  {
   "cell_type": "markdown",
   "metadata": {},
   "source": [
    "# First part"
   ]
  },
  {
   "cell_type": "markdown",
   "metadata": {},
   "source": [
    "here exploring some data that got from rd_station and unimestre (in sql)"
   ]
  },
  {
   "cell_type": "code",
   "execution_count": 21,
   "metadata": {},
   "outputs": [],
   "source": [
    "rd_station_profile = pd.read_csv(\"../data/rd_station_profile.csv\")\n",
    "info_student_unimestre = pd.read_csv(\"../data/info_student_unimestre.csv\")\n",
    "first_cd_turma_student = pd.read_csv(\"../data/first_cd_turma_for_student_unimestre.csv\")\n",
    "dt_cadastro_student = pd.read_csv(\"../data/dt_cadastro_student_unimestre.csv\")"
   ]
  },
  {
   "cell_type": "markdown",
   "metadata": {},
   "source": [
    "### Checking the data frames\n"
   ]
  },
  {
   "cell_type": "code",
   "execution_count": 3,
   "metadata": {},
   "outputs": [
    {
     "data": {
      "text/plain": [
       "(41340, 32)"
      ]
     },
     "execution_count": 3,
     "metadata": {},
     "output_type": "execute_result"
    }
   ],
   "source": [
    "rd_station_profile.shape"
   ]
  },
  {
   "cell_type": "code",
   "execution_count": 17,
   "metadata": {},
   "outputs": [
    {
     "data": {
      "text/plain": [
       "Unnamed: 0                                                               0\n",
       "email                                                                    0\n",
       "lead_scoring_-_perfil                                                    0\n",
       "url_pública                                                              0\n",
       "estágio_no_funil                                                         0\n",
       "total_de_conversões                                                      0\n",
       "lead_scoring_-_interesse                                                 0\n",
       "status_para_comunicação_por_email                                        0\n",
       "data_da_primeira_conversão                                               0\n",
       "eventos_(últimos_100)                                                    0\n",
       "origem_da_última_conversão                                               0\n",
       "data_da_última_conversão                                                 0\n",
       "origem_da_primeira_conversão                                             0\n",
       "empresa                                                              23786\n",
       "tags                                                                 31025\n",
       "data_da_última_oportunidade                                          33876\n",
       "estado                                                               34360\n",
       "valor_total_da_oportunidade_no_crm_(última_atualização)              34957\n",
       "qualificação_da_oportunidade_no_crm_(última_atualização)             34957\n",
       "etapa_do_funil_de_vendas_no_crm_(última_atualização)                 34957\n",
       "nome_do_responsável_pela_oportunidade_no_crm_(última_atualização)    34957\n",
       "origem_da_oportunidade_no_crm_(última_atualização)                   35142\n",
       "possui_interesse_em_realizar_uma_pós-graduação_ou_mba?               36763\n",
       "data_de_nascimento                                                   38346\n",
       "desejo_receber_o_sustentare_news                                     39276\n",
       "como_você_conheceu_a_sustentare:                                     39386\n",
       "universidade                                                         39439\n",
       "qual_o_curso_de_interesse?                                           40882\n",
       "cidade_final                                                         35856\n",
       "cargo_final                                                          21574\n",
       "area_atuacao                                                         35418\n",
       "interesse_final                                                      21841\n",
       "dtype: int64"
      ]
     },
     "execution_count": 17,
     "metadata": {},
     "output_type": "execute_result"
    }
   ],
   "source": [
    "rd_station_profile.isna().sum()"
   ]
  },
  {
   "cell_type": "code",
   "execution_count": 4,
   "metadata": {},
   "outputs": [
    {
     "data": {
      "text/plain": [
       "(12056, 5)"
      ]
     },
     "execution_count": 4,
     "metadata": {},
     "output_type": "execute_result"
    }
   ],
   "source": [
    "info_student_unimestre.shape"
   ]
  },
  {
   "cell_type": "code",
   "execution_count": 5,
   "metadata": {},
   "outputs": [
    {
     "data": {
      "text/html": [
       "<div>\n",
       "<style scoped>\n",
       "    .dataframe tbody tr th:only-of-type {\n",
       "        vertical-align: middle;\n",
       "    }\n",
       "\n",
       "    .dataframe tbody tr th {\n",
       "        vertical-align: top;\n",
       "    }\n",
       "\n",
       "    .dataframe thead th {\n",
       "        text-align: right;\n",
       "    }\n",
       "</style>\n",
       "<table border=\"1\" class=\"dataframe\">\n",
       "  <thead>\n",
       "    <tr style=\"text-align: right;\">\n",
       "      <th></th>\n",
       "      <th>cd_pessoa</th>\n",
       "      <th>ds_email</th>\n",
       "      <th>ds_cidade</th>\n",
       "      <th>dt_nascimento</th>\n",
       "      <th>min_dt_log</th>\n",
       "    </tr>\n",
       "  </thead>\n",
       "  <tbody>\n",
       "    <tr>\n",
       "      <th>7893</th>\n",
       "      <td>160001976</td>\n",
       "      <td>07079832/00@sememail.com</td>\n",
       "      <td>Joinville</td>\n",
       "      <td>0000-00-00 00:00:00</td>\n",
       "      <td>NaN</td>\n",
       "    </tr>\n",
       "  </tbody>\n",
       "</table>\n",
       "</div>"
      ],
      "text/plain": [
       "      cd_pessoa                  ds_email  ds_cidade        dt_nascimento  \\\n",
       "7893  160001976  07079832/00@sememail.com  Joinville  0000-00-00 00:00:00   \n",
       "\n",
       "     min_dt_log  \n",
       "7893        NaN  "
      ]
     },
     "execution_count": 5,
     "metadata": {},
     "output_type": "execute_result"
    }
   ],
   "source": [
    "info_student_unimestre.sample()"
   ]
  },
  {
   "cell_type": "code",
   "execution_count": 6,
   "metadata": {},
   "outputs": [
    {
     "data": {
      "text/plain": [
       "cd_pessoa           0\n",
       "ds_email            0\n",
       "ds_cidade        2248\n",
       "dt_nascimento    1156\n",
       "min_dt_log       8144\n",
       "dtype: int64"
      ]
     },
     "execution_count": 6,
     "metadata": {},
     "output_type": "execute_result"
    }
   ],
   "source": [
    "info_student_unimestre.isna().sum()"
   ]
  },
  {
   "cell_type": "code",
   "execution_count": 7,
   "metadata": {},
   "outputs": [
    {
     "data": {
      "text/plain": [
       "(15901, 5)"
      ]
     },
     "execution_count": 7,
     "metadata": {},
     "output_type": "execute_result"
    }
   ],
   "source": [
    "first_cd_turma_student.shape"
   ]
  },
  {
   "cell_type": "code",
   "execution_count": 8,
   "metadata": {},
   "outputs": [
    {
     "data": {
      "text/plain": [
       "cd_pessoa       0\n",
       "cd_turma        0\n",
       "ano          8630\n",
       "semestre      517\n",
       "min_date     9163\n",
       "dtype: int64"
      ]
     },
     "execution_count": 8,
     "metadata": {},
     "output_type": "execute_result"
    }
   ],
   "source": [
    "first_cd_turma_student.isna().sum()"
   ]
  },
  {
   "cell_type": "code",
   "execution_count": 9,
   "metadata": {},
   "outputs": [
    {
     "data": {
      "text/plain": [
       "cd_pessoa         0\n",
       "dt_cadastro    1265\n",
       "dtype: int64"
      ]
     },
     "execution_count": 9,
     "metadata": {},
     "output_type": "execute_result"
    }
   ],
   "source": [
    "dt_cadastro_student.isna().sum()"
   ]
  },
  {
   "cell_type": "markdown",
   "metadata": {},
   "source": [
    "### Checking how many rows got in a inner join (getting just the intersection)"
   ]
  },
  {
   "cell_type": "code",
   "execution_count": 14,
   "metadata": {},
   "outputs": [
    {
     "data": {
      "text/plain": [
       "(4150, 37)"
      ]
     },
     "execution_count": 14,
     "metadata": {},
     "output_type": "execute_result"
    }
   ],
   "source": [
    "merge_inner = rd_station_profile.merge(info_student_unimestre, left_on='email', right_on='ds_email', how='inner')\n",
    "merge_inner.shape"
   ]
  },
  {
   "cell_type": "markdown",
   "metadata": {},
   "source": [
    "### Left Join"
   ]
  },
  {
   "cell_type": "code",
   "execution_count": 13,
   "metadata": {},
   "outputs": [
    {
     "data": {
      "text/plain": [
       "(41428, 37)"
      ]
     },
     "execution_count": 13,
     "metadata": {},
     "output_type": "execute_result"
    }
   ],
   "source": [
    "merge_left = rd_station_profile.merge(info_student_unimestre, left_on='email', right_on='ds_email', how='left')\n",
    "merge_left.shape # 41428 got more rows than the origial"
   ]
  },
  {
   "cell_type": "markdown",
   "metadata": {},
   "source": [
    "Got more rows than the left data frame, so will check for duplicates values "
   ]
  },
  {
   "cell_type": "code",
   "execution_count": 16,
   "metadata": {},
   "outputs": [
    {
     "data": {
      "text/plain": [
       "ds_email\n",
       " leory@r19.com.br                     1\n",
       " renatomontag@terra.com.br            1\n",
       "00000000/00@sememail.com             27\n",
       "00000000000@sememail.com            210\n",
       "00000000001@sememail.com              1\n",
       "                                   ... \n",
       "znf.nem@gmail.com                     1\n",
       "zpierdona@prsp.mpf.gov.br             1\n",
       "zuleikaromao@gomesdacosta.com.br      1\n",
       "zulmarpr@gmail.com                    1\n",
       "zvirtes@joinville.udesc.br            1\n",
       "Name: ds_email, Length: 10520, dtype: int64"
      ]
     },
     "execution_count": 16,
     "metadata": {},
     "output_type": "execute_result"
    }
   ],
   "source": [
    "info_student_unimestre.groupby(\"ds_email\")[\"ds_email\"].count()"
   ]
  },
  {
   "cell_type": "markdown",
   "metadata": {},
   "source": [
    "# Second Part"
   ]
  },
  {
   "cell_type": "markdown",
   "metadata": {},
   "source": [
    "Exploring the exported data in the transforming folder"
   ]
  },
  {
   "cell_type": "code",
   "execution_count": 22,
   "metadata": {},
   "outputs": [],
   "source": [
    "perfil = pd.read_csv('../data/clear_perfil_visitor_and_students.csv')"
   ]
  },
  {
   "cell_type": "code",
   "execution_count": 19,
   "metadata": {},
   "outputs": [
    {
     "data": {
      "text/plain": [
       "Index(['Unnamed: 0', 'email', 'lead_scoring_-_perfil', 'url_pública',\n",
       "       'estágio_no_funil', 'total_de_conversões', 'lead_scoring_-_interesse',\n",
       "       'status_para_comunicação_por_email', 'eventos_(últimos_100)',\n",
       "       'origem_da_última_conversão', 'origem_da_primeira_conversão', 'empresa',\n",
       "       'tags', 'estado',\n",
       "       'valor_total_da_oportunidade_no_crm_(última_atualização)',\n",
       "       'qualificação_da_oportunidade_no_crm_(última_atualização)',\n",
       "       'etapa_do_funil_de_vendas_no_crm_(última_atualização)',\n",
       "       'nome_do_responsável_pela_oportunidade_no_crm_(última_atualização)',\n",
       "       'origem_da_oportunidade_no_crm_(última_atualização)',\n",
       "       'possui_interesse_em_realizar_uma_pós-graduação_ou_mba?',\n",
       "       'desejo_receber_o_sustentare_news', 'como_você_conheceu_a_sustentare:',\n",
       "       'universidade', 'qual_o_curso_de_interesse?', 'cargo_final',\n",
       "       'area_atuacao', 'interesse_final', 'ds_email', 'cd_pessoa', 'aluno',\n",
       "       'cidade', 'months_since_first_conversion',\n",
       "       'months_since_last_conversion', 'months_since_last_opportunity', 'age'],\n",
       "      dtype='object')"
      ]
     },
     "execution_count": 19,
     "metadata": {},
     "output_type": "execute_result"
    }
   ],
   "source": [
    "perfil.columns"
   ]
  },
  {
   "cell_type": "code",
   "execution_count": 20,
   "metadata": {},
   "outputs": [
    {
     "data": {
      "text/plain": [
       "Unnamed: 0                                                             int64\n",
       "email                                                                 object\n",
       "lead_scoring_-_perfil                                                 object\n",
       "url_pública                                                           object\n",
       "estágio_no_funil                                                      object\n",
       "total_de_conversões                                                    int64\n",
       "lead_scoring_-_interesse                                               int64\n",
       "status_para_comunicação_por_email                                       bool\n",
       "eventos_(últimos_100)                                                 object\n",
       "origem_da_última_conversão                                            object\n",
       "origem_da_primeira_conversão                                          object\n",
       "empresa                                                               object\n",
       "tags                                                                  object\n",
       "estado                                                                object\n",
       "valor_total_da_oportunidade_no_crm_(última_atualização)              float64\n",
       "qualificação_da_oportunidade_no_crm_(última_atualização)             float64\n",
       "etapa_do_funil_de_vendas_no_crm_(última_atualização)                  object\n",
       "nome_do_responsável_pela_oportunidade_no_crm_(última_atualização)     object\n",
       "origem_da_oportunidade_no_crm_(última_atualização)                    object\n",
       "possui_interesse_em_realizar_uma_pós-graduação_ou_mba?                object\n",
       "desejo_receber_o_sustentare_news                                     float64\n",
       "como_você_conheceu_a_sustentare:                                      object\n",
       "universidade                                                          object\n",
       "qual_o_curso_de_interesse?                                            object\n",
       "cargo_final                                                           object\n",
       "area_atuacao                                                          object\n",
       "interesse_final                                                       object\n",
       "ds_email                                                              object\n",
       "cd_pessoa                                                            float64\n",
       "aluno                                                                  int64\n",
       "cidade                                                                object\n",
       "months_since_first_conversion                                        float64\n",
       "months_since_last_conversion                                         float64\n",
       "months_since_last_opportunity                                        float64\n",
       "age                                                                  float64\n",
       "dtype: object"
      ]
     },
     "execution_count": 20,
     "metadata": {},
     "output_type": "execute_result"
    }
   ],
   "source": [
    "perfil.dtypes"
   ]
  },
  {
   "cell_type": "code",
   "execution_count": 23,
   "metadata": {},
   "outputs": [
    {
     "data": {
      "text/plain": [
       "Unnamed: 0                                                               0\n",
       "email                                                                    0\n",
       "lead_scoring_-_perfil                                                    0\n",
       "url_pública                                                              0\n",
       "estágio_no_funil                                                         0\n",
       "total_de_conversões                                                      0\n",
       "lead_scoring_-_interesse                                                 0\n",
       "status_para_comunicação_por_email                                        0\n",
       "eventos_(últimos_100)                                                    0\n",
       "origem_da_última_conversão                                               0\n",
       "origem_da_primeira_conversão                                             0\n",
       "empresa                                                              23575\n",
       "tags                                                                 30694\n",
       "estado                                                               34011\n",
       "valor_total_da_oportunidade_no_crm_(última_atualização)              34676\n",
       "qualificação_da_oportunidade_no_crm_(última_atualização)             34676\n",
       "etapa_do_funil_de_vendas_no_crm_(última_atualização)                 34676\n",
       "nome_do_responsável_pela_oportunidade_no_crm_(última_atualização)    34676\n",
       "origem_da_oportunidade_no_crm_(última_atualização)                   34848\n",
       "possui_interesse_em_realizar_uma_pós-graduação_ou_mba?               36112\n",
       "desejo_receber_o_sustentare_news                                     38702\n",
       "como_você_conheceu_a_sustentare:                                     38892\n",
       "universidade                                                         38898\n",
       "qual_o_curso_de_interesse?                                           40127\n",
       "cargo_final                                                          21342\n",
       "area_atuacao                                                         34783\n",
       "interesse_final                                                      21580\n",
       "ds_email                                                             37278\n",
       "cd_pessoa                                                            37278\n",
       "aluno                                                                    0\n",
       "cidade                                                               33836\n",
       "months_since_first_conversion                                            0\n",
       "months_since_last_conversion                                             0\n",
       "months_since_last_opportunity                                        33566\n",
       "age                                                                  37423\n",
       "dtype: int64"
      ]
     },
     "execution_count": 23,
     "metadata": {},
     "output_type": "execute_result"
    }
   ],
   "source": [
    "perfil.isna().sum()"
   ]
  },
  {
   "cell_type": "code",
   "execution_count": 25,
   "metadata": {},
   "outputs": [
    {
     "data": {
      "text/plain": [
       "lead_scoring_-_interesse\n",
       "0       24533\n",
       "10      10154\n",
       "20       1737\n",
       "50       1163\n",
       "30        566\n",
       "        ...  \n",
       "280         1\n",
       "860         1\n",
       "1005        1\n",
       "210         1\n",
       "290         1\n",
       "Name: count, Length: 61, dtype: int64"
      ]
     },
     "execution_count": 25,
     "metadata": {},
     "output_type": "execute_result"
    }
   ],
   "source": [
    "perfil['lead_scoring_-_interesse'].value_counts()"
   ]
  },
  {
   "cell_type": "code",
   "execution_count": null,
   "metadata": {},
   "outputs": [],
   "source": []
  }
 ],
 "metadata": {
  "kernelspec": {
   "display_name": "ironhack",
   "language": "python",
   "name": "python3"
  },
  "language_info": {
   "codemirror_mode": {
    "name": "ipython",
    "version": 3
   },
   "file_extension": ".py",
   "mimetype": "text/x-python",
   "name": "python",
   "nbconvert_exporter": "python",
   "pygments_lexer": "ipython3",
   "version": "3.12.0"
  }
 },
 "nbformat": 4,
 "nbformat_minor": 2
}
