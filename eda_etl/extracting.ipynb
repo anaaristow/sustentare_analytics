{
 "cells": [
  {
   "cell_type": "code",
   "execution_count": 146,
   "metadata": {},
   "outputs": [],
   "source": [
    "import numpy as np\n",
    "import pandas as pd"
   ]
  },
  {
   "cell_type": "markdown",
   "metadata": {},
   "source": [
    "# Dealing with the Marketing Information"
   ]
  },
  {
   "cell_type": "markdown",
   "metadata": {},
   "source": [
    "### Reading database containing all the information"
   ]
  },
  {
   "cell_type": "code",
   "execution_count": 147,
   "metadata": {},
   "outputs": [
    {
     "name": "stderr",
     "output_type": "stream",
     "text": [
      "C:\\Users\\anafl\\AppData\\Local\\Temp\\ipykernel_50876\\1553664775.py:1: DtypeWarning: Columns (3,4,5,6,7,8,11,12,15,17,24,32,33,35,36,37,40,41,42,43,45,47,48,50,52,53,55,56,57,58,60,63,64,67,69,70,72,73,74,75,76,77,78,80,81,83,85,86,87,88,89,91,92,93,94,95,96,97,100,101,102,103,104,106,108,110,111,112,113,114,115,116,117,118,120,122,123,124,125,126,127,130,131,132,133,134,136,137,138,139,140,141,142,143,144,145,147,148,149,151,152,154,155,156,157,158,159,160,161,162,163,164,165,166,167,168,170,172,173,175,176,177,180,181,183,184,186,189,191,192,193,195,196,197,199,200,201,202,203,204,206,207,208,209,210,213,214,215,216,217,218,219,220,222,223,224,225,226,227,229,230,232,234,235,237,239,241,242,244,247,248,250,251,252,253,254,255,256,257,258,260,262,264,265,266,267,268,269,270,271,272,273,275,276,277,278,279,280,281,282,283,284,285,286,287,288,289,290,291,292,294,295,296,297,298,300,301,305,306,307,308,309,310,311,313,314,315,316,317,318,319,320,321,322,323,324,325,326,327,328,329,330,331,332,333,334,335,336,337,338,339,340,341,342,343,344) have mixed types. Specify dtype option on import or set low_memory=False.\n",
      "  rd_station = pd.read_csv(\"../data/lead_complete_rdstation.csv\", sep=\",\")\n"
     ]
    }
   ],
   "source": [
    "rd_station = pd.read_csv(\"../data/lead_complete_rdstation.csv\", sep=\",\")"
   ]
  },
  {
   "cell_type": "code",
   "execution_count": 148,
   "metadata": {},
   "outputs": [],
   "source": [
    "rd_station.columns = rd_station.columns.str.lower().str.replace(' ', '_')"
   ]
  },
  {
   "cell_type": "code",
   "execution_count": 149,
   "metadata": {},
   "outputs": [
    {
     "data": {
      "text/plain": [
       "Index(['email', 'nome', 'telefone', 'celular', 'facebook', 'twitter',\n",
       "       'linkedin', 'website', 'cargo', 'empresa',\n",
       "       ...\n",
       "       'você_tem_interesse_no_curso_de_pós-graduação_em_engenharia_da_manutenção?',\n",
       "       'você_tem_interesse_no_curso_engenharia_e_gestão_de_ativos?',\n",
       "       'você_tem_interesse_no_pós-mba_gestão_legal?',\n",
       "       'você_vai_orientar_um_grupo_de_potenciais_negociadores,_profissionais_de_sua_empresa,_sobre_como_trocar_concessões_(5ª_etapa)._que_recomendações_você_lhe_faria?',\n",
       "       'você_é_aluno(a)?', 'você_é_convidado_indumak?',\n",
       "       'você_é_nosso_aluno_regular?', 'você_é_professor(a)_da_sustentare?',\n",
       "       'área_de_atuação_da_empresa', 'área_de_atuação_de_interesse'],\n",
       "      dtype='object', length=346)"
      ]
     },
     "execution_count": 149,
     "metadata": {},
     "output_type": "execute_result"
    }
   ],
   "source": [
    "rd_station.columns"
   ]
  },
  {
   "cell_type": "markdown",
   "metadata": {},
   "source": [
    "## Understanding the dataset"
   ]
  },
  {
   "cell_type": "code",
   "execution_count": 71,
   "metadata": {},
   "outputs": [
    {
     "data": {
      "text/html": [
       "<div>\n",
       "<style scoped>\n",
       "    .dataframe tbody tr th:only-of-type {\n",
       "        vertical-align: middle;\n",
       "    }\n",
       "\n",
       "    .dataframe tbody tr th {\n",
       "        vertical-align: top;\n",
       "    }\n",
       "\n",
       "    .dataframe thead th {\n",
       "        text-align: right;\n",
       "    }\n",
       "</style>\n",
       "<table border=\"1\" class=\"dataframe\">\n",
       "  <thead>\n",
       "    <tr style=\"text-align: right;\">\n",
       "      <th></th>\n",
       "      <th>email</th>\n",
       "      <th>nome</th>\n",
       "      <th>telefone</th>\n",
       "      <th>celular</th>\n",
       "      <th>facebook</th>\n",
       "      <th>twitter</th>\n",
       "      <th>linkedin</th>\n",
       "      <th>website</th>\n",
       "      <th>cargo</th>\n",
       "      <th>empresa</th>\n",
       "      <th>...</th>\n",
       "      <th>você_tem_interesse_no_curso_de_pós-graduação_em_engenharia_da_manutenção?</th>\n",
       "      <th>você_tem_interesse_no_curso_engenharia_e_gestão_de_ativos?</th>\n",
       "      <th>você_tem_interesse_no_pós-mba_gestão_legal?</th>\n",
       "      <th>você_vai_orientar_um_grupo_de_potenciais_negociadores,_profissionais_de_sua_empresa,_sobre_como_trocar_concessões_(5ª_etapa)._que_recomendações_você_lhe_faria?</th>\n",
       "      <th>você_é_aluno(a)?</th>\n",
       "      <th>você_é_convidado_indumak?</th>\n",
       "      <th>você_é_nosso_aluno_regular?</th>\n",
       "      <th>você_é_professor(a)_da_sustentare?</th>\n",
       "      <th>área_de_atuação_da_empresa</th>\n",
       "      <th>área_de_atuação_de_interesse</th>\n",
       "    </tr>\n",
       "  </thead>\n",
       "  <tbody>\n",
       "    <tr>\n",
       "      <th>40926</th>\n",
       "      <td>coralmedicinadotrabalho@gmail.com</td>\n",
       "      <td>Coral Medicina do Trabalho</td>\n",
       "      <td>NaN</td>\n",
       "      <td>NaN</td>\n",
       "      <td>NaN</td>\n",
       "      <td>NaN</td>\n",
       "      <td>NaN</td>\n",
       "      <td>NaN</td>\n",
       "      <td>NaN</td>\n",
       "      <td>NaN</td>\n",
       "      <td>...</td>\n",
       "      <td>NaN</td>\n",
       "      <td>NaN</td>\n",
       "      <td>NaN</td>\n",
       "      <td>NaN</td>\n",
       "      <td>NaN</td>\n",
       "      <td>NaN</td>\n",
       "      <td>NaN</td>\n",
       "      <td>NaN</td>\n",
       "      <td>NaN</td>\n",
       "      <td>NaN</td>\n",
       "    </tr>\n",
       "  </tbody>\n",
       "</table>\n",
       "<p>1 rows × 346 columns</p>\n",
       "</div>"
      ],
      "text/plain": [
       "                                   email                        nome telefone  \\\n",
       "40926  coralmedicinadotrabalho@gmail.com  Coral Medicina do Trabalho      NaN   \n",
       "\n",
       "      celular facebook twitter linkedin website cargo empresa  ...  \\\n",
       "40926     NaN      NaN     NaN      NaN     NaN   NaN     NaN  ...   \n",
       "\n",
       "       você_tem_interesse_no_curso_de_pós-graduação_em_engenharia_da_manutenção?  \\\n",
       "40926                                                NaN                           \n",
       "\n",
       "      você_tem_interesse_no_curso_engenharia_e_gestão_de_ativos?  \\\n",
       "40926                                                NaN           \n",
       "\n",
       "      você_tem_interesse_no_pós-mba_gestão_legal?  \\\n",
       "40926                                         NaN   \n",
       "\n",
       "      você_vai_orientar_um_grupo_de_potenciais_negociadores,_profissionais_de_sua_empresa,_sobre_como_trocar_concessões_(5ª_etapa)._que_recomendações_você_lhe_faria?  \\\n",
       "40926                                                NaN                                                                                                                \n",
       "\n",
       "      você_é_aluno(a)? você_é_convidado_indumak? você_é_nosso_aluno_regular?  \\\n",
       "40926              NaN                       NaN                         NaN   \n",
       "\n",
       "      você_é_professor(a)_da_sustentare?  área_de_atuação_da_empresa  \\\n",
       "40926                                NaN                         NaN   \n",
       "\n",
       "      área_de_atuação_de_interesse  \n",
       "40926                          NaN  \n",
       "\n",
       "[1 rows x 346 columns]"
      ]
     },
     "execution_count": 71,
     "metadata": {},
     "output_type": "execute_result"
    }
   ],
   "source": [
    "rd_station.sample()"
   ]
  },
  {
   "cell_type": "code",
   "execution_count": 150,
   "metadata": {},
   "outputs": [
    {
     "data": {
      "text/plain": [
       "(41722, 346)"
      ]
     },
     "execution_count": 150,
     "metadata": {},
     "output_type": "execute_result"
    }
   ],
   "source": [
    "rd_station.shape"
   ]
  },
  {
   "cell_type": "code",
   "execution_count": 151,
   "metadata": {},
   "outputs": [
    {
     "data": {
      "text/plain": [
       "email                                     0\n",
       "nome                                    698\n",
       "telefone                              33416\n",
       "celular                               28981\n",
       "facebook                              41527\n",
       "                                      ...  \n",
       "você_é_convidado_indumak?             41699\n",
       "você_é_nosso_aluno_regular?           41579\n",
       "você_é_professor(a)_da_sustentare?    41699\n",
       "área_de_atuação_da_empresa            41557\n",
       "área_de_atuação_de_interesse          41722\n",
       "Length: 346, dtype: int64"
      ]
     },
     "execution_count": 151,
     "metadata": {},
     "output_type": "execute_result"
    }
   ],
   "source": [
    "rd_station.isna().sum()"
   ]
  },
  {
   "cell_type": "code",
   "execution_count": 152,
   "metadata": {},
   "outputs": [
    {
     "data": {
      "text/plain": [
       "email                                  object\n",
       "nome                                   object\n",
       "telefone                               object\n",
       "celular                                object\n",
       "facebook                               object\n",
       "                                       ...   \n",
       "você_é_convidado_indumak?              object\n",
       "você_é_nosso_aluno_regular?            object\n",
       "você_é_professor(a)_da_sustentare?     object\n",
       "área_de_atuação_da_empresa             object\n",
       "área_de_atuação_de_interesse          float64\n",
       "Length: 346, dtype: object"
      ]
     },
     "execution_count": 152,
     "metadata": {},
     "output_type": "execute_result"
    }
   ],
   "source": [
    "rd_station.dtypes"
   ]
  },
  {
   "cell_type": "markdown",
   "metadata": {},
   "source": [
    "## Dropping the columns that won't need"
   ]
  },
  {
   "cell_type": "code",
   "execution_count": 153,
   "metadata": {},
   "outputs": [
    {
     "name": "stdout",
     "output_type": "stream",
     "text": [
      "Index(['email', 'nome', 'telefone', 'celular', 'facebook', 'twitter',\n",
      "       'linkedin', 'website', 'cargo', 'empresa',\n",
      "       ...\n",
      "       'você_tem_interesse_no_curso_de_pós-graduação_em_engenharia_da_manutenção?',\n",
      "       'você_tem_interesse_no_curso_engenharia_e_gestão_de_ativos?',\n",
      "       'você_tem_interesse_no_pós-mba_gestão_legal?',\n",
      "       'você_vai_orientar_um_grupo_de_potenciais_negociadores,_profissionais_de_sua_empresa,_sobre_como_trocar_concessões_(5ª_etapa)._que_recomendações_você_lhe_faria?',\n",
      "       'você_é_aluno(a)?', 'você_é_convidado_indumak?',\n",
      "       'você_é_nosso_aluno_regular?', 'você_é_professor(a)_da_sustentare?',\n",
      "       'área_de_atuação_da_empresa', 'área_de_atuação_de_interesse'],\n",
      "      dtype='object', length=346)\n"
     ]
    }
   ],
   "source": [
    "print(rd_station.columns)"
   ]
  },
  {
   "cell_type": "code",
   "execution_count": 154,
   "metadata": {},
   "outputs": [
    {
     "name": "stdout",
     "output_type": "stream",
     "text": [
      "cidade\n",
      "Joinville                    2796\n",
      "Jaraguá do Sul                201\n",
      "São Paulo                     185\n",
      "São Bento do Sul              130\n",
      "Itajaí                         96\n",
      "Curitiba                       52\n",
      "Blumenau                       51\n",
      "Rio de Janeiro                 49\n",
      "Florianópolis                  41\n",
      "Belo Horizonte                 30\n",
      "São Francisco do Sul           28\n",
      "Fortaleza                      25\n",
      "Brasília                       25\n",
      "Sete Lagoas                    21\n",
      "Navegantes                     20\n",
      "Vila Velha                     19\n",
      "Franca                         18\n",
      "Schroeder                      18\n",
      "Salvador                       16\n",
      "Itapoá                         15\n",
      "Araquari                       15\n",
      "Goiânia                        14\n",
      "Campinas                       14\n",
      "Guaramirim                     14\n",
      "Recife                         14\n",
      "Tijucas                        13\n",
      "Jundiaí                        12\n",
      "Vitória                        11\n",
      "Balneário Piçarras             11\n",
      "Teresina                       11\n",
      "São Luís                       11\n",
      "Barra Velha                    11\n",
      "Rio do Sul                     10\n",
      "Penha                          10\n",
      "São José dos Pinhais           10\n",
      "Timbó                          10\n",
      "Caxias do Sul                   9\n",
      "Santos                          9\n",
      "Garuva                          9\n",
      "Porto Alegre                    9\n",
      "São José dos Campos             8\n",
      "Rio Negrinho                    8\n",
      "Osasco                          8\n",
      "Massaranduba                    8\n",
      "Sorocaba                        8\n",
      "Balneário Camboriú              8\n",
      "Ribeirão Preto                  8\n",
      "Brusque                         7\n",
      "Abdon Batista                   7\n",
      "Londrina                        7\n",
      "Manaus                          7\n",
      "Pomerode                        7\n",
      "São Bernardo do Campo           7\n",
      "Natal                           7\n",
      "São José                        7\n",
      "Indaial                         6\n",
      "Belém                           6\n",
      "Indaiatuba                      6\n",
      "Maceió                          6\n",
      "Barueri                         6\n",
      "Lages                           6\n",
      "Criciúma                        5\n",
      "Sarzedo                         5\n",
      "Diadema                         5\n",
      "Ponta Grossa                    5\n",
      "Cachoeirinha                    5\n",
      "Camboriú                        5\n",
      "Serra                           5\n",
      "Cariacica                       5\n",
      "Abelardo Luz                    4\n",
      "Novo Hamburgo                   4\n",
      "Cuiabá                          4\n",
      "Santana de Parnaíba             4\n",
      "Uberlândia                      4\n",
      "Mauá                            4\n",
      "Balneário Barra do Sul          4\n",
      "Campo Alegre                    4\n",
      "Aracaju                         4\n",
      "Canoas                          4\n",
      "Guarulhos                       4\n",
      "Rio Claro                       4\n",
      "Corupá                          4\n",
      "Petrópolis                      4\n",
      "Botucatu                        4\n",
      "Santo André                     4\n",
      "Contagem                        4\n",
      "Campo Grande                    4\n",
      "Concórdia                       4\n",
      "Jaguariaíva                     3\n",
      "Ibirama                         3\n",
      "Itapevi                         3\n",
      "Atibaia                         3\n",
      "Porto Belo                      3\n",
      "Presidente Getúlio              3\n",
      "Pinhais                         3\n",
      "Belo Jardim                     3\n",
      "Gravataí                        3\n",
      "Palmas                          3\n",
      "Erechim                         3\n",
      "Gaspar                          3\n",
      "Palhoça                         3\n",
      "São Gonçalo                     3\n",
      "Passos                          3\n",
      "Itaiópolis                      3\n",
      "São Caetano do Sul              3\n",
      "Uberaba                         3\n",
      "Joinville                       3\n",
      "Chapecó                         3\n",
      "Carapicuíba                     3\n",
      "Itapecerica da Serra            2\n",
      "Patos de Minas                  2\n",
      "Fraiburgo                       2\n",
      "Franco da Rocha                 2\n",
      "Abaiara                         2\n",
      "Ji-Paraná                       2\n",
      "Teresópolis                     2\n",
      "Ourinhos                        2\n",
      "Embu das Artes                  2\n",
      "Curitibanos                     2\n",
      "Feira de Santana                2\n",
      "Betim                           2\n",
      "Campina Grande                  2\n",
      "Macaé                           2\n",
      "Camaçari                        2\n",
      "Cocal do Sul                    2\n",
      "Antônio Carlos                  2\n",
      "Esteio                          2\n",
      "Medianeira                      2\n",
      "Ipatinga                        2\n",
      "Bragança Paulista               2\n",
      "Otacílio Costa                  2\n",
      "Itacoatiara                     2\n",
      "Duque de Caxias                 2\n",
      "Sumaré                          2\n",
      "Jaboatão dos Guararapes         2\n",
      "Embu-Guaçu                      2\n",
      "Toledo                          2\n",
      "Cascavel                        2\n",
      "Guarujá                         2\n",
      "Monte Alto                      2\n",
      "Santa Maria                     2\n",
      "Guaporé                         2\n",
      "Ijuí                            2\n",
      "Foz do Iguaçu                   2\n",
      "Guaratuba                       2\n",
      "São Bento                       2\n",
      "Cosmópolis                      2\n",
      "Montes Claros                   2\n",
      "Mogi das Cruzes                 2\n",
      "Araraquara                      2\n",
      "União da Vitória                2\n",
      "Petrolina                       2\n",
      "Itapema                         2\n",
      "Niterói                         2\n",
      "Abaeté                          2\n",
      "Maringá                         2\n",
      "Piumhi                          2\n",
      "Pato Branco                     2\n",
      "Piracicaba                      2\n",
      "Ilha Solteira                   1\n",
      "Valinhos                        1\n",
      "Araucária                       1\n",
      "Alfenas                         1\n",
      "Jacareí                         1\n",
      "Miracatu                        1\n",
      "Timóteo                         1\n",
      "Joinville - SC                  1\n",
      "Videira                         1\n",
      "Campo Mourão                    1\n",
      "Pelotas                         1\n",
      "Valença                         1\n",
      "Cianorte                        1\n",
      "Abatiá                          1\n",
      "Tubarão                         1\n",
      "Petrolândia                     1\n",
      "Juruti                          1\n",
      "Cabo Verde                      1\n",
      "Buenos Aires                    1\n",
      "Nilópolis                       1\n",
      "Cruz Alta                       1\n",
      "Carmo                           1\n",
      "Canaã dos Carajás               1\n",
      "Itaperuna                       1\n",
      "Canoinhas                       1\n",
      "Telêmaco Borba                  1\n",
      "Biguaçu                         1\n",
      "Moju                            1\n",
      "Braço do Trombudo               1\n",
      "Barra de Santo Antônio          1\n",
      "Guaranésia                      1\n",
      "Pacatuba                        1\n",
      "São Carlos                      1\n",
      "Almirante Tamandaré             1\n",
      "Castilho                        1\n",
      "Campos Novos                    1\n",
      "Maracás                         1\n",
      "São João do Itaperiú            1\n",
      "Capivari de Baixo               1\n",
      "Cornélio Procópio               1\n",
      "Parnamirim                      1\n",
      "Várzea Grande                   1\n",
      "Guarapari                       1\n",
      "Matinhos                        1\n",
      "Caucaia                         1\n",
      "Santa Terezinha                 1\n",
      "Piên                            1\n",
      "Dois Vizinhos                   1\n",
      "Santa Rosa                      1\n",
      "Guariba                         1\n",
      "Goiás                           1\n",
      "Luiz Alves                      1\n",
      "Rio Branco                      1\n",
      "Papanduva                       1\n",
      "Nova Iguaçu de Goiás            1\n",
      "Taubaté                         1\n",
      "São Bonifácio                   1\n",
      "Meleiro                         1\n",
      "Lagoa da Prata                  1\n",
      "Guabiruba                       1\n",
      "Estância                        1\n",
      "Pindamonhangaba                 1\n",
      "Pacajus                         1\n",
      "Ananindeua                      1\n",
      "Ilhéus                          1\n",
      "São José do Rio Preto           1\n",
      "Três Lagoas                     1\n",
      "Canguaretama                    1\n",
      "Tiradentes do Sul               1\n",
      "Siderópolis                     1\n",
      "Jacobina                        1\n",
      "Irati                           1\n",
      "Pacaembu                        1\n",
      "Laurentino                      1\n",
      "Juazeiro do Norte               1\n",
      "Garibaldi                       1\n",
      "Praia Grande                    1\n",
      "Ibatiba                         1\n",
      "Cajamar                         1\n",
      "Teutônia                        1\n",
      "Trombudo Central                1\n",
      "Porto Velho                     1\n",
      "Adamantina                      1\n",
      "São Miguel do Oeste             1\n",
      "Cachoeiro de Itapemirim         1\n",
      "Santa Bárbara d'Oeste           1\n",
      "Galiléia                        1\n",
      "Aracruz                         1\n",
      "São Mateus                      1\n",
      "José Bonifácio                  1\n",
      "Juazeiro                        1\n",
      "Passo Fundo                     1\n",
      "Ribeirão Pires                  1\n",
      "Barra Mansa                     1\n",
      "Alto Alegre do Maranhão         1\n",
      "Goianésia                       1\n",
      "Caçador                         1\n",
      "Taquari                         1\n",
      "Itu                             1\n",
      "Tatuí                           1\n",
      "Anita Garibaldi                 1\n",
      "São Lourenço da Mata            1\n",
      "Bauru                           1\n",
      "Araçatuba                       1\n",
      "Marechal Deodoro                1\n",
      "Ibirité                         1\n",
      "Sapucaia do Sul                 1\n",
      "Santa Cruz do Rio Pardo         1\n",
      "Pedro Leopoldo                  1\n",
      "Santo Antônio do Pinhal         1\n",
      "Nova Europa                     1\n",
      "São Miguel do Iguaçu            1\n",
      "Mogi Guaçu                      1\n",
      "Valparaíso de Goiás             1\n",
      "Manhuaçu                        1\n",
      "Rio Negro                       1\n",
      "Itajubá                         1\n",
      "Garopaba                        1\n",
      "Unaí                            1\n",
      "Araruama                        1\n",
      "São José de Ribamar             1\n",
      "Piracaia                        1\n",
      "Paço do Lumiar                  1\n",
      "Abre Campo                      1\n",
      "Lauro de Freitas                1\n",
      "Mogi Mirim                      1\n",
      "Taboão da Serra                 1\n",
      "Salto                           1\n",
      "Três Passos                     1\n",
      "Lontras                         1\n",
      "Maricá                          1\n",
      "Guaraçaí                        1\n",
      "Eldorado do Sul                 1\n",
      "Abreulândia                     1\n",
      "Jaú                             1\n",
      "Nova Odessa                     1\n",
      "Araxá                           1\n",
      "Juiz de Fora                    1\n",
      "Colombo                         1\n",
      "Imaruí                          1\n",
      "Igarapé                         1\n",
      "Fazenda Rio Grande              1\n",
      "Cristalina                      1\n",
      "Itupeva                         1\n",
      "Limeira                         1\n",
      "Primavera do Leste              1\n",
      "Aperibé                         1\n",
      "Dois Irmãos                     1\n",
      "Nova Friburgo                   1\n",
      "Abadia de Goiás                 1\n",
      "Treze Tílias                    1\n",
      "Gramado                         1\n",
      "São Francisco do Sul - SC       1\n",
      "Suzano                          1\n",
      "Name: count, dtype: int64\n"
     ]
    }
   ],
   "source": [
    "with pd.option_context('display.max_rows', None, 'display.max_columns', None):\n",
    "    print(rd_station['cidade'].value_counts())"
   ]
  },
  {
   "cell_type": "code",
   "execution_count": 155,
   "metadata": {},
   "outputs": [
    {
     "name": "stdout",
     "output_type": "stream",
     "text": [
      "email                                                                                            41722\n",
      "estágio_no_funil                                                                                 41722\n",
      "total_de_conversões                                                                              41722\n",
      "url_pública                                                                                      41722\n",
      "status_para_comunicação_por_email                                                                41722\n",
      "lead_scoring_-_interesse                                                                         41722\n",
      "lead_scoring_-_perfil                                                                            41722\n",
      "base_legal_para_comunicação                                                                      41660\n",
      "eventos_(últimos_100)                                                                            41340\n",
      "origem_da_última_conversão                                                                       41340\n",
      "data_da_última_conversão                                                                         41340\n",
      "origem_da_primeira_conversão                                                                     41340\n",
      "data_da_primeira_conversão                                                                       41340\n",
      "nome                                                                                             41024\n",
      "curso_de_interesse:                                                                              18186\n",
      "empresa                                                                                          17573\n",
      "cargo.1                                                                                          14484\n",
      "celular                                                                                          12741\n",
      "celular.1                                                                                        11509\n",
      "tags                                                                                             10378\n",
      "telefone                                                                                          8306\n",
      "data_da_última_oportunidade                                                                       7465\n",
      "cargo                                                                                             7335\n",
      "estado                                                                                            6983\n",
      "etapa_do_funil_de_vendas_no_crm_(última_atualização)                                              6549\n",
      "qualificação_da_oportunidade_no_crm_(última_atualização)                                          6549\n",
      "nome_do_responsável_pela_oportunidade_no_crm_(última_atualização)                                 6549\n",
      "valor_total_da_oportunidade_no_crm_(última_atualização)                                           6549\n",
      "origem_da_oportunidade_no_crm_(última_atualização)                                                6351\n",
      "dono_do_lead                                                                                      5864\n",
      "funil_de_vendas_no_crm_(última_atualização)                                                       4778\n",
      "cidade                                                                                            4644\n",
      "possui_interesse_em_realizar_uma_pós-graduação_ou_mba?                                            4577\n",
      "qual_é_a_sua_área_de_atuação?                                                                     3593\n",
      "cpf                                                                                               3386\n",
      "selecione_o_curso_desejado:.1                                                                     3353\n",
      "rg                                                                                                3188\n",
      "data_de_nascimento                                                                                2994\n",
      "endereço_(rua,_número_e_complemento)                                                              2774\n",
      "motivo_de_perda_no_rd_station_crm                                                                 2768\n",
      "qual_a_sua_área_de_atuação?                                                                       2513\n",
      "curso_de_graduação                                                                                2284\n",
      "desejo_receber_o_sustentare_news                                                                  2064\n",
      "data_da_última_venda                                                                              1978\n",
      "valor_da_última_venda                                                                             1974\n",
      "como_você_conheceu_a_sustentare:                                                                  1954\n",
      "bairro                                                                                            1929\n",
      "naturalidade                                                                                      1917\n",
      "ano                                                                                               1902\n",
      "universidade                                                                                      1901\n",
      "cep                                                                                               1861\n",
      "pós-graduado?:                                                                                    1668\n",
      "orgão_emissor                                                                                     1664\n",
      "data_da_expedição                                                                                 1659\n",
      "email2                                                                                            1568\n",
      "reside_em:                                                                                        1174\n",
      "qual_sua_área_de_interesse?                                                                       1063\n",
      "telefone_comercial.1                                                                               948\n",
      "curso_de_formação_e_capacitação                                                                    922\n",
      "fone:                                                                                              807\n",
      "não_associado                                                                                      786\n",
      "associado_ajorpeme                                                                                 786\n",
      "professor                                                                                          786\n",
      "estudante                                                                                          786\n",
      "inscrições_gratuitas_para_ex-alunos_e_alunos_(deverão_trazer_um_amigo_-_ver_rede_de_amizades)      783\n",
      "inscrições_gratuitas_para_interessados_(novos_alunos_2016)                                         783\n",
      "inscrição_para_comunidade_-_r$_40,00_*pagamento_via_boleto_bancário                                783\n",
      "data_do_exame:                                                                                     645\n",
      "selecione_o_curso_desejado:.2                                                                      644\n",
      "quantas_pessoas_você_lidera?                                                                       641\n",
      "dtype: int64\n"
     ]
    }
   ],
   "source": [
    "#rd_station.notnull().sum().sort_values(ascending=False).head(70)\n",
    "# To be able to look at all the lines\n",
    "with pd.option_context('display.max_rows', None, 'display.max_columns', None):\n",
    "    print(rd_station.notnull().sum().sort_values(ascending=False).head(70))"
   ]
  },
  {
   "cell_type": "markdown",
   "metadata": {},
   "source": [
    "### If wanted to created a subset with the most responds field"
   ]
  },
  {
   "cell_type": "code",
   "execution_count": 156,
   "metadata": {},
   "outputs": [],
   "source": [
    "top_50_filled = rd_station.notnull().sum().sort_values(ascending=False).head(50).index\n",
    "rd_station_columns_responds_most = rd_station[top_50_filled]"
   ]
  },
  {
   "cell_type": "markdown",
   "metadata": {},
   "source": [
    "## Creating a subset with the information on the lead <> Profile"
   ]
  },
  {
   "cell_type": "code",
   "execution_count": 157,
   "metadata": {},
   "outputs": [],
   "source": [
    "rd_station_profile = rd_station[[\n",
    "    'email', 'nome', 'lead_scoring_-_perfil', 'url_pública', 'estágio_no_funil', 'total_de_conversões',\n",
    "    'lead_scoring_-_interesse', 'status_para_comunicação_por_email',\n",
    "    'data_da_primeira_conversão', 'eventos_(últimos_100)', 'origem_da_última_conversão',\n",
    "    'data_da_última_conversão', 'origem_da_primeira_conversão', 'curso_de_interesse:',\n",
    "    'empresa', 'cargo.1', 'tags', 'data_da_última_oportunidade', 'cargo', 'estado',\n",
    "    'valor_total_da_oportunidade_no_crm_(última_atualização)',\n",
    "    'qualificação_da_oportunidade_no_crm_(última_atualização)',\n",
    "    'etapa_do_funil_de_vendas_no_crm_(última_atualização)',\n",
    "    'nome_do_responsável_pela_oportunidade_no_crm_(última_atualização)',\n",
    "    'origem_da_oportunidade_no_crm_(última_atualização)',\n",
    "    'cidade', 'possui_interesse_em_realizar_uma_pós-graduação_ou_mba?',\n",
    "    'qual_é_a_sua_área_de_atuação?', 'selecione_o_curso_desejado:.1',\n",
    "    'qual_a_sua_área_de_atuação?', 'data_de_nascimento',\n",
    "    'desejo_receber_o_sustentare_news', 'qual_sua_área_de_interesse?',\n",
    "    'como_você_conheceu_a_sustentare:', 'universidade', 'reside_em:',\n",
    "    'cidade_de_residência:', 'interesse_em', 'qual_o_curso_de_interesse?'\n",
    "]]"
   ]
  },
  {
   "cell_type": "markdown",
   "metadata": {},
   "source": [
    "### Got different columns with representing the same thing, compiling all in one new columns"
   ]
  },
  {
   "cell_type": "markdown",
   "metadata": {},
   "source": [
    "Represents City: 'Cidade', 'Reside em:' and 'Cidade de residência:'"
   ]
  },
  {
   "cell_type": "code",
   "execution_count": 158,
   "metadata": {},
   "outputs": [
    {
     "name": "stderr",
     "output_type": "stream",
     "text": [
      "C:\\Users\\anafl\\AppData\\Local\\Temp\\ipykernel_50876\\1712831611.py:2: SettingWithCopyWarning: \n",
      "A value is trying to be set on a copy of a slice from a DataFrame.\n",
      "Try using .loc[row_indexer,col_indexer] = value instead\n",
      "\n",
      "See the caveats in the documentation: https://pandas.pydata.org/pandas-docs/stable/user_guide/indexing.html#returning-a-view-versus-a-copy\n",
      "  rd_station_profile.loc[:, 'cidade_final'] = (\n"
     ]
    }
   ],
   "source": [
    "# Using .loc because was receiving 'SettingWithCopyWarning'\n",
    "rd_station_profile.loc[:, 'cidade_final'] = (\n",
    "    rd_station_profile['cidade']\n",
    "    .fillna(rd_station_profile['reside_em:'])\n",
    "    .fillna(rd_station_profile['cidade_de_residência:'])\n",
    ")\n"
   ]
  },
  {
   "cell_type": "markdown",
   "metadata": {},
   "source": [
    "Represents Position at the company: 'Cargo.1' and 'Cargo'"
   ]
  },
  {
   "cell_type": "code",
   "execution_count": 159,
   "metadata": {},
   "outputs": [
    {
     "name": "stderr",
     "output_type": "stream",
     "text": [
      "C:\\Users\\anafl\\AppData\\Local\\Temp\\ipykernel_50876\\1555167880.py:1: SettingWithCopyWarning: \n",
      "A value is trying to be set on a copy of a slice from a DataFrame.\n",
      "Try using .loc[row_indexer,col_indexer] = value instead\n",
      "\n",
      "See the caveats in the documentation: https://pandas.pydata.org/pandas-docs/stable/user_guide/indexing.html#returning-a-view-versus-a-copy\n",
      "  rd_station_profile.loc[:, 'cargo_final'] = (\n"
     ]
    }
   ],
   "source": [
    "rd_station_profile.loc[:, 'cargo_final'] = (\n",
    "    rd_station_profile['cargo.1']\n",
    "    .fillna(rd_station_profile['cargo'])\n",
    ")"
   ]
  },
  {
   "cell_type": "markdown",
   "metadata": {},
   "source": [
    "Represents area of work in the company: 'Qual a sua área de atuação?', 'Qual a sua área de atuação?'"
   ]
  },
  {
   "cell_type": "code",
   "execution_count": 160,
   "metadata": {},
   "outputs": [
    {
     "name": "stderr",
     "output_type": "stream",
     "text": [
      "C:\\Users\\anafl\\AppData\\Local\\Temp\\ipykernel_50876\\814111575.py:1: SettingWithCopyWarning: \n",
      "A value is trying to be set on a copy of a slice from a DataFrame.\n",
      "Try using .loc[row_indexer,col_indexer] = value instead\n",
      "\n",
      "See the caveats in the documentation: https://pandas.pydata.org/pandas-docs/stable/user_guide/indexing.html#returning-a-view-versus-a-copy\n",
      "  rd_station_profile.loc[:, 'area_atuacao'] = (\n"
     ]
    }
   ],
   "source": [
    "rd_station_profile.loc[:, 'area_atuacao'] = (\n",
    "    rd_station_profile['qual_é_a_sua_área_de_atuação?']\n",
    "    .fillna(rd_station_profile['qual_a_sua_área_de_atuação?'])\n",
    ")"
   ]
  },
  {
   "cell_type": "markdown",
   "metadata": {},
   "source": [
    "Represents course interest: 'Curso de interesse:', 'Qual sua área de interesse?' and 'Interesse em'"
   ]
  },
  {
   "cell_type": "code",
   "execution_count": 161,
   "metadata": {},
   "outputs": [
    {
     "name": "stderr",
     "output_type": "stream",
     "text": [
      "C:\\Users\\anafl\\AppData\\Local\\Temp\\ipykernel_50876\\2982015989.py:1: SettingWithCopyWarning: \n",
      "A value is trying to be set on a copy of a slice from a DataFrame.\n",
      "Try using .loc[row_indexer,col_indexer] = value instead\n",
      "\n",
      "See the caveats in the documentation: https://pandas.pydata.org/pandas-docs/stable/user_guide/indexing.html#returning-a-view-versus-a-copy\n",
      "  rd_station_profile.loc[:, 'interesse_final'] = (\n"
     ]
    }
   ],
   "source": [
    "rd_station_profile.loc[:, 'interesse_final'] = (\n",
    "    rd_station_profile['curso_de_interesse:']\n",
    "    .fillna(rd_station_profile['selecione_o_curso_desejado:.1'])\n",
    "    .fillna(rd_station_profile['qual_sua_área_de_interesse?'])\n",
    "    .fillna(rd_station_profile['interesse_em'])\n",
    "    .fillna(rd_station_profile['qual_o_curso_de_interesse?'])\n",
    ")"
   ]
  },
  {
   "cell_type": "code",
   "execution_count": 162,
   "metadata": {},
   "outputs": [
    {
     "name": "stdout",
     "output_type": "stream",
     "text": [
      "email                                                                    0\n",
      "nome                                                                   698\n",
      "lead_scoring_-_perfil                                                    0\n",
      "url_pública                                                              0\n",
      "estágio_no_funil                                                         0\n",
      "total_de_conversões                                                      0\n",
      "lead_scoring_-_interesse                                                 0\n",
      "status_para_comunicação_por_email                                        0\n",
      "data_da_primeira_conversão                                             382\n",
      "eventos_(últimos_100)                                                  382\n",
      "origem_da_última_conversão                                             382\n",
      "data_da_última_conversão                                               382\n",
      "origem_da_primeira_conversão                                           382\n",
      "curso_de_interesse:                                                  23536\n",
      "empresa                                                              24149\n",
      "cargo.1                                                              27238\n",
      "tags                                                                 31344\n",
      "data_da_última_oportunidade                                          34257\n",
      "cargo                                                                34387\n",
      "estado                                                               34739\n",
      "valor_total_da_oportunidade_no_crm_(última_atualização)              35173\n",
      "qualificação_da_oportunidade_no_crm_(última_atualização)             35173\n",
      "etapa_do_funil_de_vendas_no_crm_(última_atualização)                 35173\n",
      "nome_do_responsável_pela_oportunidade_no_crm_(última_atualização)    35173\n",
      "origem_da_oportunidade_no_crm_(última_atualização)                   35371\n",
      "cidade                                                               37078\n",
      "possui_interesse_em_realizar_uma_pós-graduação_ou_mba?               37145\n",
      "qual_é_a_sua_área_de_atuação?                                        38129\n",
      "selecione_o_curso_desejado:.1                                        38369\n",
      "qual_a_sua_área_de_atuação?                                          39209\n",
      "data_de_nascimento                                                   38728\n",
      "desejo_receber_o_sustentare_news                                     39658\n",
      "qual_sua_área_de_interesse?                                          40659\n",
      "como_você_conheceu_a_sustentare:                                     39768\n",
      "universidade                                                         39821\n",
      "reside_em:                                                           40548\n",
      "cidade_de_residência:                                                41182\n",
      "interesse_em                                                         41248\n",
      "qual_o_curso_de_interesse?                                           41264\n",
      "cidade_final                                                         36235\n",
      "cargo_final                                                          21926\n",
      "area_atuacao                                                         35800\n",
      "interesse_final                                                      22223\n",
      "dtype: int64\n"
     ]
    }
   ],
   "source": [
    "with pd.option_context('display.max_rows', None, 'display.max_columns', None):\n",
    "    print(rd_station_profile.isna().sum())"
   ]
  },
  {
   "cell_type": "markdown",
   "metadata": {},
   "source": [
    "With this I was able to reduce \n",
    "- *Cidade* had 37078 null values now 36235\n",
    "- *Cargo* had 27238 null values now 21926\n",
    "- *Area Atuacao* had 39209 null values now 35800\n",
    "- *Interesse Final* had 23536 null values now 22223"
   ]
  },
  {
   "cell_type": "code",
   "execution_count": 163,
   "metadata": {},
   "outputs": [],
   "source": [
    "rd_station_profile = rd_station_profile.drop(columns=['cidade', 'reside_em:', 'cidade_de_residência:', 'cargo.1', 'cargo', 'qual_é_a_sua_área_de_atuação?', 'qual_a_sua_área_de_atuação?', 'curso_de_interesse:', 'qual_sua_área_de_interesse?', 'interesse_em', 'selecione_o_curso_desejado:.1'])"
   ]
  },
  {
   "cell_type": "markdown",
   "metadata": {},
   "source": [
    "# Dealing with the CRM information"
   ]
  },
  {
   "cell_type": "code",
   "execution_count": 164,
   "metadata": {},
   "outputs": [],
   "source": [
    "info_student_unimestre = pd.read_csv(\"../data/info_student_unimestre.csv\")\n",
    "first_cd_turma_student = pd.read_csv(\"../data/first_cd_turma_for_student_unimestre.csv\")\n",
    "dt_cadastro_student = pd.read_csv(\"../data/dt_cadastro_student_unimestre.csv\")\n",
    "name_student = pd.read_csv(\"../data/name_student_unimestre.csv\")"
   ]
  },
  {
   "cell_type": "code",
   "execution_count": 165,
   "metadata": {},
   "outputs": [
    {
     "data": {
      "text/plain": [
       "cd_pessoa           0\n",
       "ds_email            0\n",
       "ds_cidade        2248\n",
       "dt_nascimento    1156\n",
       "min_dt_log       8144\n",
       "dtype: int64"
      ]
     },
     "execution_count": 165,
     "metadata": {},
     "output_type": "execute_result"
    }
   ],
   "source": [
    "info_student_unimestre.isna().sum()"
   ]
  },
  {
   "cell_type": "code",
   "execution_count": 166,
   "metadata": {},
   "outputs": [
    {
     "data": {
      "text/plain": [
       "(12056, 5)"
      ]
     },
     "execution_count": 166,
     "metadata": {},
     "output_type": "execute_result"
    }
   ],
   "source": [
    "info_student_unimestre.shape"
   ]
  },
  {
   "cell_type": "markdown",
   "metadata": {},
   "source": [
    "Trying to get less null values on the min_dt_log"
   ]
  },
  {
   "cell_type": "code",
   "execution_count": 134,
   "metadata": {},
   "outputs": [],
   "source": [
    "merged_df = pd.merge(info_student_unimestre, dt_cadastro_student[['cd_pessoa', 'dt_cadastro']], on='cd_pessoa', how='left')\n",
    "merged_df = pd.merge(merged_df, first_cd_turma_student[['cd_pessoa', 'min_date']], on='cd_pessoa', how='left')\n",
    "\n",
    "info_student_unimestre['min_dt_log'] = merged_df['dt_cadastro'].fillna(merged_df['min_date']).fillna(info_student_unimestre['min_dt_log'])"
   ]
  },
  {
   "cell_type": "code",
   "execution_count": 135,
   "metadata": {},
   "outputs": [
    {
     "data": {
      "text/plain": [
       "cd_pessoa           0\n",
       "ds_email            0\n",
       "ds_cidade        2248\n",
       "dt_nascimento    1156\n",
       "min_dt_log        151\n",
       "dtype: int64"
      ]
     },
     "execution_count": 135,
     "metadata": {},
     "output_type": "execute_result"
    }
   ],
   "source": [
    "info_student_unimestre.isna().sum()"
   ]
  },
  {
   "cell_type": "markdown",
   "metadata": {},
   "source": [
    "Was able to reduce \n",
    "- *min_dt_log* had 9163 null values now 151"
   ]
  },
  {
   "cell_type": "markdown",
   "metadata": {},
   "source": [
    "Creating a df to be only one row per ds_email (to avoid the duplicates values checked in the exploring file)"
   ]
  },
  {
   "cell_type": "code",
   "execution_count": 136,
   "metadata": {},
   "outputs": [],
   "source": [
    "info_student_unimestre_unique = info_student_unimestre.groupby('ds_email').first().reset_index()"
   ]
  },
  {
   "cell_type": "markdown",
   "metadata": {},
   "source": []
  },
  {
   "cell_type": "markdown",
   "metadata": {},
   "source": [
    "# Joining Marketing info with CRM"
   ]
  },
  {
   "cell_type": "code",
   "execution_count": 137,
   "metadata": {},
   "outputs": [],
   "source": [
    "merge_left = rd_station_profile.merge(info_student_unimestre_unique, left_on='email', right_on='ds_email', how='left')"
   ]
  },
  {
   "cell_type": "markdown",
   "metadata": {},
   "source": [
    "Creating a new column saying it's a student when a cd_pessoa is found"
   ]
  },
  {
   "cell_type": "code",
   "execution_count": 138,
   "metadata": {},
   "outputs": [
    {
     "data": {
      "text/plain": [
       "aluno\n",
       "0    37599\n",
       "1     4123\n",
       "Name: count, dtype: int64"
      ]
     },
     "execution_count": 138,
     "metadata": {},
     "output_type": "execute_result"
    }
   ],
   "source": [
    "merge_left['aluno'] = (merge_left['cd_pessoa'].notnull()).astype(int)\n",
    "merge_left['aluno'].value_counts()"
   ]
  },
  {
   "cell_type": "markdown",
   "metadata": {},
   "source": [
    "## Got different columns with representing the same thing, compiling all in one new columns"
   ]
  },
  {
   "cell_type": "markdown",
   "metadata": {},
   "source": [
    "Represents city of the person: 'ds_cidade', 'Cidade Final'"
   ]
  },
  {
   "cell_type": "code",
   "execution_count": 139,
   "metadata": {},
   "outputs": [],
   "source": [
    "merge_left.loc[:, 'cidade'] = (\n",
    "    merge_left['ds_cidade']\n",
    "    .fillna(merge_left['cidade_final'])\n",
    ")"
   ]
  },
  {
   "cell_type": "markdown",
   "metadata": {},
   "source": [
    "Represents city of the person: 'ds_cidade', 'Cidade Final'"
   ]
  },
  {
   "cell_type": "code",
   "execution_count": 140,
   "metadata": {},
   "outputs": [],
   "source": [
    "merge_left.loc[:, 'data_nascimento'] = (\n",
    "    merge_left['dt_nascimento']\n",
    "    .fillna(merge_left['data_de_nascimento'])\n",
    ")"
   ]
  },
  {
   "cell_type": "code",
   "execution_count": 141,
   "metadata": {},
   "outputs": [
    {
     "data": {
      "text/html": [
       "<div>\n",
       "<style scoped>\n",
       "    .dataframe tbody tr th:only-of-type {\n",
       "        vertical-align: middle;\n",
       "    }\n",
       "\n",
       "    .dataframe tbody tr th {\n",
       "        vertical-align: top;\n",
       "    }\n",
       "\n",
       "    .dataframe thead th {\n",
       "        text-align: right;\n",
       "    }\n",
       "</style>\n",
       "<table border=\"1\" class=\"dataframe\">\n",
       "  <thead>\n",
       "    <tr style=\"text-align: right;\">\n",
       "      <th></th>\n",
       "      <th>email</th>\n",
       "      <th>nome</th>\n",
       "      <th>lead_scoring_-_perfil</th>\n",
       "      <th>url_pública</th>\n",
       "      <th>estágio_no_funil</th>\n",
       "      <th>total_de_conversões</th>\n",
       "      <th>lead_scoring_-_interesse</th>\n",
       "      <th>status_para_comunicação_por_email</th>\n",
       "      <th>data_da_primeira_conversão</th>\n",
       "      <th>eventos_(últimos_100)</th>\n",
       "      <th>...</th>\n",
       "      <th>area_atuacao</th>\n",
       "      <th>interesse_final</th>\n",
       "      <th>ds_email</th>\n",
       "      <th>cd_pessoa</th>\n",
       "      <th>ds_cidade</th>\n",
       "      <th>dt_nascimento</th>\n",
       "      <th>min_dt_log</th>\n",
       "      <th>aluno</th>\n",
       "      <th>cidade</th>\n",
       "      <th>data_nascimento</th>\n",
       "    </tr>\n",
       "  </thead>\n",
       "  <tbody>\n",
       "    <tr>\n",
       "      <th>20052</th>\n",
       "      <td>dossantosdiogo88@gmail.com</td>\n",
       "      <td>Diogo</td>\n",
       "      <td>c</td>\n",
       "      <td>http://app.rdstation.com.br/leads/public/4a3af...</td>\n",
       "      <td>Lead</td>\n",
       "      <td>6</td>\n",
       "      <td>60</td>\n",
       "      <td>True</td>\n",
       "      <td>2019-11-29 14:52:14 -0300</td>\n",
       "      <td>equipes-de-alta-performance-aula / infografico...</td>\n",
       "      <td>...</td>\n",
       "      <td>Engenharia</td>\n",
       "      <td>equipes-de-alta-performance-aula</td>\n",
       "      <td>NaN</td>\n",
       "      <td>NaN</td>\n",
       "      <td>NaN</td>\n",
       "      <td>NaN</td>\n",
       "      <td>NaN</td>\n",
       "      <td>0</td>\n",
       "      <td>NaN</td>\n",
       "      <td>NaN</td>\n",
       "    </tr>\n",
       "  </tbody>\n",
       "</table>\n",
       "<p>1 rows × 40 columns</p>\n",
       "</div>"
      ],
      "text/plain": [
       "                            email   nome lead_scoring_-_perfil  \\\n",
       "20052  dossantosdiogo88@gmail.com  Diogo                     c   \n",
       "\n",
       "                                             url_pública estágio_no_funil  \\\n",
       "20052  http://app.rdstation.com.br/leads/public/4a3af...             Lead   \n",
       "\n",
       "       total_de_conversões  lead_scoring_-_interesse  \\\n",
       "20052                    6                        60   \n",
       "\n",
       "       status_para_comunicação_por_email data_da_primeira_conversão  \\\n",
       "20052                               True  2019-11-29 14:52:14 -0300   \n",
       "\n",
       "                                   eventos_(últimos_100)  ... area_atuacao  \\\n",
       "20052  equipes-de-alta-performance-aula / infografico...  ...   Engenharia   \n",
       "\n",
       "                        interesse_final ds_email cd_pessoa ds_cidade  \\\n",
       "20052  equipes-de-alta-performance-aula      NaN       NaN       NaN   \n",
       "\n",
       "      dt_nascimento min_dt_log  aluno  cidade data_nascimento  \n",
       "20052           NaN        NaN      0     NaN             NaN  \n",
       "\n",
       "[1 rows x 40 columns]"
      ]
     },
     "execution_count": 141,
     "metadata": {},
     "output_type": "execute_result"
    }
   ],
   "source": [
    "merge_left.sample()"
   ]
  },
  {
   "cell_type": "markdown",
   "metadata": {},
   "source": [
    "With this I was able to reduce \n",
    "- *Cidade* had 35856 null values now 33986\n",
    "- *Data Nascimento* had 38346 null values now 36117"
   ]
  },
  {
   "cell_type": "markdown",
   "metadata": {},
   "source": [
    "Dropping columns with replicate values"
   ]
  },
  {
   "cell_type": "code",
   "execution_count": 142,
   "metadata": {},
   "outputs": [],
   "source": [
    "merge_left = merge_left.drop(columns=['ds_cidade', 'cidade_final', 'dt_nascimento', 'data_de_nascimento'])"
   ]
  },
  {
   "cell_type": "code",
   "execution_count": 143,
   "metadata": {},
   "outputs": [
    {
     "data": {
      "text/html": [
       "<div>\n",
       "<style scoped>\n",
       "    .dataframe tbody tr th:only-of-type {\n",
       "        vertical-align: middle;\n",
       "    }\n",
       "\n",
       "    .dataframe tbody tr th {\n",
       "        vertical-align: top;\n",
       "    }\n",
       "\n",
       "    .dataframe thead th {\n",
       "        text-align: right;\n",
       "    }\n",
       "</style>\n",
       "<table border=\"1\" class=\"dataframe\">\n",
       "  <thead>\n",
       "    <tr style=\"text-align: right;\">\n",
       "      <th></th>\n",
       "      <th>email</th>\n",
       "      <th>nome</th>\n",
       "      <th>lead_scoring_-_perfil</th>\n",
       "      <th>url_pública</th>\n",
       "      <th>estágio_no_funil</th>\n",
       "      <th>total_de_conversões</th>\n",
       "      <th>lead_scoring_-_interesse</th>\n",
       "      <th>status_para_comunicação_por_email</th>\n",
       "      <th>data_da_primeira_conversão</th>\n",
       "      <th>eventos_(últimos_100)</th>\n",
       "      <th>...</th>\n",
       "      <th>qual_o_curso_de_interesse?</th>\n",
       "      <th>cargo_final</th>\n",
       "      <th>area_atuacao</th>\n",
       "      <th>interesse_final</th>\n",
       "      <th>ds_email</th>\n",
       "      <th>cd_pessoa</th>\n",
       "      <th>min_dt_log</th>\n",
       "      <th>aluno</th>\n",
       "      <th>cidade</th>\n",
       "      <th>data_nascimento</th>\n",
       "    </tr>\n",
       "  </thead>\n",
       "  <tbody>\n",
       "    <tr>\n",
       "      <th>5597</th>\n",
       "      <td>carolineklock@hotmail.com</td>\n",
       "      <td>Caroline Klock</td>\n",
       "      <td>c</td>\n",
       "      <td>http://app.rdstation.com.br/leads/public/8717b...</td>\n",
       "      <td>Lead Qualificado</td>\n",
       "      <td>16</td>\n",
       "      <td>120</td>\n",
       "      <td>True</td>\n",
       "      <td>2015-09-01 19:17:37 -0300</td>\n",
       "      <td>jornada-assessment-instrumentos-para-lideranca...</td>\n",
       "      <td>...</td>\n",
       "      <td>Educação empresarial / Remuneração</td>\n",
       "      <td>Outros Cargos</td>\n",
       "      <td>RH</td>\n",
       "      <td>formulario-de-pre-inscricao</td>\n",
       "      <td>carolineklock@hotmail.com</td>\n",
       "      <td>128609.0</td>\n",
       "      <td>2017-08-21 00:00:00</td>\n",
       "      <td>1</td>\n",
       "      <td>Joinville</td>\n",
       "      <td>1985-09-21 00:00:00</td>\n",
       "    </tr>\n",
       "    <tr>\n",
       "      <th>16047</th>\n",
       "      <td>stella.bousfield@gmail.com</td>\n",
       "      <td>Stella Bousfield</td>\n",
       "      <td>c</td>\n",
       "      <td>http://app.rdstation.com.br/leads/public/1b271...</td>\n",
       "      <td>Cliente</td>\n",
       "      <td>27</td>\n",
       "      <td>170</td>\n",
       "      <td>True</td>\n",
       "      <td>2015-12-08 10:18:55 -0200</td>\n",
       "      <td>webinar-storytelling / indicado-sarau-de-negoc...</td>\n",
       "      <td>...</td>\n",
       "      <td>Responsabilidade social</td>\n",
       "      <td>Outros Cargos</td>\n",
       "      <td>Marketing</td>\n",
       "      <td>webinar-storytelling</td>\n",
       "      <td>stella.bousfield@gmail.com</td>\n",
       "      <td>160000017.0</td>\n",
       "      <td>2022-06-23 00:00:00</td>\n",
       "      <td>1</td>\n",
       "      <td>Joinville</td>\n",
       "      <td>1977-06-02 00:00:00</td>\n",
       "    </tr>\n",
       "  </tbody>\n",
       "</table>\n",
       "<p>2 rows × 36 columns</p>\n",
       "</div>"
      ],
      "text/plain": [
       "                            email              nome lead_scoring_-_perfil  \\\n",
       "5597    carolineklock@hotmail.com    Caroline Klock                     c   \n",
       "16047  stella.bousfield@gmail.com  Stella Bousfield                     c   \n",
       "\n",
       "                                             url_pública  estágio_no_funil  \\\n",
       "5597   http://app.rdstation.com.br/leads/public/8717b...  Lead Qualificado   \n",
       "16047  http://app.rdstation.com.br/leads/public/1b271...           Cliente   \n",
       "\n",
       "       total_de_conversões  lead_scoring_-_interesse  \\\n",
       "5597                    16                       120   \n",
       "16047                   27                       170   \n",
       "\n",
       "       status_para_comunicação_por_email data_da_primeira_conversão  \\\n",
       "5597                                True  2015-09-01 19:17:37 -0300   \n",
       "16047                               True  2015-12-08 10:18:55 -0200   \n",
       "\n",
       "                                   eventos_(últimos_100)  ...  \\\n",
       "5597   jornada-assessment-instrumentos-para-lideranca...  ...   \n",
       "16047  webinar-storytelling / indicado-sarau-de-negoc...  ...   \n",
       "\n",
       "               qual_o_curso_de_interesse?    cargo_final area_atuacao  \\\n",
       "5597   Educação empresarial / Remuneração  Outros Cargos           RH   \n",
       "16047             Responsabilidade social  Outros Cargos    Marketing   \n",
       "\n",
       "                   interesse_final                    ds_email    cd_pessoa  \\\n",
       "5597   formulario-de-pre-inscricao   carolineklock@hotmail.com     128609.0   \n",
       "16047         webinar-storytelling  stella.bousfield@gmail.com  160000017.0   \n",
       "\n",
       "                min_dt_log  aluno     cidade      data_nascimento  \n",
       "5597   2017-08-21 00:00:00      1  Joinville  1985-09-21 00:00:00  \n",
       "16047  2022-06-23 00:00:00      1  Joinville  1977-06-02 00:00:00  \n",
       "\n",
       "[2 rows x 36 columns]"
      ]
     },
     "execution_count": 143,
     "metadata": {},
     "output_type": "execute_result"
    }
   ],
   "source": [
    "merge_left[merge_left.notna().all(axis=1)]"
   ]
  },
  {
   "cell_type": "code",
   "execution_count": 145,
   "metadata": {},
   "outputs": [
    {
     "data": {
      "text/plain": [
       "email                                                                    0\n",
       "nome                                                                   698\n",
       "lead_scoring_-_perfil                                                    0\n",
       "url_pública                                                              0\n",
       "estágio_no_funil                                                         0\n",
       "total_de_conversões                                                      0\n",
       "lead_scoring_-_interesse                                                 0\n",
       "status_para_comunicação_por_email                                        0\n",
       "data_da_primeira_conversão                                             382\n",
       "eventos_(últimos_100)                                                  382\n",
       "origem_da_última_conversão                                             382\n",
       "data_da_última_conversão                                               382\n",
       "origem_da_primeira_conversão                                           382\n",
       "empresa                                                              24149\n",
       "tags                                                                 31344\n",
       "data_da_última_oportunidade                                          34257\n",
       "estado                                                               34739\n",
       "valor_total_da_oportunidade_no_crm_(última_atualização)              35173\n",
       "qualificação_da_oportunidade_no_crm_(última_atualização)             35173\n",
       "etapa_do_funil_de_vendas_no_crm_(última_atualização)                 35173\n",
       "nome_do_responsável_pela_oportunidade_no_crm_(última_atualização)    35173\n",
       "origem_da_oportunidade_no_crm_(última_atualização)                   35371\n",
       "possui_interesse_em_realizar_uma_pós-graduação_ou_mba?               37145\n",
       "desejo_receber_o_sustentare_news                                     39658\n",
       "como_você_conheceu_a_sustentare:                                     39768\n",
       "universidade                                                         39821\n",
       "qual_o_curso_de_interesse?                                           41264\n",
       "cargo_final                                                          21926\n",
       "area_atuacao                                                         35800\n",
       "interesse_final                                                      22223\n",
       "ds_email                                                             37599\n",
       "cd_pessoa                                                            37599\n",
       "min_dt_log                                                           37666\n",
       "aluno                                                                    0\n",
       "cidade                                                               34318\n",
       "data_nascimento                                                      36438\n",
       "dtype: int64"
      ]
     },
     "execution_count": 145,
     "metadata": {},
     "output_type": "execute_result"
    }
   ],
   "source": [
    "merge_left.isna().sum()"
   ]
  },
  {
   "cell_type": "code",
   "execution_count": 144,
   "metadata": {},
   "outputs": [],
   "source": [
    "merge_left.to_csv(\"../data/merged_lead_student.csv\")"
   ]
  },
  {
   "cell_type": "code",
   "execution_count": null,
   "metadata": {},
   "outputs": [],
   "source": []
  }
 ],
 "metadata": {
  "kernelspec": {
   "display_name": "ironhack",
   "language": "python",
   "name": "python3"
  },
  "language_info": {
   "codemirror_mode": {
    "name": "ipython",
    "version": 3
   },
   "file_extension": ".py",
   "mimetype": "text/x-python",
   "name": "python",
   "nbconvert_exporter": "python",
   "pygments_lexer": "ipython3",
   "version": "3.12.0"
  }
 },
 "nbformat": 4,
 "nbformat_minor": 2
}
