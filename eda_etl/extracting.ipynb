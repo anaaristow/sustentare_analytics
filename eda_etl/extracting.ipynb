{
 "cells": [
  {
   "cell_type": "code",
   "execution_count": 1,
   "metadata": {},
   "outputs": [],
   "source": [
    "import numpy as np\n",
    "import pandas as pd"
   ]
  },
  {
   "cell_type": "markdown",
   "metadata": {},
   "source": [
    "# Reading database containing all the information"
   ]
  },
  {
   "cell_type": "code",
   "execution_count": 50,
   "metadata": {},
   "outputs": [
    {
     "name": "stderr",
     "output_type": "stream",
     "text": [
      "C:\\Users\\anafl\\AppData\\Local\\Temp\\ipykernel_43248\\1553664775.py:1: DtypeWarning: Columns (3,4,5,6,7,8,11,12,15,17,24,32,33,35,36,37,40,41,42,43,45,47,48,50,52,53,55,56,57,58,60,63,64,67,69,70,72,73,74,75,76,77,78,80,81,83,85,86,87,88,89,91,92,93,94,95,96,97,100,101,102,103,104,106,108,110,111,112,113,114,115,116,117,118,120,122,123,124,125,126,127,130,131,132,133,134,136,137,138,139,140,141,142,143,144,145,147,148,149,151,152,154,155,156,157,158,159,160,161,162,163,164,165,166,167,168,170,172,173,175,176,177,180,181,183,184,186,189,191,192,193,195,196,197,199,200,201,202,203,204,206,207,208,209,210,213,214,215,216,217,218,219,220,222,223,224,225,226,227,229,230,232,234,235,237,239,241,242,244,247,248,250,251,252,253,254,255,256,257,258,260,262,264,265,266,267,268,269,270,271,272,273,275,276,277,278,279,280,281,282,283,284,285,286,287,288,289,290,291,292,294,295,296,297,298,300,301,305,306,307,308,309,310,311,313,314,315,316,317,318,319,320,321,322,323,324,325,326,327,328,329,330,331,332,333,334,335,336,337,338,339,340,341,342,343,344) have mixed types. Specify dtype option on import or set low_memory=False.\n",
      "  rd_station = pd.read_csv(\"../data/lead_complete_rdstation.csv\", sep=\",\")\n"
     ]
    }
   ],
   "source": [
    "rd_station = pd.read_csv(\"../data/lead_complete_rdstation.csv\", sep=\",\")"
   ]
  },
  {
   "cell_type": "code",
   "execution_count": 91,
   "metadata": {},
   "outputs": [],
   "source": [
    "rd_station.columns = rd_station.columns.str.lower().str.replace(' ', '_')"
   ]
  },
  {
   "cell_type": "code",
   "execution_count": 92,
   "metadata": {},
   "outputs": [
    {
     "data": {
      "text/plain": [
       "Index(['email', 'nome', 'facebook', 'twitter', 'linkedin', 'website', 'cargo',\n",
       "       'empresa', 'país', 'estado',\n",
       "       ...\n",
       "       'você_tem_interesse_no_curso_de_pós-graduação_em_engenharia_da_manutenção?',\n",
       "       'você_tem_interesse_no_curso_engenharia_e_gestão_de_ativos?',\n",
       "       'você_tem_interesse_no_pós-mba_gestão_legal?',\n",
       "       'você_vai_orientar_um_grupo_de_potenciais_negociadores,_profissionais_de_sua_empresa,_sobre_como_trocar_concessões_(5ª_etapa)._que_recomendações_você_lhe_faria?',\n",
       "       'você_é_aluno(a)?', 'você_é_convidado_indumak?',\n",
       "       'você_é_nosso_aluno_regular?', 'você_é_professor(a)_da_sustentare?',\n",
       "       'área_de_atuação_da_empresa', 'área_de_atuação_de_interesse'],\n",
       "      dtype='object', length=335)"
      ]
     },
     "execution_count": 92,
     "metadata": {},
     "output_type": "execute_result"
    }
   ],
   "source": [
    "rd_station.columns"
   ]
  },
  {
   "cell_type": "markdown",
   "metadata": {},
   "source": [
    "# Understanding the dataset"
   ]
  },
  {
   "cell_type": "code",
   "execution_count": 93,
   "metadata": {},
   "outputs": [
    {
     "data": {
      "text/html": [
       "<div>\n",
       "<style scoped>\n",
       "    .dataframe tbody tr th:only-of-type {\n",
       "        vertical-align: middle;\n",
       "    }\n",
       "\n",
       "    .dataframe tbody tr th {\n",
       "        vertical-align: top;\n",
       "    }\n",
       "\n",
       "    .dataframe thead th {\n",
       "        text-align: right;\n",
       "    }\n",
       "</style>\n",
       "<table border=\"1\" class=\"dataframe\">\n",
       "  <thead>\n",
       "    <tr style=\"text-align: right;\">\n",
       "      <th></th>\n",
       "      <th>email</th>\n",
       "      <th>nome</th>\n",
       "      <th>facebook</th>\n",
       "      <th>twitter</th>\n",
       "      <th>linkedin</th>\n",
       "      <th>website</th>\n",
       "      <th>cargo</th>\n",
       "      <th>empresa</th>\n",
       "      <th>país</th>\n",
       "      <th>estado</th>\n",
       "      <th>...</th>\n",
       "      <th>você_tem_interesse_no_curso_de_pós-graduação_em_engenharia_da_manutenção?</th>\n",
       "      <th>você_tem_interesse_no_curso_engenharia_e_gestão_de_ativos?</th>\n",
       "      <th>você_tem_interesse_no_pós-mba_gestão_legal?</th>\n",
       "      <th>você_vai_orientar_um_grupo_de_potenciais_negociadores,_profissionais_de_sua_empresa,_sobre_como_trocar_concessões_(5ª_etapa)._que_recomendações_você_lhe_faria?</th>\n",
       "      <th>você_é_aluno(a)?</th>\n",
       "      <th>você_é_convidado_indumak?</th>\n",
       "      <th>você_é_nosso_aluno_regular?</th>\n",
       "      <th>você_é_professor(a)_da_sustentare?</th>\n",
       "      <th>área_de_atuação_da_empresa</th>\n",
       "      <th>área_de_atuação_de_interesse</th>\n",
       "    </tr>\n",
       "  </thead>\n",
       "  <tbody>\n",
       "    <tr>\n",
       "      <th>34204</th>\n",
       "      <td>danibaum47@gmail.com</td>\n",
       "      <td>Daniela Baum de Freitas</td>\n",
       "      <td>NaN</td>\n",
       "      <td>NaN</td>\n",
       "      <td>NaN</td>\n",
       "      <td>NaN</td>\n",
       "      <td>NaN</td>\n",
       "      <td>NaN</td>\n",
       "      <td>NaN</td>\n",
       "      <td>NaN</td>\n",
       "      <td>...</td>\n",
       "      <td>NaN</td>\n",
       "      <td>NaN</td>\n",
       "      <td>NaN</td>\n",
       "      <td>NaN</td>\n",
       "      <td>NaN</td>\n",
       "      <td>NaN</td>\n",
       "      <td>NaN</td>\n",
       "      <td>NaN</td>\n",
       "      <td>NaN</td>\n",
       "      <td>NaN</td>\n",
       "    </tr>\n",
       "  </tbody>\n",
       "</table>\n",
       "<p>1 rows × 335 columns</p>\n",
       "</div>"
      ],
      "text/plain": [
       "                      email                     nome facebook twitter  \\\n",
       "34204  danibaum47@gmail.com  Daniela Baum de Freitas      NaN     NaN   \n",
       "\n",
       "      linkedin website cargo empresa  país estado  ...  \\\n",
       "34204      NaN     NaN   NaN     NaN   NaN    NaN  ...   \n",
       "\n",
       "      você_tem_interesse_no_curso_de_pós-graduação_em_engenharia_da_manutenção?  \\\n",
       "34204                                                NaN                          \n",
       "\n",
       "      você_tem_interesse_no_curso_engenharia_e_gestão_de_ativos?  \\\n",
       "34204                                                NaN           \n",
       "\n",
       "      você_tem_interesse_no_pós-mba_gestão_legal?  \\\n",
       "34204                                         NaN   \n",
       "\n",
       "      você_vai_orientar_um_grupo_de_potenciais_negociadores,_profissionais_de_sua_empresa,_sobre_como_trocar_concessões_(5ª_etapa)._que_recomendações_você_lhe_faria?  \\\n",
       "34204                                                NaN                                                                                                                \n",
       "\n",
       "      você_é_aluno(a)? você_é_convidado_indumak?  você_é_nosso_aluno_regular?  \\\n",
       "34204              NaN                       NaN                          NaN   \n",
       "\n",
       "      você_é_professor(a)_da_sustentare?  área_de_atuação_da_empresa  \\\n",
       "34204                                NaN                         NaN   \n",
       "\n",
       "       área_de_atuação_de_interesse  \n",
       "34204                           NaN  \n",
       "\n",
       "[1 rows x 335 columns]"
      ]
     },
     "execution_count": 93,
     "metadata": {},
     "output_type": "execute_result"
    }
   ],
   "source": [
    "rd_station.sample()"
   ]
  },
  {
   "cell_type": "code",
   "execution_count": 94,
   "metadata": {},
   "outputs": [
    {
     "data": {
      "text/plain": [
       "(41722, 335)"
      ]
     },
     "execution_count": 94,
     "metadata": {},
     "output_type": "execute_result"
    }
   ],
   "source": [
    "rd_station.shape"
   ]
  },
  {
   "cell_type": "code",
   "execution_count": 95,
   "metadata": {},
   "outputs": [
    {
     "data": {
      "text/plain": [
       "email                                     0\n",
       "nome                                    698\n",
       "facebook                              41527\n",
       "twitter                               41417\n",
       "linkedin                              41610\n",
       "                                      ...  \n",
       "você_é_convidado_indumak?             41699\n",
       "você_é_nosso_aluno_regular?           41579\n",
       "você_é_professor(a)_da_sustentare?    41699\n",
       "área_de_atuação_da_empresa            41557\n",
       "área_de_atuação_de_interesse          41722\n",
       "Length: 335, dtype: int64"
      ]
     },
     "execution_count": 95,
     "metadata": {},
     "output_type": "execute_result"
    }
   ],
   "source": [
    "rd_station.isna().sum()"
   ]
  },
  {
   "cell_type": "code",
   "execution_count": 96,
   "metadata": {},
   "outputs": [
    {
     "data": {
      "text/plain": [
       "email                                  object\n",
       "nome                                   object\n",
       "facebook                               object\n",
       "twitter                                object\n",
       "linkedin                               object\n",
       "                                       ...   \n",
       "você_é_convidado_indumak?              object\n",
       "você_é_nosso_aluno_regular?            object\n",
       "você_é_professor(a)_da_sustentare?     object\n",
       "área_de_atuação_da_empresa             object\n",
       "área_de_atuação_de_interesse          float64\n",
       "Length: 335, dtype: object"
      ]
     },
     "execution_count": 96,
     "metadata": {},
     "output_type": "execute_result"
    }
   ],
   "source": [
    "rd_station.dtypes"
   ]
  },
  {
   "cell_type": "markdown",
   "metadata": {},
   "source": [
    "# Dropping the columns that won't need"
   ]
  },
  {
   "cell_type": "code",
   "execution_count": 103,
   "metadata": {},
   "outputs": [
    {
     "name": "stdout",
     "output_type": "stream",
     "text": [
      "Index(['email', 'nome', 'facebook', 'twitter', 'linkedin', 'website', 'cargo',\n",
      "       'empresa', 'país', 'estado',\n",
      "       ...\n",
      "       'você_tem_interesse_no_curso_de_pós-graduação_em_engenharia_da_manutenção?',\n",
      "       'você_tem_interesse_no_curso_engenharia_e_gestão_de_ativos?',\n",
      "       'você_tem_interesse_no_pós-mba_gestão_legal?',\n",
      "       'você_vai_orientar_um_grupo_de_potenciais_negociadores,_profissionais_de_sua_empresa,_sobre_como_trocar_concessões_(5ª_etapa)._que_recomendações_você_lhe_faria?',\n",
      "       'você_é_aluno(a)?', 'você_é_convidado_indumak?',\n",
      "       'você_é_nosso_aluno_regular?', 'você_é_professor(a)_da_sustentare?',\n",
      "       'área_de_atuação_da_empresa', 'área_de_atuação_de_interesse'],\n",
      "      dtype='object', length=335)\n"
     ]
    }
   ],
   "source": [
    "print(rd_station.columns)"
   ]
  },
  {
   "cell_type": "code",
   "execution_count": 98,
   "metadata": {},
   "outputs": [
    {
     "name": "stdout",
     "output_type": "stream",
     "text": [
      "cidade\n",
      "Joinville                    2796\n",
      "Jaraguá do Sul                201\n",
      "São Paulo                     185\n",
      "São Bento do Sul              130\n",
      "Itajaí                         96\n",
      "Curitiba                       52\n",
      "Blumenau                       51\n",
      "Rio de Janeiro                 49\n",
      "Florianópolis                  41\n",
      "Belo Horizonte                 30\n",
      "São Francisco do Sul           28\n",
      "Fortaleza                      25\n",
      "Brasília                       25\n",
      "Sete Lagoas                    21\n",
      "Navegantes                     20\n",
      "Vila Velha                     19\n",
      "Franca                         18\n",
      "Schroeder                      18\n",
      "Salvador                       16\n",
      "Itapoá                         15\n",
      "Araquari                       15\n",
      "Goiânia                        14\n",
      "Campinas                       14\n",
      "Guaramirim                     14\n",
      "Recife                         14\n",
      "Tijucas                        13\n",
      "Jundiaí                        12\n",
      "Vitória                        11\n",
      "Balneário Piçarras             11\n",
      "Teresina                       11\n",
      "São Luís                       11\n",
      "Barra Velha                    11\n",
      "Rio do Sul                     10\n",
      "Penha                          10\n",
      "São José dos Pinhais           10\n",
      "Timbó                          10\n",
      "Caxias do Sul                   9\n",
      "Santos                          9\n",
      "Garuva                          9\n",
      "Porto Alegre                    9\n",
      "São José dos Campos             8\n",
      "Rio Negrinho                    8\n",
      "Osasco                          8\n",
      "Massaranduba                    8\n",
      "Sorocaba                        8\n",
      "Balneário Camboriú              8\n",
      "Ribeirão Preto                  8\n",
      "Brusque                         7\n",
      "Abdon Batista                   7\n",
      "Londrina                        7\n",
      "Manaus                          7\n",
      "Pomerode                        7\n",
      "São Bernardo do Campo           7\n",
      "Natal                           7\n",
      "São José                        7\n",
      "Indaial                         6\n",
      "Belém                           6\n",
      "Indaiatuba                      6\n",
      "Maceió                          6\n",
      "Barueri                         6\n",
      "Lages                           6\n",
      "Criciúma                        5\n",
      "Sarzedo                         5\n",
      "Diadema                         5\n",
      "Ponta Grossa                    5\n",
      "Cachoeirinha                    5\n",
      "Camboriú                        5\n",
      "Serra                           5\n",
      "Cariacica                       5\n",
      "Abelardo Luz                    4\n",
      "Novo Hamburgo                   4\n",
      "Cuiabá                          4\n",
      "Santana de Parnaíba             4\n",
      "Uberlândia                      4\n",
      "Mauá                            4\n",
      "Balneário Barra do Sul          4\n",
      "Campo Alegre                    4\n",
      "Aracaju                         4\n",
      "Canoas                          4\n",
      "Guarulhos                       4\n",
      "Rio Claro                       4\n",
      "Corupá                          4\n",
      "Petrópolis                      4\n",
      "Botucatu                        4\n",
      "Santo André                     4\n",
      "Contagem                        4\n",
      "Campo Grande                    4\n",
      "Concórdia                       4\n",
      "Jaguariaíva                     3\n",
      "Ibirama                         3\n",
      "Itapevi                         3\n",
      "Atibaia                         3\n",
      "Porto Belo                      3\n",
      "Presidente Getúlio              3\n",
      "Pinhais                         3\n",
      "Belo Jardim                     3\n",
      "Gravataí                        3\n",
      "Palmas                          3\n",
      "Erechim                         3\n",
      "Gaspar                          3\n",
      "Palhoça                         3\n",
      "São Gonçalo                     3\n",
      "Passos                          3\n",
      "Itaiópolis                      3\n",
      "São Caetano do Sul              3\n",
      "Uberaba                         3\n",
      "Joinville                       3\n",
      "Chapecó                         3\n",
      "Carapicuíba                     3\n",
      "Itapecerica da Serra            2\n",
      "Patos de Minas                  2\n",
      "Fraiburgo                       2\n",
      "Franco da Rocha                 2\n",
      "Abaiara                         2\n",
      "Ji-Paraná                       2\n",
      "Teresópolis                     2\n",
      "Ourinhos                        2\n",
      "Embu das Artes                  2\n",
      "Curitibanos                     2\n",
      "Feira de Santana                2\n",
      "Betim                           2\n",
      "Campina Grande                  2\n",
      "Macaé                           2\n",
      "Camaçari                        2\n",
      "Cocal do Sul                    2\n",
      "Antônio Carlos                  2\n",
      "Esteio                          2\n",
      "Medianeira                      2\n",
      "Ipatinga                        2\n",
      "Bragança Paulista               2\n",
      "Otacílio Costa                  2\n",
      "Itacoatiara                     2\n",
      "Duque de Caxias                 2\n",
      "Sumaré                          2\n",
      "Jaboatão dos Guararapes         2\n",
      "Embu-Guaçu                      2\n",
      "Toledo                          2\n",
      "Cascavel                        2\n",
      "Guarujá                         2\n",
      "Monte Alto                      2\n",
      "Santa Maria                     2\n",
      "Guaporé                         2\n",
      "Ijuí                            2\n",
      "Foz do Iguaçu                   2\n",
      "Guaratuba                       2\n",
      "São Bento                       2\n",
      "Cosmópolis                      2\n",
      "Montes Claros                   2\n",
      "Mogi das Cruzes                 2\n",
      "Araraquara                      2\n",
      "União da Vitória                2\n",
      "Petrolina                       2\n",
      "Itapema                         2\n",
      "Niterói                         2\n",
      "Abaeté                          2\n",
      "Maringá                         2\n",
      "Piumhi                          2\n",
      "Pato Branco                     2\n",
      "Piracicaba                      2\n",
      "Ilha Solteira                   1\n",
      "Valinhos                        1\n",
      "Araucária                       1\n",
      "Alfenas                         1\n",
      "Jacareí                         1\n",
      "Miracatu                        1\n",
      "Timóteo                         1\n",
      "Joinville - SC                  1\n",
      "Videira                         1\n",
      "Campo Mourão                    1\n",
      "Pelotas                         1\n",
      "Valença                         1\n",
      "Cianorte                        1\n",
      "Abatiá                          1\n",
      "Tubarão                         1\n",
      "Petrolândia                     1\n",
      "Juruti                          1\n",
      "Cabo Verde                      1\n",
      "Buenos Aires                    1\n",
      "Nilópolis                       1\n",
      "Cruz Alta                       1\n",
      "Carmo                           1\n",
      "Canaã dos Carajás               1\n",
      "Itaperuna                       1\n",
      "Canoinhas                       1\n",
      "Telêmaco Borba                  1\n",
      "Biguaçu                         1\n",
      "Moju                            1\n",
      "Braço do Trombudo               1\n",
      "Barra de Santo Antônio          1\n",
      "Guaranésia                      1\n",
      "Pacatuba                        1\n",
      "São Carlos                      1\n",
      "Almirante Tamandaré             1\n",
      "Castilho                        1\n",
      "Campos Novos                    1\n",
      "Maracás                         1\n",
      "São João do Itaperiú            1\n",
      "Capivari de Baixo               1\n",
      "Cornélio Procópio               1\n",
      "Parnamirim                      1\n",
      "Várzea Grande                   1\n",
      "Guarapari                       1\n",
      "Matinhos                        1\n",
      "Caucaia                         1\n",
      "Santa Terezinha                 1\n",
      "Piên                            1\n",
      "Dois Vizinhos                   1\n",
      "Santa Rosa                      1\n",
      "Guariba                         1\n",
      "Goiás                           1\n",
      "Luiz Alves                      1\n",
      "Rio Branco                      1\n",
      "Papanduva                       1\n",
      "Nova Iguaçu de Goiás            1\n",
      "Taubaté                         1\n",
      "São Bonifácio                   1\n",
      "Meleiro                         1\n",
      "Lagoa da Prata                  1\n",
      "Guabiruba                       1\n",
      "Estância                        1\n",
      "Pindamonhangaba                 1\n",
      "Pacajus                         1\n",
      "Ananindeua                      1\n",
      "Ilhéus                          1\n",
      "São José do Rio Preto           1\n",
      "Três Lagoas                     1\n",
      "Canguaretama                    1\n",
      "Tiradentes do Sul               1\n",
      "Siderópolis                     1\n",
      "Jacobina                        1\n",
      "Irati                           1\n",
      "Pacaembu                        1\n",
      "Laurentino                      1\n",
      "Juazeiro do Norte               1\n",
      "Garibaldi                       1\n",
      "Praia Grande                    1\n",
      "Ibatiba                         1\n",
      "Cajamar                         1\n",
      "Teutônia                        1\n",
      "Trombudo Central                1\n",
      "Porto Velho                     1\n",
      "Adamantina                      1\n",
      "São Miguel do Oeste             1\n",
      "Cachoeiro de Itapemirim         1\n",
      "Santa Bárbara d'Oeste           1\n",
      "Galiléia                        1\n",
      "Aracruz                         1\n",
      "São Mateus                      1\n",
      "José Bonifácio                  1\n",
      "Juazeiro                        1\n",
      "Passo Fundo                     1\n",
      "Ribeirão Pires                  1\n",
      "Barra Mansa                     1\n",
      "Alto Alegre do Maranhão         1\n",
      "Goianésia                       1\n",
      "Caçador                         1\n",
      "Taquari                         1\n",
      "Itu                             1\n",
      "Tatuí                           1\n",
      "Anita Garibaldi                 1\n",
      "São Lourenço da Mata            1\n",
      "Bauru                           1\n",
      "Araçatuba                       1\n",
      "Marechal Deodoro                1\n",
      "Ibirité                         1\n",
      "Sapucaia do Sul                 1\n",
      "Santa Cruz do Rio Pardo         1\n",
      "Pedro Leopoldo                  1\n",
      "Santo Antônio do Pinhal         1\n",
      "Nova Europa                     1\n",
      "São Miguel do Iguaçu            1\n",
      "Mogi Guaçu                      1\n",
      "Valparaíso de Goiás             1\n",
      "Manhuaçu                        1\n",
      "Rio Negro                       1\n",
      "Itajubá                         1\n",
      "Garopaba                        1\n",
      "Unaí                            1\n",
      "Araruama                        1\n",
      "São José de Ribamar             1\n",
      "Piracaia                        1\n",
      "Paço do Lumiar                  1\n",
      "Abre Campo                      1\n",
      "Lauro de Freitas                1\n",
      "Mogi Mirim                      1\n",
      "Taboão da Serra                 1\n",
      "Salto                           1\n",
      "Três Passos                     1\n",
      "Lontras                         1\n",
      "Maricá                          1\n",
      "Guaraçaí                        1\n",
      "Eldorado do Sul                 1\n",
      "Abreulândia                     1\n",
      "Jaú                             1\n",
      "Nova Odessa                     1\n",
      "Araxá                           1\n",
      "Juiz de Fora                    1\n",
      "Colombo                         1\n",
      "Imaruí                          1\n",
      "Igarapé                         1\n",
      "Fazenda Rio Grande              1\n",
      "Cristalina                      1\n",
      "Itupeva                         1\n",
      "Limeira                         1\n",
      "Primavera do Leste              1\n",
      "Aperibé                         1\n",
      "Dois Irmãos                     1\n",
      "Nova Friburgo                   1\n",
      "Abadia de Goiás                 1\n",
      "Treze Tílias                    1\n",
      "Gramado                         1\n",
      "São Francisco do Sul - SC       1\n",
      "Suzano                          1\n",
      "Name: count, dtype: int64\n"
     ]
    }
   ],
   "source": [
    "with pd.option_context('display.max_rows', None, 'display.max_columns', None):\n",
    "    print(rd_station['cidade'].value_counts())"
   ]
  },
  {
   "cell_type": "code",
   "execution_count": 105,
   "metadata": {},
   "outputs": [
    {
     "name": "stdout",
     "output_type": "stream",
     "text": [
      "email                                                                                            41722\n",
      "estágio_no_funil                                                                                 41722\n",
      "total_de_conversões                                                                              41722\n",
      "url_pública                                                                                      41722\n",
      "lead_scoring_-_interesse                                                                         41722\n",
      "lead_scoring_-_perfil                                                                            41722\n",
      "status_para_comunicação_por_email                                                                41722\n",
      "data_da_primeira_conversão                                                                       41340\n",
      "eventos_(últimos_100)                                                                            41340\n",
      "origem_da_última_conversão                                                                       41340\n",
      "data_da_última_conversão                                                                         41340\n",
      "origem_da_primeira_conversão                                                                     41340\n",
      "nome                                                                                             41024\n",
      "curso_de_interesse:                                                                              18186\n",
      "empresa                                                                                          17573\n",
      "cargo.1                                                                                          14484\n",
      "tags                                                                                             10378\n",
      "data_da_última_oportunidade                                                                       7465\n",
      "cargo                                                                                             7335\n",
      "estado                                                                                            6983\n",
      "valor_total_da_oportunidade_no_crm_(última_atualização)                                           6549\n",
      "qualificação_da_oportunidade_no_crm_(última_atualização)                                          6549\n",
      "etapa_do_funil_de_vendas_no_crm_(última_atualização)                                              6549\n",
      "nome_do_responsável_pela_oportunidade_no_crm_(última_atualização)                                 6549\n",
      "origem_da_oportunidade_no_crm_(última_atualização)                                                6351\n",
      "dono_do_lead                                                                                      5864\n",
      "funil_de_vendas_no_crm_(última_atualização)                                                       4778\n",
      "cidade                                                                                            4644\n",
      "possui_interesse_em_realizar_uma_pós-graduação_ou_mba?                                            4577\n",
      "qual_é_a_sua_área_de_atuação?                                                                     3593\n",
      "selecione_o_curso_desejado:.1                                                                     3353\n",
      "data_de_nascimento                                                                                2994\n",
      "motivo_de_perda_no_rd_station_crm                                                                 2768\n",
      "qual_a_sua_área_de_atuação?                                                                       2513\n",
      "curso_de_graduação                                                                                2284\n",
      "desejo_receber_o_sustentare_news                                                                  2064\n",
      "data_da_última_venda                                                                              1978\n",
      "valor_da_última_venda                                                                             1974\n",
      "como_você_conheceu_a_sustentare:                                                                  1954\n",
      "bairro                                                                                            1929\n",
      "naturalidade                                                                                      1917\n",
      "ano                                                                                               1902\n",
      "universidade                                                                                      1901\n",
      "pós-graduado?:                                                                                    1668\n",
      "data_da_expedição                                                                                 1659\n",
      "reside_em:                                                                                        1174\n",
      "qual_sua_área_de_interesse?                                                                       1063\n",
      "curso_de_formação_e_capacitação                                                                    922\n",
      "fone:                                                                                              807\n",
      "não_associado                                                                                      786\n",
      "associado_ajorpeme                                                                                 786\n",
      "professor                                                                                          786\n",
      "estudante                                                                                          786\n",
      "inscrição_para_comunidade_-_r$_40,00_*pagamento_via_boleto_bancário                                783\n",
      "inscrições_gratuitas_para_interessados_(novos_alunos_2016)                                         783\n",
      "inscrições_gratuitas_para_ex-alunos_e_alunos_(deverão_trazer_um_amigo_-_ver_rede_de_amizades)      783\n",
      "data_do_exame:                                                                                     645\n",
      "selecione_o_curso_desejado:.2                                                                      644\n",
      "quantas_pessoas_você_lidera?                                                                       641\n",
      "número_de_funcionários                                                                             631\n",
      "cidade.1                                                                                           617\n",
      "escolha_a_modalidade_do_evento                                                                     614\n",
      "cidade_de_residência:                                                                              540\n",
      "identificador:                                                                                     536\n",
      "acertos                                                                                            534\n",
      "qual_o_seu_grau_de_escolaridade?                                                                   518\n",
      "possui_interesse_em_detalhes_sobre_o_curso_escola_de_vendas?                                       493\n",
      "interesse_em                                                                                       474\n",
      "qual_o_curso_de_interesse?                                                                         458\n",
      "seu_nome                                                                                           447\n",
      "dtype: int64\n"
     ]
    }
   ],
   "source": [
    "#rd_station.notnull().sum().sort_values(ascending=False).head(70)\n",
    "# To be able to look at all the lines\n",
    "with pd.option_context('display.max_rows', None, 'display.max_columns', None):\n",
    "    print(rd_station.notnull().sum().sort_values(ascending=False).head(70))"
   ]
  },
  {
   "cell_type": "markdown",
   "metadata": {},
   "source": [
    "### If wanted to created a subset with the most responds field"
   ]
  },
  {
   "cell_type": "code",
   "execution_count": 106,
   "metadata": {},
   "outputs": [],
   "source": [
    "top_50_filled = rd_station.notnull().sum().sort_values(ascending=False).head(50).index\n",
    "rd_station_columns_responds_most = rd_station[top_50_filled]"
   ]
  },
  {
   "cell_type": "markdown",
   "metadata": {},
   "source": [
    "# Creating a subset with the information on the lead <> Profile"
   ]
  },
  {
   "cell_type": "code",
   "execution_count": 107,
   "metadata": {},
   "outputs": [],
   "source": [
    "rd_station_profile = rd_station[[\n",
    "    'email', 'lead_scoring_-_perfil', 'url_pública', 'estágio_no_funil', 'total_de_conversões',\n",
    "    'lead_scoring_-_interesse', 'status_para_comunicação_por_email',\n",
    "    'data_da_primeira_conversão', 'eventos_(últimos_100)', 'origem_da_última_conversão',\n",
    "    'data_da_última_conversão', 'origem_da_primeira_conversão', 'curso_de_interesse:',\n",
    "    'empresa', 'cargo.1', 'tags', 'data_da_última_oportunidade', 'cargo', 'estado',\n",
    "    'valor_total_da_oportunidade_no_crm_(última_atualização)',\n",
    "    'qualificação_da_oportunidade_no_crm_(última_atualização)',\n",
    "    'etapa_do_funil_de_vendas_no_crm_(última_atualização)',\n",
    "    'nome_do_responsável_pela_oportunidade_no_crm_(última_atualização)',\n",
    "    'origem_da_oportunidade_no_crm_(última_atualização)',\n",
    "    'cidade', 'possui_interesse_em_realizar_uma_pós-graduação_ou_mba?',\n",
    "    'qual_é_a_sua_área_de_atuação?', 'selecione_o_curso_desejado:.1',\n",
    "    'qual_a_sua_área_de_atuação?', 'data_de_nascimento',\n",
    "    'desejo_receber_o_sustentare_news', 'qual_sua_área_de_interesse?',\n",
    "    'como_você_conheceu_a_sustentare:', 'universidade', 'reside_em:',\n",
    "    'cidade_de_residência:', 'interesse_em', 'qual_o_curso_de_interesse?'\n",
    "]]"
   ]
  },
  {
   "cell_type": "markdown",
   "metadata": {},
   "source": [
    "Dropping all the columns that have the column 'Data da primeira conversão' null because it's one crucial information"
   ]
  },
  {
   "cell_type": "code",
   "execution_count": 108,
   "metadata": {},
   "outputs": [],
   "source": [
    "rd_station_profile = rd_station_profile.dropna(subset=['data_da_primeira_conversão'])"
   ]
  },
  {
   "cell_type": "code",
   "execution_count": 109,
   "metadata": {},
   "outputs": [
    {
     "data": {
      "text/plain": [
       "(41340, 38)"
      ]
     },
     "execution_count": 109,
     "metadata": {},
     "output_type": "execute_result"
    }
   ],
   "source": [
    "rd_station_profile.shape"
   ]
  },
  {
   "cell_type": "markdown",
   "metadata": {},
   "source": [
    "Checking nan values"
   ]
  },
  {
   "cell_type": "code",
   "execution_count": 110,
   "metadata": {},
   "outputs": [
    {
     "data": {
      "text/plain": [
       "email                                                                    0\n",
       "lead_scoring_-_perfil                                                    0\n",
       "url_pública                                                              0\n",
       "estágio_no_funil                                                         0\n",
       "total_de_conversões                                                      0\n",
       "lead_scoring_-_interesse                                                 0\n",
       "status_para_comunicação_por_email                                        0\n",
       "data_da_primeira_conversão                                               0\n",
       "eventos_(últimos_100)                                                    0\n",
       "origem_da_última_conversão                                               0\n",
       "data_da_última_conversão                                                 0\n",
       "origem_da_primeira_conversão                                             0\n",
       "curso_de_interesse:                                                  23154\n",
       "empresa                                                              23786\n",
       "cargo.1                                                              26856\n",
       "tags                                                                 31025\n",
       "data_da_última_oportunidade                                          33876\n",
       "cargo                                                                34035\n",
       "estado                                                               34360\n",
       "valor_total_da_oportunidade_no_crm_(última_atualização)              34957\n",
       "qualificação_da_oportunidade_no_crm_(última_atualização)             34957\n",
       "etapa_do_funil_de_vendas_no_crm_(última_atualização)                 34957\n",
       "nome_do_responsável_pela_oportunidade_no_crm_(última_atualização)    34957\n",
       "origem_da_oportunidade_no_crm_(última_atualização)                   35142\n",
       "cidade                                                               36699\n",
       "possui_interesse_em_realizar_uma_pós-graduação_ou_mba?               36763\n",
       "qual_é_a_sua_área_de_atuação?                                        37747\n",
       "selecione_o_curso_desejado:.1                                        37987\n",
       "qual_a_sua_área_de_atuação?                                          38827\n",
       "data_de_nascimento                                                   38346\n",
       "desejo_receber_o_sustentare_news                                     39276\n",
       "qual_sua_área_de_interesse?                                          40277\n",
       "como_você_conheceu_a_sustentare:                                     39386\n",
       "universidade                                                         39439\n",
       "reside_em:                                                           40166\n",
       "cidade_de_residência:                                                40800\n",
       "interesse_em                                                         40866\n",
       "qual_o_curso_de_interesse?                                           40882\n",
       "dtype: int64"
      ]
     },
     "execution_count": 110,
     "metadata": {},
     "output_type": "execute_result"
    }
   ],
   "source": [
    "rd_station_profile.isna().sum()"
   ]
  },
  {
   "cell_type": "code",
   "execution_count": 111,
   "metadata": {},
   "outputs": [
    {
     "data": {
      "text/html": [
       "<div>\n",
       "<style scoped>\n",
       "    .dataframe tbody tr th:only-of-type {\n",
       "        vertical-align: middle;\n",
       "    }\n",
       "\n",
       "    .dataframe tbody tr th {\n",
       "        vertical-align: top;\n",
       "    }\n",
       "\n",
       "    .dataframe thead th {\n",
       "        text-align: right;\n",
       "    }\n",
       "</style>\n",
       "<table border=\"1\" class=\"dataframe\">\n",
       "  <thead>\n",
       "    <tr style=\"text-align: right;\">\n",
       "      <th></th>\n",
       "      <th>email</th>\n",
       "      <th>lead_scoring_-_perfil</th>\n",
       "      <th>url_pública</th>\n",
       "      <th>estágio_no_funil</th>\n",
       "      <th>total_de_conversões</th>\n",
       "      <th>lead_scoring_-_interesse</th>\n",
       "      <th>status_para_comunicação_por_email</th>\n",
       "      <th>data_da_primeira_conversão</th>\n",
       "      <th>eventos_(últimos_100)</th>\n",
       "      <th>origem_da_última_conversão</th>\n",
       "      <th>...</th>\n",
       "      <th>qual_a_sua_área_de_atuação?</th>\n",
       "      <th>data_de_nascimento</th>\n",
       "      <th>desejo_receber_o_sustentare_news</th>\n",
       "      <th>qual_sua_área_de_interesse?</th>\n",
       "      <th>como_você_conheceu_a_sustentare:</th>\n",
       "      <th>universidade</th>\n",
       "      <th>reside_em:</th>\n",
       "      <th>cidade_de_residência:</th>\n",
       "      <th>interesse_em</th>\n",
       "      <th>qual_o_curso_de_interesse?</th>\n",
       "    </tr>\n",
       "  </thead>\n",
       "  <tbody>\n",
       "    <tr>\n",
       "      <th>16105</th>\n",
       "      <td>sergio@bold.net</td>\n",
       "      <td>d</td>\n",
       "      <td>http://app.rdstation.com.br/leads/public/dd2d4...</td>\n",
       "      <td>Lead</td>\n",
       "      <td>1</td>\n",
       "      <td>10</td>\n",
       "      <td>True</td>\n",
       "      <td>2020-07-10 13:45:03 -0300</td>\n",
       "      <td>indicado-sarau-de-negocios-online</td>\n",
       "      <td>Referência | rdstation.com.br</td>\n",
       "      <td>...</td>\n",
       "      <td>NaN</td>\n",
       "      <td>NaN</td>\n",
       "      <td>NaN</td>\n",
       "      <td>NaN</td>\n",
       "      <td>NaN</td>\n",
       "      <td>NaN</td>\n",
       "      <td>NaN</td>\n",
       "      <td>NaN</td>\n",
       "      <td>NaN</td>\n",
       "      <td>NaN</td>\n",
       "    </tr>\n",
       "  </tbody>\n",
       "</table>\n",
       "<p>1 rows × 38 columns</p>\n",
       "</div>"
      ],
      "text/plain": [
       "                 email lead_scoring_-_perfil  \\\n",
       "16105  sergio@bold.net                     d   \n",
       "\n",
       "                                             url_pública estágio_no_funil  \\\n",
       "16105  http://app.rdstation.com.br/leads/public/dd2d4...             Lead   \n",
       "\n",
       "       total_de_conversões  lead_scoring_-_interesse  \\\n",
       "16105                    1                        10   \n",
       "\n",
       "       status_para_comunicação_por_email data_da_primeira_conversão  \\\n",
       "16105                               True  2020-07-10 13:45:03 -0300   \n",
       "\n",
       "                   eventos_(últimos_100)     origem_da_última_conversão  ...  \\\n",
       "16105  indicado-sarau-de-negocios-online  Referência | rdstation.com.br  ...   \n",
       "\n",
       "      qual_a_sua_área_de_atuação? data_de_nascimento  \\\n",
       "16105                         NaN                NaN   \n",
       "\n",
       "      desejo_receber_o_sustentare_news qual_sua_área_de_interesse?  \\\n",
       "16105                              NaN                         NaN   \n",
       "\n",
       "      como_você_conheceu_a_sustentare: universidade reside_em:  \\\n",
       "16105                              NaN          NaN        NaN   \n",
       "\n",
       "      cidade_de_residência: interesse_em  qual_o_curso_de_interesse?  \n",
       "16105                   NaN          NaN                         NaN  \n",
       "\n",
       "[1 rows x 38 columns]"
      ]
     },
     "execution_count": 111,
     "metadata": {},
     "output_type": "execute_result"
    }
   ],
   "source": [
    "rd_station_profile.sample()"
   ]
  },
  {
   "cell_type": "code",
   "execution_count": 112,
   "metadata": {},
   "outputs": [
    {
     "name": "stdout",
     "output_type": "stream",
     "text": [
      "status_para_comunicação_por_email\n",
      "True     35375\n",
      "False     6347\n",
      "Name: count, dtype: int64\n"
     ]
    }
   ],
   "source": [
    "with pd.option_context('display.max_rows', None, 'display.max_columns', None):\n",
    "    print(rd_station['status_para_comunicação_por_email'].value_counts())"
   ]
  },
  {
   "cell_type": "markdown",
   "metadata": {},
   "source": [
    "## Got different columns with representing the same thing, compiling all in one new columns"
   ]
  },
  {
   "cell_type": "markdown",
   "metadata": {},
   "source": [
    "Represents City: 'Cidade', 'Reside em:' and 'Cidade de residência:'"
   ]
  },
  {
   "cell_type": "code",
   "execution_count": 113,
   "metadata": {},
   "outputs": [],
   "source": [
    "# Using .loc because was receiving 'SettingWithCopyWarning'\n",
    "rd_station_profile.loc[:, 'cidade_final'] = (\n",
    "    rd_station_profile['cidade']\n",
    "    .fillna(rd_station_profile['reside_em:'])\n",
    "    .fillna(rd_station_profile['cidade_de_residência:'])\n",
    ")\n"
   ]
  },
  {
   "cell_type": "markdown",
   "metadata": {},
   "source": [
    "Represents Position at the company: 'Cargo.1' and 'Cargo'"
   ]
  },
  {
   "cell_type": "code",
   "execution_count": 114,
   "metadata": {},
   "outputs": [],
   "source": [
    "rd_station_profile.loc[:, 'cargo_final'] = (\n",
    "    rd_station_profile['cargo.1']\n",
    "    .fillna(rd_station_profile['cargo'])\n",
    ")"
   ]
  },
  {
   "cell_type": "markdown",
   "metadata": {},
   "source": [
    "Represents area of work in the company: 'Qual a sua área de atuação?', 'Qual a sua área de atuação?'"
   ]
  },
  {
   "cell_type": "code",
   "execution_count": 116,
   "metadata": {},
   "outputs": [],
   "source": [
    "rd_station_profile.loc[:, 'area_atuacao'] = (\n",
    "    rd_station_profile['qual_é_a_sua_área_de_atuação?']\n",
    "    .fillna(rd_station_profile['qual_a_sua_área_de_atuação?'])\n",
    ")"
   ]
  },
  {
   "cell_type": "markdown",
   "metadata": {},
   "source": [
    "Represents course interest: 'Curso de interesse:', 'Qual sua área de interesse?' and 'Interesse em'"
   ]
  },
  {
   "cell_type": "code",
   "execution_count": 115,
   "metadata": {},
   "outputs": [],
   "source": [
    "rd_station_profile.loc[:, 'interesse_final'] = (\n",
    "    rd_station_profile['curso_de_interesse:']\n",
    "    .fillna(rd_station_profile['selecione_o_curso_desejado:.1'])\n",
    "    .fillna(rd_station_profile['qual_sua_área_de_interesse?'])\n",
    "    .fillna(rd_station_profile['interesse_em'])\n",
    "    .fillna(rd_station_profile['qual_o_curso_de_interesse?'])\n",
    ")"
   ]
  },
  {
   "cell_type": "code",
   "execution_count": 117,
   "metadata": {},
   "outputs": [
    {
     "name": "stdout",
     "output_type": "stream",
     "text": [
      "email                                                                    0\n",
      "lead_scoring_-_perfil                                                    0\n",
      "url_pública                                                              0\n",
      "estágio_no_funil                                                         0\n",
      "total_de_conversões                                                      0\n",
      "lead_scoring_-_interesse                                                 0\n",
      "status_para_comunicação_por_email                                        0\n",
      "data_da_primeira_conversão                                               0\n",
      "eventos_(últimos_100)                                                    0\n",
      "origem_da_última_conversão                                               0\n",
      "data_da_última_conversão                                                 0\n",
      "origem_da_primeira_conversão                                             0\n",
      "curso_de_interesse:                                                  23154\n",
      "empresa                                                              23786\n",
      "cargo.1                                                              26856\n",
      "tags                                                                 31025\n",
      "data_da_última_oportunidade                                          33876\n",
      "cargo                                                                34035\n",
      "estado                                                               34360\n",
      "valor_total_da_oportunidade_no_crm_(última_atualização)              34957\n",
      "qualificação_da_oportunidade_no_crm_(última_atualização)             34957\n",
      "etapa_do_funil_de_vendas_no_crm_(última_atualização)                 34957\n",
      "nome_do_responsável_pela_oportunidade_no_crm_(última_atualização)    34957\n",
      "origem_da_oportunidade_no_crm_(última_atualização)                   35142\n",
      "cidade                                                               36699\n",
      "possui_interesse_em_realizar_uma_pós-graduação_ou_mba?               36763\n",
      "qual_é_a_sua_área_de_atuação?                                        37747\n",
      "selecione_o_curso_desejado:.1                                        37987\n",
      "qual_a_sua_área_de_atuação?                                          38827\n",
      "data_de_nascimento                                                   38346\n",
      "desejo_receber_o_sustentare_news                                     39276\n",
      "qual_sua_área_de_interesse?                                          40277\n",
      "como_você_conheceu_a_sustentare:                                     39386\n",
      "universidade                                                         39439\n",
      "reside_em:                                                           40166\n",
      "cidade_de_residência:                                                40800\n",
      "interesse_em                                                         40866\n",
      "qual_o_curso_de_interesse?                                           40882\n",
      "cidade_final                                                         35856\n",
      "cargo_final                                                          21574\n",
      "interesse_final                                                      21841\n",
      "area_atuacao                                                         35418\n",
      "dtype: int64\n"
     ]
    }
   ],
   "source": [
    "with pd.option_context('display.max_rows', None, 'display.max_columns', None):\n",
    "    print(rd_station_profile.isna().sum())"
   ]
  },
  {
   "cell_type": "markdown",
   "metadata": {},
   "source": [
    "With this I was able to reduce \n",
    "- *Cidade* had 37078 null values now 36235\n",
    "- *Cargo* had 27238 null values now 21926\n",
    "- *Area Atuacao* had 39209 null values now 35800\n",
    "- *Interesse Final* had 23536 null values now 22223"
   ]
  },
  {
   "cell_type": "code",
   "execution_count": 118,
   "metadata": {},
   "outputs": [],
   "source": [
    "rd_station_profile = rd_station_profile.drop(columns=['cidade', 'reside_em:', 'cidade_de_residência:', 'cargo.1', 'cargo', 'qual_é_a_sua_área_de_atuação?', 'qual_a_sua_área_de_atuação?', 'curso_de_interesse:', 'qual_sua_área_de_interesse?', 'interesse_em', 'selecione_o_curso_desejado:.1'])"
   ]
  },
  {
   "cell_type": "code",
   "execution_count": 119,
   "metadata": {},
   "outputs": [],
   "source": [
    "rd_station_profile.to_csv(\"../data/rd_station_profile\")"
   ]
  },
  {
   "cell_type": "markdown",
   "metadata": {},
   "source": [
    "# Change to another file - transformation"
   ]
  },
  {
   "cell_type": "markdown",
   "metadata": {},
   "source": [
    "### Column for the BirthDay"
   ]
  },
  {
   "cell_type": "code",
   "execution_count": 37,
   "metadata": {},
   "outputs": [],
   "source": [
    "rd_station_profile['Birth_Year'] = rd_station_profile['Data de Nascimento'].str.extract(r'(\\d{4})$')\n",
    "rd_station_profile['Birth_Year'] = pd.to_numeric(rd_station_profile['Birth_Year'], errors='coerce')\n",
    "current_year = pd.to_datetime('now').year\n",
    "rd_station_profile['Age'] = current_year - rd_station_profile['Birth_Year']\n",
    "#rd_station_profile = rd_station_profile.drop(columns=['Birth_Year', 'Data de Nascimento'])"
   ]
  },
  {
   "cell_type": "code",
   "execution_count": null,
   "metadata": {},
   "outputs": [],
   "source": []
  },
  {
   "cell_type": "code",
   "execution_count": 21,
   "metadata": {},
   "outputs": [
    {
     "name": "stdout",
     "output_type": "stream",
     "text": [
      "Age\n",
      " 32.0      177\n",
      " 34.0      163\n",
      " 33.0      162\n",
      " 30.0      154\n",
      " 35.0      153\n",
      " 37.0      147\n",
      " 31.0      146\n",
      " 36.0      145\n",
      " 28.0      131\n",
      " 38.0      128\n",
      " 29.0      127\n",
      " 40.0      116\n",
      " 41.0      113\n",
      " 39.0       99\n",
      " 42.0       95\n",
      " 26.0       90\n",
      " 43.0       79\n",
      " 27.0       78\n",
      " 44.0       77\n",
      " 25.0       58\n",
      " 45.0       57\n",
      " 46.0       45\n",
      " 47.0       38\n",
      " 23.0       37\n",
      " 50.0       36\n",
      " 48.0       35\n",
      " 24.0       32\n",
      " 51.0       31\n",
      " 49.0       30\n",
      " 52.0       29\n",
      " 53.0       19\n",
      " 54.0       13\n",
      " 22.0       11\n",
      " 56.0       11\n",
      " 57.0        9\n",
      " 55.0        8\n",
      " 59.0        7\n",
      " 60.0        7\n",
      " 61.0        6\n",
      " 58.0        5\n",
      " 66.0        4\n",
      " 68.0        4\n",
      " 21.0        4\n",
      " 123.0       3\n",
      " 65.0        3\n",
      " 71.0        3\n",
      " 63.0        3\n",
      " 69.0        2\n",
      " 75.0        2\n",
      " 67.0        2\n",
      " 944.0       2\n",
      " 0.0         2\n",
      " 828.0       2\n",
      " 74.0        2\n",
      " 62.0        1\n",
      " 1418.0      1\n",
      " 127.0       1\n",
      " 1241.0      1\n",
      "-968.0       1\n",
      " 17.0        1\n",
      " 1361.0      1\n",
      " 89.0        1\n",
      " 64.0        1\n",
      " 4.0         1\n",
      " 912.0       1\n",
      " 845.0       1\n",
      " 227.0       1\n",
      " 3.0         1\n",
      " 832.0       1\n",
      " 2.0         1\n",
      " 831.0       1\n",
      " 19.0        1\n",
      " 1003.0      1\n",
      " 1841.0      1\n",
      " 939.0       1\n",
      "-4975.0      1\n",
      " 1030.0      1\n",
      " 830.0       1\n",
      " 20.0        1\n",
      " 930.0       1\n",
      " 76.0        1\n",
      " 1.0         1\n",
      " 73.0        1\n",
      " 79.0        1\n",
      "Name: count, dtype: int64\n"
     ]
    }
   ],
   "source": [
    "with pd.option_context('display.max_rows', None, 'display.max_columns', None):\n",
    "    print(rd_station_profile['Age'].value_counts())"
   ]
  },
  {
   "cell_type": "code",
   "execution_count": 20,
   "metadata": {},
   "outputs": [
    {
     "data": {
      "text/html": [
       "<div>\n",
       "<style scoped>\n",
       "    .dataframe tbody tr th:only-of-type {\n",
       "        vertical-align: middle;\n",
       "    }\n",
       "\n",
       "    .dataframe tbody tr th {\n",
       "        vertical-align: top;\n",
       "    }\n",
       "\n",
       "    .dataframe thead th {\n",
       "        text-align: right;\n",
       "    }\n",
       "</style>\n",
       "<table border=\"1\" class=\"dataframe\">\n",
       "  <thead>\n",
       "    <tr style=\"text-align: right;\">\n",
       "      <th></th>\n",
       "      <th>Email</th>\n",
       "      <th>Lead Scoring - Perfil</th>\n",
       "      <th>Total de conversões</th>\n",
       "      <th>Lead Scoring - Interesse</th>\n",
       "      <th>Eventos (Últimos 100)</th>\n",
       "      <th>Origem da última conversão</th>\n",
       "      <th>Origem da primeira conversão</th>\n",
       "      <th>Curso de interesse:</th>\n",
       "      <th>Empresa</th>\n",
       "      <th>Estado</th>\n",
       "      <th>...</th>\n",
       "      <th>Qual é a sua área de atuação?</th>\n",
       "      <th>Qual sua área de interesse?</th>\n",
       "      <th>Data de Nascimento</th>\n",
       "      <th>Como você conheceu a Sustentare:</th>\n",
       "      <th>Universidade</th>\n",
       "      <th>Cargo Final</th>\n",
       "      <th>Area Atuacao</th>\n",
       "      <th>Cidade Final</th>\n",
       "      <th>Birth_Year</th>\n",
       "      <th>Age</th>\n",
       "    </tr>\n",
       "  </thead>\n",
       "  <tbody>\n",
       "    <tr>\n",
       "      <th>19271</th>\n",
       "      <td>rayanamartinss@gmail.com</td>\n",
       "      <td>c</td>\n",
       "      <td>4</td>\n",
       "      <td>50</td>\n",
       "      <td>/site/curso/inteligencia-artificial-big-data-e...</td>\n",
       "      <td>Email | premio_historico_escolar_da_graduacao_</td>\n",
       "      <td>Busca Orgânica | google</td>\n",
       "      <td>/site/curso/inteligencia-artificial-big-data-e...</td>\n",
       "      <td>Tuper S/A</td>\n",
       "      <td>SC</td>\n",
       "      <td>...</td>\n",
       "      <td>Tecnologia da Informação</td>\n",
       "      <td>NaN</td>\n",
       "      <td>11/06/2991</td>\n",
       "      <td>Alunos (as)</td>\n",
       "      <td>UDESC</td>\n",
       "      <td>Assistente/Analista</td>\n",
       "      <td>NaN</td>\n",
       "      <td>Rio Negrinho</td>\n",
       "      <td>2991.0</td>\n",
       "      <td>-968.0</td>\n",
       "    </tr>\n",
       "  </tbody>\n",
       "</table>\n",
       "<p>1 rows × 24 columns</p>\n",
       "</div>"
      ],
      "text/plain": [
       "                          Email Lead Scoring - Perfil  Total de conversões  \\\n",
       "19271  rayanamartinss@gmail.com                     c                    4   \n",
       "\n",
       "       Lead Scoring - Interesse  \\\n",
       "19271                        50   \n",
       "\n",
       "                                   Eventos (Últimos 100)  \\\n",
       "19271  /site/curso/inteligencia-artificial-big-data-e...   \n",
       "\n",
       "                           Origem da última conversão  \\\n",
       "19271  Email | premio_historico_escolar_da_graduacao_   \n",
       "\n",
       "      Origem da primeira conversão  \\\n",
       "19271      Busca Orgânica | google   \n",
       "\n",
       "                                     Curso de interesse:    Empresa Estado  \\\n",
       "19271  /site/curso/inteligencia-artificial-big-data-e...  Tuper S/A     SC   \n",
       "\n",
       "       ...  Qual é a sua área de atuação?  Qual sua área de interesse?  \\\n",
       "19271  ...       Tecnologia da Informação                          NaN   \n",
       "\n",
       "      Data de Nascimento Como você conheceu a Sustentare: Universidade  \\\n",
       "19271         11/06/2991                      Alunos (as)        UDESC   \n",
       "\n",
       "               Cargo Final Area Atuacao  Cidade Final Birth_Year    Age  \n",
       "19271  Assistente/Analista          NaN  Rio Negrinho     2991.0 -968.0  \n",
       "\n",
       "[1 rows x 24 columns]"
      ]
     },
     "execution_count": 20,
     "metadata": {},
     "output_type": "execute_result"
    }
   ],
   "source": [
    "rd_station_profile[rd_station_profile['Age'] == -968.0]"
   ]
  },
  {
   "cell_type": "markdown",
   "metadata": {},
   "source": [
    "### Have some strange 'Data de Nascimento' wich result in strange 'Age' so now, changing the subset to contain range age between 10 and 100"
   ]
  },
  {
   "cell_type": "code",
   "execution_count": 229,
   "metadata": {},
   "outputs": [
    {
     "data": {
      "text/plain": [
       "(41722, 24)"
      ]
     },
     "execution_count": 229,
     "metadata": {},
     "output_type": "execute_result"
    }
   ],
   "source": [
    "rd_station_profile.shape"
   ]
  },
  {
   "cell_type": "code",
   "execution_count": 230,
   "metadata": {},
   "outputs": [],
   "source": [
    "# Define a custom function to clean the 'Age' column\n",
    "def clean_age(age):\n",
    "    # Check if the age is between 10 and 100, otherwise return blank\n",
    "    if 10 <= age <= 100:\n",
    "        return age\n",
    "    else:\n",
    "        return \n",
    "\n",
    "# Apply the custom function to the 'Age' column\n",
    "rd_station_profile['Age'] = rd_station_profile['Age'].apply(clean_age)"
   ]
  },
  {
   "cell_type": "markdown",
   "metadata": {},
   "source": [
    "# Checking the null info"
   ]
  },
  {
   "cell_type": "code",
   "execution_count": 231,
   "metadata": {},
   "outputs": [
    {
     "data": {
      "text/plain": [
       "(41722, 24)"
      ]
     },
     "execution_count": 231,
     "metadata": {},
     "output_type": "execute_result"
    }
   ],
   "source": [
    "rd_station_profile.shape"
   ]
  },
  {
   "cell_type": "code",
   "execution_count": 232,
   "metadata": {},
   "outputs": [
    {
     "data": {
      "text/plain": [
       "Email                                                           0\n",
       "Lead Scoring - Perfil                                           0\n",
       "Total de conversões                                             0\n",
       "Lead Scoring - Interesse                                        0\n",
       "Eventos (Últimos 100)                                         382\n",
       "Origem da última conversão                                    382\n",
       "Origem da primeira conversão                                  382\n",
       "Curso de interesse:                                         23536\n",
       "Empresa                                                     24149\n",
       "Estado                                                      34739\n",
       "Valor total da Oportunidade no CRM (última atualização)     35173\n",
       "Qualificação da Oportunidade no CRM (última atualização)    35173\n",
       "Origem da Oportunidade no CRM (última atualização)          35371\n",
       "Possui interesse em realizar uma Pós-Graduação ou MBA?      37145\n",
       "Qual é a sua área de atuação?                               38129\n",
       "Qual sua área de interesse?                                 40659\n",
       "Data de Nascimento                                          38728\n",
       "Como você conheceu a Sustentare:                            39768\n",
       "Universidade                                                39821\n",
       "Cargo Final                                                 21926\n",
       "Area Atuacao                                                38197\n",
       "Cidade Final                                                36535\n",
       "Birth_Year                                                  38750\n",
       "Age                                                         38780\n",
       "dtype: int64"
      ]
     },
     "execution_count": 232,
     "metadata": {},
     "output_type": "execute_result"
    }
   ],
   "source": [
    "rd_station_profile.isna().sum()"
   ]
  },
  {
   "cell_type": "markdown",
   "metadata": {},
   "source": [
    "# Machine Learning"
   ]
  },
  {
   "cell_type": "code",
   "execution_count": null,
   "metadata": {},
   "outputs": [],
   "source": [
    "import xgboost as xgb\n",
    "from sklearn.model_selection import train_test_split\n",
    "from sklearn.metrics import accuracy_score\n",
    "\n",
    "X = df.drop('student', axis=1)\n",
    "y = df['student']\n",
    "\n",
    "# Splitting the dataset into training and testing sets\n",
    "X_train, X_test, y_train, y_test = train_test_split(X, y, test_size=0.2, random_state=42)\n",
    "\n",
    "# Initialize the XGBoost classifier\n",
    "xgb_clf = xgb.XGBClassifier(objective='binary:logistic', missing=None, seed=42)\n",
    "\n",
    "# Train the classifier\n",
    "xgb_clf.fit(X_train, y_train)\n",
    "\n",
    "# Predictions\n",
    "y_pred = xgb_clf.predict(X_test)\n",
    "\n",
    "accuracy = accuracy_score(y_test, y_pred)"
   ]
  }
 ],
 "metadata": {
  "kernelspec": {
   "display_name": "ironhack",
   "language": "python",
   "name": "python3"
  },
  "language_info": {
   "codemirror_mode": {
    "name": "ipython",
    "version": 3
   },
   "file_extension": ".py",
   "mimetype": "text/x-python",
   "name": "python",
   "nbconvert_exporter": "python",
   "pygments_lexer": "ipython3",
   "version": "3.12.0"
  }
 },
 "nbformat": 4,
 "nbformat_minor": 2
}
