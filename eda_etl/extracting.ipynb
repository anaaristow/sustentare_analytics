{
 "cells": [
  {
   "cell_type": "code",
   "execution_count": 1,
   "metadata": {},
   "outputs": [],
   "source": [
    "import numpy as np\n",
    "import pandas as pd\n",
    "import mysql.connector\n",
    "from getpass import getpass"
   ]
  },
  {
   "cell_type": "code",
   "execution_count": 2,
   "metadata": {},
   "outputs": [],
   "source": [
    "password = getpass\n",
    "password = getpass()"
   ]
  },
  {
   "cell_type": "markdown",
   "metadata": {},
   "source": [
    "# Dealing with the Marketing Information"
   ]
  },
  {
   "cell_type": "markdown",
   "metadata": {},
   "source": [
    "### Reading database containing all the information"
   ]
  },
  {
   "cell_type": "code",
   "execution_count": 34,
   "metadata": {},
   "outputs": [
    {
     "name": "stderr",
     "output_type": "stream",
     "text": [
      "C:\\Users\\anafl\\AppData\\Local\\Temp\\ipykernel_19608\\1553664775.py:1: DtypeWarning: Columns (3,4,5,6,7,8,11,12,15,17,24,32,33,35,36,37,40,41,42,43,45,47,48,50,52,53,55,56,57,58,60,63,64,67,69,70,72,73,74,75,76,77,78,80,81,83,85,86,87,88,89,91,92,93,94,95,96,97,100,101,102,103,104,106,108,110,111,112,113,114,115,116,117,118,120,122,123,124,125,126,127,130,131,132,133,134,136,137,138,139,140,141,142,143,144,145,147,148,149,151,152,154,155,156,157,158,159,160,161,162,163,164,165,166,167,168,170,172,173,175,176,177,180,181,183,184,186,189,191,192,193,195,196,197,199,200,201,202,203,204,206,207,208,209,210,213,214,215,216,217,218,219,220,222,223,224,225,226,227,229,230,232,234,235,237,239,241,242,244,247,248,250,251,252,253,254,255,256,257,258,260,262,264,265,266,267,268,269,270,271,272,273,275,276,277,278,279,280,281,282,283,284,285,286,287,288,289,290,291,292,294,295,296,297,298,300,301,305,306,307,308,309,310,311,313,314,315,316,317,318,319,320,321,322,323,324,325,326,327,328,329,330,331,332,333,334,335,336,337,338,339,340,341,342,343,344) have mixed types. Specify dtype option on import or set low_memory=False.\n",
      "  rd_station = pd.read_csv(\"../data/lead_complete_rdstation.csv\", sep=\",\")\n"
     ]
    }
   ],
   "source": [
    "rd_station = pd.read_csv(\"../data/lead_complete_rdstation.csv\", sep=\",\")"
   ]
  },
  {
   "cell_type": "code",
   "execution_count": 35,
   "metadata": {},
   "outputs": [],
   "source": [
    "rd_station.columns = rd_station.columns.str.lower().str.replace(' ', '_')"
   ]
  },
  {
   "cell_type": "code",
   "execution_count": 36,
   "metadata": {},
   "outputs": [],
   "source": [
    "def process_dataframe_columns(df):\n",
    "    \"\"\"\n",
    "    Transform the columns of a DataFrame:\n",
    "    1. Converts column names to lowercase\n",
    "    2. Replaces spaces in column names with underscores\n",
    "\n",
    "    Parameters:\n",
    "    - DataFrame to be processed.\n",
    "\n",
    "    Returns:\n",
    "    - DataFrame with modified column names.\n",
    "    \"\"\"\n",
    "    df.columns = df.columns.str.lower().str.replace(' ', '_')\n",
    "\n",
    "    return df\n",
    "\n",
    "rd_station = process_dataframe_columns(rd_station)\n"
   ]
  },
  {
   "cell_type": "code",
   "execution_count": 37,
   "metadata": {},
   "outputs": [
    {
     "data": {
      "text/plain": [
       "Index(['email', 'nome', 'telefone', 'celular', 'facebook', 'twitter',\n",
       "       'linkedin', 'website', 'cargo', 'empresa',\n",
       "       ...\n",
       "       'você_tem_interesse_no_curso_de_pós-graduação_em_engenharia_da_manutenção?',\n",
       "       'você_tem_interesse_no_curso_engenharia_e_gestão_de_ativos?',\n",
       "       'você_tem_interesse_no_pós-mba_gestão_legal?',\n",
       "       'você_vai_orientar_um_grupo_de_potenciais_negociadores,_profissionais_de_sua_empresa,_sobre_como_trocar_concessões_(5ª_etapa)._que_recomendações_você_lhe_faria?',\n",
       "       'você_é_aluno(a)?', 'você_é_convidado_indumak?',\n",
       "       'você_é_nosso_aluno_regular?', 'você_é_professor(a)_da_sustentare?',\n",
       "       'área_de_atuação_da_empresa', 'área_de_atuação_de_interesse'],\n",
       "      dtype='object', length=346)"
      ]
     },
     "execution_count": 37,
     "metadata": {},
     "output_type": "execute_result"
    }
   ],
   "source": [
    "rd_station.columns"
   ]
  },
  {
   "cell_type": "markdown",
   "metadata": {},
   "source": [
    "## Understanding the dataset"
   ]
  },
  {
   "cell_type": "code",
   "execution_count": 38,
   "metadata": {},
   "outputs": [
    {
     "data": {
      "text/html": [
       "<div>\n",
       "<style scoped>\n",
       "    .dataframe tbody tr th:only-of-type {\n",
       "        vertical-align: middle;\n",
       "    }\n",
       "\n",
       "    .dataframe tbody tr th {\n",
       "        vertical-align: top;\n",
       "    }\n",
       "\n",
       "    .dataframe thead th {\n",
       "        text-align: right;\n",
       "    }\n",
       "</style>\n",
       "<table border=\"1\" class=\"dataframe\">\n",
       "  <thead>\n",
       "    <tr style=\"text-align: right;\">\n",
       "      <th></th>\n",
       "      <th>email</th>\n",
       "      <th>nome</th>\n",
       "      <th>telefone</th>\n",
       "      <th>celular</th>\n",
       "      <th>facebook</th>\n",
       "      <th>twitter</th>\n",
       "      <th>linkedin</th>\n",
       "      <th>website</th>\n",
       "      <th>cargo</th>\n",
       "      <th>empresa</th>\n",
       "      <th>...</th>\n",
       "      <th>você_tem_interesse_no_curso_de_pós-graduação_em_engenharia_da_manutenção?</th>\n",
       "      <th>você_tem_interesse_no_curso_engenharia_e_gestão_de_ativos?</th>\n",
       "      <th>você_tem_interesse_no_pós-mba_gestão_legal?</th>\n",
       "      <th>você_vai_orientar_um_grupo_de_potenciais_negociadores,_profissionais_de_sua_empresa,_sobre_como_trocar_concessões_(5ª_etapa)._que_recomendações_você_lhe_faria?</th>\n",
       "      <th>você_é_aluno(a)?</th>\n",
       "      <th>você_é_convidado_indumak?</th>\n",
       "      <th>você_é_nosso_aluno_regular?</th>\n",
       "      <th>você_é_professor(a)_da_sustentare?</th>\n",
       "      <th>área_de_atuação_da_empresa</th>\n",
       "      <th>área_de_atuação_de_interesse</th>\n",
       "    </tr>\n",
       "  </thead>\n",
       "  <tbody>\n",
       "    <tr>\n",
       "      <th>8142</th>\n",
       "      <td>bmarilia.f@malwee.com.br</td>\n",
       "      <td>Marília Bergamo Fogatto</td>\n",
       "      <td>NaN</td>\n",
       "      <td>NaN</td>\n",
       "      <td>NaN</td>\n",
       "      <td>NaN</td>\n",
       "      <td>NaN</td>\n",
       "      <td>NaN</td>\n",
       "      <td>NaN</td>\n",
       "      <td>NaN</td>\n",
       "      <td>...</td>\n",
       "      <td>NaN</td>\n",
       "      <td>NaN</td>\n",
       "      <td>NaN</td>\n",
       "      <td>NaN</td>\n",
       "      <td>NaN</td>\n",
       "      <td>NaN</td>\n",
       "      <td>NaN</td>\n",
       "      <td>NaN</td>\n",
       "      <td>NaN</td>\n",
       "      <td>NaN</td>\n",
       "    </tr>\n",
       "  </tbody>\n",
       "</table>\n",
       "<p>1 rows × 346 columns</p>\n",
       "</div>"
      ],
      "text/plain": [
       "                         email                     nome telefone celular  \\\n",
       "8142  bmarilia.f@malwee.com.br  Marília Bergamo Fogatto      NaN     NaN   \n",
       "\n",
       "     facebook twitter linkedin website cargo empresa  ...  \\\n",
       "8142      NaN     NaN      NaN     NaN   NaN     NaN  ...   \n",
       "\n",
       "      você_tem_interesse_no_curso_de_pós-graduação_em_engenharia_da_manutenção?  \\\n",
       "8142                                                NaN                           \n",
       "\n",
       "     você_tem_interesse_no_curso_engenharia_e_gestão_de_ativos?  \\\n",
       "8142                                                NaN           \n",
       "\n",
       "     você_tem_interesse_no_pós-mba_gestão_legal?  \\\n",
       "8142                                         NaN   \n",
       "\n",
       "     você_vai_orientar_um_grupo_de_potenciais_negociadores,_profissionais_de_sua_empresa,_sobre_como_trocar_concessões_(5ª_etapa)._que_recomendações_você_lhe_faria?  \\\n",
       "8142                                                NaN                                                                                                                \n",
       "\n",
       "     você_é_aluno(a)? você_é_convidado_indumak? você_é_nosso_aluno_regular?  \\\n",
       "8142              NaN                       NaN                         NaN   \n",
       "\n",
       "     você_é_professor(a)_da_sustentare?  área_de_atuação_da_empresa  \\\n",
       "8142                                NaN                         NaN   \n",
       "\n",
       "     área_de_atuação_de_interesse  \n",
       "8142                          NaN  \n",
       "\n",
       "[1 rows x 346 columns]"
      ]
     },
     "execution_count": 38,
     "metadata": {},
     "output_type": "execute_result"
    }
   ],
   "source": [
    "rd_station.sample()"
   ]
  },
  {
   "cell_type": "code",
   "execution_count": 39,
   "metadata": {},
   "outputs": [
    {
     "data": {
      "text/plain": [
       "(41722, 346)"
      ]
     },
     "execution_count": 39,
     "metadata": {},
     "output_type": "execute_result"
    }
   ],
   "source": [
    "rd_station.shape"
   ]
  },
  {
   "cell_type": "code",
   "execution_count": 40,
   "metadata": {},
   "outputs": [
    {
     "data": {
      "text/plain": [
       "email                                     0\n",
       "nome                                    698\n",
       "telefone                              33416\n",
       "celular                               28981\n",
       "facebook                              41527\n",
       "                                      ...  \n",
       "você_é_convidado_indumak?             41699\n",
       "você_é_nosso_aluno_regular?           41579\n",
       "você_é_professor(a)_da_sustentare?    41699\n",
       "área_de_atuação_da_empresa            41557\n",
       "área_de_atuação_de_interesse          41722\n",
       "Length: 346, dtype: int64"
      ]
     },
     "execution_count": 40,
     "metadata": {},
     "output_type": "execute_result"
    }
   ],
   "source": [
    "rd_station.isna().sum()"
   ]
  },
  {
   "cell_type": "code",
   "execution_count": 41,
   "metadata": {},
   "outputs": [
    {
     "data": {
      "text/plain": [
       "email                                  object\n",
       "nome                                   object\n",
       "telefone                               object\n",
       "celular                                object\n",
       "facebook                               object\n",
       "                                       ...   \n",
       "você_é_convidado_indumak?              object\n",
       "você_é_nosso_aluno_regular?            object\n",
       "você_é_professor(a)_da_sustentare?     object\n",
       "área_de_atuação_da_empresa             object\n",
       "área_de_atuação_de_interesse          float64\n",
       "Length: 346, dtype: object"
      ]
     },
     "execution_count": 41,
     "metadata": {},
     "output_type": "execute_result"
    }
   ],
   "source": [
    "rd_station.dtypes"
   ]
  },
  {
   "cell_type": "markdown",
   "metadata": {},
   "source": [
    "## Dropping the columns that won't need"
   ]
  },
  {
   "cell_type": "code",
   "execution_count": 42,
   "metadata": {},
   "outputs": [
    {
     "name": "stdout",
     "output_type": "stream",
     "text": [
      "Index(['email', 'nome', 'telefone', 'celular', 'facebook', 'twitter',\n",
      "       'linkedin', 'website', 'cargo', 'empresa',\n",
      "       ...\n",
      "       'você_tem_interesse_no_curso_de_pós-graduação_em_engenharia_da_manutenção?',\n",
      "       'você_tem_interesse_no_curso_engenharia_e_gestão_de_ativos?',\n",
      "       'você_tem_interesse_no_pós-mba_gestão_legal?',\n",
      "       'você_vai_orientar_um_grupo_de_potenciais_negociadores,_profissionais_de_sua_empresa,_sobre_como_trocar_concessões_(5ª_etapa)._que_recomendações_você_lhe_faria?',\n",
      "       'você_é_aluno(a)?', 'você_é_convidado_indumak?',\n",
      "       'você_é_nosso_aluno_regular?', 'você_é_professor(a)_da_sustentare?',\n",
      "       'área_de_atuação_da_empresa', 'área_de_atuação_de_interesse'],\n",
      "      dtype='object', length=346)\n"
     ]
    }
   ],
   "source": [
    "print(rd_station.columns)"
   ]
  },
  {
   "cell_type": "code",
   "execution_count": 43,
   "metadata": {},
   "outputs": [
    {
     "name": "stdout",
     "output_type": "stream",
     "text": [
      "cidade\n",
      "Joinville                    2796\n",
      "Jaraguá do Sul                201\n",
      "São Paulo                     185\n",
      "São Bento do Sul              130\n",
      "Itajaí                         96\n",
      "Curitiba                       52\n",
      "Blumenau                       51\n",
      "Rio de Janeiro                 49\n",
      "Florianópolis                  41\n",
      "Belo Horizonte                 30\n",
      "São Francisco do Sul           28\n",
      "Fortaleza                      25\n",
      "Brasília                       25\n",
      "Sete Lagoas                    21\n",
      "Navegantes                     20\n",
      "Vila Velha                     19\n",
      "Franca                         18\n",
      "Schroeder                      18\n",
      "Salvador                       16\n",
      "Itapoá                         15\n",
      "Araquari                       15\n",
      "Goiânia                        14\n",
      "Campinas                       14\n",
      "Guaramirim                     14\n",
      "Recife                         14\n",
      "Tijucas                        13\n",
      "Jundiaí                        12\n",
      "Vitória                        11\n",
      "Balneário Piçarras             11\n",
      "Teresina                       11\n",
      "São Luís                       11\n",
      "Barra Velha                    11\n",
      "Rio do Sul                     10\n",
      "Penha                          10\n",
      "São José dos Pinhais           10\n",
      "Timbó                          10\n",
      "Caxias do Sul                   9\n",
      "Santos                          9\n",
      "Garuva                          9\n",
      "Porto Alegre                    9\n",
      "São José dos Campos             8\n",
      "Rio Negrinho                    8\n",
      "Osasco                          8\n",
      "Massaranduba                    8\n",
      "Sorocaba                        8\n",
      "Balneário Camboriú              8\n",
      "Ribeirão Preto                  8\n",
      "Brusque                         7\n",
      "Abdon Batista                   7\n",
      "Londrina                        7\n",
      "Manaus                          7\n",
      "Pomerode                        7\n",
      "São Bernardo do Campo           7\n",
      "Natal                           7\n",
      "São José                        7\n",
      "Indaial                         6\n",
      "Belém                           6\n",
      "Indaiatuba                      6\n",
      "Maceió                          6\n",
      "Barueri                         6\n",
      "Lages                           6\n",
      "Criciúma                        5\n",
      "Sarzedo                         5\n",
      "Diadema                         5\n",
      "Ponta Grossa                    5\n",
      "Cachoeirinha                    5\n",
      "Camboriú                        5\n",
      "Serra                           5\n",
      "Cariacica                       5\n",
      "Abelardo Luz                    4\n",
      "Novo Hamburgo                   4\n",
      "Cuiabá                          4\n",
      "Santana de Parnaíba             4\n",
      "Uberlândia                      4\n",
      "Mauá                            4\n",
      "Balneário Barra do Sul          4\n",
      "Campo Alegre                    4\n",
      "Aracaju                         4\n",
      "Canoas                          4\n",
      "Guarulhos                       4\n",
      "Rio Claro                       4\n",
      "Corupá                          4\n",
      "Petrópolis                      4\n",
      "Botucatu                        4\n",
      "Santo André                     4\n",
      "Contagem                        4\n",
      "Campo Grande                    4\n",
      "Concórdia                       4\n",
      "Jaguariaíva                     3\n",
      "Ibirama                         3\n",
      "Itapevi                         3\n",
      "Atibaia                         3\n",
      "Porto Belo                      3\n",
      "Presidente Getúlio              3\n",
      "Pinhais                         3\n",
      "Belo Jardim                     3\n",
      "Gravataí                        3\n",
      "Palmas                          3\n",
      "Erechim                         3\n",
      "Gaspar                          3\n",
      "Palhoça                         3\n",
      "São Gonçalo                     3\n",
      "Passos                          3\n",
      "Itaiópolis                      3\n",
      "São Caetano do Sul              3\n",
      "Uberaba                         3\n",
      "Joinville                       3\n",
      "Chapecó                         3\n",
      "Carapicuíba                     3\n",
      "Itapecerica da Serra            2\n",
      "Patos de Minas                  2\n",
      "Fraiburgo                       2\n",
      "Franco da Rocha                 2\n",
      "Abaiara                         2\n",
      "Ji-Paraná                       2\n",
      "Teresópolis                     2\n",
      "Ourinhos                        2\n",
      "Embu das Artes                  2\n",
      "Curitibanos                     2\n",
      "Feira de Santana                2\n",
      "Betim                           2\n",
      "Campina Grande                  2\n",
      "Macaé                           2\n",
      "Camaçari                        2\n",
      "Cocal do Sul                    2\n",
      "Antônio Carlos                  2\n",
      "Esteio                          2\n",
      "Medianeira                      2\n",
      "Ipatinga                        2\n",
      "Bragança Paulista               2\n",
      "Otacílio Costa                  2\n",
      "Itacoatiara                     2\n",
      "Duque de Caxias                 2\n",
      "Sumaré                          2\n",
      "Jaboatão dos Guararapes         2\n",
      "Embu-Guaçu                      2\n",
      "Toledo                          2\n",
      "Cascavel                        2\n",
      "Guarujá                         2\n",
      "Monte Alto                      2\n",
      "Santa Maria                     2\n",
      "Guaporé                         2\n",
      "Ijuí                            2\n",
      "Foz do Iguaçu                   2\n",
      "Guaratuba                       2\n",
      "São Bento                       2\n",
      "Cosmópolis                      2\n",
      "Montes Claros                   2\n",
      "Mogi das Cruzes                 2\n",
      "Araraquara                      2\n",
      "União da Vitória                2\n",
      "Petrolina                       2\n",
      "Itapema                         2\n",
      "Niterói                         2\n",
      "Abaeté                          2\n",
      "Maringá                         2\n",
      "Piumhi                          2\n",
      "Pato Branco                     2\n",
      "Piracicaba                      2\n",
      "Ilha Solteira                   1\n",
      "Valinhos                        1\n",
      "Araucária                       1\n",
      "Alfenas                         1\n",
      "Jacareí                         1\n",
      "Miracatu                        1\n",
      "Timóteo                         1\n",
      "Joinville - SC                  1\n",
      "Videira                         1\n",
      "Campo Mourão                    1\n",
      "Pelotas                         1\n",
      "Valença                         1\n",
      "Cianorte                        1\n",
      "Abatiá                          1\n",
      "Tubarão                         1\n",
      "Petrolândia                     1\n",
      "Juruti                          1\n",
      "Cabo Verde                      1\n",
      "Buenos Aires                    1\n",
      "Nilópolis                       1\n",
      "Cruz Alta                       1\n",
      "Carmo                           1\n",
      "Canaã dos Carajás               1\n",
      "Itaperuna                       1\n",
      "Canoinhas                       1\n",
      "Telêmaco Borba                  1\n",
      "Biguaçu                         1\n",
      "Moju                            1\n",
      "Braço do Trombudo               1\n",
      "Barra de Santo Antônio          1\n",
      "Guaranésia                      1\n",
      "Pacatuba                        1\n",
      "São Carlos                      1\n",
      "Almirante Tamandaré             1\n",
      "Castilho                        1\n",
      "Campos Novos                    1\n",
      "Maracás                         1\n",
      "São João do Itaperiú            1\n",
      "Capivari de Baixo               1\n",
      "Cornélio Procópio               1\n",
      "Parnamirim                      1\n",
      "Várzea Grande                   1\n",
      "Guarapari                       1\n",
      "Matinhos                        1\n",
      "Caucaia                         1\n",
      "Santa Terezinha                 1\n",
      "Piên                            1\n",
      "Dois Vizinhos                   1\n",
      "Santa Rosa                      1\n",
      "Guariba                         1\n",
      "Goiás                           1\n",
      "Luiz Alves                      1\n",
      "Rio Branco                      1\n",
      "Papanduva                       1\n",
      "Nova Iguaçu de Goiás            1\n",
      "Taubaté                         1\n",
      "São Bonifácio                   1\n",
      "Meleiro                         1\n",
      "Lagoa da Prata                  1\n",
      "Guabiruba                       1\n",
      "Estância                        1\n",
      "Pindamonhangaba                 1\n",
      "Pacajus                         1\n",
      "Ananindeua                      1\n",
      "Ilhéus                          1\n",
      "São José do Rio Preto           1\n",
      "Três Lagoas                     1\n",
      "Canguaretama                    1\n",
      "Tiradentes do Sul               1\n",
      "Siderópolis                     1\n",
      "Jacobina                        1\n",
      "Irati                           1\n",
      "Pacaembu                        1\n",
      "Laurentino                      1\n",
      "Juazeiro do Norte               1\n",
      "Garibaldi                       1\n",
      "Praia Grande                    1\n",
      "Ibatiba                         1\n",
      "Cajamar                         1\n",
      "Teutônia                        1\n",
      "Trombudo Central                1\n",
      "Porto Velho                     1\n",
      "Adamantina                      1\n",
      "São Miguel do Oeste             1\n",
      "Cachoeiro de Itapemirim         1\n",
      "Santa Bárbara d'Oeste           1\n",
      "Galiléia                        1\n",
      "Aracruz                         1\n",
      "São Mateus                      1\n",
      "José Bonifácio                  1\n",
      "Juazeiro                        1\n",
      "Passo Fundo                     1\n",
      "Ribeirão Pires                  1\n",
      "Barra Mansa                     1\n",
      "Alto Alegre do Maranhão         1\n",
      "Goianésia                       1\n",
      "Caçador                         1\n",
      "Taquari                         1\n",
      "Itu                             1\n",
      "Tatuí                           1\n",
      "Anita Garibaldi                 1\n",
      "São Lourenço da Mata            1\n",
      "Bauru                           1\n",
      "Araçatuba                       1\n",
      "Marechal Deodoro                1\n",
      "Ibirité                         1\n",
      "Sapucaia do Sul                 1\n",
      "Santa Cruz do Rio Pardo         1\n",
      "Pedro Leopoldo                  1\n",
      "Santo Antônio do Pinhal         1\n",
      "Nova Europa                     1\n",
      "São Miguel do Iguaçu            1\n",
      "Mogi Guaçu                      1\n",
      "Valparaíso de Goiás             1\n",
      "Manhuaçu                        1\n",
      "Rio Negro                       1\n",
      "Itajubá                         1\n",
      "Garopaba                        1\n",
      "Unaí                            1\n",
      "Araruama                        1\n",
      "São José de Ribamar             1\n",
      "Piracaia                        1\n",
      "Paço do Lumiar                  1\n",
      "Abre Campo                      1\n",
      "Lauro de Freitas                1\n",
      "Mogi Mirim                      1\n",
      "Taboão da Serra                 1\n",
      "Salto                           1\n",
      "Três Passos                     1\n",
      "Lontras                         1\n",
      "Maricá                          1\n",
      "Guaraçaí                        1\n",
      "Eldorado do Sul                 1\n",
      "Abreulândia                     1\n",
      "Jaú                             1\n",
      "Nova Odessa                     1\n",
      "Araxá                           1\n",
      "Juiz de Fora                    1\n",
      "Colombo                         1\n",
      "Imaruí                          1\n",
      "Igarapé                         1\n",
      "Fazenda Rio Grande              1\n",
      "Cristalina                      1\n",
      "Itupeva                         1\n",
      "Limeira                         1\n",
      "Primavera do Leste              1\n",
      "Aperibé                         1\n",
      "Dois Irmãos                     1\n",
      "Nova Friburgo                   1\n",
      "Abadia de Goiás                 1\n",
      "Treze Tílias                    1\n",
      "Gramado                         1\n",
      "São Francisco do Sul - SC       1\n",
      "Suzano                          1\n",
      "Name: count, dtype: int64\n"
     ]
    }
   ],
   "source": [
    "with pd.option_context('display.max_rows', None, 'display.max_columns', None):\n",
    "    print(rd_station['cidade'].value_counts())"
   ]
  },
  {
   "cell_type": "code",
   "execution_count": 44,
   "metadata": {},
   "outputs": [
    {
     "name": "stdout",
     "output_type": "stream",
     "text": [
      "email                                                                                            41722\n",
      "estágio_no_funil                                                                                 41722\n",
      "total_de_conversões                                                                              41722\n",
      "url_pública                                                                                      41722\n",
      "status_para_comunicação_por_email                                                                41722\n",
      "lead_scoring_-_interesse                                                                         41722\n",
      "lead_scoring_-_perfil                                                                            41722\n",
      "base_legal_para_comunicação                                                                      41660\n",
      "eventos_(últimos_100)                                                                            41340\n",
      "origem_da_última_conversão                                                                       41340\n",
      "data_da_última_conversão                                                                         41340\n",
      "origem_da_primeira_conversão                                                                     41340\n",
      "data_da_primeira_conversão                                                                       41340\n",
      "nome                                                                                             41024\n",
      "curso_de_interesse:                                                                              18186\n",
      "empresa                                                                                          17573\n",
      "cargo.1                                                                                          14484\n",
      "celular                                                                                          12741\n",
      "celular.1                                                                                        11509\n",
      "tags                                                                                             10378\n",
      "telefone                                                                                          8306\n",
      "data_da_última_oportunidade                                                                       7465\n",
      "cargo                                                                                             7335\n",
      "estado                                                                                            6983\n",
      "etapa_do_funil_de_vendas_no_crm_(última_atualização)                                              6549\n",
      "qualificação_da_oportunidade_no_crm_(última_atualização)                                          6549\n",
      "nome_do_responsável_pela_oportunidade_no_crm_(última_atualização)                                 6549\n",
      "valor_total_da_oportunidade_no_crm_(última_atualização)                                           6549\n",
      "origem_da_oportunidade_no_crm_(última_atualização)                                                6351\n",
      "dono_do_lead                                                                                      5864\n",
      "funil_de_vendas_no_crm_(última_atualização)                                                       4778\n",
      "cidade                                                                                            4644\n",
      "possui_interesse_em_realizar_uma_pós-graduação_ou_mba?                                            4577\n",
      "qual_é_a_sua_área_de_atuação?                                                                     3593\n",
      "cpf                                                                                               3386\n",
      "selecione_o_curso_desejado:.1                                                                     3353\n",
      "rg                                                                                                3188\n",
      "data_de_nascimento                                                                                2994\n",
      "endereço_(rua,_número_e_complemento)                                                              2774\n",
      "motivo_de_perda_no_rd_station_crm                                                                 2768\n",
      "qual_a_sua_área_de_atuação?                                                                       2513\n",
      "curso_de_graduação                                                                                2284\n",
      "desejo_receber_o_sustentare_news                                                                  2064\n",
      "data_da_última_venda                                                                              1978\n",
      "valor_da_última_venda                                                                             1974\n",
      "como_você_conheceu_a_sustentare:                                                                  1954\n",
      "bairro                                                                                            1929\n",
      "naturalidade                                                                                      1917\n",
      "ano                                                                                               1902\n",
      "universidade                                                                                      1901\n",
      "cep                                                                                               1861\n",
      "pós-graduado?:                                                                                    1668\n",
      "orgão_emissor                                                                                     1664\n",
      "data_da_expedição                                                                                 1659\n",
      "email2                                                                                            1568\n",
      "reside_em:                                                                                        1174\n",
      "qual_sua_área_de_interesse?                                                                       1063\n",
      "telefone_comercial.1                                                                               948\n",
      "curso_de_formação_e_capacitação                                                                    922\n",
      "fone:                                                                                              807\n",
      "não_associado                                                                                      786\n",
      "associado_ajorpeme                                                                                 786\n",
      "professor                                                                                          786\n",
      "estudante                                                                                          786\n",
      "inscrições_gratuitas_para_ex-alunos_e_alunos_(deverão_trazer_um_amigo_-_ver_rede_de_amizades)      783\n",
      "inscrições_gratuitas_para_interessados_(novos_alunos_2016)                                         783\n",
      "inscrição_para_comunidade_-_r$_40,00_*pagamento_via_boleto_bancário                                783\n",
      "data_do_exame:                                                                                     645\n",
      "selecione_o_curso_desejado:.2                                                                      644\n",
      "quantas_pessoas_você_lidera?                                                                       641\n",
      "dtype: int64\n"
     ]
    }
   ],
   "source": [
    "#rd_station.notnull().sum().sort_values(ascending=False).head(70)\n",
    "# To be able to look at all the lines\n",
    "with pd.option_context('display.max_rows', None, 'display.max_columns', None):\n",
    "    print(rd_station.notnull().sum().sort_values(ascending=False).head(70))"
   ]
  },
  {
   "cell_type": "markdown",
   "metadata": {},
   "source": [
    "### If wanted to created a subset with the most responds field"
   ]
  },
  {
   "cell_type": "code",
   "execution_count": 45,
   "metadata": {},
   "outputs": [],
   "source": [
    "top_50_filled = rd_station.notnull().sum().sort_values(ascending=False).head(50).index\n",
    "rd_station_columns_responds_most = rd_station[top_50_filled]"
   ]
  },
  {
   "cell_type": "markdown",
   "metadata": {},
   "source": [
    "## Creating a subset with the information on the lead <> Profile"
   ]
  },
  {
   "cell_type": "code",
   "execution_count": 46,
   "metadata": {},
   "outputs": [],
   "source": [
    "rd_station_profile = rd_station[[\n",
    "    'email', 'nome', 'lead_scoring_-_perfil', 'url_pública', 'estágio_no_funil', 'total_de_conversões',\n",
    "    'lead_scoring_-_interesse', 'status_para_comunicação_por_email',\n",
    "    'data_da_primeira_conversão', 'eventos_(últimos_100)', 'origem_da_última_conversão',\n",
    "    'data_da_última_conversão', 'origem_da_primeira_conversão', 'curso_de_interesse:',\n",
    "    'empresa', 'cargo.1', 'tags', 'data_da_última_oportunidade', 'cargo', 'estado',\n",
    "    'valor_total_da_oportunidade_no_crm_(última_atualização)',\n",
    "    'qualificação_da_oportunidade_no_crm_(última_atualização)',\n",
    "    'etapa_do_funil_de_vendas_no_crm_(última_atualização)',\n",
    "    'nome_do_responsável_pela_oportunidade_no_crm_(última_atualização)',\n",
    "    'origem_da_oportunidade_no_crm_(última_atualização)',\n",
    "    'cidade', 'possui_interesse_em_realizar_uma_pós-graduação_ou_mba?',\n",
    "    'qual_é_a_sua_área_de_atuação?', 'selecione_o_curso_desejado:.1',\n",
    "    'qual_a_sua_área_de_atuação?', 'data_de_nascimento',\n",
    "    'desejo_receber_o_sustentare_news', 'qual_sua_área_de_interesse?',\n",
    "    'como_você_conheceu_a_sustentare:', 'universidade', 'reside_em:',\n",
    "    'cidade_de_residência:', 'interesse_em', 'qual_o_curso_de_interesse?'\n",
    "]]"
   ]
  },
  {
   "cell_type": "markdown",
   "metadata": {},
   "source": [
    "### Got different columns with representing the same thing, compiling all in one new columns"
   ]
  },
  {
   "cell_type": "markdown",
   "metadata": {},
   "source": [
    "Represents City: 'Cidade', 'Reside em:' and 'Cidade de residência:'"
   ]
  },
  {
   "cell_type": "code",
   "execution_count": 47,
   "metadata": {},
   "outputs": [
    {
     "name": "stderr",
     "output_type": "stream",
     "text": [
      "C:\\Users\\anafl\\AppData\\Local\\Temp\\ipykernel_19608\\1712831611.py:2: SettingWithCopyWarning: \n",
      "A value is trying to be set on a copy of a slice from a DataFrame.\n",
      "Try using .loc[row_indexer,col_indexer] = value instead\n",
      "\n",
      "See the caveats in the documentation: https://pandas.pydata.org/pandas-docs/stable/user_guide/indexing.html#returning-a-view-versus-a-copy\n",
      "  rd_station_profile.loc[:, 'cidade_final'] = (\n"
     ]
    }
   ],
   "source": [
    "# Using .loc because was receiving 'SettingWithCopyWarning'\n",
    "rd_station_profile.loc[:, 'cidade_final'] = (\n",
    "    rd_station_profile['cidade']\n",
    "    .fillna(rd_station_profile['reside_em:'])\n",
    "    .fillna(rd_station_profile['cidade_de_residência:'])\n",
    ")\n"
   ]
  },
  {
   "cell_type": "markdown",
   "metadata": {},
   "source": [
    "Represents Position at the company: 'Cargo.1' and 'Cargo'"
   ]
  },
  {
   "cell_type": "code",
   "execution_count": 48,
   "metadata": {},
   "outputs": [
    {
     "name": "stderr",
     "output_type": "stream",
     "text": [
      "C:\\Users\\anafl\\AppData\\Local\\Temp\\ipykernel_19608\\1555167880.py:1: SettingWithCopyWarning: \n",
      "A value is trying to be set on a copy of a slice from a DataFrame.\n",
      "Try using .loc[row_indexer,col_indexer] = value instead\n",
      "\n",
      "See the caveats in the documentation: https://pandas.pydata.org/pandas-docs/stable/user_guide/indexing.html#returning-a-view-versus-a-copy\n",
      "  rd_station_profile.loc[:, 'cargo_final'] = (\n"
     ]
    }
   ],
   "source": [
    "rd_station_profile.loc[:, 'cargo_final'] = (\n",
    "    rd_station_profile['cargo.1']\n",
    "    .fillna(rd_station_profile['cargo'])\n",
    ")"
   ]
  },
  {
   "cell_type": "markdown",
   "metadata": {},
   "source": [
    "Represents area of work in the company: 'Qual a sua área de atuação?', 'Qual a sua área de atuação?'"
   ]
  },
  {
   "cell_type": "code",
   "execution_count": 49,
   "metadata": {},
   "outputs": [
    {
     "name": "stderr",
     "output_type": "stream",
     "text": [
      "C:\\Users\\anafl\\AppData\\Local\\Temp\\ipykernel_19608\\814111575.py:1: SettingWithCopyWarning: \n",
      "A value is trying to be set on a copy of a slice from a DataFrame.\n",
      "Try using .loc[row_indexer,col_indexer] = value instead\n",
      "\n",
      "See the caveats in the documentation: https://pandas.pydata.org/pandas-docs/stable/user_guide/indexing.html#returning-a-view-versus-a-copy\n",
      "  rd_station_profile.loc[:, 'area_atuacao'] = (\n"
     ]
    }
   ],
   "source": [
    "rd_station_profile.loc[:, 'area_atuacao'] = (\n",
    "    rd_station_profile['qual_é_a_sua_área_de_atuação?']\n",
    "    .fillna(rd_station_profile['qual_a_sua_área_de_atuação?'])\n",
    ")"
   ]
  },
  {
   "cell_type": "markdown",
   "metadata": {},
   "source": [
    "Represents course interest: 'Curso de interesse:', 'Qual sua área de interesse?' and 'Interesse em'"
   ]
  },
  {
   "cell_type": "code",
   "execution_count": 50,
   "metadata": {},
   "outputs": [
    {
     "name": "stderr",
     "output_type": "stream",
     "text": [
      "C:\\Users\\anafl\\AppData\\Local\\Temp\\ipykernel_19608\\2982015989.py:1: SettingWithCopyWarning: \n",
      "A value is trying to be set on a copy of a slice from a DataFrame.\n",
      "Try using .loc[row_indexer,col_indexer] = value instead\n",
      "\n",
      "See the caveats in the documentation: https://pandas.pydata.org/pandas-docs/stable/user_guide/indexing.html#returning-a-view-versus-a-copy\n",
      "  rd_station_profile.loc[:, 'interesse_final'] = (\n"
     ]
    }
   ],
   "source": [
    "rd_station_profile.loc[:, 'interesse_final'] = (\n",
    "    rd_station_profile['curso_de_interesse:']\n",
    "    .fillna(rd_station_profile['selecione_o_curso_desejado:.1'])\n",
    "    .fillna(rd_station_profile['qual_sua_área_de_interesse?'])\n",
    "    .fillna(rd_station_profile['interesse_em'])\n",
    "    .fillna(rd_station_profile['qual_o_curso_de_interesse?'])\n",
    ")"
   ]
  },
  {
   "cell_type": "code",
   "execution_count": 51,
   "metadata": {},
   "outputs": [
    {
     "name": "stdout",
     "output_type": "stream",
     "text": [
      "email                                                                    0\n",
      "nome                                                                   698\n",
      "lead_scoring_-_perfil                                                    0\n",
      "url_pública                                                              0\n",
      "estágio_no_funil                                                         0\n",
      "total_de_conversões                                                      0\n",
      "lead_scoring_-_interesse                                                 0\n",
      "status_para_comunicação_por_email                                        0\n",
      "data_da_primeira_conversão                                             382\n",
      "eventos_(últimos_100)                                                  382\n",
      "origem_da_última_conversão                                             382\n",
      "data_da_última_conversão                                               382\n",
      "origem_da_primeira_conversão                                           382\n",
      "curso_de_interesse:                                                  23536\n",
      "empresa                                                              24149\n",
      "cargo.1                                                              27238\n",
      "tags                                                                 31344\n",
      "data_da_última_oportunidade                                          34257\n",
      "cargo                                                                34387\n",
      "estado                                                               34739\n",
      "valor_total_da_oportunidade_no_crm_(última_atualização)              35173\n",
      "qualificação_da_oportunidade_no_crm_(última_atualização)             35173\n",
      "etapa_do_funil_de_vendas_no_crm_(última_atualização)                 35173\n",
      "nome_do_responsável_pela_oportunidade_no_crm_(última_atualização)    35173\n",
      "origem_da_oportunidade_no_crm_(última_atualização)                   35371\n",
      "cidade                                                               37078\n",
      "possui_interesse_em_realizar_uma_pós-graduação_ou_mba?               37145\n",
      "qual_é_a_sua_área_de_atuação?                                        38129\n",
      "selecione_o_curso_desejado:.1                                        38369\n",
      "qual_a_sua_área_de_atuação?                                          39209\n",
      "data_de_nascimento                                                   38728\n",
      "desejo_receber_o_sustentare_news                                     39658\n",
      "qual_sua_área_de_interesse?                                          40659\n",
      "como_você_conheceu_a_sustentare:                                     39768\n",
      "universidade                                                         39821\n",
      "reside_em:                                                           40548\n",
      "cidade_de_residência:                                                41182\n",
      "interesse_em                                                         41248\n",
      "qual_o_curso_de_interesse?                                           41264\n",
      "cidade_final                                                         36235\n",
      "cargo_final                                                          21926\n",
      "area_atuacao                                                         35800\n",
      "interesse_final                                                      22223\n",
      "dtype: int64\n"
     ]
    }
   ],
   "source": [
    "with pd.option_context('display.max_rows', None, 'display.max_columns', None):\n",
    "    print(rd_station_profile.isna().sum())"
   ]
  },
  {
   "cell_type": "markdown",
   "metadata": {},
   "source": [
    "With this I was able to reduce \n",
    "- *Cidade* had 37078 null values now 36235\n",
    "- *Cargo* had 27238 null values now 21926\n",
    "- *Area Atuacao* had 39209 null values now 35800\n",
    "- *Interesse Final* had 23536 null values now 22223"
   ]
  },
  {
   "cell_type": "code",
   "execution_count": 52,
   "metadata": {},
   "outputs": [],
   "source": [
    "rd_station_profile = rd_station_profile.drop(columns=['cidade', 'reside_em:', 'cidade_de_residência:', 'cargo.1', 'cargo', 'qual_é_a_sua_área_de_atuação?', 'qual_a_sua_área_de_atuação?', 'curso_de_interesse:', 'qual_sua_área_de_interesse?', 'interesse_em', 'selecione_o_curso_desejado:.1'])"
   ]
  },
  {
   "cell_type": "code",
   "execution_count": 53,
   "metadata": {},
   "outputs": [],
   "source": [
    "def process_rd_station_profile(df):\n",
    "\n",
    "    \"\"\"\n",
    "    Transform the columns of DataFrame to lowercase and replace spaces in column names with underscores also,\n",
    "    Process the DataFrame to handle missing values and create consolidated columns.\n",
    "\n",
    "    Parameters:\n",
    "    - rd_station (DataFrame): The original RD Station DataFrame.\n",
    "\n",
    "    Returns:\n",
    "    - DataFrame: Processed RD Station profile with consolidated and cleaned columns.\n",
    "        \"\"\"\n",
    "    \n",
    "    df.columns = df.columns.str.lower().str.replace(' ', '_')\n",
    "\n",
    "    rd_station_profile = df[[\n",
    "        'email', 'nome', 'lead_scoring_-_perfil', 'url_pública', 'estágio_no_funil', 'total_de_conversões',\n",
    "        'lead_scoring_-_interesse', 'status_para_comunicação_por_email',\n",
    "        'data_da_primeira_conversão', 'eventos_(últimos_100)', 'origem_da_última_conversão',\n",
    "        'data_da_última_conversão', 'origem_da_primeira_conversão', 'curso_de_interesse:',\n",
    "        'empresa', 'cargo.1', 'tags', 'data_da_última_oportunidade', 'cargo', 'estado',\n",
    "        'valor_total_da_oportunidade_no_crm_(última_atualização)',\n",
    "        'qualificação_da_oportunidade_no_crm_(última_atualização)',\n",
    "        'etapa_do_funil_de_vendas_no_crm_(última_atualização)',\n",
    "        'nome_do_responsável_pela_oportunidade_no_crm_(última_atualização)',\n",
    "        'origem_da_oportunidade_no_crm_(última_atualização)',\n",
    "        'cidade', 'possui_interesse_em_realizar_uma_pós-graduação_ou_mba?',\n",
    "        'qual_é_a_sua_área_de_atuação?', 'selecione_o_curso_desejado:.1',\n",
    "        'qual_a_sua_área_de_atuação?', 'data_de_nascimento',\n",
    "        'desejo_receber_o_sustentare_news', 'qual_sua_área_de_interesse?',\n",
    "        'como_você_conheceu_a_sustentare:', 'universidade', 'reside_em:',\n",
    "        'cidade_de_residência:', 'interesse_em', 'qual_o_curso_de_interesse?'\n",
    "    ]]\n",
    "\n",
    "    rd_station_profile.loc[:, 'cidade_final'] = (\n",
    "        rd_station_profile['cidade']\n",
    "        .fillna(rd_station_profile['reside_em:'])\n",
    "        .fillna(rd_station_profile['cidade_de_residência:'])\n",
    "    )\n",
    "\n",
    "    rd_station_profile.loc[:, 'cargo_final'] = (\n",
    "        rd_station_profile['cargo.1']\n",
    "        .fillna(rd_station_profile['cargo'])\n",
    "    )\n",
    "\n",
    "    rd_station_profile.loc[:, 'area_atuacao'] = (\n",
    "        rd_station_profile['qual_é_a_sua_área_de_atuação?']\n",
    "        .fillna(rd_station_profile['qual_a_sua_área_de_atuação?'])\n",
    "    )\n",
    "\n",
    "    rd_station_profile.loc[:, 'interesse_final'] = (\n",
    "        rd_station_profile['curso_de_interesse:']\n",
    "        .fillna(rd_station_profile['selecione_o_curso_desejado:.1'])\n",
    "        .fillna(rd_station_profile['qual_sua_área_de_interesse?'])\n",
    "        .fillna(rd_station_profile['interesse_em'])\n",
    "        .fillna(rd_station_profile['qual_o_curso_de_interesse?'])\n",
    "    )\n",
    "    rd_station_profile = rd_station_profile.drop(columns=['cidade', 'reside_em:', 'cidade_de_residência:', 'cargo.1', 'cargo', 'qual_é_a_sua_área_de_atuação?', 'qual_a_sua_área_de_atuação?', 'curso_de_interesse:', 'qual_sua_área_de_interesse?', 'interesse_em', 'selecione_o_curso_desejado:.1'])\n",
    "\n",
    "    return rd_station_profile"
   ]
  },
  {
   "cell_type": "markdown",
   "metadata": {},
   "source": [
    "# Dealing with the CRM information"
   ]
  },
  {
   "cell_type": "markdown",
   "metadata": {},
   "source": [
    "### Doing the queries"
   ]
  },
  {
   "cell_type": "code",
   "execution_count": 3,
   "metadata": {},
   "outputs": [],
   "source": [
    "# Database connection details\n",
    "db_config = {\n",
    "    'user': 'um_acesso_bi',\n",
    "    'password': password,\n",
    "    'host': '186.250.185.72',\n",
    "    'database': 'unimestre'\n",
    "}\n",
    "\n",
    "def connect_to_database(config):\n",
    "    try:\n",
    "        connection = mysql.connector.connect(**config)\n",
    "        return connection\n",
    "    except Exception as e:\n",
    "        print(f\"Error connecting to the MySQL database: {e}\")\n",
    "        return None\n",
    "    \n",
    "db_connection = connect_to_database(db_config)"
   ]
  },
  {
   "cell_type": "code",
   "execution_count": 84,
   "metadata": {},
   "outputs": [
    {
     "name": "stderr",
     "output_type": "stream",
     "text": [
      "C:\\Users\\anafl\\AppData\\Local\\Temp\\ipykernel_19608\\3170828804.py:31: UserWarning: pandas only supports SQLAlchemy connectable (engine/connection) or database string URI or sqlite3 DBAPI2 connection. Other DBAPI2 objects are not tested. Please consider using SQLAlchemy.\n",
      "  df = pd.read_sql(query, connection)\n"
     ]
    },
    {
     "data": {
      "text/html": [
       "<div>\n",
       "<style scoped>\n",
       "    .dataframe tbody tr th:only-of-type {\n",
       "        vertical-align: middle;\n",
       "    }\n",
       "\n",
       "    .dataframe tbody tr th {\n",
       "        vertical-align: top;\n",
       "    }\n",
       "\n",
       "    .dataframe thead th {\n",
       "        text-align: right;\n",
       "    }\n",
       "</style>\n",
       "<table border=\"1\" class=\"dataframe\">\n",
       "  <thead>\n",
       "    <tr style=\"text-align: right;\">\n",
       "      <th></th>\n",
       "      <th>cd_pessoa</th>\n",
       "      <th>ds_email</th>\n",
       "      <th>ds_cidade</th>\n",
       "      <th>dt_nascimento</th>\n",
       "      <th>min_dt_log</th>\n",
       "    </tr>\n",
       "  </thead>\n",
       "  <tbody>\n",
       "    <tr>\n",
       "      <th>0</th>\n",
       "      <td>1001</td>\n",
       "      <td>fabiosilva@unimestre.com</td>\n",
       "      <td>Blumenau</td>\n",
       "      <td>2010-01-11 00:00:00</td>\n",
       "      <td>2013-07-26 14:13:39</td>\n",
       "    </tr>\n",
       "    <tr>\n",
       "      <th>1</th>\n",
       "      <td>1002</td>\n",
       "      <td>1002a@sememail.com</td>\n",
       "      <td>None</td>\n",
       "      <td>None</td>\n",
       "      <td>NaT</td>\n",
       "    </tr>\n",
       "    <tr>\n",
       "      <th>2</th>\n",
       "      <td>100003</td>\n",
       "      <td>wag_sc@hotmail.com</td>\n",
       "      <td>None</td>\n",
       "      <td>1987-04-02 00:00:00</td>\n",
       "      <td>NaT</td>\n",
       "    </tr>\n",
       "    <tr>\n",
       "      <th>3</th>\n",
       "      <td>100011</td>\n",
       "      <td>00000000000@sememail.com</td>\n",
       "      <td>None</td>\n",
       "      <td>1990-01-01 00:00:00</td>\n",
       "      <td>2013-12-04 10:33:45</td>\n",
       "    </tr>\n",
       "    <tr>\n",
       "      <th>4</th>\n",
       "      <td>100046</td>\n",
       "      <td>@sememail.com</td>\n",
       "      <td>São paulo</td>\n",
       "      <td>None</td>\n",
       "      <td>NaT</td>\n",
       "    </tr>\n",
       "    <tr>\n",
       "      <th>...</th>\n",
       "      <td>...</td>\n",
       "      <td>...</td>\n",
       "      <td>...</td>\n",
       "      <td>...</td>\n",
       "      <td>...</td>\n",
       "    </tr>\n",
       "    <tr>\n",
       "      <th>12054</th>\n",
       "      <td>170000461</td>\n",
       "      <td>76835297/00@sememail.com</td>\n",
       "      <td>Blumenau</td>\n",
       "      <td>None</td>\n",
       "      <td>NaT</td>\n",
       "    </tr>\n",
       "    <tr>\n",
       "      <th>12055</th>\n",
       "      <td>170000462</td>\n",
       "      <td>76840198/00@sememail.com</td>\n",
       "      <td>Florianópolis</td>\n",
       "      <td>None</td>\n",
       "      <td>NaT</td>\n",
       "    </tr>\n",
       "    <tr>\n",
       "      <th>12056</th>\n",
       "      <td>170000463</td>\n",
       "      <td>rodrigomnsn@hotmail.com</td>\n",
       "      <td>Joinville</td>\n",
       "      <td>1991-05-01 00:00:00</td>\n",
       "      <td>NaT</td>\n",
       "    </tr>\n",
       "    <tr>\n",
       "      <th>12057</th>\n",
       "      <td>170000464</td>\n",
       "      <td>@sememail.com</td>\n",
       "      <td>Blumenau</td>\n",
       "      <td>None</td>\n",
       "      <td>NaT</td>\n",
       "    </tr>\n",
       "    <tr>\n",
       "      <th>12058</th>\n",
       "      <td>170000465</td>\n",
       "      <td>170000465a@sememail.com</td>\n",
       "      <td>None</td>\n",
       "      <td>None</td>\n",
       "      <td>NaT</td>\n",
       "    </tr>\n",
       "  </tbody>\n",
       "</table>\n",
       "<p>12059 rows × 5 columns</p>\n",
       "</div>"
      ],
      "text/plain": [
       "       cd_pessoa                  ds_email      ds_cidade  \\\n",
       "0           1001  fabiosilva@unimestre.com       Blumenau   \n",
       "1           1002        1002a@sememail.com           None   \n",
       "2         100003        wag_sc@hotmail.com           None   \n",
       "3         100011  00000000000@sememail.com           None   \n",
       "4         100046             @sememail.com      São paulo   \n",
       "...          ...                       ...            ...   \n",
       "12054  170000461  76835297/00@sememail.com       Blumenau   \n",
       "12055  170000462  76840198/00@sememail.com  Florianópolis   \n",
       "12056  170000463   rodrigomnsn@hotmail.com      Joinville   \n",
       "12057  170000464             @sememail.com       Blumenau   \n",
       "12058  170000465   170000465a@sememail.com           None   \n",
       "\n",
       "             dt_nascimento          min_dt_log  \n",
       "0      2010-01-11 00:00:00 2013-07-26 14:13:39  \n",
       "1                     None                 NaT  \n",
       "2      1987-04-02 00:00:00                 NaT  \n",
       "3      1990-01-01 00:00:00 2013-12-04 10:33:45  \n",
       "4                     None                 NaT  \n",
       "...                    ...                 ...  \n",
       "12054                 None                 NaT  \n",
       "12055                 None                 NaT  \n",
       "12056  1991-05-01 00:00:00                 NaT  \n",
       "12057                 None                 NaT  \n",
       "12058                 None                 NaT  \n",
       "\n",
       "[12059 rows x 5 columns]"
      ]
     },
     "execution_count": 84,
     "metadata": {},
     "output_type": "execute_result"
    }
   ],
   "source": [
    "def get_student_information(connection):\n",
    "\n",
    "    \n",
    "    if connection is None:\n",
    "        return \"Connection to database failed.\"\n",
    "\n",
    "    cursor = connection.cursor()\n",
    "    cursor.execute(\"SHOW TABLES\")\n",
    "    tables = cursor.fetchall()\n",
    "\n",
    "    query = f'''SELECT\n",
    "    pessoas.cd_pessoa,\n",
    "    moodle.ds_email,\n",
    "    CONCAT(UPPER(SUBSTRING(pessoas.ds_cidade, 1, 1)), LOWER(SUBSTRING(pessoas.ds_cidade, 2))) as ds_cidade,\n",
    "    pessoas.dt_nascimento,\n",
    "    log.min_dt_log\n",
    "    FROM\n",
    "    unimestre.pessoas AS pessoas\n",
    "JOIN \n",
    "    unimestre_moodle.view_moodle_pessoas AS moodle\n",
    "    ON pessoas.cd_pessoa = moodle.cd_pessoa\n",
    "LEFT JOIN (\n",
    "    SELECT\n",
    "        cd_pessoa,\n",
    "        MIN(dt_log) as min_dt_log\n",
    "    FROM\n",
    "        unimestre.diario_logs\n",
    "    GROUP BY\n",
    "        cd_pessoa\n",
    ") AS log ON pessoas.cd_pessoa = log.cd_pessoa\n",
    "limit 1000000;\n",
    "'''\n",
    "    df = pd.read_sql(query, connection)\n",
    "    df = df.groupby('ds_email').first().reset_index()\n",
    "\n",
    "    cursor.close()\n",
    "\n",
    "    return df\n",
    "\n",
    "info_student_unimestre = get_student_information(db_connection)\n",
    "info_student_unimestre"
   ]
  },
  {
   "cell_type": "code",
   "execution_count": 85,
   "metadata": {},
   "outputs": [
    {
     "data": {
      "text/plain": [
       "cd_pessoa           0\n",
       "ds_email            0\n",
       "ds_cidade        2231\n",
       "dt_nascimento    3431\n",
       "min_dt_log       8147\n",
       "dtype: int64"
      ]
     },
     "execution_count": 85,
     "metadata": {},
     "output_type": "execute_result"
    }
   ],
   "source": [
    "info_student_unimestre.isna().sum()"
   ]
  },
  {
   "cell_type": "code",
   "execution_count": 86,
   "metadata": {},
   "outputs": [
    {
     "name": "stderr",
     "output_type": "stream",
     "text": [
      "C:\\Users\\anafl\\AppData\\Local\\Temp\\ipykernel_19608\\1372293948.py:48: UserWarning: pandas only supports SQLAlchemy connectable (engine/connection) or database string URI or sqlite3 DBAPI2 connection. Other DBAPI2 objects are not tested. Please consider using SQLAlchemy.\n",
      "  df = pd.read_sql(query, connection)\n"
     ]
    },
    {
     "data": {
      "text/html": [
       "<div>\n",
       "<style scoped>\n",
       "    .dataframe tbody tr th:only-of-type {\n",
       "        vertical-align: middle;\n",
       "    }\n",
       "\n",
       "    .dataframe tbody tr th {\n",
       "        vertical-align: top;\n",
       "    }\n",
       "\n",
       "    .dataframe thead th {\n",
       "        text-align: right;\n",
       "    }\n",
       "</style>\n",
       "<table border=\"1\" class=\"dataframe\">\n",
       "  <thead>\n",
       "    <tr style=\"text-align: right;\">\n",
       "      <th></th>\n",
       "      <th>cd_pessoa</th>\n",
       "      <th>cd_turma</th>\n",
       "      <th>ano</th>\n",
       "      <th>semestre</th>\n",
       "      <th>min_date</th>\n",
       "    </tr>\n",
       "  </thead>\n",
       "  <tbody>\n",
       "    <tr>\n",
       "      <th>0</th>\n",
       "      <td>100135</td>\n",
       "      <td>MDINTER2014A</td>\n",
       "      <td>2014</td>\n",
       "      <td>A</td>\n",
       "      <td>2014-02-01</td>\n",
       "    </tr>\n",
       "    <tr>\n",
       "      <th>1</th>\n",
       "      <td>100143</td>\n",
       "      <td>CAPAC</td>\n",
       "      <td></td>\n",
       "      <td>A</td>\n",
       "      <td>None</td>\n",
       "    </tr>\n",
       "    <tr>\n",
       "      <th>2</th>\n",
       "      <td>100143</td>\n",
       "      <td>MBA2014A</td>\n",
       "      <td>2014</td>\n",
       "      <td>A</td>\n",
       "      <td>2014-02-01</td>\n",
       "    </tr>\n",
       "    <tr>\n",
       "      <th>3</th>\n",
       "      <td>100160</td>\n",
       "      <td>ADMOPL2014A</td>\n",
       "      <td>2014</td>\n",
       "      <td>A</td>\n",
       "      <td>2014-02-01</td>\n",
       "    </tr>\n",
       "    <tr>\n",
       "      <th>4</th>\n",
       "      <td>100178</td>\n",
       "      <td>MBAOPL2014A</td>\n",
       "      <td>2014</td>\n",
       "      <td>A</td>\n",
       "      <td>2014-02-01</td>\n",
       "    </tr>\n",
       "    <tr>\n",
       "      <th>...</th>\n",
       "      <td>...</td>\n",
       "      <td>...</td>\n",
       "      <td>...</td>\n",
       "      <td>...</td>\n",
       "      <td>...</td>\n",
       "    </tr>\n",
       "    <tr>\n",
       "      <th>15897</th>\n",
       "      <td>170000395</td>\n",
       "      <td>MBAPROJ2013B</td>\n",
       "      <td>2013</td>\n",
       "      <td>B</td>\n",
       "      <td>2013-07-01</td>\n",
       "    </tr>\n",
       "    <tr>\n",
       "      <th>15898</th>\n",
       "      <td>170000412</td>\n",
       "      <td>GESTRI2013B</td>\n",
       "      <td>2013</td>\n",
       "      <td>B</td>\n",
       "      <td>2013-07-01</td>\n",
       "    </tr>\n",
       "    <tr>\n",
       "      <th>15899</th>\n",
       "      <td>170000430</td>\n",
       "      <td>ENGEMAN2013B</td>\n",
       "      <td>2013</td>\n",
       "      <td>B</td>\n",
       "      <td>2013-07-01</td>\n",
       "    </tr>\n",
       "    <tr>\n",
       "      <th>15900</th>\n",
       "      <td>170000430</td>\n",
       "      <td>ENGPROCE2017A</td>\n",
       "      <td>2017</td>\n",
       "      <td>A</td>\n",
       "      <td>2017-02-01</td>\n",
       "    </tr>\n",
       "    <tr>\n",
       "      <th>15901</th>\n",
       "      <td>170000430</td>\n",
       "      <td>ENGPROCE2018A</td>\n",
       "      <td>2018</td>\n",
       "      <td>A</td>\n",
       "      <td>2018-02-01</td>\n",
       "    </tr>\n",
       "  </tbody>\n",
       "</table>\n",
       "<p>15902 rows × 5 columns</p>\n",
       "</div>"
      ],
      "text/plain": [
       "       cd_pessoa       cd_turma   ano semestre    min_date\n",
       "0         100135   MDINTER2014A  2014        A  2014-02-01\n",
       "1         100143          CAPAC              A        None\n",
       "2         100143       MBA2014A  2014        A  2014-02-01\n",
       "3         100160    ADMOPL2014A  2014        A  2014-02-01\n",
       "4         100178    MBAOPL2014A  2014        A  2014-02-01\n",
       "...          ...            ...   ...      ...         ...\n",
       "15897  170000395   MBAPROJ2013B  2013        B  2013-07-01\n",
       "15898  170000412    GESTRI2013B  2013        B  2013-07-01\n",
       "15899  170000430   ENGEMAN2013B  2013        B  2013-07-01\n",
       "15900  170000430  ENGPROCE2017A  2017        A  2017-02-01\n",
       "15901  170000430  ENGPROCE2018A  2018        A  2018-02-01\n",
       "\n",
       "[15902 rows x 5 columns]"
      ]
     },
     "execution_count": 86,
     "metadata": {},
     "output_type": "execute_result"
    }
   ],
   "source": [
    "def first_cd_turma_for_students(connection):\n",
    "\n",
    "    \"\"\"\n",
    "    Performs a SQL query to retrieve information about the first 'cd_turma' for students\n",
    "    from the 'unimestre.view_matriculas' table. Calculates the 'ano' and 'semestre' based on the\n",
    "    'cd_turma' column and determines the minimum date associated with each 'cd_pessoa', 'cd_turma', 'ano',\n",
    "    and 'semestre' combination. The result is returned as a Pandas DataFrame.\n",
    "\n",
    "    Returns:\n",
    "    - df (DataFrame): A DataFrame containing information about the first 'cd_turma' for students.\n",
    "\n",
    "    \"\"\"\n",
    "        \n",
    "    if connection is None:\n",
    "        return \"Connection to database failed.\"\n",
    "\n",
    "    cursor = connection.cursor()\n",
    "    cursor.execute(\"SHOW TABLES\")\n",
    "    tables = cursor.fetchall()\n",
    "\n",
    "    query = f'''SELECT\n",
    "    m.cd_pessoa,\n",
    "    m.cd_turma,\n",
    "    SUBSTRING(m.cd_turma, LOCATE('20', m.cd_turma), 4) AS ano,\n",
    "    SUBSTRING(m.cd_turma, LOCATE('20', m.cd_turma) + 4, 1) AS semestre,\n",
    "    MIN(\n",
    "        CASE\n",
    "            WHEN SUBSTRING(m.cd_turma, LOCATE('20', m.cd_turma) + 4, 1) = 'A' THEN DATE_FORMAT(CONCAT(SUBSTRING(m.cd_turma, LOCATE('20', m.cd_turma), 4), '-02-01'), '%Y-%m-%d')\n",
    "            WHEN SUBSTRING(m.cd_turma, LOCATE('20', m.cd_turma) + 4, 1) = 'B' THEN DATE_FORMAT(CONCAT(SUBSTRING(m.cd_turma, LOCATE('20', m.cd_turma), 4), '-07-01'), '%Y-%m-%d')\n",
    "            ELSE NULL\n",
    "        END\n",
    "    ) AS min_date\n",
    "FROM\n",
    "    unimestre.view_matriculas AS m\n",
    "GROUP BY\n",
    "    m.cd_pessoa, m.cd_turma, ano, semestre\n",
    "LIMIT 100000;\n",
    "\n",
    "# Counting the number of unique cd_pessoa with NULL in min_formatted_date.\n",
    "SELECT\n",
    "    COUNT(CASE WHEN min_date IS NULL THEN 1 ELSE NULL END) AS null_min_date_count\n",
    "FROM (\n",
    "    SELECT\n",
    "        m.cd_pessoa,\n",
    "        MIN(\n",
    "            CASE\n",
    "                WHEN SUBSTRING(m.cd_turma, LOCATE('20', m.cd_turma) + 4, 1) = 'A' THEN DATE_FORMAT(CONCAT(SUBSTRING(m.cd_turma, LOCATE('20', m.cd_turma), 4), '-02-01'), '%Y-%m-%d')\n",
    "                WHEN SUBSTRING(m.cd_turma, LOCATE('20', m.cd_turma) + 4, 1) = 'B' THEN DATE_FORMAT(CONCAT(SUBSTRING(m.cd_turma, LOCATE('20', m.cd_turma), 4), '-07-01'), '%Y-%m-%d')\n",
    "                ELSE NULL\n",
    "            END\n",
    "        ) AS min_date\n",
    "    FROM\n",
    "        unimestre.view_matriculas AS m\n",
    "    GROUP BY\n",
    "        m.cd_pessoa\n",
    ") AS subquery\n",
    "LIMIT 10;\n",
    "\n",
    "'''\n",
    "    df = pd.read_sql(query, connection)\n",
    "\n",
    "    cursor.close()\n",
    "\n",
    "    return df\n",
    "\n",
    "first_cd_turma_student = first_cd_turma_for_students(db_connection)"
   ]
  },
  {
   "cell_type": "code",
   "execution_count": 87,
   "metadata": {},
   "outputs": [
    {
     "data": {
      "text/plain": [
       "cd_pessoa       0\n",
       "cd_turma        0\n",
       "ano             0\n",
       "semestre        0\n",
       "min_date     9162\n",
       "dtype: int64"
      ]
     },
     "execution_count": 87,
     "metadata": {},
     "output_type": "execute_result"
    }
   ],
   "source": [
    "first_cd_turma_student.isna().sum()"
   ]
  },
  {
   "cell_type": "code",
   "execution_count": 90,
   "metadata": {},
   "outputs": [
    {
     "name": "stderr",
     "output_type": "stream",
     "text": [
      "C:\\Users\\anafl\\AppData\\Local\\Temp\\ipykernel_19608\\3074074535.py:18: UserWarning: pandas only supports SQLAlchemy connectable (engine/connection) or database string URI or sqlite3 DBAPI2 connection. Other DBAPI2 objects are not tested. Please consider using SQLAlchemy.\n",
      "  df = pd.read_sql(query, connection)\n"
     ]
    },
    {
     "data": {
      "text/html": [
       "<div>\n",
       "<style scoped>\n",
       "    .dataframe tbody tr th:only-of-type {\n",
       "        vertical-align: middle;\n",
       "    }\n",
       "\n",
       "    .dataframe tbody tr th {\n",
       "        vertical-align: top;\n",
       "    }\n",
       "\n",
       "    .dataframe thead th {\n",
       "        text-align: right;\n",
       "    }\n",
       "</style>\n",
       "<table border=\"1\" class=\"dataframe\">\n",
       "  <thead>\n",
       "    <tr style=\"text-align: right;\">\n",
       "      <th></th>\n",
       "      <th>cd_pessoa</th>\n",
       "      <th>dt_cadastro</th>\n",
       "    </tr>\n",
       "  </thead>\n",
       "  <tbody>\n",
       "    <tr>\n",
       "      <th>0</th>\n",
       "      <td>1001</td>\n",
       "      <td>2010-01-01</td>\n",
       "    </tr>\n",
       "    <tr>\n",
       "      <th>1</th>\n",
       "      <td>1002</td>\n",
       "      <td>NaT</td>\n",
       "    </tr>\n",
       "    <tr>\n",
       "      <th>2</th>\n",
       "      <td>100003</td>\n",
       "      <td>2013-12-02</td>\n",
       "    </tr>\n",
       "    <tr>\n",
       "      <th>3</th>\n",
       "      <td>100011</td>\n",
       "      <td>2013-12-03</td>\n",
       "    </tr>\n",
       "    <tr>\n",
       "      <th>4</th>\n",
       "      <td>100046</td>\n",
       "      <td>2013-12-04</td>\n",
       "    </tr>\n",
       "    <tr>\n",
       "      <th>...</th>\n",
       "      <td>...</td>\n",
       "      <td>...</td>\n",
       "    </tr>\n",
       "    <tr>\n",
       "      <th>12054</th>\n",
       "      <td>170000461</td>\n",
       "      <td>2013-11-22</td>\n",
       "    </tr>\n",
       "    <tr>\n",
       "      <th>12055</th>\n",
       "      <td>170000462</td>\n",
       "      <td>2013-11-22</td>\n",
       "    </tr>\n",
       "    <tr>\n",
       "      <th>12056</th>\n",
       "      <td>170000463</td>\n",
       "      <td>2013-11-23</td>\n",
       "    </tr>\n",
       "    <tr>\n",
       "      <th>12057</th>\n",
       "      <td>170000464</td>\n",
       "      <td>2013-11-28</td>\n",
       "    </tr>\n",
       "    <tr>\n",
       "      <th>12058</th>\n",
       "      <td>170000465</td>\n",
       "      <td>NaT</td>\n",
       "    </tr>\n",
       "  </tbody>\n",
       "</table>\n",
       "<p>12059 rows × 2 columns</p>\n",
       "</div>"
      ],
      "text/plain": [
       "       cd_pessoa dt_cadastro\n",
       "0           1001  2010-01-01\n",
       "1           1002         NaT\n",
       "2         100003  2013-12-02\n",
       "3         100011  2013-12-03\n",
       "4         100046  2013-12-04\n",
       "...          ...         ...\n",
       "12054  170000461  2013-11-22\n",
       "12055  170000462  2013-11-22\n",
       "12056  170000463  2013-11-23\n",
       "12057  170000464  2013-11-28\n",
       "12058  170000465         NaT\n",
       "\n",
       "[12059 rows x 2 columns]"
      ]
     },
     "execution_count": 90,
     "metadata": {},
     "output_type": "execute_result"
    }
   ],
   "source": [
    "# Trying to find the info of the first contact of the student with the school in another table\n",
    "def first_contact_dates_for_students(connection):\n",
    "\n",
    "    \"\"\" \n",
    "    Returns:\n",
    "    - df (DataFrame): A DataFrame containing information about the first contact date of students.\n",
    "\n",
    "    SQL query to retrieve information about the first contact date of students\n",
    "    with the school from the 'unimestre.pessoas' table. The query selects the 'cd_pessoa' and 'dt_cadastro'\n",
    "    columns, grouping the results by 'cd_pessoa' to get unique records. The result is returned as a DataFrame.\n",
    "    \n",
    "    \"\"\"\n",
    "    if connection is None:\n",
    "        return \"Connection to database failed.\"\n",
    "\n",
    "    cursor = connection.cursor()\n",
    "    cursor.execute(\"SHOW TABLES\")\n",
    "    tables = cursor.fetchall()\n",
    "\n",
    "    query = f'''\n",
    "    SELECT\n",
    "        cd_pessoa, dt_cadastro \n",
    "    FROM\n",
    "        unimestre.pessoas\n",
    "    GROUP BY cd_pessoa\n",
    "    LIMIT 10; \n",
    "'''\n",
    "    df = pd.read_sql(query, connection)\n",
    "\n",
    "    cursor.close()\n",
    "\n",
    "    return df\n",
    "\n",
    "dt_cadastro_student = first_contact_dates_for_students(db_connection)\n",
    "dt_cadastro_student"
   ]
  },
  {
   "cell_type": "markdown",
   "metadata": {},
   "source": [
    "Trying to get less null values on the min_dt_log"
   ]
  },
  {
   "cell_type": "code",
   "execution_count": 91,
   "metadata": {},
   "outputs": [],
   "source": [
    "merged_df = pd.merge(info_student_unimestre, dt_cadastro_student[['cd_pessoa', 'dt_cadastro']], on='cd_pessoa', how='left')\n",
    "merged_df = pd.merge(merged_df, first_cd_turma_student[['cd_pessoa', 'min_date']], on='cd_pessoa', how='left')\n",
    "\n",
    "info_student_unimestre['min_dt_log'] = merged_df['dt_cadastro'].fillna(merged_df['min_date']).fillna(info_student_unimestre['min_dt_log'])"
   ]
  },
  {
   "cell_type": "code",
   "execution_count": 92,
   "metadata": {},
   "outputs": [
    {
     "data": {
      "text/plain": [
       "cd_pessoa           0\n",
       "ds_email            0\n",
       "ds_cidade        2231\n",
       "dt_nascimento    3431\n",
       "min_dt_log        150\n",
       "dtype: int64"
      ]
     },
     "execution_count": 92,
     "metadata": {},
     "output_type": "execute_result"
    }
   ],
   "source": [
    "info_student_unimestre.isna().sum()"
   ]
  },
  {
   "cell_type": "markdown",
   "metadata": {},
   "source": [
    "Was able to reduce \n",
    "- *min_dt_log* had 9163 null values now 150"
   ]
  },
  {
   "cell_type": "markdown",
   "metadata": {},
   "source": [
    "Dropping columns with replicate values"
   ]
  },
  {
   "cell_type": "code",
   "execution_count": 99,
   "metadata": {},
   "outputs": [],
   "source": [
    "def handle_missing_value_on_min_dt_log(info_student_unimestre, dt_cadastro_student, first_cd_turma_student):\n",
    "    \"\"\"\n",
    "    Merge three DataFrames based on 'cd_pessoa' and handle missing values.\n",
    "\n",
    "    Parameters:\n",
    "    - info_student_unimestre (DataFrame): DataFrame containing student information from Unimestre.\n",
    "    - dt_cadastro_student (DataFrame): DataFrame containing student registration dates.\n",
    "    - first_cd_turma_student (DataFrame): DataFrame containing the first contact date of students with the school.\n",
    "\n",
    "    Returns:\n",
    "    - merged_df (DataFrame): Merged DataFrame with handled missing values.\n",
    "    \"\"\"\n",
    "    # Merge 'info_student_unimestre' with 'dt_cadastro_student'\n",
    "    merged_df = pd.merge(info_student_unimestre, dt_cadastro_student[['cd_pessoa', 'dt_cadastro']], on='cd_pessoa', how='left')\n",
    "\n",
    "    # Merge the result with 'first_cd_turma_student'\n",
    "    merged_df = pd.merge(merged_df, first_cd_turma_student[['cd_pessoa', 'min_date']], on='cd_pessoa', how='left')\n",
    "\n",
    "    # Handle missing values in 'dt_cadastro'\n",
    "    info_student_unimestre['min_dt_log'] = merged_df['dt_cadastro'].fillna(merged_df['min_date']).fillna(info_student_unimestre['min_dt_log'])\n",
    "\n",
    "    return merged_df\n",
    "\n",
    "\n"
   ]
  },
  {
   "cell_type": "markdown",
   "metadata": {},
   "source": [
    "# Joining Marketing info with CRM"
   ]
  },
  {
   "cell_type": "code",
   "execution_count": 94,
   "metadata": {},
   "outputs": [],
   "source": [
    "merge_left = rd_station_profile.merge(info_student_unimestre, left_on='email', right_on='ds_email', how='left')"
   ]
  },
  {
   "cell_type": "markdown",
   "metadata": {},
   "source": [
    "Creating a new column saying it's a student when a cd_pessoa is found"
   ]
  },
  {
   "cell_type": "code",
   "execution_count": 95,
   "metadata": {},
   "outputs": [
    {
     "data": {
      "text/plain": [
       "aluno\n",
       "0    37599\n",
       "1     4123\n",
       "Name: count, dtype: int64"
      ]
     },
     "execution_count": 95,
     "metadata": {},
     "output_type": "execute_result"
    }
   ],
   "source": [
    "merge_left['aluno'] = (merge_left['cd_pessoa'].notnull()).astype(int)\n",
    "merge_left['aluno'].value_counts()"
   ]
  },
  {
   "cell_type": "markdown",
   "metadata": {},
   "source": [
    "## Got different columns with representing the same thing, compiling all in one new columns"
   ]
  },
  {
   "cell_type": "code",
   "execution_count": 101,
   "metadata": {},
   "outputs": [],
   "source": [
    "def merge_and_preprocess_data(rd_station_profile, info_student_unimestre):\n",
    "    \"\"\"\n",
    "    Merge data from RD Station and Unimestre, and perform necessary preprocessing. Convert into csv\n",
    "\n",
    "    Parameters:\n",
    "    - rd_station_profile (DataFrame): DataFrame containing data from RD Station.\n",
    "    - info_student_unimestre (DataFrame): DataFrame containing student information from Unimestre.\n",
    "\n",
    "    Returns:\n",
    "    - merged_df (DataFrame): Merged DataFrame with preprocessed columns.\n",
    "\n",
    "    \"\"\"\n",
    "    # Merge data from RD Station and Unimestre based on the email column\n",
    "    merge_left = rd_station_profile.merge(info_student_unimestre, left_on='email', right_on='ds_email', how='left')\n",
    "\n",
    "    # Create a binary column 'aluno' indicating whether a person is a student\n",
    "    merge_left['aluno'] = (merge_left['cd_pessoa'].notnull()).astype(int)\n",
    "\n",
    "    # Handle missing values in 'cidade' and 'data_nascimento'\n",
    "    merge_left.loc[:, 'cidade'] = merge_left['ds_cidade'].fillna(merge_left['cidade_final'])\n",
    "    merge_left.loc[:, 'data_nascimento'] = merge_left['dt_nascimento'].fillna(merge_left['data_de_nascimento'])\n",
    "\n",
    "    # Drop unnecessary columns\n",
    "    merge_left = merge_left.drop(columns=['ds_cidade', 'cidade_final', 'dt_nascimento', 'data_de_nascimento'])\n",
    "\n",
    "    # Save the result to a CSV file\n",
    "    merge_left.to_csv(\"../data/merged_lead_student.csv\")\n",
    "\n",
    "    return merge_left\n"
   ]
  },
  {
   "cell_type": "code",
   "execution_count": 102,
   "metadata": {},
   "outputs": [],
   "source": [
    "merge_left = merge_and_preprocess_data(rd_station_profile, info_student_unimestre)"
   ]
  },
  {
   "cell_type": "markdown",
   "metadata": {},
   "source": [
    "With this I was able to reduce \n",
    "- *Cidade* had 35856 null values now 33986\n",
    "- *Data Nascimento* had 38346 null values now 36117"
   ]
  }
 ],
 "metadata": {
  "kernelspec": {
   "display_name": "ironhack",
   "language": "python",
   "name": "python3"
  },
  "language_info": {
   "codemirror_mode": {
    "name": "ipython",
    "version": 3
   },
   "file_extension": ".py",
   "mimetype": "text/x-python",
   "name": "python",
   "nbconvert_exporter": "python",
   "pygments_lexer": "ipython3",
   "version": "3.12.0"
  }
 },
 "nbformat": 4,
 "nbformat_minor": 2
}
